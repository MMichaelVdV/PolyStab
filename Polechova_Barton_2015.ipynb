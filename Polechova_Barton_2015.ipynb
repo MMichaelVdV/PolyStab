{
 "cells": [
  {
   "cell_type": "markdown",
   "metadata": {},
   "source": [
    "## Individual-based model (Polechova and Barton, 2015)"
   ]
  },
  {
   "cell_type": "code",
   "execution_count": 1,
   "metadata": {},
   "outputs": [],
   "source": [
    "using Random, Distributions, Plots"
   ]
  },
  {
   "cell_type": "code",
   "execution_count": 2,
   "metadata": {},
   "outputs": [
    {
     "data": {
      "text/plain": [
       "1"
      ]
     },
     "execution_count": 2,
     "metadata": {},
     "output_type": "execute_result"
    }
   ],
   "source": [
    "#global variables cfr. table 1\n",
    "\n",
    "rm = 1.025 #maximum intrinsic growth rate\n",
    "Vs = 2 #variance of stabilising selection \n",
    "\n",
    "b = 0.1 #gradient in the environmental optimum\n",
    "σ = sqrt(0.5) #dispersal per generation\n",
    "K = 300 #carrying capacity for a well-adapted phenotype\n",
    "#α = 1/sqrt(20) #allelic effect\n",
    "α = 0.0001\n",
    "μ = 10^-6 #mutation rate\n",
    "T = 5000 #number of generations \n",
    "h_ = 1 # ??"
   ]
  },
  {
   "cell_type": "code",
   "execution_count": 3,
   "metadata": {},
   "outputs": [
    {
     "data": {
      "text/plain": [
       "num_ind (generic function with 1 method)"
      ]
     },
     "execution_count": 3,
     "metadata": {},
     "output_type": "execute_result"
    }
   ],
   "source": [
    "num_demes(σ,Vs,α) = round(Int64,10*4*sqrt(σ^2*Vs)/α)\n",
    "num_loci(nd,b,α) = round(Int64,nd*b/α)\n",
    "num_ind(K,b,σ,h,Vs,rm) = round(Int64,K*((1-b*σ)/(2*h^2*sqrt(Vs)*rm)))"
   ]
  },
  {
   "cell_type": "code",
   "execution_count": 4,
   "metadata": {},
   "outputs": [
    {
     "data": {
      "text/plain": [
       "400000"
      ]
     },
     "execution_count": 4,
     "metadata": {},
     "output_type": "execute_result"
    }
   ],
   "source": [
    "nd = num_demes(σ,Vs,α)"
   ]
  },
  {
   "cell_type": "code",
   "execution_count": 5,
   "metadata": {},
   "outputs": [
    {
     "data": {
      "text/plain": [
       "400000000"
      ]
     },
     "execution_count": 5,
     "metadata": {},
     "output_type": "execute_result"
    }
   ],
   "source": [
    "nl = num_loci(nd,b,α)"
   ]
  },
  {
   "cell_type": "code",
   "execution_count": 6,
   "metadata": {},
   "outputs": [],
   "source": [
    "#nn = num_ind(K,b,σ,h_,Vs,rm)"
   ]
  },
  {
   "cell_type": "code",
   "execution_count": 7,
   "metadata": {},
   "outputs": [
    {
     "data": {
      "text/plain": [
       "100"
      ]
     },
     "execution_count": 7,
     "metadata": {},
     "output_type": "execute_result"
    }
   ],
   "source": [
    "nn = 100"
   ]
  },
  {
   "cell_type": "code",
   "execution_count": 8,
   "metadata": {},
   "outputs": [],
   "source": [
    "mutable struct Agent{T}\n",
    "    loci::Vector{T}\n",
    "end"
   ]
  },
  {
   "cell_type": "markdown",
   "metadata": {},
   "source": [
    "Note: allele effect size ? -> L bi-allelic loci underlying trait x, allele effect size 0 or α -> trait = sum of allele effect sizes over all loci\n"
   ]
  },
  {
   "cell_type": "code",
   "execution_count": 9,
   "metadata": {},
   "outputs": [
    {
     "data": {
      "text/plain": [
       "pushlocus! (generic function with 1 method)"
      ]
     },
     "execution_count": 9,
     "metadata": {},
     "output_type": "execute_result"
    }
   ],
   "source": [
    "pushlocus!(a::Agent, x) = push!(a.loci, x)"
   ]
  },
  {
   "cell_type": "code",
   "execution_count": 10,
   "metadata": {},
   "outputs": [
    {
     "data": {
      "text/plain": [
       "make_agents (generic function with 1 method)"
      ]
     },
     "execution_count": 10,
     "metadata": {},
     "output_type": "execute_result"
    }
   ],
   "source": [
    "#generate N haploid individuals with L loci and two possible allele-effect sizes α or 0\n",
    "function make_agents(N,L,α)\n",
    "    pop = [Agent(α .* rand(Bool, L)) for i in 1:N]\n",
    "    return pop\n",
    "end"
   ]
  },
  {
   "cell_type": "code",
   "execution_count": 11,
   "metadata": {},
   "outputs": [
    {
     "data": {
      "text/plain": [
       "10-element Array{Agent{Float64},1}:\n",
       " Agent{Float64}([0.0, 0.0, 0.0, 0.0001, 0.0001, 0.0, 0.0001, 0.0001, 0.0001, 0.0001])\n",
       " Agent{Float64}([0.0001, 0.0, 0.0, 0.0, 0.0, 0.0001, 0.0001, 0.0, 0.0, 0.0001])\n",
       " Agent{Float64}([0.0001, 0.0001, 0.0, 0.0, 0.0, 0.0, 0.0, 0.0001, 0.0001, 0.0])\n",
       " Agent{Float64}([0.0001, 0.0001, 0.0, 0.0001, 0.0001, 0.0, 0.0001, 0.0001, 0.0001, 0.0001])\n",
       " Agent{Float64}([0.0, 0.0, 0.0, 0.0, 0.0001, 0.0001, 0.0001, 0.0001, 0.0001, 0.0])\n",
       " Agent{Float64}([0.0001, 0.0001, 0.0001, 0.0001, 0.0001, 0.0001, 0.0001, 0.0001, 0.0001, 0.0])\n",
       " Agent{Float64}([0.0, 0.0, 0.0, 0.0001, 0.0001, 0.0001, 0.0, 0.0, 0.0, 0.0001])\n",
       " Agent{Float64}([0.0, 0.0, 0.0001, 0.0001, 0.0001, 0.0001, 0.0001, 0.0001, 0.0, 0.0])\n",
       " Agent{Float64}([0.0001, 0.0, 0.0, 0.0, 0.0, 0.0, 0.0001, 0.0001, 0.0, 0.0001])\n",
       " Agent{Float64}([0.0, 0.0, 0.0001, 0.0, 0.0, 0.0001, 0.0001, 0.0001, 0.0, 0.0001])"
      ]
     },
     "execution_count": 11,
     "metadata": {},
     "output_type": "execute_result"
    }
   ],
   "source": [
    "agents = make_agents(10,10,α)"
   ]
  },
  {
   "cell_type": "code",
   "execution_count": 12,
   "metadata": {},
   "outputs": [],
   "source": [
    "struct Deme{A,T}\n",
    "    agents::Vector{A}\n",
    "    carrying_capacity::Int64\n",
    "    optimal_phenotype::T \n",
    "end"
   ]
  },
  {
   "cell_type": "code",
   "execution_count": 13,
   "metadata": {},
   "outputs": [
    {
     "data": {
      "text/plain": [
       "Deme{Agent{Float64},Float64}(Agent{Float64}[Agent{Float64}([0.0, 0.0, 0.0, 0.0001, 0.0001, 0.0, 0.0001, 0.0001, 0.0001, 0.0001]), Agent{Float64}([0.0001, 0.0, 0.0, 0.0, 0.0, 0.0001, 0.0001, 0.0, 0.0, 0.0001]), Agent{Float64}([0.0001, 0.0001, 0.0, 0.0, 0.0, 0.0, 0.0, 0.0001, 0.0001, 0.0]), Agent{Float64}([0.0001, 0.0001, 0.0, 0.0001, 0.0001, 0.0, 0.0001, 0.0001, 0.0001, 0.0001]), Agent{Float64}([0.0, 0.0, 0.0, 0.0, 0.0001, 0.0001, 0.0001, 0.0001, 0.0001, 0.0]), Agent{Float64}([0.0001, 0.0001, 0.0001, 0.0001, 0.0001, 0.0001, 0.0001, 0.0001, 0.0001, 0.0]), Agent{Float64}([0.0, 0.0, 0.0, 0.0001, 0.0001, 0.0001, 0.0, 0.0, 0.0, 0.0001]), Agent{Float64}([0.0, 0.0, 0.0001, 0.0001, 0.0001, 0.0001, 0.0001, 0.0001, 0.0, 0.0]), Agent{Float64}([0.0001, 0.0, 0.0, 0.0, 0.0, 0.0, 0.0001, 0.0001, 0.0, 0.0001]), Agent{Float64}([0.0, 0.0, 0.0001, 0.0, 0.0, 0.0001, 0.0001, 0.0001, 0.0, 0.0001])], 100, 0.0)"
      ]
     },
     "execution_count": 13,
     "metadata": {},
     "output_type": "execute_result"
    }
   ],
   "source": [
    "d = Deme(agents, 100, 0.0)"
   ]
  },
  {
   "cell_type": "code",
   "execution_count": 14,
   "metadata": {},
   "outputs": [],
   "source": [
    "Base.length(d::Deme) = length(d.agents)\n",
    "Base.show(io::IO, d::Deme{A,T}) where {A,T} = write(io, \"Deme{$A,$T}(N=$(length(d)))\")\n",
    "Base.push!(d::Deme, a::Agent) = push!(d.agents, a)"
   ]
  },
  {
   "cell_type": "code",
   "execution_count": 15,
   "metadata": {},
   "outputs": [
    {
     "ename": "LoadError",
     "evalue": "MethodError: Cannot `convert` an object of type \n  Agent{Int64} to an object of type \n  Agent{Float64}\nClosest candidates are:\n  convert(::Type{T}, !Matched::T) where T at essentials.jl:171\n  Agent{Float64}(::Any) where T at In[8]:2",
     "output_type": "error",
     "traceback": [
      "MethodError: Cannot `convert` an object of type \n  Agent{Int64} to an object of type \n  Agent{Float64}\nClosest candidates are:\n  convert(::Type{T}, !Matched::T) where T at essentials.jl:171\n  Agent{Float64}(::Any) where T at In[8]:2",
      "",
      "Stacktrace:",
      " [1] push!(::Array{Agent{Float64},1}, ::Agent{Int64}) at .\\array.jl:934",
      " [2] push!(::Deme{Agent{Float64},Float64}, ::Agent{Int64}) at .\\In[14]:3",
      " [3] top-level scope at In[15]:1",
      " [4] include_string(::Function, ::Module, ::String, ::String) at .\\loading.jl:1091"
     ]
    }
   ],
   "source": [
    "push!(d, Agent(1 .* rand(Bool, 10)))\n",
    "d"
   ]
  },
  {
   "cell_type": "code",
   "execution_count": 16,
   "metadata": {},
   "outputs": [],
   "source": [
    "struct Habitat{T}\n",
    "    demes::Vector{T}\n",
    "end"
   ]
  },
  {
   "cell_type": "code",
   "execution_count": 17,
   "metadata": {},
   "outputs": [
    {
     "data": {
      "text/plain": [
       "make_deme (generic function with 1 method)"
      ]
     },
     "execution_count": 17,
     "metadata": {},
     "output_type": "execute_result"
    }
   ],
   "source": [
    "#generate a single deme with population of size N, L loci, α allelic effect, carrying capacity K and optimal phenotype θ\n",
    "function make_deme(N,L,α,K,θ)\n",
    "    pop = make_agents(N,L,α)\n",
    "    return Deme(pop,K,θ)\n",
    "end\n",
    "    "
   ]
  },
  {
   "cell_type": "code",
   "execution_count": 18,
   "metadata": {},
   "outputs": [
    {
     "data": {
      "text/plain": [
       "Deme{Agent{Int64},Int64}(N=5)"
      ]
     },
     "execution_count": 18,
     "metadata": {},
     "output_type": "execute_result"
    }
   ],
   "source": [
    "w = make_deme(5,2,1,150,10)"
   ]
  },
  {
   "cell_type": "code",
   "execution_count": 19,
   "metadata": {},
   "outputs": [
    {
     "data": {
      "text/plain": [
       "pop_size (generic function with 1 method)"
      ]
     },
     "execution_count": 19,
     "metadata": {},
     "output_type": "execute_result"
    }
   ],
   "source": [
    "function pop_size(d::Deme)\n",
    "    return length(d.agents)\n",
    "end"
   ]
  },
  {
   "cell_type": "code",
   "execution_count": 20,
   "metadata": {},
   "outputs": [
    {
     "data": {
      "text/plain": [
       "5"
      ]
     },
     "execution_count": 20,
     "metadata": {},
     "output_type": "execute_result"
    }
   ],
   "source": [
    "pop_size(w)"
   ]
  },
  {
   "cell_type": "code",
   "execution_count": 21,
   "metadata": {},
   "outputs": [
    {
     "data": {
      "text/plain": [
       "make_habitat (generic function with 1 method)"
      ]
     },
     "execution_count": 21,
     "metadata": {},
     "output_type": "execute_result"
    }
   ],
   "source": [
    "#generate a linear 1D habitat of x demes with equal pop size (in paper the pop starts in center of habitat)\n",
    "function make_habitat(x,N,L,α,K,θ)\n",
    "    hab = [make_deme(N,L,α,K,θ) for i in 1:x]\n",
    "    return Habitat(hab)\n",
    "end"
   ]
  },
  {
   "cell_type": "code",
   "execution_count": 22,
   "metadata": {},
   "outputs": [],
   "source": [
    "Base.push!(h::Habitat, d::Deme) = push!(h.demes, d)"
   ]
  },
  {
   "cell_type": "code",
   "execution_count": 23,
   "metadata": {},
   "outputs": [
    {
     "data": {
      "text/plain": [
       "linear_gradient (generic function with 1 method)"
      ]
     },
     "execution_count": 23,
     "metadata": {},
     "output_type": "execute_result"
    }
   ],
   "source": [
    "function linear_gradient(x,b)\n",
    "    KK = [i*b for i in 0:x-1]\n",
    "    return KK\n",
    "end"
   ]
  },
  {
   "cell_type": "code",
   "execution_count": 24,
   "metadata": {},
   "outputs": [
    {
     "data": {
      "text/plain": [
       "400000-element Array{Float64,1}:\n",
       "     0.0\n",
       "     0.1\n",
       "     0.2\n",
       "     0.30000000000000004\n",
       "     0.4\n",
       "     0.5\n",
       "     0.6000000000000001\n",
       "     0.7000000000000001\n",
       "     0.8\n",
       "     0.9\n",
       "     1.0\n",
       "     1.1\n",
       "     1.2000000000000002\n",
       "     ⋮\n",
       " 39998.8\n",
       " 39998.9\n",
       " 39999.0\n",
       " 39999.100000000006\n",
       " 39999.200000000004\n",
       " 39999.3\n",
       " 39999.4\n",
       " 39999.5\n",
       " 39999.600000000006\n",
       " 39999.700000000004\n",
       " 39999.8\n",
       " 39999.9"
      ]
     },
     "execution_count": 24,
     "metadata": {},
     "output_type": "execute_result"
    }
   ],
   "source": [
    "g = linear_gradient(nd,b)"
   ]
  },
  {
   "cell_type": "code",
   "execution_count": 25,
   "metadata": {},
   "outputs": [
    {
     "data": {
      "text/plain": [
       "make_habitat (generic function with 2 methods)"
      ]
     },
     "execution_count": 25,
     "metadata": {},
     "output_type": "execute_result"
    }
   ],
   "source": [
    "function make_habitat(x,N,L,α,K,θ::Vector{T})\n",
    "    hab = Habitat([])\n",
    "    for i in g\n",
    "        deme = make_deme(0,0,α,K,i)\n",
    "        push!(hab,deme)\n",
    "    end\n",
    "    return hab\n",
    "end"
   ]
  },
  {
   "cell_type": "code",
   "execution_count": 26,
   "metadata": {},
   "outputs": [],
   "source": [
    "hab = Habitat([])\n",
    "for i in g\n",
    "    deme = make_deme(0,0,α,K,i)\n",
    "    push!(hab,deme)\n",
    "end"
   ]
  },
  {
   "cell_type": "code",
   "execution_count": 27,
   "metadata": {},
   "outputs": [
    {
     "data": {
      "text/plain": [
       "0.9"
      ]
     },
     "execution_count": 27,
     "metadata": {},
     "output_type": "execute_result"
    }
   ],
   "source": [
    "hab.demes[10].optimal_phenotype"
   ]
  },
  {
   "cell_type": "code",
   "execution_count": 28,
   "metadata": {},
   "outputs": [
    {
     "data": {
      "text/plain": [
       "Habitat{Deme{Agent{Float64},Array{Float64,1}}}(Deme{Agent{Float64},Array{Float64,1}}[Deme{Agent{Float64},Array{Float64,1}}(N=0), Deme{Agent{Float64},Array{Float64,1}}(N=0), Deme{Agent{Float64},Array{Float64,1}}(N=0), Deme{Agent{Float64},Array{Float64,1}}(N=0), Deme{Agent{Float64},Array{Float64,1}}(N=0), Deme{Agent{Float64},Array{Float64,1}}(N=0), Deme{Agent{Float64},Array{Float64,1}}(N=0), Deme{Agent{Float64},Array{Float64,1}}(N=0), Deme{Agent{Float64},Array{Float64,1}}(N=0), Deme{Agent{Float64},Array{Float64,1}}(N=0)  …  Deme{Agent{Float64},Array{Float64,1}}(N=0), Deme{Agent{Float64},Array{Float64,1}}(N=0), Deme{Agent{Float64},Array{Float64,1}}(N=0), Deme{Agent{Float64},Array{Float64,1}}(N=0), Deme{Agent{Float64},Array{Float64,1}}(N=0), Deme{Agent{Float64},Array{Float64,1}}(N=0), Deme{Agent{Float64},Array{Float64,1}}(N=0), Deme{Agent{Float64},Array{Float64,1}}(N=0), Deme{Agent{Float64},Array{Float64,1}}(N=0), Deme{Agent{Float64},Array{Float64,1}}(N=0)])"
      ]
     },
     "execution_count": 28,
     "metadata": {},
     "output_type": "execute_result"
    }
   ],
   "source": [
    "h_g = make_habitat(nd,0,0,α,K,g)"
   ]
  },
  {
   "cell_type": "code",
   "execution_count": 29,
   "metadata": {},
   "outputs": [
    {
     "data": {
      "text/plain": [
       "400000-element Array{Float64,1}:\n",
       "     0.0\n",
       "     0.1\n",
       "     0.2\n",
       "     0.30000000000000004\n",
       "     0.4\n",
       "     0.5\n",
       "     0.6000000000000001\n",
       "     0.7000000000000001\n",
       "     0.8\n",
       "     0.9\n",
       "     1.0\n",
       "     1.1\n",
       "     1.2000000000000002\n",
       "     ⋮\n",
       " 39998.8\n",
       " 39998.9\n",
       " 39999.0\n",
       " 39999.100000000006\n",
       " 39999.200000000004\n",
       " 39999.3\n",
       " 39999.4\n",
       " 39999.5\n",
       " 39999.600000000006\n",
       " 39999.700000000004\n",
       " 39999.8\n",
       " 39999.9"
      ]
     },
     "execution_count": 29,
     "metadata": {},
     "output_type": "execute_result"
    }
   ],
   "source": [
    "h_g.demes[1].optimal_phenotype"
   ]
  },
  {
   "cell_type": "code",
   "execution_count": 30,
   "metadata": {},
   "outputs": [
    {
     "data": {
      "text/plain": [
       "Habitat{Deme{Agent{Int64},Int64}}(Deme{Agent{Int64},Int64}[Deme{Agent{Int64},Int64}(N=5), Deme{Agent{Int64},Int64}(N=5), Deme{Agent{Int64},Int64}(N=5), Deme{Agent{Int64},Int64}(N=5), Deme{Agent{Int64},Int64}(N=5)])"
      ]
     },
     "execution_count": 30,
     "metadata": {},
     "output_type": "execute_result"
    }
   ],
   "source": [
    "h = make_habitat(5,5,2,1,150,10)"
   ]
  },
  {
   "cell_type": "code",
   "execution_count": 31,
   "metadata": {},
   "outputs": [],
   "source": [
    "Base.length(h::Habitat) = length(h.demes)\n",
    "Base.show(io::IO, h::Habitat) = write(io, \n",
    "    \"Habitat (n=$(length(h))):\\n  $(join(string.(h.demes), \"\\n  \"))\")"
   ]
  },
  {
   "cell_type": "code",
   "execution_count": 32,
   "metadata": {},
   "outputs": [
    {
     "data": {
      "text/plain": [
       "Habitat (n=5):\n",
       "  Deme{Agent{Int64},Int64}(N=5)\n",
       "  Deme{Agent{Int64},Int64}(N=5)\n",
       "  Deme{Agent{Int64},Int64}(N=5)\n",
       "  Deme{Agent{Int64},Int64}(N=5)\n",
       "  Deme{Agent{Int64},Int64}(N=5)"
      ]
     },
     "execution_count": 32,
     "metadata": {},
     "output_type": "execute_result"
    }
   ],
   "source": [
    "h"
   ]
  },
  {
   "cell_type": "code",
   "execution_count": 33,
   "metadata": {},
   "outputs": [
    {
     "ename": "LoadError",
     "evalue": "MethodError: Cannot `convert` an object of type \n  Agent{Float64} to an object of type \n  Agent{Int64}\nClosest candidates are:\n  convert(::Type{T}, !Matched::T) where T at essentials.jl:171\n  Agent{Int64}(::Any) where T at In[8]:2",
     "output_type": "error",
     "traceback": [
      "MethodError: Cannot `convert` an object of type \n  Agent{Float64} to an object of type \n  Agent{Int64}\nClosest candidates are:\n  convert(::Type{T}, !Matched::T) where T at essentials.jl:171\n  Agent{Int64}(::Any) where T at In[8]:2",
      "",
      "Stacktrace:",
      " [1] setindex!(::Array{Agent{Int64},1}, ::Agent{Float64}, ::Int64) at .\\array.jl:847",
      " [2] _append! at .\\array.jl:989 [inlined]",
      " [3] append!(::Array{Agent{Int64},1}, ::NTuple{10,Agent{Float64}}) at .\\array.jl:981",
      " [4] push!(::Array{Agent{Int64},1}, ::Agent{Float64}, ::Agent{Float64}, ::Agent{Float64}, ::Agent{Float64}, ::Vararg{Agent{Float64},N} where N) at .\\array.jl:982",
      " [5] top-level scope at In[33]:4",
      " [6] include_string(::Function, ::Module, ::String, ::String) at .\\loading.jl:1091"
     ]
    }
   ],
   "source": [
    "#habitat with 7 demes and starting pop in central deme\n",
    "h = make_habitat(7,0,0,0,150,10)\n",
    "p = make_agents(3,3,1)\n",
    "push!(h.demes[4].agents, agents ...)\n",
    "h"
   ]
  },
  {
   "cell_type": "markdown",
   "metadata": {},
   "source": [
    "## Migration"
   ]
  },
  {
   "cell_type": "code",
   "execution_count": 34,
   "metadata": {},
   "outputs": [
    {
     "data": {
      "text/plain": [
       "migrate (generic function with 1 method)"
      ]
     },
     "execution_count": 34,
     "metadata": {},
     "output_type": "execute_result"
    }
   ],
   "source": [
    "#should be diffusive migration with a Gaussian dispersal kernel (truncated at 2 SD)\n",
    "emptycopy(a::Agent{L}) where L = Agent(L[])\n",
    "emptycopy(d::Deme{A}) where A = Deme(A[], d.carrying_capacity, d.optimal_phenotype)\n",
    "emptycopy(h::Habitat) = Habitat(emptycopy.(h.demes))\n",
    "\n",
    "function migrate(h::Habitat, p)\n",
    "    new_h = emptycopy(h)\n",
    "    for (i, deme) in enumerate(h.demes)\n",
    "        for agent in deme.agents\n",
    "            step = rand() < p ? rand([-1,1]) : 0 \n",
    "            if step == -1 && i == 1\n",
    "                step = 0\n",
    "            elseif step == 1  && i == length(h)\n",
    "                step = 0\n",
    "            end\n",
    "            push!(new_h.demes[i+step], agent)\n",
    "        end\n",
    "    end\n",
    "    new_h\n",
    "end"
   ]
  },
  {
   "cell_type": "code",
   "execution_count": 35,
   "metadata": {},
   "outputs": [
    {
     "ename": "LoadError",
     "evalue": "UndefRefError: access to undefined reference",
     "output_type": "error",
     "traceback": [
      "UndefRefError: access to undefined reference",
      "",
      "Stacktrace:",
      " [1] getindex at .\\array.jl:809 [inlined]",
      " [2] iterate at .\\array.jl:785 [inlined] (repeats 2 times)",
      " [3] migrate(::Habitat{Deme{Agent{Int64},Int64}}, ::Float64) at .\\In[34]:9",
      " [4] top-level scope at .\\In[35]:2",
      " [5] include_string(::Function, ::Module, ::String, ::String) at .\\loading.jl:1091"
     ]
    }
   ],
   "source": [
    "for i=1:5\n",
    "    h = migrate(h, 0.2)\n",
    "    @show h\n",
    "end"
   ]
  },
  {
   "cell_type": "markdown",
   "metadata": {},
   "source": [
    "## Selection"
   ]
  },
  {
   "cell_type": "code",
   "execution_count": 36,
   "metadata": {},
   "outputs": [
    {
     "data": {
      "text/plain": [
       "Agent{Float64}([1.0, 1.0, 1.0, 0.0, 1.0, 1.0, 0.0, 1.0, 1.0, 1.0])"
      ]
     },
     "execution_count": 36,
     "metadata": {},
     "output_type": "execute_result"
    }
   ],
   "source": [
    "a = Agent(1.0 .* rand(Bool, 10))"
   ]
  },
  {
   "cell_type": "code",
   "execution_count": 37,
   "metadata": {},
   "outputs": [
    {
     "data": {
      "text/plain": [
       "8.0"
      ]
     },
     "execution_count": 37,
     "metadata": {},
     "output_type": "execute_result"
    }
   ],
   "source": [
    "phenotype(a::Agent) = sum(a.loci)\n",
    "phenotype(a)"
   ]
  },
  {
   "cell_type": "code",
   "execution_count": 38,
   "metadata": {},
   "outputs": [
    {
     "data": {
      "text/plain": [
       "8.0"
      ]
     },
     "execution_count": 38,
     "metadata": {},
     "output_type": "execute_result"
    }
   ],
   "source": [
    "Base.sum(a::Agent) = sum(a.loci)\n",
    "sum(a)"
   ]
  },
  {
   "cell_type": "code",
   "execution_count": 39,
   "metadata": {},
   "outputs": [
    {
     "data": {
      "text/plain": [
       "malthusian_fitness (generic function with 1 method)"
      ]
     },
     "execution_count": 39,
     "metadata": {},
     "output_type": "execute_result"
    }
   ],
   "source": [
    "function malthusian_fitness(d::Deme,a::Agent,rm,Vs)\n",
    "    N = length(d)\n",
    "    K = d.carrying_capacity\n",
    "    θ = d.optimal_phenotype\n",
    "    z = sum(a)\n",
    "    return rm*(1-(N/K))-((z-θ)^2)/(2*Vs)\n",
    "end   "
   ]
  },
  {
   "cell_type": "code",
   "execution_count": 40,
   "metadata": {},
   "outputs": [
    {
     "data": {
      "text/plain": [
       "Deme{Agent{Float64},Float64}(N=100)"
      ]
     },
     "execution_count": 40,
     "metadata": {},
     "output_type": "execute_result"
    }
   ],
   "source": [
    "d = make_deme(nn,1,α,nn,α/2)"
   ]
  },
  {
   "cell_type": "code",
   "execution_count": 41,
   "metadata": {},
   "outputs": [
    {
     "data": {
      "text/plain": [
       "number_of_offspring (generic function with 1 method)"
      ]
     },
     "execution_count": 41,
     "metadata": {},
     "output_type": "execute_result"
    }
   ],
   "source": [
    "number_of_offspring(d::Deme,a::Agent,rm,Vs) = rand(Poisson(exp(malthusian_fitness(d::Deme,a::Agent,rm,Vs))))"
   ]
  },
  {
   "cell_type": "code",
   "execution_count": 42,
   "metadata": {},
   "outputs": [
    {
     "name": "stdout",
     "output_type": "stream",
     "text": [
      "number_of_offspring(d, agent, rm, Vs) = 1\n",
      "number_of_offspring(d, agent, rm, Vs) = 1\n",
      "number_of_offspring(d, agent, rm, Vs) = 0\n",
      "number_of_offspring(d, agent, rm, Vs) = 2\n",
      "number_of_offspring(d, agent, rm, Vs) = 1\n",
      "number_of_offspring(d, agent, rm, Vs) = 0\n",
      "number_of_offspring(d, agent, rm, Vs) = 1\n",
      "number_of_offspring(d, agent, rm, Vs) = 6\n",
      "number_of_offspring(d, agent, rm, Vs) = 0\n",
      "number_of_offspring(d, agent, rm, Vs) = 1\n",
      "number_of_offspring(d, agent, rm, Vs) = 2\n",
      "number_of_offspring(d, agent, rm, Vs) = 1\n",
      "number_of_offspring(d, agent, rm, Vs) = 1\n",
      "number_of_offspring(d, agent, rm, Vs) = 1\n",
      "number_of_offspring(d, agent, rm, Vs) = 4\n",
      "number_of_offspring(d, agent, rm, Vs) = 0\n",
      "number_of_offspring(d, agent, rm, Vs) = 2\n",
      "number_of_offspring(d, agent, rm, Vs) = 1\n",
      "number_of_offspring(d, agent, rm, Vs) = 0\n",
      "number_of_offspring(d, agent, rm, Vs) = 0\n",
      "number_of_offspring(d, agent, rm, Vs) = 1\n",
      "number_of_offspring(d, agent, rm, Vs) = 1\n",
      "number_of_offspring(d, agent, rm, Vs) = 3\n",
      "number_of_offspring(d, agent, rm, Vs) = 3\n",
      "number_of_offspring(d, agent, rm, Vs) = 1\n",
      "number_of_offspring(d, agent, rm, Vs) = 2\n",
      "number_of_offspring(d, agent, rm, Vs) = 0\n",
      "number_of_offspring(d, agent, rm, Vs) = 1\n",
      "number_of_offspring(d, agent, rm, Vs) = 1\n",
      "number_of_offspring(d, agent, rm, Vs) = 0\n",
      "number_of_offspring(d, agent, rm, Vs) = 0\n",
      "number_of_offspring(d, agent, rm, Vs) = 1\n",
      "number_of_offspring(d, agent, rm, Vs) = 1\n",
      "number_of_offspring(d, agent, rm, Vs) = 0\n",
      "number_of_offspring(d, agent, rm, Vs) = 1\n",
      "number_of_offspring(d, agent, rm, Vs) = 2\n",
      "number_of_offspring(d, agent, rm, Vs) = 0\n",
      "number_of_offspring(d, agent, rm, Vs) = 0\n",
      "number_of_offspring(d, agent, rm, Vs) = 2\n",
      "number_of_offspring(d, agent, rm, Vs) = 0\n",
      "number_of_offspring(d, agent, rm, Vs) = 0\n",
      "number_of_offspring(d, agent, rm, Vs) = 0\n",
      "number_of_offspring(d, agent, rm, Vs) = 2\n",
      "number_of_offspring(d, agent, rm, Vs) = 1\n",
      "number_of_offspring(d, agent, rm, Vs) = 0\n",
      "number_of_offspring(d, agent, rm, Vs) = 1\n",
      "number_of_offspring(d, agent, rm, Vs) = 1\n",
      "number_of_offspring(d, agent, rm, Vs) = 0\n",
      "number_of_offspring(d, agent, rm, Vs) = 1\n",
      "number_of_offspring(d, agent, rm, Vs) = 2\n",
      "number_of_offspring(d, agent, rm, Vs) = 1\n",
      "number_of_offspring(d, agent, rm, Vs) = 2\n",
      "number_of_offspring(d, agent, rm, Vs) = 3\n",
      "number_of_offspring(d, agent, rm, Vs) = 0\n",
      "number_of_offspring(d, agent, rm, Vs) = 0\n",
      "number_of_offspring(d, agent, rm, Vs) = 0\n",
      "number_of_offspring(d, agent, rm, Vs) = 1\n",
      "number_of_offspring(d, agent, rm, Vs) = 0\n",
      "number_of_offspring(d, agent, rm, Vs) = 1\n",
      "number_of_offspring(d, agent, rm, Vs) = 1\n",
      "number_of_offspring(d, agent, rm, Vs) = 0\n",
      "number_of_offspring(d, agent, rm, Vs) = 1\n",
      "number_of_offspring(d, agent, rm, Vs) = 2\n",
      "number_of_offspring(d, agent, rm, Vs) = 1\n",
      "number_of_offspring(d, agent, rm, Vs) = 1\n",
      "number_of_offspring(d, agent, rm, Vs) = 1\n",
      "number_of_offspring(d, agent, rm, Vs) = 2\n",
      "number_of_offspring(d, agent, rm, Vs) = 0\n",
      "number_of_offspring(d, agent, rm, Vs) = 0\n",
      "number_of_offspring(d, agent, rm, Vs) = 0\n",
      "number_of_offspring(d, agent, rm, Vs) = 0\n",
      "number_of_offspring(d, agent, rm, Vs) = 1\n",
      "number_of_offspring(d, agent, rm, Vs) = 0\n",
      "number_of_offspring(d, agent, rm, Vs) = 2\n",
      "number_of_offspring(d, agent, rm, Vs) = 1\n",
      "number_of_offspring(d, agent, rm, Vs) = 2\n",
      "number_of_offspring(d, agent, rm, Vs) = 0\n",
      "number_of_offspring(d, agent, rm, Vs) = 0\n",
      "number_of_offspring(d, agent, rm, Vs) = 0\n",
      "number_of_offspring(d, agent, rm, Vs) = 0\n",
      "number_of_offspring(d, agent, rm, Vs) = 0\n",
      "number_of_offspring(d, agent, rm, Vs) = 0\n",
      "number_of_offspring(d, agent, rm, Vs) = 2\n",
      "number_of_offspring(d, agent, rm, Vs) = 2\n",
      "number_of_offspring(d, agent, rm, Vs) = 0\n",
      "number_of_offspring(d, agent, rm, Vs) = 2\n",
      "number_of_offspring(d, agent, rm, Vs) = 3\n",
      "number_of_offspring(d, agent, rm, Vs) = 2\n",
      "number_of_offspring(d, agent, rm, Vs) = 0\n",
      "number_of_offspring(d, agent, rm, Vs) = 2\n",
      "number_of_offspring(d, agent, rm, Vs) = 0\n",
      "number_of_offspring(d, agent, rm, Vs) = 0\n",
      "number_of_offspring(d, agent, rm, Vs) = 0\n",
      "number_of_offspring(d, agent, rm, Vs) = 1\n",
      "number_of_offspring(d, agent, rm, Vs) = 0\n",
      "number_of_offspring(d, agent, rm, Vs) = 1\n",
      "number_of_offspring(d, agent, rm, Vs) = 2\n",
      "number_of_offspring(d, agent, rm, Vs) = 0\n",
      "number_of_offspring(d, agent, rm, Vs) = 1\n",
      "number_of_offspring(d, agent, rm, Vs) = 1\n"
     ]
    }
   ],
   "source": [
    "for agent in d.agents\n",
    "    @show number_of_offspring(d,agent,rm,Vs)\n",
    "end"
   ]
  },
  {
   "cell_type": "code",
   "execution_count": 43,
   "metadata": {},
   "outputs": [
    {
     "data": {
      "text/plain": [
       "replicate (generic function with 1 method)"
      ]
     },
     "execution_count": 43,
     "metadata": {},
     "output_type": "execute_result"
    }
   ],
   "source": [
    "function replicate(d::Deme)\n",
    "    new_d_sel = emptycopy(d)\n",
    "    for agent in d.agents\n",
    "        numb = number_of_offspring(d,agent,rm,Vs)\n",
    "        \n",
    "        for i in 1:numb\n",
    "            push!(new_d_sel,agent)\n",
    "        end\n",
    "    end\n",
    "    new_d_sel\n",
    "end"
   ]
  },
  {
   "cell_type": "code",
   "execution_count": 44,
   "metadata": {},
   "outputs": [
    {
     "data": {
      "text/plain": [
       "Deme{Agent{Float64},Float64}(N=109)"
      ]
     },
     "execution_count": 44,
     "metadata": {},
     "output_type": "execute_result"
    }
   ],
   "source": [
    "replicate(d)"
   ]
  },
  {
   "cell_type": "markdown",
   "metadata": {},
   "source": [
    "## Mutation"
   ]
  },
  {
   "cell_type": "code",
   "execution_count": 45,
   "metadata": {},
   "outputs": [
    {
     "data": {
      "text/plain": [
       "Agent{Float64}([1.0, 1.0, 1.0, 0.0, 1.0, 1.0, 0.0, 1.0, 1.0, 1.0])"
      ]
     },
     "execution_count": 45,
     "metadata": {},
     "output_type": "execute_result"
    }
   ],
   "source": [
    "a"
   ]
  },
  {
   "cell_type": "code",
   "execution_count": 46,
   "metadata": {},
   "outputs": [
    {
     "data": {
      "text/plain": [
       "mutate (generic function with 1 method)"
      ]
     },
     "execution_count": 46,
     "metadata": {},
     "output_type": "execute_result"
    }
   ],
   "source": [
    "function mutate(a::Agent,μ)\n",
    "   #each allele in a.loci has probability of mu to flip \n",
    "    empty_agent = emptycopy(a)\n",
    "    for x in a.loci\n",
    "        if rand() > μ\n",
    "            pushlocus!(empty_agent,x)\n",
    "        else\n",
    "            x == 0.0 ? x = α : x = 0.0\n",
    "            pushlocus!(empty_agent,x)\n",
    "        end\n",
    "    end\n",
    "    empty_agent\n",
    "end"
   ]
  },
  {
   "cell_type": "code",
   "execution_count": 47,
   "metadata": {},
   "outputs": [
    {
     "name": "stdout",
     "output_type": "stream",
     "text": [
      "a = Agent{Float64}([1.0, 1.0, 1.0, 0.0001, 0.0, 0.0, 0.0, 1.0, 0.0, 0.0])\n",
      "a = Agent{Float64}([1.0, 0.0, 1.0, 0.0, 0.0, 0.0, 0.0, 1.0, 0.0001, 0.0])\n",
      "a = Agent{Float64}([0.0, 0.0, 0.0, 0.0, 0.0001, 0.0001, 0.0, 0.0, 0.0, 0.0001])\n",
      "a = Agent{Float64}([0.0, 0.0, 0.0001, 0.0001, 0.0001, 0.0001, 0.0001, 0.0001, 0.0001, 0.0001])\n",
      "a = Agent{Float64}([0.0, 0.0001, 0.0, 0.0, 0.0001, 0.0, 0.0001, 0.0001, 0.0, 0.0])\n"
     ]
    }
   ],
   "source": [
    "for i=1:5\n",
    "    a = mutate(a, 0.5)\n",
    "    @show a\n",
    "end"
   ]
  },
  {
   "cell_type": "code",
   "execution_count": 48,
   "metadata": {},
   "outputs": [
    {
     "data": {
      "text/plain": [
       "mutate (generic function with 2 methods)"
      ]
     },
     "execution_count": 48,
     "metadata": {},
     "output_type": "execute_result"
    }
   ],
   "source": [
    "function mutate(d::Deme,μ)\n",
    "    new_d_mut = emptycopy(d)\n",
    "    for agent in d.agents\n",
    "        m_agent = mutate(agent,μ)\n",
    "        push!(new_d_mut,m_agent)\n",
    "    end\n",
    "    new_d_mut\n",
    "end"
   ]
  },
  {
   "cell_type": "code",
   "execution_count": 49,
   "metadata": {},
   "outputs": [
    {
     "data": {
      "text/plain": [
       "Deme{Agent{Float64},Float64}(N=100)"
      ]
     },
     "execution_count": 49,
     "metadata": {},
     "output_type": "execute_result"
    }
   ],
   "source": [
    "d = make_deme(nn,1,α,nn,α/2)\n",
    "mutate(d,μ)\n"
   ]
  },
  {
   "cell_type": "code",
   "execution_count": 50,
   "metadata": {},
   "outputs": [
    {
     "name": "stdout",
     "output_type": "stream",
     "text": [
      "d = Deme{Agent{Float64},Float64}(N=100)\n",
      "d = Deme{Agent{Float64},Float64}(N=100)\n",
      "d = Deme{Agent{Float64},Float64}(N=100)\n",
      "d = Deme{Agent{Float64},Float64}(N=100)\n",
      "d = Deme{Agent{Float64},Float64}(N=100)\n"
     ]
    }
   ],
   "source": [
    "for i=1:5\n",
    "    d = mutate(d, 0.5)\n",
    "    @show d\n",
    "end"
   ]
  },
  {
   "cell_type": "code",
   "execution_count": 51,
   "metadata": {},
   "outputs": [
    {
     "ename": "LoadError",
     "evalue": "MethodError: no method matching mutate(::Deme{Agent{Float64},Float64})\nClosest candidates are:\n  mutate(::Deme, !Matched::Any) at In[48]:1\n  mutate(!Matched::Agent, !Matched::Any) at In[46]:1",
     "output_type": "error",
     "traceback": [
      "MethodError: no method matching mutate(::Deme{Agent{Float64},Float64})\nClosest candidates are:\n  mutate(::Deme, !Matched::Any) at In[48]:1\n  mutate(!Matched::Agent, !Matched::Any) at In[46]:1",
      "",
      "Stacktrace:",
      " [1] top-level scope at In[51]:2",
      " [2] include_string(::Function, ::Module, ::String, ::String) at .\\loading.jl:1091"
     ]
    }
   ],
   "source": [
    "d = replicate(d)\n",
    "d = mutate(d)"
   ]
  },
  {
   "cell_type": "markdown",
   "metadata": {},
   "source": [
    "## Recombination"
   ]
  },
  {
   "cell_type": "code",
   "execution_count": 52,
   "metadata": {},
   "outputs": [
    {
     "data": {
      "text/plain": [
       "recombine (generic function with 1 method)"
      ]
     },
     "execution_count": 52,
     "metadata": {},
     "output_type": "execute_result"
    }
   ],
   "source": [
    "#unlinked loci, r = 0.5\n",
    "function recombine(a::Agent,b::Agent)\n",
    "    empty_agent_1 = emptycopy(a)\n",
    "    empty_agent_2 = emptycopy(a)\n",
    "    for i in 1:length(a.loci)\n",
    "        r = rand()\n",
    "        r > 0.5 ? pushlocus!(empty_agent_1,a.loci[i]) : pushlocus!(empty_agent_1,b.loci[i])\n",
    "        r > 0.5 ? pushlocus!(empty_agent_2,b.loci[i]) : pushlocus!(empty_agent_2,a.loci[i])\n",
    " \n",
    "    end\n",
    "    empty_agent_1, empty_agent_2\n",
    "end\n",
    "    "
   ]
  },
  {
   "cell_type": "code",
   "execution_count": 53,
   "metadata": {},
   "outputs": [
    {
     "data": {
      "text/plain": [
       "Agent{Float64}([0.0, 0.0, 0.0, 0.0, 0.0, 0.0, 0.0, 0.0, 0.0, 0.0])"
      ]
     },
     "execution_count": 53,
     "metadata": {},
     "output_type": "execute_result"
    }
   ],
   "source": [
    "aa = Agent([1.0 for i in 1:10])\n",
    "bb = Agent([0.0 for i in 1:10])"
   ]
  },
  {
   "cell_type": "code",
   "execution_count": 54,
   "metadata": {},
   "outputs": [
    {
     "name": "stdout",
     "output_type": "stream",
     "text": [
      "(aa, bb) = (Agent{Float64}([1.0, 0.0, 0.0, 1.0, 1.0, 0.0, 0.0, 0.0, 1.0, 0.0]), Agent{Float64}([0.0, 1.0, 1.0, 0.0, 0.0, 1.0, 1.0, 1.0, 0.0, 1.0]))\n",
      "(aa, bb) = (Agent{Float64}([0.0, 0.0, 0.0, 0.0, 0.0, 1.0, 0.0, 0.0, 1.0, 0.0]), Agent{Float64}([1.0, 1.0, 1.0, 1.0, 1.0, 0.0, 1.0, 1.0, 0.0, 1.0]))\n",
      "(aa, bb) = (Agent{Float64}([0.0, 0.0, 1.0, 0.0, 0.0, 0.0, 1.0, 0.0, 1.0, 0.0]), Agent{Float64}([1.0, 1.0, 0.0, 1.0, 1.0, 1.0, 0.0, 1.0, 0.0, 1.0]))\n",
      "(aa, bb) = (Agent{Float64}([0.0, 1.0, 0.0, 0.0, 0.0, 0.0, 1.0, 0.0, 1.0, 0.0]), Agent{Float64}([1.0, 0.0, 1.0, 1.0, 1.0, 1.0, 0.0, 1.0, 0.0, 1.0]))\n",
      "(aa, bb) = (Agent{Float64}([0.0, 1.0, 1.0, 1.0, 0.0, 0.0, 1.0, 0.0, 0.0, 0.0]), Agent{Float64}([1.0, 0.0, 0.0, 0.0, 1.0, 1.0, 0.0, 1.0, 1.0, 1.0]))\n"
     ]
    }
   ],
   "source": [
    "for i=1:5\n",
    "    aa, bb = recombine(aa, bb)\n",
    "    @show aa, bb\n",
    "end"
   ]
  },
  {
   "cell_type": "markdown",
   "metadata": {},
   "source": [
    "## Random mating"
   ]
  },
  {
   "cell_type": "code",
   "execution_count": 55,
   "metadata": {},
   "outputs": [
    {
     "data": {
      "text/plain": [
       "random_mating (generic function with 1 method)"
      ]
     },
     "execution_count": 55,
     "metadata": {},
     "output_type": "execute_result"
    }
   ],
   "source": [
    "#random mating function -> pick 2 random agents from deme\n",
    "function random_mating(d::Deme)\n",
    "    new_deme = emptycopy(d)\n",
    "    nodes = d.agents\n",
    "    while length(nodes) > 1\n",
    "        shuffle!(nodes)\n",
    "        n1 = pop!(nodes)\n",
    "        n2 = pop!(nodes)\n",
    "        nr = recombine(n1,n2)\n",
    "        push!(new_deme,nr[1])\n",
    "        push!(new_deme,nr[2])\n",
    "    end\n",
    "    new_deme\n",
    "end   \n",
    "        \n",
    "    "
   ]
  },
  {
   "cell_type": "code",
   "execution_count": 56,
   "metadata": {},
   "outputs": [
    {
     "data": {
      "text/plain": [
       "Deme{Agent{Float64},Float64}(N=100)"
      ]
     },
     "execution_count": 56,
     "metadata": {},
     "output_type": "execute_result"
    }
   ],
   "source": [
    "d = make_deme(nn,1,α,nn,α/2)\n",
    "random_mating(d)"
   ]
  },
  {
   "cell_type": "markdown",
   "metadata": {},
   "source": [
    "## Initiation\n"
   ]
  },
  {
   "cell_type": "code",
   "execution_count": 85,
   "metadata": {},
   "outputs": [
    {
     "data": {
      "text/plain": [
       "life_cycle (generic function with 1 method)"
      ]
     },
     "execution_count": 85,
     "metadata": {},
     "output_type": "execute_result"
    }
   ],
   "source": [
    "function life_cycle(d::Deme)\n",
    "    new_d_sel = replicate(d)\n",
    "    #new_d_mut = mutate(new_d_sel)\n",
    "    new_d_mut = emptycopy(new_d_sel)\n",
    "    for agent in new_d_sel.agents\n",
    "        m_agent = mutate(agent,μ)\n",
    "        push!(new_d_mut,m_agent)\n",
    "    end\n",
    "    new_d_mat = random_mating(new_d_mut)\n",
    "    new_d_mat\n",
    "end "
   ]
  },
  {
   "cell_type": "markdown",
   "metadata": {},
   "source": [
    "## Heterozygosity test"
   ]
  },
  {
   "cell_type": "code",
   "execution_count": 86,
   "metadata": {},
   "outputs": [],
   "source": [
    "#make habitat with pop in central deme\n",
    "#selection -> mutation -> recombination -> migration"
   ]
  },
  {
   "cell_type": "code",
   "execution_count": 87,
   "metadata": {},
   "outputs": [
    {
     "data": {
      "text/plain": [
       "Deme{Agent{Float64},Float64}(N=100)"
      ]
     },
     "execution_count": 87,
     "metadata": {},
     "output_type": "execute_result"
    }
   ],
   "source": [
    "d = make_deme(nn,1,α,nn,α/2)\n",
    "d_m = deepcopy(d)"
   ]
  },
  {
   "cell_type": "code",
   "execution_count": 88,
   "metadata": {},
   "outputs": [
    {
     "data": {
      "text/plain": [
       "heterozygosity (generic function with 1 method)"
      ]
     },
     "execution_count": 88,
     "metadata": {},
     "output_type": "execute_result"
    }
   ],
   "source": [
    "function heterozygosity(d::Deme)\n",
    "    s = 0\n",
    "    for i in d.agents\n",
    "        if i.loci[1] == 0\n",
    "            s += 1\n",
    "        end\n",
    "    end\n",
    "    p = s/length(d.agents)\n",
    "    p*(1-p)\n",
    "end  "
   ]
  },
  {
   "cell_type": "code",
   "execution_count": 89,
   "metadata": {},
   "outputs": [
    {
     "data": {
      "text/plain": [
       "0.24750000000000003"
      ]
     },
     "execution_count": 89,
     "metadata": {},
     "output_type": "execute_result"
    }
   ],
   "source": [
    "H = heterozygosity(d)"
   ]
  },
  {
   "cell_type": "code",
   "execution_count": 90,
   "metadata": {},
   "outputs": [
    {
     "data": {
      "text/plain": [
       "1-element Array{Float64,1}:\n",
       " 0.24750000000000003"
      ]
     },
     "execution_count": 90,
     "metadata": {},
     "output_type": "execute_result"
    }
   ],
   "source": [
    "H_sim = [H]\n",
    "H_series = [H]"
   ]
  },
  {
   "cell_type": "code",
   "execution_count": 91,
   "metadata": {},
   "outputs": [],
   "source": [
    "#simulation with IBM\n",
    "for year in 1:50\n",
    "    d = life_cycle(d)\n",
    "    H = heterozygosity(d)\n",
    "    push!(H_sim,H)\n",
    "end    "
   ]
  },
  {
   "cell_type": "code",
   "execution_count": 92,
   "metadata": {},
   "outputs": [
    {
     "data": {
      "text/plain": [
       "det_het (generic function with 1 method)"
      ]
     },
     "execution_count": 92,
     "metadata": {},
     "output_type": "execute_result"
    }
   ],
   "source": [
    "#deterministic model\n",
    "det_het(H_0,t,N) = ((1-(1/N))^t)*H_0"
   ]
  },
  {
   "cell_type": "code",
   "execution_count": 93,
   "metadata": {},
   "outputs": [],
   "source": [
    "for i in 1:50\n",
    "    H = det_het(H,i,nn)\n",
    "    push!(H_series,H)\n",
    "end"
   ]
  },
  {
   "cell_type": "code",
   "execution_count": 94,
   "metadata": {},
   "outputs": [
    {
     "data": {
      "image/svg+xml": [
       "<?xml version=\"1.0\" encoding=\"utf-8\"?>\n",
       "<svg xmlns=\"http://www.w3.org/2000/svg\" xmlns:xlink=\"http://www.w3.org/1999/xlink\" width=\"600\" height=\"400\" viewBox=\"0 0 2400 1600\">\n",
       "<defs>\n",
       "  <clipPath id=\"clip440\">\n",
       "    <rect x=\"0\" y=\"0\" width=\"2400\" height=\"1600\"/>\n",
       "  </clipPath>\n",
       "</defs>\n",
       "<path clip-path=\"url(#clip440)\" d=\"\n",
       "M0 1600 L2400 1600 L2400 0 L0 0  Z\n",
       "  \" fill=\"#ffffff\" fill-rule=\"evenodd\" fill-opacity=\"1\"/>\n",
       "<defs>\n",
       "  <clipPath id=\"clip441\">\n",
       "    <rect x=\"480\" y=\"0\" width=\"1681\" height=\"1600\"/>\n",
       "  </clipPath>\n",
       "</defs>\n",
       "<path clip-path=\"url(#clip440)\" d=\"\n",
       "M174.862 1486.45 L2352.76 1486.45 L2352.76 47.2441 L174.862 47.2441  Z\n",
       "  \" fill=\"#ffffff\" fill-rule=\"evenodd\" fill-opacity=\"1\"/>\n",
       "<defs>\n",
       "  <clipPath id=\"clip442\">\n",
       "    <rect x=\"174\" y=\"47\" width=\"2179\" height=\"1440\"/>\n",
       "  </clipPath>\n",
       "</defs>\n",
       "<polyline clip-path=\"url(#clip442)\" style=\"stroke:#000000; stroke-width:2; stroke-opacity:0.1; fill:none\" points=\"\n",
       "  195.408,1486.45 195.408,47.2441 \n",
       "  \"/>\n",
       "<polyline clip-path=\"url(#clip442)\" style=\"stroke:#000000; stroke-width:2; stroke-opacity:0.1; fill:none\" points=\"\n",
       "  606.332,1486.45 606.332,47.2441 \n",
       "  \"/>\n",
       "<polyline clip-path=\"url(#clip442)\" style=\"stroke:#000000; stroke-width:2; stroke-opacity:0.1; fill:none\" points=\"\n",
       "  1017.25,1486.45 1017.25,47.2441 \n",
       "  \"/>\n",
       "<polyline clip-path=\"url(#clip442)\" style=\"stroke:#000000; stroke-width:2; stroke-opacity:0.1; fill:none\" points=\"\n",
       "  1428.18,1486.45 1428.18,47.2441 \n",
       "  \"/>\n",
       "<polyline clip-path=\"url(#clip442)\" style=\"stroke:#000000; stroke-width:2; stroke-opacity:0.1; fill:none\" points=\"\n",
       "  1839.1,1486.45 1839.1,47.2441 \n",
       "  \"/>\n",
       "<polyline clip-path=\"url(#clip442)\" style=\"stroke:#000000; stroke-width:2; stroke-opacity:0.1; fill:none\" points=\"\n",
       "  2250.03,1486.45 2250.03,47.2441 \n",
       "  \"/>\n",
       "<polyline clip-path=\"url(#clip442)\" style=\"stroke:#000000; stroke-width:2; stroke-opacity:0.1; fill:none\" points=\"\n",
       "  174.862,1445.72 2352.76,1445.72 \n",
       "  \"/>\n",
       "<polyline clip-path=\"url(#clip442)\" style=\"stroke:#000000; stroke-width:2; stroke-opacity:0.1; fill:none\" points=\"\n",
       "  174.862,1173.61 2352.76,1173.61 \n",
       "  \"/>\n",
       "<polyline clip-path=\"url(#clip442)\" style=\"stroke:#000000; stroke-width:2; stroke-opacity:0.1; fill:none\" points=\"\n",
       "  174.862,901.497 2352.76,901.497 \n",
       "  \"/>\n",
       "<polyline clip-path=\"url(#clip442)\" style=\"stroke:#000000; stroke-width:2; stroke-opacity:0.1; fill:none\" points=\"\n",
       "  174.862,629.387 2352.76,629.387 \n",
       "  \"/>\n",
       "<polyline clip-path=\"url(#clip442)\" style=\"stroke:#000000; stroke-width:2; stroke-opacity:0.1; fill:none\" points=\"\n",
       "  174.862,357.276 2352.76,357.276 \n",
       "  \"/>\n",
       "<polyline clip-path=\"url(#clip442)\" style=\"stroke:#000000; stroke-width:2; stroke-opacity:0.1; fill:none\" points=\"\n",
       "  174.862,85.1652 2352.76,85.1652 \n",
       "  \"/>\n",
       "<polyline clip-path=\"url(#clip440)\" style=\"stroke:#000000; stroke-width:4; stroke-opacity:1; fill:none\" points=\"\n",
       "  174.862,1486.45 2352.76,1486.45 \n",
       "  \"/>\n",
       "<polyline clip-path=\"url(#clip440)\" style=\"stroke:#000000; stroke-width:4; stroke-opacity:1; fill:none\" points=\"\n",
       "  174.862,1486.45 174.862,47.2441 \n",
       "  \"/>\n",
       "<polyline clip-path=\"url(#clip440)\" style=\"stroke:#000000; stroke-width:4; stroke-opacity:1; fill:none\" points=\"\n",
       "  195.408,1486.45 195.408,1469.18 \n",
       "  \"/>\n",
       "<polyline clip-path=\"url(#clip440)\" style=\"stroke:#000000; stroke-width:4; stroke-opacity:1; fill:none\" points=\"\n",
       "  606.332,1486.45 606.332,1469.18 \n",
       "  \"/>\n",
       "<polyline clip-path=\"url(#clip440)\" style=\"stroke:#000000; stroke-width:4; stroke-opacity:1; fill:none\" points=\"\n",
       "  1017.25,1486.45 1017.25,1469.18 \n",
       "  \"/>\n",
       "<polyline clip-path=\"url(#clip440)\" style=\"stroke:#000000; stroke-width:4; stroke-opacity:1; fill:none\" points=\"\n",
       "  1428.18,1486.45 1428.18,1469.18 \n",
       "  \"/>\n",
       "<polyline clip-path=\"url(#clip440)\" style=\"stroke:#000000; stroke-width:4; stroke-opacity:1; fill:none\" points=\"\n",
       "  1839.1,1486.45 1839.1,1469.18 \n",
       "  \"/>\n",
       "<polyline clip-path=\"url(#clip440)\" style=\"stroke:#000000; stroke-width:4; stroke-opacity:1; fill:none\" points=\"\n",
       "  2250.03,1486.45 2250.03,1469.18 \n",
       "  \"/>\n",
       "<polyline clip-path=\"url(#clip440)\" style=\"stroke:#000000; stroke-width:4; stroke-opacity:1; fill:none\" points=\"\n",
       "  174.862,1445.72 200.997,1445.72 \n",
       "  \"/>\n",
       "<polyline clip-path=\"url(#clip440)\" style=\"stroke:#000000; stroke-width:4; stroke-opacity:1; fill:none\" points=\"\n",
       "  174.862,1173.61 200.997,1173.61 \n",
       "  \"/>\n",
       "<polyline clip-path=\"url(#clip440)\" style=\"stroke:#000000; stroke-width:4; stroke-opacity:1; fill:none\" points=\"\n",
       "  174.862,901.497 200.997,901.497 \n",
       "  \"/>\n",
       "<polyline clip-path=\"url(#clip440)\" style=\"stroke:#000000; stroke-width:4; stroke-opacity:1; fill:none\" points=\"\n",
       "  174.862,629.387 200.997,629.387 \n",
       "  \"/>\n",
       "<polyline clip-path=\"url(#clip440)\" style=\"stroke:#000000; stroke-width:4; stroke-opacity:1; fill:none\" points=\"\n",
       "  174.862,357.276 200.997,357.276 \n",
       "  \"/>\n",
       "<polyline clip-path=\"url(#clip440)\" style=\"stroke:#000000; stroke-width:4; stroke-opacity:1; fill:none\" points=\"\n",
       "  174.862,85.1652 200.997,85.1652 \n",
       "  \"/>\n",
       "<path clip-path=\"url(#clip440)\" d=\"M 0 0 M195.408 1508.44 Q191.797 1508.44 189.968 1512 Q188.163 1515.55 188.163 1522.67 Q188.163 1529.78 189.968 1533.35 Q191.797 1536.89 195.408 1536.89 Q199.042 1536.89 200.848 1533.35 Q202.677 1529.78 202.677 1522.67 Q202.677 1515.55 200.848 1512 Q199.042 1508.44 195.408 1508.44 M195.408 1504.73 Q201.218 1504.73 204.274 1509.34 Q207.353 1513.92 207.353 1522.67 Q207.353 1531.4 204.274 1536.01 Q201.218 1540.59 195.408 1540.59 Q189.598 1540.59 186.519 1536.01 Q183.464 1531.4 183.464 1522.67 Q183.464 1513.92 186.519 1509.34 Q189.598 1504.73 195.408 1504.73 Z\" fill=\"#000000\" fill-rule=\"evenodd\" fill-opacity=\"1\" /><path clip-path=\"url(#clip440)\" d=\"M 0 0 M583.207 1535.98 L590.846 1535.98 L590.846 1509.62 L582.535 1511.29 L582.535 1507.03 L590.799 1505.36 L595.475 1505.36 L595.475 1535.98 L603.114 1535.98 L603.114 1539.92 L583.207 1539.92 L583.207 1535.98 Z\" fill=\"#000000\" fill-rule=\"evenodd\" fill-opacity=\"1\" /><path clip-path=\"url(#clip440)\" d=\"M 0 0 M618.183 1508.44 Q614.572 1508.44 612.744 1512 Q610.938 1515.55 610.938 1522.67 Q610.938 1529.78 612.744 1533.35 Q614.572 1536.89 618.183 1536.89 Q621.818 1536.89 623.623 1533.35 Q625.452 1529.78 625.452 1522.67 Q625.452 1515.55 623.623 1512 Q621.818 1508.44 618.183 1508.44 M618.183 1504.73 Q623.994 1504.73 627.049 1509.34 Q630.128 1513.92 630.128 1522.67 Q630.128 1531.4 627.049 1536.01 Q623.994 1540.59 618.183 1540.59 Q612.373 1540.59 609.295 1536.01 Q606.239 1531.4 606.239 1522.67 Q606.239 1513.92 609.295 1509.34 Q612.373 1504.73 618.183 1504.73 Z\" fill=\"#000000\" fill-rule=\"evenodd\" fill-opacity=\"1\" /><path clip-path=\"url(#clip440)\" d=\"M 0 0 M998.401 1535.98 L1014.72 1535.98 L1014.72 1539.92 L992.776 1539.92 L992.776 1535.98 Q995.438 1533.23 1000.02 1528.6 Q1004.63 1523.95 1005.81 1522.61 Q1008.05 1520.08 1008.93 1518.35 Q1009.84 1516.59 1009.84 1514.9 Q1009.84 1512.14 1007.89 1510.41 Q1005.97 1508.67 1002.87 1508.67 Q1000.67 1508.67 998.216 1509.43 Q995.785 1510.2 993.007 1511.75 L993.007 1507.03 Q995.831 1505.89 998.285 1505.31 Q1000.74 1504.73 1002.78 1504.73 Q1008.15 1504.73 1011.34 1507.42 Q1014.54 1510.11 1014.54 1514.6 Q1014.54 1516.73 1013.72 1518.65 Q1012.94 1520.54 1010.83 1523.14 Q1010.25 1523.81 1007.15 1527.03 Q1004.05 1530.22 998.401 1535.98 Z\" fill=\"#000000\" fill-rule=\"evenodd\" fill-opacity=\"1\" /><path clip-path=\"url(#clip440)\" d=\"M 0 0 M1029.79 1508.44 Q1026.18 1508.44 1024.35 1512 Q1022.54 1515.55 1022.54 1522.67 Q1022.54 1529.78 1024.35 1533.35 Q1026.18 1536.89 1029.79 1536.89 Q1033.42 1536.89 1035.23 1533.35 Q1037.06 1529.78 1037.06 1522.67 Q1037.06 1515.55 1035.23 1512 Q1033.42 1508.44 1029.79 1508.44 M1029.79 1504.73 Q1035.6 1504.73 1038.66 1509.34 Q1041.73 1513.92 1041.73 1522.67 Q1041.73 1531.4 1038.66 1536.01 Q1035.6 1540.59 1029.79 1540.59 Q1023.98 1540.59 1020.9 1536.01 Q1017.85 1531.4 1017.85 1522.67 Q1017.85 1513.92 1020.9 1509.34 Q1023.98 1504.73 1029.79 1504.73 Z\" fill=\"#000000\" fill-rule=\"evenodd\" fill-opacity=\"1\" /><path clip-path=\"url(#clip440)\" d=\"M 0 0 M1418.92 1521.29 Q1422.28 1522 1424.15 1524.27 Q1426.05 1526.54 1426.05 1529.87 Q1426.05 1534.99 1422.53 1537.79 Q1419.01 1540.59 1412.53 1540.59 Q1410.35 1540.59 1408.04 1540.15 Q1405.75 1539.73 1403.29 1538.88 L1403.29 1534.36 Q1405.24 1535.5 1407.55 1536.08 Q1409.87 1536.66 1412.39 1536.66 Q1416.79 1536.66 1419.08 1534.92 Q1421.4 1533.18 1421.4 1529.87 Q1421.4 1526.82 1419.24 1525.11 Q1417.11 1523.37 1413.29 1523.37 L1409.27 1523.37 L1409.27 1519.53 L1413.48 1519.53 Q1416.93 1519.53 1418.76 1518.16 Q1420.59 1516.77 1420.59 1514.18 Q1420.59 1511.52 1418.69 1510.11 Q1416.81 1508.67 1413.29 1508.67 Q1411.37 1508.67 1409.17 1509.09 Q1406.97 1509.5 1404.34 1510.38 L1404.34 1506.22 Q1407 1505.48 1409.31 1505.11 Q1411.65 1504.73 1413.71 1504.73 Q1419.03 1504.73 1422.14 1507.17 Q1425.24 1509.57 1425.24 1513.69 Q1425.24 1516.56 1423.6 1518.55 Q1421.95 1520.52 1418.92 1521.29 Z\" fill=\"#000000\" fill-rule=\"evenodd\" fill-opacity=\"1\" /><path clip-path=\"url(#clip440)\" d=\"M 0 0 M1441.12 1508.44 Q1437.51 1508.44 1435.68 1512 Q1433.87 1515.55 1433.87 1522.67 Q1433.87 1529.78 1435.68 1533.35 Q1437.51 1536.89 1441.12 1536.89 Q1444.75 1536.89 1446.56 1533.35 Q1448.39 1529.78 1448.39 1522.67 Q1448.39 1515.55 1446.56 1512 Q1444.75 1508.44 1441.12 1508.44 M1441.12 1504.73 Q1446.93 1504.73 1449.98 1509.34 Q1453.06 1513.92 1453.06 1522.67 Q1453.06 1531.4 1449.98 1536.01 Q1446.93 1540.59 1441.12 1540.59 Q1435.31 1540.59 1432.23 1536.01 Q1429.17 1531.4 1429.17 1522.67 Q1429.17 1513.92 1432.23 1509.34 Q1435.31 1504.73 1441.12 1504.73 Z\" fill=\"#000000\" fill-rule=\"evenodd\" fill-opacity=\"1\" /><path clip-path=\"url(#clip440)\" d=\"M 0 0 M1828.6 1509.43 L1816.8 1527.88 L1828.6 1527.88 L1828.6 1509.43 M1827.38 1505.36 L1833.26 1505.36 L1833.26 1527.88 L1838.19 1527.88 L1838.19 1531.77 L1833.26 1531.77 L1833.26 1539.92 L1828.6 1539.92 L1828.6 1531.77 L1813 1531.77 L1813 1527.26 L1827.38 1505.36 Z\" fill=\"#000000\" fill-rule=\"evenodd\" fill-opacity=\"1\" /><path clip-path=\"url(#clip440)\" d=\"M 0 0 M1853.26 1508.44 Q1849.65 1508.44 1847.82 1512 Q1846.01 1515.55 1846.01 1522.67 Q1846.01 1529.78 1847.82 1533.35 Q1849.65 1536.89 1853.26 1536.89 Q1856.89 1536.89 1858.7 1533.35 Q1860.53 1529.78 1860.53 1522.67 Q1860.53 1515.55 1858.7 1512 Q1856.89 1508.44 1853.26 1508.44 M1853.26 1504.73 Q1859.07 1504.73 1862.12 1509.34 Q1865.2 1513.92 1865.2 1522.67 Q1865.2 1531.4 1862.12 1536.01 Q1859.07 1540.59 1853.26 1540.59 Q1847.45 1540.59 1844.37 1536.01 Q1841.31 1531.4 1841.31 1522.67 Q1841.31 1513.92 1844.37 1509.34 Q1847.45 1504.73 1853.26 1504.73 Z\" fill=\"#000000\" fill-rule=\"evenodd\" fill-opacity=\"1\" /><path clip-path=\"url(#clip440)\" d=\"M 0 0 M2226.8 1505.36 L2245.15 1505.36 L2245.15 1509.3 L2231.08 1509.3 L2231.08 1517.77 Q2232.1 1517.42 2233.12 1517.26 Q2234.13 1517.07 2235.15 1517.07 Q2240.94 1517.07 2244.32 1520.24 Q2247.7 1523.42 2247.7 1528.83 Q2247.7 1534.41 2244.23 1537.51 Q2240.75 1540.59 2234.43 1540.59 Q2232.26 1540.59 2229.99 1540.22 Q2227.75 1539.85 2225.34 1539.11 L2225.34 1534.41 Q2227.42 1535.54 2229.64 1536.1 Q2231.87 1536.66 2234.34 1536.66 Q2238.35 1536.66 2240.68 1534.55 Q2243.02 1532.44 2243.02 1528.83 Q2243.02 1525.22 2240.68 1523.11 Q2238.35 1521.01 2234.34 1521.01 Q2232.47 1521.01 2230.59 1521.42 Q2228.74 1521.84 2226.8 1522.72 L2226.8 1505.36 Z\" fill=\"#000000\" fill-rule=\"evenodd\" fill-opacity=\"1\" /><path clip-path=\"url(#clip440)\" d=\"M 0 0 M2262.77 1508.44 Q2259.16 1508.44 2257.33 1512 Q2255.52 1515.55 2255.52 1522.67 Q2255.52 1529.78 2257.33 1533.35 Q2259.16 1536.89 2262.77 1536.89 Q2266.4 1536.89 2268.21 1533.35 Q2270.04 1529.78 2270.04 1522.67 Q2270.04 1515.55 2268.21 1512 Q2266.4 1508.44 2262.77 1508.44 M2262.77 1504.73 Q2268.58 1504.73 2271.63 1509.34 Q2274.71 1513.92 2274.71 1522.67 Q2274.71 1531.4 2271.63 1536.01 Q2268.58 1540.59 2262.77 1540.59 Q2256.96 1540.59 2253.88 1536.01 Q2250.82 1531.4 2250.82 1522.67 Q2250.82 1513.92 2253.88 1509.34 Q2256.96 1504.73 2262.77 1504.73 Z\" fill=\"#000000\" fill-rule=\"evenodd\" fill-opacity=\"1\" /><path clip-path=\"url(#clip440)\" d=\"M 0 0 M74.9365 1431.52 Q71.3254 1431.52 69.4967 1435.08 Q67.6912 1438.62 67.6912 1445.75 Q67.6912 1452.86 69.4967 1456.42 Q71.3254 1459.97 74.9365 1459.97 Q78.5707 1459.97 80.3763 1456.42 Q82.205 1452.86 82.205 1445.75 Q82.205 1438.62 80.3763 1435.08 Q78.5707 1431.52 74.9365 1431.52 M74.9365 1427.81 Q80.7467 1427.81 83.8022 1432.42 Q86.8809 1437 86.8809 1445.75 Q86.8809 1454.48 83.8022 1459.09 Q80.7467 1463.67 74.9365 1463.67 Q69.1264 1463.67 66.0477 1459.09 Q62.9921 1454.48 62.9921 1445.75 Q62.9921 1437 66.0477 1432.42 Q69.1264 1427.81 74.9365 1427.81 Z\" fill=\"#000000\" fill-rule=\"evenodd\" fill-opacity=\"1\" /><path clip-path=\"url(#clip440)\" d=\"M 0 0 M91.9503 1457.12 L96.8345 1457.12 L96.8345 1463 L91.9503 1463 L91.9503 1457.12 Z\" fill=\"#000000\" fill-rule=\"evenodd\" fill-opacity=\"1\" /><path clip-path=\"url(#clip440)\" d=\"M 0 0 M111.904 1431.52 Q108.293 1431.52 106.464 1435.08 Q104.659 1438.62 104.659 1445.75 Q104.659 1452.86 106.464 1456.42 Q108.293 1459.97 111.904 1459.97 Q115.538 1459.97 117.344 1456.42 Q119.172 1452.86 119.172 1445.75 Q119.172 1438.62 117.344 1435.08 Q115.538 1431.52 111.904 1431.52 M111.904 1427.81 Q117.714 1427.81 120.77 1432.42 Q123.848 1437 123.848 1445.75 Q123.848 1454.48 120.77 1459.09 Q117.714 1463.67 111.904 1463.67 Q106.094 1463.67 103.015 1459.09 Q99.9595 1454.48 99.9595 1445.75 Q99.9595 1437 103.015 1432.42 Q106.094 1427.81 111.904 1427.81 Z\" fill=\"#000000\" fill-rule=\"evenodd\" fill-opacity=\"1\" /><path clip-path=\"url(#clip440)\" d=\"M 0 0 M138.918 1431.52 Q135.307 1431.52 133.478 1435.08 Q131.672 1438.62 131.672 1445.75 Q131.672 1452.86 133.478 1456.42 Q135.307 1459.97 138.918 1459.97 Q142.552 1459.97 144.357 1456.42 Q146.186 1452.86 146.186 1445.75 Q146.186 1438.62 144.357 1435.08 Q142.552 1431.52 138.918 1431.52 M138.918 1427.81 Q144.728 1427.81 147.783 1432.42 Q150.862 1437 150.862 1445.75 Q150.862 1454.48 147.783 1459.09 Q144.728 1463.67 138.918 1463.67 Q133.107 1463.67 130.029 1459.09 Q126.973 1454.48 126.973 1445.75 Q126.973 1437 130.029 1432.42 Q133.107 1427.81 138.918 1427.81 Z\" fill=\"#000000\" fill-rule=\"evenodd\" fill-opacity=\"1\" /><path clip-path=\"url(#clip440)\" d=\"M 0 0 M75.9319 1159.41 Q72.3208 1159.41 70.4921 1162.97 Q68.6865 1166.51 68.6865 1173.64 Q68.6865 1180.75 70.4921 1184.31 Q72.3208 1187.86 75.9319 1187.86 Q79.5661 1187.86 81.3717 1184.31 Q83.2004 1180.75 83.2004 1173.64 Q83.2004 1166.51 81.3717 1162.97 Q79.5661 1159.41 75.9319 1159.41 M75.9319 1155.7 Q81.742 1155.7 84.7976 1160.31 Q87.8763 1164.89 87.8763 1173.64 Q87.8763 1182.37 84.7976 1186.98 Q81.742 1191.56 75.9319 1191.56 Q70.1217 1191.56 67.043 1186.98 Q63.9875 1182.37 63.9875 1173.64 Q63.9875 1164.89 67.043 1160.31 Q70.1217 1155.7 75.9319 1155.7 Z\" fill=\"#000000\" fill-rule=\"evenodd\" fill-opacity=\"1\" /><path clip-path=\"url(#clip440)\" d=\"M 0 0 M92.9457 1185.01 L97.8299 1185.01 L97.8299 1190.89 L92.9457 1190.89 L92.9457 1185.01 Z\" fill=\"#000000\" fill-rule=\"evenodd\" fill-opacity=\"1\" /><path clip-path=\"url(#clip440)\" d=\"M 0 0 M112.899 1159.41 Q109.288 1159.41 107.459 1162.97 Q105.654 1166.51 105.654 1173.64 Q105.654 1180.75 107.459 1184.31 Q109.288 1187.86 112.899 1187.86 Q116.534 1187.86 118.339 1184.31 Q120.168 1180.75 120.168 1173.64 Q120.168 1166.51 118.339 1162.97 Q116.534 1159.41 112.899 1159.41 M112.899 1155.7 Q118.709 1155.7 121.765 1160.31 Q124.844 1164.89 124.844 1173.64 Q124.844 1182.37 121.765 1186.98 Q118.709 1191.56 112.899 1191.56 Q107.089 1191.56 104.01 1186.98 Q100.955 1182.37 100.955 1173.64 Q100.955 1164.89 104.01 1160.31 Q107.089 1155.7 112.899 1155.7 Z\" fill=\"#000000\" fill-rule=\"evenodd\" fill-opacity=\"1\" /><path clip-path=\"url(#clip440)\" d=\"M 0 0 M129.959 1156.33 L148.316 1156.33 L148.316 1160.26 L134.242 1160.26 L134.242 1168.74 Q135.26 1168.39 136.279 1168.23 Q137.297 1168.04 138.316 1168.04 Q144.103 1168.04 147.482 1171.21 Q150.862 1174.38 150.862 1179.8 Q150.862 1185.38 147.39 1188.48 Q143.918 1191.56 137.598 1191.56 Q135.422 1191.56 133.154 1191.19 Q130.908 1190.82 128.501 1190.08 L128.501 1185.38 Q130.584 1186.51 132.807 1187.07 Q135.029 1187.62 137.506 1187.62 Q141.51 1187.62 143.848 1185.52 Q146.186 1183.41 146.186 1179.8 Q146.186 1176.19 143.848 1174.08 Q141.51 1171.98 137.506 1171.98 Q135.631 1171.98 133.756 1172.39 Q131.904 1172.81 129.959 1173.69 L129.959 1156.33 Z\" fill=\"#000000\" fill-rule=\"evenodd\" fill-opacity=\"1\" /><path clip-path=\"url(#clip440)\" d=\"M 0 0 M76.1634 887.296 Q72.5523 887.296 70.7236 890.861 Q68.918 894.403 68.918 901.532 Q68.918 908.639 70.7236 912.203 Q72.5523 915.745 76.1634 915.745 Q79.7976 915.745 81.6031 912.203 Q83.4318 908.639 83.4318 901.532 Q83.4318 894.403 81.6031 890.861 Q79.7976 887.296 76.1634 887.296 M76.1634 883.592 Q81.9735 883.592 85.029 888.199 Q88.1077 892.782 88.1077 901.532 Q88.1077 910.259 85.029 914.865 Q81.9735 919.449 76.1634 919.449 Q70.3532 919.449 67.2745 914.865 Q64.219 910.259 64.219 901.532 Q64.219 892.782 67.2745 888.199 Q70.3532 883.592 76.1634 883.592 Z\" fill=\"#000000\" fill-rule=\"evenodd\" fill-opacity=\"1\" /><path clip-path=\"url(#clip440)\" d=\"M 0 0 M93.1771 912.898 L98.0614 912.898 L98.0614 918.777 L93.1771 918.777 L93.1771 912.898 Z\" fill=\"#000000\" fill-rule=\"evenodd\" fill-opacity=\"1\" /><path clip-path=\"url(#clip440)\" d=\"M 0 0 M103.941 914.842 L111.58 914.842 L111.58 888.477 L103.27 890.143 L103.27 885.884 L111.534 884.217 L116.209 884.217 L116.209 914.842 L123.848 914.842 L123.848 918.777 L103.941 918.777 L103.941 914.842 Z\" fill=\"#000000\" fill-rule=\"evenodd\" fill-opacity=\"1\" /><path clip-path=\"url(#clip440)\" d=\"M 0 0 M138.918 887.296 Q135.307 887.296 133.478 890.861 Q131.672 894.403 131.672 901.532 Q131.672 908.639 133.478 912.203 Q135.307 915.745 138.918 915.745 Q142.552 915.745 144.357 912.203 Q146.186 908.639 146.186 901.532 Q146.186 894.403 144.357 890.861 Q142.552 887.296 138.918 887.296 M138.918 883.592 Q144.728 883.592 147.783 888.199 Q150.862 892.782 150.862 901.532 Q150.862 910.259 147.783 914.865 Q144.728 919.449 138.918 919.449 Q133.107 919.449 130.029 914.865 Q126.973 910.259 126.973 901.532 Q126.973 892.782 130.029 888.199 Q133.107 883.592 138.918 883.592 Z\" fill=\"#000000\" fill-rule=\"evenodd\" fill-opacity=\"1\" /><path clip-path=\"url(#clip440)\" d=\"M 0 0 M77.1587 615.185 Q73.5476 615.185 71.7189 618.75 Q69.9134 622.292 69.9134 629.421 Q69.9134 636.528 71.7189 640.093 Q73.5476 643.634 77.1587 643.634 Q80.793 643.634 82.5985 640.093 Q84.4272 636.528 84.4272 629.421 Q84.4272 622.292 82.5985 618.75 Q80.793 615.185 77.1587 615.185 M77.1587 611.482 Q82.9689 611.482 86.0244 616.088 Q89.1031 620.672 89.1031 629.421 Q89.1031 638.148 86.0244 642.755 Q82.9689 647.338 77.1587 647.338 Q71.3486 647.338 68.2699 642.755 Q65.2143 638.148 65.2143 629.421 Q65.2143 620.672 68.2699 616.088 Q71.3486 611.482 77.1587 611.482 Z\" fill=\"#000000\" fill-rule=\"evenodd\" fill-opacity=\"1\" /><path clip-path=\"url(#clip440)\" d=\"M 0 0 M94.1725 640.787 L99.0567 640.787 L99.0567 646.667 L94.1725 646.667 L94.1725 640.787 Z\" fill=\"#000000\" fill-rule=\"evenodd\" fill-opacity=\"1\" /><path clip-path=\"url(#clip440)\" d=\"M 0 0 M104.936 642.732 L112.575 642.732 L112.575 616.366 L104.265 618.033 L104.265 613.773 L112.529 612.107 L117.205 612.107 L117.205 642.732 L124.844 642.732 L124.844 646.667 L104.936 646.667 L104.936 642.732 Z\" fill=\"#000000\" fill-rule=\"evenodd\" fill-opacity=\"1\" /><path clip-path=\"url(#clip440)\" d=\"M 0 0 M129.959 612.107 L148.316 612.107 L148.316 616.042 L134.242 616.042 L134.242 624.514 Q135.26 624.167 136.279 624.005 Q137.297 623.82 138.316 623.82 Q144.103 623.82 147.482 626.991 Q150.862 630.162 150.862 635.579 Q150.862 641.158 147.39 644.259 Q143.918 647.338 137.598 647.338 Q135.422 647.338 133.154 646.968 Q130.908 646.597 128.501 645.857 L128.501 641.158 Q130.584 642.292 132.807 642.847 Q135.029 643.403 137.506 643.403 Q141.51 643.403 143.848 641.296 Q146.186 639.19 146.186 635.579 Q146.186 631.968 143.848 629.861 Q141.51 627.755 137.506 627.755 Q135.631 627.755 133.756 628.171 Q131.904 628.588 129.959 629.468 L129.959 612.107 Z\" fill=\"#000000\" fill-rule=\"evenodd\" fill-opacity=\"1\" /><path clip-path=\"url(#clip440)\" d=\"M 0 0 M76.5337 343.075 Q72.9226 343.075 71.0939 346.639 Q69.2884 350.181 69.2884 357.311 Q69.2884 364.417 71.0939 367.982 Q72.9226 371.524 76.5337 371.524 Q80.168 371.524 81.9735 367.982 Q83.8022 364.417 83.8022 357.311 Q83.8022 350.181 81.9735 346.639 Q80.168 343.075 76.5337 343.075 M76.5337 339.371 Q82.3439 339.371 85.3994 343.977 Q88.4781 348.561 88.4781 357.311 Q88.4781 366.038 85.3994 370.644 Q82.3439 375.227 76.5337 375.227 Q70.7236 375.227 67.6449 370.644 Q64.5893 366.038 64.5893 357.311 Q64.5893 348.561 67.6449 343.977 Q70.7236 339.371 76.5337 339.371 Z\" fill=\"#000000\" fill-rule=\"evenodd\" fill-opacity=\"1\" /><path clip-path=\"url(#clip440)\" d=\"M 0 0 M93.5475 368.676 L98.4318 368.676 L98.4318 374.556 L93.5475 374.556 L93.5475 368.676 Z\" fill=\"#000000\" fill-rule=\"evenodd\" fill-opacity=\"1\" /><path clip-path=\"url(#clip440)\" d=\"M 0 0 M107.529 370.621 L123.848 370.621 L123.848 374.556 L101.904 374.556 L101.904 370.621 Q104.566 367.866 109.149 363.237 Q113.756 358.584 114.936 357.241 Q117.182 354.718 118.061 352.982 Q118.964 351.223 118.964 349.533 Q118.964 346.778 117.02 345.042 Q115.098 343.306 111.996 343.306 Q109.797 343.306 107.344 344.07 Q104.913 344.834 102.135 346.385 L102.135 341.663 Q104.959 340.528 107.413 339.95 Q109.867 339.371 111.904 339.371 Q117.274 339.371 120.469 342.056 Q123.663 344.741 123.663 349.232 Q123.663 351.362 122.853 353.283 Q122.066 355.181 119.959 357.774 Q119.381 358.445 116.279 361.663 Q113.177 364.857 107.529 370.621 Z\" fill=\"#000000\" fill-rule=\"evenodd\" fill-opacity=\"1\" /><path clip-path=\"url(#clip440)\" d=\"M 0 0 M138.918 343.075 Q135.307 343.075 133.478 346.639 Q131.672 350.181 131.672 357.311 Q131.672 364.417 133.478 367.982 Q135.307 371.524 138.918 371.524 Q142.552 371.524 144.357 367.982 Q146.186 364.417 146.186 357.311 Q146.186 350.181 144.357 346.639 Q142.552 343.075 138.918 343.075 M138.918 339.371 Q144.728 339.371 147.783 343.977 Q150.862 348.561 150.862 357.311 Q150.862 366.038 147.783 370.644 Q144.728 375.227 138.918 375.227 Q133.107 375.227 130.029 370.644 Q126.973 366.038 126.973 357.311 Q126.973 348.561 130.029 343.977 Q133.107 339.371 138.918 339.371 Z\" fill=\"#000000\" fill-rule=\"evenodd\" fill-opacity=\"1\" /><path clip-path=\"url(#clip440)\" d=\"M 0 0 M77.5291 70.9639 Q73.918 70.9639 72.0893 74.5287 Q70.2838 78.0703 70.2838 85.1999 Q70.2838 92.3064 72.0893 95.8712 Q73.918 99.4128 77.5291 99.4128 Q81.1633 99.4128 82.9689 95.8712 Q84.7976 92.3064 84.7976 85.1999 Q84.7976 78.0703 82.9689 74.5287 Q81.1633 70.9639 77.5291 70.9639 M77.5291 67.2602 Q83.3392 67.2602 86.3948 71.8667 Q89.4735 76.45 89.4735 85.1999 Q89.4735 93.9267 86.3948 98.5332 Q83.3392 103.117 77.5291 103.117 Q71.7189 103.117 68.6402 98.5332 Q65.5847 93.9267 65.5847 85.1999 Q65.5847 76.45 68.6402 71.8667 Q71.7189 67.2602 77.5291 67.2602 Z\" fill=\"#000000\" fill-rule=\"evenodd\" fill-opacity=\"1\" /><path clip-path=\"url(#clip440)\" d=\"M 0 0 M94.5429 96.5656 L99.4271 96.5656 L99.4271 102.445 L94.5429 102.445 L94.5429 96.5656 Z\" fill=\"#000000\" fill-rule=\"evenodd\" fill-opacity=\"1\" /><path clip-path=\"url(#clip440)\" d=\"M 0 0 M108.524 98.5101 L124.844 98.5101 L124.844 102.445 L102.899 102.445 L102.899 98.5101 Q105.561 95.7554 110.145 91.1258 Q114.751 86.4731 115.932 85.1305 Q118.177 82.6074 119.057 80.8713 Q119.959 79.112 119.959 77.4222 Q119.959 74.6676 118.015 72.9315 Q116.094 71.1954 112.992 71.1954 Q110.793 71.1954 108.339 71.9593 Q105.909 72.7232 103.131 74.2741 L103.131 69.5519 Q105.955 68.4176 108.409 67.8389 Q110.862 67.2602 112.899 67.2602 Q118.27 67.2602 121.464 69.9454 Q124.658 72.6306 124.658 77.1213 Q124.658 79.2509 123.848 81.1722 Q123.061 83.0703 120.955 85.6629 Q120.376 86.3342 117.274 89.5518 Q114.172 92.7462 108.524 98.5101 Z\" fill=\"#000000\" fill-rule=\"evenodd\" fill-opacity=\"1\" /><path clip-path=\"url(#clip440)\" d=\"M 0 0 M129.959 67.8852 L148.316 67.8852 L148.316 71.8204 L134.242 71.8204 L134.242 80.2926 Q135.26 79.9453 136.279 79.7833 Q137.297 79.5981 138.316 79.5981 Q144.103 79.5981 147.482 82.7694 Q150.862 85.9407 150.862 91.3573 Q150.862 96.936 147.39 100.038 Q143.918 103.117 137.598 103.117 Q135.422 103.117 133.154 102.746 Q130.908 102.376 128.501 101.635 L128.501 96.936 Q130.584 98.0702 132.807 98.6258 Q135.029 99.1813 137.506 99.1813 Q141.51 99.1813 143.848 97.0749 Q146.186 94.9684 146.186 91.3573 Q146.186 87.7462 143.848 85.6397 Q141.51 83.5333 137.506 83.5333 Q135.631 83.5333 133.756 83.9499 Q131.904 84.3666 129.959 85.2462 L129.959 67.8852 Z\" fill=\"#000000\" fill-rule=\"evenodd\" fill-opacity=\"1\" /><polyline clip-path=\"url(#clip442)\" style=\"stroke:#009af9; stroke-width:4; stroke-opacity:1; fill:none\" points=\"\n",
       "  236.501,98.7708 277.593,236.698 318.685,260.758 359.778,295.952 400.87,341.258 441.962,395.387 483.055,456.853 524.147,524.031 565.239,595.236 606.332,668.788 \n",
       "  647.424,743.077 688.516,816.617 729.609,888.092 770.701,956.39 811.793,1020.62 852.886,1080.11 893.978,1134.41 935.07,1183.31 976.163,1226.73 1017.25,1264.8 \n",
       "  1058.35,1297.74 1099.44,1325.9 1140.53,1349.67 1181.62,1369.49 1222.72,1385.83 1263.81,1399.14 1304.9,1409.85 1345.99,1418.37 1387.09,1425.08 1428.18,1430.3 \n",
       "  1469.27,1434.31 1510.36,1437.37 1551.46,1439.66 1592.55,1441.37 1633.64,1442.63 1674.73,1443.55 1715.82,1444.21 1756.92,1444.68 1798.01,1445.01 1839.1,1445.24 \n",
       "  1880.19,1445.4 1921.29,1445.51 1962.38,1445.58 2003.47,1445.63 2044.56,1445.66 2085.66,1445.68 2126.75,1445.7 2167.84,1445.7 2208.93,1445.71 2250.03,1445.71 \n",
       "  2291.12,1445.72 \n",
       "  \"/>\n",
       "<polyline clip-path=\"url(#clip442)\" style=\"stroke:#e26f46; stroke-width:4; stroke-opacity:1; fill:none\" points=\"\n",
       "  236.501,98.7708 277.593,87.9763 318.685,125.921 359.778,102.602 400.87,89.5244 441.962,121.432 483.055,166.764 524.147,154.912 565.239,117.368 606.332,148.77 \n",
       "  647.424,178.491 688.516,173.857 729.609,148.459 770.701,119.601 811.793,174.201 852.886,96.4095 893.978,99.9282 935.07,118.643 976.163,104.757 1017.25,149.932 \n",
       "  1058.35,281.629 1099.44,270.988 1140.53,213.975 1181.62,223.746 1222.72,213.975 1263.81,345.584 1304.9,425.304 1345.99,616.632 1387.09,568.705 1428.18,450.966 \n",
       "  1469.27,484.355 1510.36,386.464 1551.46,456.928 1592.55,703.073 1633.64,589.265 1674.73,616.632 1715.82,705.068 1756.92,529.428 1798.01,425.304 1839.1,484.355 \n",
       "  1880.19,425.304 1921.29,498.261 1962.38,587.853 2003.47,487.03 2044.56,425.304 2085.66,341.389 2126.75,295.149 2167.84,183.785 2208.93,299.117 2250.03,209.16 \n",
       "  2291.12,224.486 \n",
       "  \"/>\n",
       "<path clip-path=\"url(#clip440)\" d=\"\n",
       "M1762.41 276.658 L2280.16 276.658 L2280.16 95.2176 L1762.41 95.2176  Z\n",
       "  \" fill=\"#ffffff\" fill-rule=\"evenodd\" fill-opacity=\"1\"/>\n",
       "<polyline clip-path=\"url(#clip440)\" style=\"stroke:#000000; stroke-width:4; stroke-opacity:1; fill:none\" points=\"\n",
       "  1762.41,276.658 2280.16,276.658 2280.16,95.2176 1762.41,95.2176 1762.41,276.658 \n",
       "  \"/>\n",
       "<polyline clip-path=\"url(#clip440)\" style=\"stroke:#009af9; stroke-width:4; stroke-opacity:1; fill:none\" points=\"\n",
       "  1786.61,155.698 1931.8,155.698 \n",
       "  \"/>\n",
       "<path clip-path=\"url(#clip440)\" d=\"M 0 0 M1960.68 142.26 L1960.68 169.135 L1966.32 169.135 Q1973.48 169.135 1976.79 165.894 Q1980.12 162.654 1980.12 155.663 Q1980.12 148.718 1976.79 145.501 Q1973.48 142.26 1966.32 142.26 L1960.68 142.26 M1956 138.418 L1965.61 138.418 Q1975.65 138.418 1980.35 142.607 Q1985.05 146.774 1985.05 155.663 Q1985.05 164.598 1980.33 168.788 Q1975.61 172.978 1965.61 172.978 L1956 172.978 L1956 138.418 Z\" fill=\"#000000\" fill-rule=\"evenodd\" fill-opacity=\"1\" /><path clip-path=\"url(#clip440)\" d=\"M 0 0 M2011.69 158.95 L2011.69 161.033 L1992.11 161.033 Q1992.39 165.431 1994.75 167.746 Q1997.13 170.038 2001.37 170.038 Q2003.82 170.038 2006.11 169.436 Q2008.43 168.834 2010.7 167.63 L2010.7 171.658 Q2008.41 172.63 2006 173.14 Q2003.59 173.649 2001.11 173.649 Q1994.91 173.649 1991.28 170.038 Q1987.67 166.427 1987.67 160.269 Q1987.67 153.904 1991.09 150.177 Q1994.54 146.427 2000.37 146.427 Q2005.61 146.427 2008.64 149.806 Q2011.69 153.163 2011.69 158.95 M2007.43 157.7 Q2007.39 154.205 2005.47 152.121 Q2003.57 150.038 2000.42 150.038 Q1996.86 150.038 1994.7 152.052 Q1992.57 154.066 1992.25 157.723 L2007.43 157.7 Z\" fill=\"#000000\" fill-rule=\"evenodd\" fill-opacity=\"1\" /><path clip-path=\"url(#clip440)\" d=\"M 0 0 M2020.37 139.691 L2020.37 147.052 L2029.15 147.052 L2029.15 150.362 L2020.37 150.362 L2020.37 164.436 Q2020.37 167.607 2021.23 168.51 Q2022.11 169.413 2024.77 169.413 L2029.15 169.413 L2029.15 172.978 L2024.77 172.978 Q2019.84 172.978 2017.97 171.149 Q2016.09 169.297 2016.09 164.436 L2016.09 150.362 L2012.97 150.362 L2012.97 147.052 L2016.09 147.052 L2016.09 139.691 L2020.37 139.691 Z\" fill=\"#000000\" fill-rule=\"evenodd\" fill-opacity=\"1\" /><path clip-path=\"url(#clip440)\" d=\"M 0 0 M2055.79 158.95 L2055.79 161.033 L2036.21 161.033 Q2036.49 165.431 2038.85 167.746 Q2041.23 170.038 2045.47 170.038 Q2047.92 170.038 2050.21 169.436 Q2052.53 168.834 2054.8 167.63 L2054.8 171.658 Q2052.5 172.63 2050.1 173.14 Q2047.69 173.649 2045.21 173.649 Q2039.01 173.649 2035.37 170.038 Q2031.76 166.427 2031.76 160.269 Q2031.76 153.904 2035.19 150.177 Q2038.64 146.427 2044.47 146.427 Q2049.7 146.427 2052.73 149.806 Q2055.79 153.163 2055.79 158.95 M2051.53 157.7 Q2051.48 154.205 2049.56 152.121 Q2047.67 150.038 2044.52 150.038 Q2040.95 150.038 2038.8 152.052 Q2036.67 154.066 2036.35 157.723 L2051.53 157.7 Z\" fill=\"#000000\" fill-rule=\"evenodd\" fill-opacity=\"1\" /><path clip-path=\"url(#clip440)\" d=\"M 0 0 M2075.28 151.033 Q2074.56 150.617 2073.71 150.431 Q2072.87 150.223 2071.86 150.223 Q2068.24 150.223 2066.3 152.584 Q2064.38 154.922 2064.38 159.32 L2064.38 172.978 L2060.1 172.978 L2060.1 147.052 L2064.38 147.052 L2064.38 151.08 Q2065.72 148.718 2067.87 147.584 Q2070.03 146.427 2073.11 146.427 Q2073.55 146.427 2074.08 146.496 Q2074.61 146.543 2075.26 146.658 L2075.28 151.033 Z\" fill=\"#000000\" fill-rule=\"evenodd\" fill-opacity=\"1\" /><path clip-path=\"url(#clip440)\" d=\"M 0 0 M2099.1 152.029 Q2100.7 149.158 2102.92 147.793 Q2105.14 146.427 2108.15 146.427 Q2112.2 146.427 2114.4 149.274 Q2116.6 152.098 2116.6 157.329 L2116.6 172.978 L2112.32 172.978 L2112.32 157.468 Q2112.32 153.742 2111 151.936 Q2109.68 150.13 2106.97 150.13 Q2103.66 150.13 2101.74 152.33 Q2099.82 154.529 2099.82 158.325 L2099.82 172.978 L2095.54 172.978 L2095.54 157.468 Q2095.54 153.718 2094.22 151.936 Q2092.9 150.13 2090.14 150.13 Q2086.88 150.13 2084.96 152.353 Q2083.04 154.552 2083.04 158.325 L2083.04 172.978 L2078.75 172.978 L2078.75 147.052 L2083.04 147.052 L2083.04 151.08 Q2084.49 148.695 2086.53 147.561 Q2088.57 146.427 2091.37 146.427 Q2094.19 146.427 2096.16 147.862 Q2098.15 149.297 2099.1 152.029 Z\" fill=\"#000000\" fill-rule=\"evenodd\" fill-opacity=\"1\" /><path clip-path=\"url(#clip440)\" d=\"M 0 0 M2121.07 147.052 L2125.33 147.052 L2125.33 172.978 L2121.07 172.978 L2121.07 147.052 M2121.07 136.959 L2125.33 136.959 L2125.33 142.353 L2121.07 142.353 L2121.07 136.959 Z\" fill=\"#000000\" fill-rule=\"evenodd\" fill-opacity=\"1\" /><path clip-path=\"url(#clip440)\" d=\"M 0 0 M2151.35 157.329 L2151.35 172.978 L2147.09 172.978 L2147.09 157.468 Q2147.09 153.788 2145.65 151.959 Q2144.22 150.13 2141.35 150.13 Q2137.9 150.13 2135.91 152.33 Q2133.92 154.529 2133.92 158.325 L2133.92 172.978 L2129.63 172.978 L2129.63 147.052 L2133.92 147.052 L2133.92 151.08 Q2135.44 148.742 2137.5 147.584 Q2139.59 146.427 2142.29 146.427 Q2146.76 146.427 2149.05 149.205 Q2151.35 151.959 2151.35 157.329 Z\" fill=\"#000000\" fill-rule=\"evenodd\" fill-opacity=\"1\" /><path clip-path=\"url(#clip440)\" d=\"M 0 0 M2155.81 147.052 L2160.07 147.052 L2160.07 172.978 L2155.81 172.978 L2155.81 147.052 M2155.81 136.959 L2160.07 136.959 L2160.07 142.353 L2155.81 142.353 L2155.81 136.959 Z\" fill=\"#000000\" fill-rule=\"evenodd\" fill-opacity=\"1\" /><path clip-path=\"url(#clip440)\" d=\"M 0 0 M2181.07 147.816 L2181.07 151.843 Q2179.26 150.917 2177.32 150.455 Q2175.37 149.992 2173.29 149.992 Q2170.12 149.992 2168.52 150.964 Q2166.95 151.936 2166.95 153.88 Q2166.95 155.362 2168.08 156.218 Q2169.22 157.052 2172.64 157.816 L2174.1 158.14 Q2178.64 159.112 2180.54 160.894 Q2182.46 162.654 2182.46 165.825 Q2182.46 169.436 2179.59 171.542 Q2176.74 173.649 2171.74 173.649 Q2169.66 173.649 2167.39 173.232 Q2165.14 172.839 2162.64 172.028 L2162.64 167.63 Q2165 168.857 2167.29 169.482 Q2169.59 170.084 2171.83 170.084 Q2174.84 170.084 2176.46 169.066 Q2178.08 168.024 2178.08 166.149 Q2178.08 164.413 2176.9 163.487 Q2175.74 162.561 2171.79 161.704 L2170.3 161.357 Q2166.35 160.524 2164.59 158.811 Q2162.83 157.075 2162.83 154.066 Q2162.83 150.408 2165.42 148.418 Q2168.01 146.427 2172.78 146.427 Q2175.14 146.427 2177.23 146.774 Q2179.31 147.121 2181.07 147.816 Z\" fill=\"#000000\" fill-rule=\"evenodd\" fill-opacity=\"1\" /><path clip-path=\"url(#clip440)\" d=\"M 0 0 M2191.14 139.691 L2191.14 147.052 L2199.91 147.052 L2199.91 150.362 L2191.14 150.362 L2191.14 164.436 Q2191.14 167.607 2191.99 168.51 Q2192.87 169.413 2195.54 169.413 L2199.91 169.413 L2199.91 172.978 L2195.54 172.978 Q2190.6 172.978 2188.73 171.149 Q2186.85 169.297 2186.85 164.436 L2186.85 150.362 L2183.73 150.362 L2183.73 147.052 L2186.85 147.052 L2186.85 139.691 L2191.14 139.691 Z\" fill=\"#000000\" fill-rule=\"evenodd\" fill-opacity=\"1\" /><path clip-path=\"url(#clip440)\" d=\"M 0 0 M2204.38 147.052 L2208.64 147.052 L2208.64 172.978 L2204.38 172.978 L2204.38 147.052 M2204.38 136.959 L2208.64 136.959 L2208.64 142.353 L2204.38 142.353 L2204.38 136.959 Z\" fill=\"#000000\" fill-rule=\"evenodd\" fill-opacity=\"1\" /><path clip-path=\"url(#clip440)\" d=\"M 0 0 M2231.76 148.047 L2231.76 152.029 Q2229.96 151.033 2228.13 150.547 Q2226.32 150.038 2224.47 150.038 Q2220.33 150.038 2218.04 152.677 Q2215.74 155.292 2215.74 160.038 Q2215.74 164.783 2218.04 167.422 Q2220.33 170.038 2224.47 170.038 Q2226.32 170.038 2228.13 169.552 Q2229.96 169.042 2231.76 168.047 L2231.76 171.982 Q2229.98 172.816 2228.06 173.232 Q2226.16 173.649 2224.01 173.649 Q2218.15 173.649 2214.7 169.968 Q2211.25 166.288 2211.25 160.038 Q2211.25 153.695 2214.72 150.061 Q2218.22 146.427 2224.28 146.427 Q2226.25 146.427 2228.13 146.843 Q2230 147.237 2231.76 148.047 Z\" fill=\"#000000\" fill-rule=\"evenodd\" fill-opacity=\"1\" /><polyline clip-path=\"url(#clip440)\" style=\"stroke:#e26f46; stroke-width:4; stroke-opacity:1; fill:none\" points=\"\n",
       "  1786.61,216.178 1931.8,216.178 \n",
       "  \"/>\n",
       "<path clip-path=\"url(#clip440)\" d=\"M 0 0 M1978.24 200.032 L1978.24 204.592 Q1975.58 203.319 1973.22 202.694 Q1970.86 202.069 1968.66 202.069 Q1964.84 202.069 1962.76 203.55 Q1960.7 205.032 1960.7 207.763 Q1960.7 210.055 1962.06 211.235 Q1963.45 212.393 1967.3 213.11 L1970.12 213.689 Q1975.35 214.685 1977.83 217.208 Q1980.33 219.708 1980.33 223.921 Q1980.33 228.944 1976.95 231.536 Q1973.59 234.129 1967.09 234.129 Q1964.63 234.129 1961.86 233.573 Q1959.1 233.018 1956.14 231.93 L1956.14 227.115 Q1958.99 228.712 1961.72 229.522 Q1964.45 230.333 1967.09 230.333 Q1971.09 230.333 1973.27 228.759 Q1975.44 227.184 1975.44 224.268 Q1975.44 221.722 1973.87 220.286 Q1972.32 218.851 1968.75 218.134 L1965.91 217.578 Q1960.68 216.536 1958.34 214.314 Q1956 212.092 1956 208.134 Q1956 203.55 1959.22 200.911 Q1962.46 198.273 1968.13 198.273 Q1970.56 198.273 1973.08 198.712 Q1975.61 199.152 1978.24 200.032 Z\" fill=\"#000000\" fill-rule=\"evenodd\" fill-opacity=\"1\" /><path clip-path=\"url(#clip440)\" d=\"M 0 0 M1984.8 207.532 L1989.05 207.532 L1989.05 233.458 L1984.8 233.458 L1984.8 207.532 M1984.8 197.439 L1989.05 197.439 L1989.05 202.833 L1984.8 202.833 L1984.8 197.439 Z\" fill=\"#000000\" fill-rule=\"evenodd\" fill-opacity=\"1\" /><path clip-path=\"url(#clip440)\" d=\"M 0 0 M2013.71 212.509 Q2015.3 209.638 2017.53 208.273 Q2019.75 206.907 2022.76 206.907 Q2026.81 206.907 2029.01 209.754 Q2031.21 212.578 2031.21 217.809 L2031.21 233.458 L2026.92 233.458 L2026.92 217.948 Q2026.92 214.222 2025.61 212.416 Q2024.29 210.61 2021.58 210.61 Q2018.27 210.61 2016.35 212.81 Q2014.43 215.009 2014.43 218.805 L2014.43 233.458 L2010.14 233.458 L2010.14 217.948 Q2010.14 214.198 2008.82 212.416 Q2007.5 210.61 2004.75 210.61 Q2001.49 210.61 1999.56 212.833 Q1997.64 215.032 1997.64 218.805 L1997.64 233.458 L1993.36 233.458 L1993.36 207.532 L1997.64 207.532 L1997.64 211.56 Q1999.1 209.175 2001.14 208.041 Q2003.18 206.907 2005.98 206.907 Q2008.8 206.907 2010.77 208.342 Q2012.76 209.777 2013.71 212.509 Z\" fill=\"#000000\" fill-rule=\"evenodd\" fill-opacity=\"1\" /><path clip-path=\"url(#clip440)\" d=\"M 0 0 M2035.24 223.226 L2035.24 207.532 L2039.49 207.532 L2039.49 223.064 Q2039.49 226.745 2040.93 228.596 Q2042.36 230.425 2045.24 230.425 Q2048.68 230.425 2050.67 228.226 Q2052.69 226.027 2052.69 222.231 L2052.69 207.532 L2056.95 207.532 L2056.95 233.458 L2052.69 233.458 L2052.69 229.476 Q2051.14 231.837 2049.08 232.995 Q2047.04 234.129 2044.33 234.129 Q2039.86 234.129 2037.55 231.351 Q2035.24 228.573 2035.24 223.226 M2045.95 206.907 L2045.95 206.907 Z\" fill=\"#000000\" fill-rule=\"evenodd\" fill-opacity=\"1\" /><path clip-path=\"url(#clip440)\" d=\"M 0 0 M2061.42 197.439 L2065.67 197.439 L2065.67 233.458 L2061.42 233.458 L2061.42 197.439 Z\" fill=\"#000000\" fill-rule=\"evenodd\" fill-opacity=\"1\" /><path clip-path=\"url(#clip440)\" d=\"M 0 0 M2081.92 220.425 Q2076.76 220.425 2074.77 221.606 Q2072.78 222.786 2072.78 225.634 Q2072.78 227.902 2074.26 229.245 Q2075.77 230.564 2078.34 230.564 Q2081.88 230.564 2084.01 228.064 Q2086.16 225.541 2086.16 221.374 L2086.16 220.425 L2081.92 220.425 M2090.42 218.666 L2090.42 233.458 L2086.16 233.458 L2086.16 229.522 Q2084.7 231.883 2082.53 233.018 Q2080.35 234.129 2077.2 234.129 Q2073.22 234.129 2070.86 231.907 Q2068.52 229.661 2068.52 225.911 Q2068.52 221.536 2071.44 219.314 Q2074.38 217.092 2080.19 217.092 L2086.16 217.092 L2086.16 216.675 Q2086.16 213.735 2084.22 212.138 Q2082.3 210.518 2078.8 210.518 Q2076.58 210.518 2074.47 211.05 Q2072.36 211.583 2070.42 212.647 L2070.42 208.712 Q2072.76 207.81 2074.96 207.37 Q2077.16 206.907 2079.24 206.907 Q2084.86 206.907 2087.64 209.823 Q2090.42 212.74 2090.42 218.666 Z\" fill=\"#000000\" fill-rule=\"evenodd\" fill-opacity=\"1\" /><path clip-path=\"url(#clip440)\" d=\"M 0 0 M2099.1 200.171 L2099.1 207.532 L2107.87 207.532 L2107.87 210.842 L2099.1 210.842 L2099.1 224.916 Q2099.1 228.087 2099.96 228.99 Q2100.84 229.893 2103.5 229.893 L2107.87 229.893 L2107.87 233.458 L2103.5 233.458 Q2098.57 233.458 2096.69 231.629 Q2094.82 229.777 2094.82 224.916 L2094.82 210.842 L2091.69 210.842 L2091.69 207.532 L2094.82 207.532 L2094.82 200.171 L2099.1 200.171 Z\" fill=\"#000000\" fill-rule=\"evenodd\" fill-opacity=\"1\" /><path clip-path=\"url(#clip440)\" d=\"M 0 0 M2112.34 207.532 L2116.6 207.532 L2116.6 233.458 L2112.34 233.458 L2112.34 207.532 M2112.34 197.439 L2116.6 197.439 L2116.6 202.833 L2112.34 202.833 L2112.34 197.439 Z\" fill=\"#000000\" fill-rule=\"evenodd\" fill-opacity=\"1\" /><path clip-path=\"url(#clip440)\" d=\"M 0 0 M2131.11 210.518 Q2127.69 210.518 2125.7 213.203 Q2123.71 215.865 2123.71 220.518 Q2123.71 225.171 2125.67 227.856 Q2127.67 230.518 2131.11 230.518 Q2134.52 230.518 2136.51 227.833 Q2138.5 225.147 2138.5 220.518 Q2138.5 215.911 2136.51 213.226 Q2134.52 210.518 2131.11 210.518 M2131.11 206.907 Q2136.67 206.907 2139.84 210.518 Q2143.01 214.129 2143.01 220.518 Q2143.01 226.884 2139.84 230.518 Q2136.67 234.129 2131.11 234.129 Q2125.54 234.129 2122.36 230.518 Q2119.22 226.884 2119.22 220.518 Q2119.22 214.129 2122.36 210.518 Q2125.54 206.907 2131.11 206.907 Z\" fill=\"#000000\" fill-rule=\"evenodd\" fill-opacity=\"1\" /><path clip-path=\"url(#clip440)\" d=\"M 0 0 M2169.03 217.809 L2169.03 233.458 L2164.77 233.458 L2164.77 217.948 Q2164.77 214.268 2163.34 212.439 Q2161.9 210.61 2159.03 210.61 Q2155.58 210.61 2153.59 212.81 Q2151.6 215.009 2151.6 218.805 L2151.6 233.458 L2147.32 233.458 L2147.32 207.532 L2151.6 207.532 L2151.6 211.56 Q2153.13 209.222 2155.19 208.064 Q2157.27 206.907 2159.98 206.907 Q2164.45 206.907 2166.74 209.685 Q2169.03 212.439 2169.03 217.809 Z\" fill=\"#000000\" fill-rule=\"evenodd\" fill-opacity=\"1\" /></svg>\n"
      ]
     },
     "execution_count": 94,
     "metadata": {},
     "output_type": "execute_result"
    }
   ],
   "source": [
    "plot(H_series, label = \"Deterministic\")\n",
    "plot!(H_sim, label = \"Simulation\")"
   ]
  },
  {
   "cell_type": "code",
   "execution_count": 102,
   "metadata": {},
   "outputs": [
    {
     "data": {
      "image/svg+xml": [
       "<?xml version=\"1.0\" encoding=\"utf-8\"?>\n",
       "<svg xmlns=\"http://www.w3.org/2000/svg\" xmlns:xlink=\"http://www.w3.org/1999/xlink\" width=\"600\" height=\"400\" viewBox=\"0 0 2400 1600\">\n",
       "<defs>\n",
       "  <clipPath id=\"clip560\">\n",
       "    <rect x=\"0\" y=\"0\" width=\"2400\" height=\"1600\"/>\n",
       "  </clipPath>\n",
       "</defs>\n",
       "<path clip-path=\"url(#clip560)\" d=\"\n",
       "M0 1600 L2400 1600 L2400 0 L0 0  Z\n",
       "  \" fill=\"#ffffff\" fill-rule=\"evenodd\" fill-opacity=\"1\"/>\n",
       "<defs>\n",
       "  <clipPath id=\"clip561\">\n",
       "    <rect x=\"480\" y=\"0\" width=\"1681\" height=\"1600\"/>\n",
       "  </clipPath>\n",
       "</defs>\n",
       "<path clip-path=\"url(#clip560)\" d=\"\n",
       "M174.862 1486.45 L2352.76 1486.45 L2352.76 47.2441 L174.862 47.2441  Z\n",
       "  \" fill=\"#ffffff\" fill-rule=\"evenodd\" fill-opacity=\"1\"/>\n",
       "<defs>\n",
       "  <clipPath id=\"clip562\">\n",
       "    <rect x=\"174\" y=\"47\" width=\"2179\" height=\"1440\"/>\n",
       "  </clipPath>\n",
       "</defs>\n",
       "<polyline clip-path=\"url(#clip562)\" style=\"stroke:#000000; stroke-width:2; stroke-opacity:0.1; fill:none\" points=\"\n",
       "  195.408,1486.45 195.408,47.2441 \n",
       "  \"/>\n",
       "<polyline clip-path=\"url(#clip562)\" style=\"stroke:#000000; stroke-width:2; stroke-opacity:0.1; fill:none\" points=\"\n",
       "  606.332,1486.45 606.332,47.2441 \n",
       "  \"/>\n",
       "<polyline clip-path=\"url(#clip562)\" style=\"stroke:#000000; stroke-width:2; stroke-opacity:0.1; fill:none\" points=\"\n",
       "  1017.25,1486.45 1017.25,47.2441 \n",
       "  \"/>\n",
       "<polyline clip-path=\"url(#clip562)\" style=\"stroke:#000000; stroke-width:2; stroke-opacity:0.1; fill:none\" points=\"\n",
       "  1428.18,1486.45 1428.18,47.2441 \n",
       "  \"/>\n",
       "<polyline clip-path=\"url(#clip562)\" style=\"stroke:#000000; stroke-width:2; stroke-opacity:0.1; fill:none\" points=\"\n",
       "  1839.1,1486.45 1839.1,47.2441 \n",
       "  \"/>\n",
       "<polyline clip-path=\"url(#clip562)\" style=\"stroke:#000000; stroke-width:2; stroke-opacity:0.1; fill:none\" points=\"\n",
       "  2250.03,1486.45 2250.03,47.2441 \n",
       "  \"/>\n",
       "<polyline clip-path=\"url(#clip562)\" style=\"stroke:#000000; stroke-width:2; stroke-opacity:0.1; fill:none\" points=\"\n",
       "  174.862,1445.72 2352.76,1445.72 \n",
       "  \"/>\n",
       "<polyline clip-path=\"url(#clip562)\" style=\"stroke:#000000; stroke-width:2; stroke-opacity:0.1; fill:none\" points=\"\n",
       "  174.862,1174.17 2352.76,1174.17 \n",
       "  \"/>\n",
       "<polyline clip-path=\"url(#clip562)\" style=\"stroke:#000000; stroke-width:2; stroke-opacity:0.1; fill:none\" points=\"\n",
       "  174.862,902.62 2352.76,902.62 \n",
       "  \"/>\n",
       "<polyline clip-path=\"url(#clip562)\" style=\"stroke:#000000; stroke-width:2; stroke-opacity:0.1; fill:none\" points=\"\n",
       "  174.862,631.072 2352.76,631.072 \n",
       "  \"/>\n",
       "<polyline clip-path=\"url(#clip562)\" style=\"stroke:#000000; stroke-width:2; stroke-opacity:0.1; fill:none\" points=\"\n",
       "  174.862,359.524 2352.76,359.524 \n",
       "  \"/>\n",
       "<polyline clip-path=\"url(#clip562)\" style=\"stroke:#000000; stroke-width:2; stroke-opacity:0.1; fill:none\" points=\"\n",
       "  174.862,87.9763 2352.76,87.9763 \n",
       "  \"/>\n",
       "<polyline clip-path=\"url(#clip560)\" style=\"stroke:#000000; stroke-width:4; stroke-opacity:1; fill:none\" points=\"\n",
       "  174.862,1486.45 2352.76,1486.45 \n",
       "  \"/>\n",
       "<polyline clip-path=\"url(#clip560)\" style=\"stroke:#000000; stroke-width:4; stroke-opacity:1; fill:none\" points=\"\n",
       "  174.862,1486.45 174.862,47.2441 \n",
       "  \"/>\n",
       "<polyline clip-path=\"url(#clip560)\" style=\"stroke:#000000; stroke-width:4; stroke-opacity:1; fill:none\" points=\"\n",
       "  195.408,1486.45 195.408,1469.18 \n",
       "  \"/>\n",
       "<polyline clip-path=\"url(#clip560)\" style=\"stroke:#000000; stroke-width:4; stroke-opacity:1; fill:none\" points=\"\n",
       "  606.332,1486.45 606.332,1469.18 \n",
       "  \"/>\n",
       "<polyline clip-path=\"url(#clip560)\" style=\"stroke:#000000; stroke-width:4; stroke-opacity:1; fill:none\" points=\"\n",
       "  1017.25,1486.45 1017.25,1469.18 \n",
       "  \"/>\n",
       "<polyline clip-path=\"url(#clip560)\" style=\"stroke:#000000; stroke-width:4; stroke-opacity:1; fill:none\" points=\"\n",
       "  1428.18,1486.45 1428.18,1469.18 \n",
       "  \"/>\n",
       "<polyline clip-path=\"url(#clip560)\" style=\"stroke:#000000; stroke-width:4; stroke-opacity:1; fill:none\" points=\"\n",
       "  1839.1,1486.45 1839.1,1469.18 \n",
       "  \"/>\n",
       "<polyline clip-path=\"url(#clip560)\" style=\"stroke:#000000; stroke-width:4; stroke-opacity:1; fill:none\" points=\"\n",
       "  2250.03,1486.45 2250.03,1469.18 \n",
       "  \"/>\n",
       "<polyline clip-path=\"url(#clip560)\" style=\"stroke:#000000; stroke-width:4; stroke-opacity:1; fill:none\" points=\"\n",
       "  174.862,1445.72 200.997,1445.72 \n",
       "  \"/>\n",
       "<polyline clip-path=\"url(#clip560)\" style=\"stroke:#000000; stroke-width:4; stroke-opacity:1; fill:none\" points=\"\n",
       "  174.862,1174.17 200.997,1174.17 \n",
       "  \"/>\n",
       "<polyline clip-path=\"url(#clip560)\" style=\"stroke:#000000; stroke-width:4; stroke-opacity:1; fill:none\" points=\"\n",
       "  174.862,902.62 200.997,902.62 \n",
       "  \"/>\n",
       "<polyline clip-path=\"url(#clip560)\" style=\"stroke:#000000; stroke-width:4; stroke-opacity:1; fill:none\" points=\"\n",
       "  174.862,631.072 200.997,631.072 \n",
       "  \"/>\n",
       "<polyline clip-path=\"url(#clip560)\" style=\"stroke:#000000; stroke-width:4; stroke-opacity:1; fill:none\" points=\"\n",
       "  174.862,359.524 200.997,359.524 \n",
       "  \"/>\n",
       "<polyline clip-path=\"url(#clip560)\" style=\"stroke:#000000; stroke-width:4; stroke-opacity:1; fill:none\" points=\"\n",
       "  174.862,87.9763 200.997,87.9763 \n",
       "  \"/>\n",
       "<path clip-path=\"url(#clip560)\" d=\"M 0 0 M195.408 1508.44 Q191.797 1508.44 189.968 1512 Q188.163 1515.55 188.163 1522.67 Q188.163 1529.78 189.968 1533.35 Q191.797 1536.89 195.408 1536.89 Q199.042 1536.89 200.848 1533.35 Q202.677 1529.78 202.677 1522.67 Q202.677 1515.55 200.848 1512 Q199.042 1508.44 195.408 1508.44 M195.408 1504.73 Q201.218 1504.73 204.274 1509.34 Q207.353 1513.92 207.353 1522.67 Q207.353 1531.4 204.274 1536.01 Q201.218 1540.59 195.408 1540.59 Q189.598 1540.59 186.519 1536.01 Q183.464 1531.4 183.464 1522.67 Q183.464 1513.92 186.519 1509.34 Q189.598 1504.73 195.408 1504.73 Z\" fill=\"#000000\" fill-rule=\"evenodd\" fill-opacity=\"1\" /><path clip-path=\"url(#clip560)\" d=\"M 0 0 M583.207 1535.98 L590.846 1535.98 L590.846 1509.62 L582.535 1511.29 L582.535 1507.03 L590.799 1505.36 L595.475 1505.36 L595.475 1535.98 L603.114 1535.98 L603.114 1539.92 L583.207 1539.92 L583.207 1535.98 Z\" fill=\"#000000\" fill-rule=\"evenodd\" fill-opacity=\"1\" /><path clip-path=\"url(#clip560)\" d=\"M 0 0 M618.183 1508.44 Q614.572 1508.44 612.744 1512 Q610.938 1515.55 610.938 1522.67 Q610.938 1529.78 612.744 1533.35 Q614.572 1536.89 618.183 1536.89 Q621.818 1536.89 623.623 1533.35 Q625.452 1529.78 625.452 1522.67 Q625.452 1515.55 623.623 1512 Q621.818 1508.44 618.183 1508.44 M618.183 1504.73 Q623.994 1504.73 627.049 1509.34 Q630.128 1513.92 630.128 1522.67 Q630.128 1531.4 627.049 1536.01 Q623.994 1540.59 618.183 1540.59 Q612.373 1540.59 609.295 1536.01 Q606.239 1531.4 606.239 1522.67 Q606.239 1513.92 609.295 1509.34 Q612.373 1504.73 618.183 1504.73 Z\" fill=\"#000000\" fill-rule=\"evenodd\" fill-opacity=\"1\" /><path clip-path=\"url(#clip560)\" d=\"M 0 0 M998.401 1535.98 L1014.72 1535.98 L1014.72 1539.92 L992.776 1539.92 L992.776 1535.98 Q995.438 1533.23 1000.02 1528.6 Q1004.63 1523.95 1005.81 1522.61 Q1008.05 1520.08 1008.93 1518.35 Q1009.84 1516.59 1009.84 1514.9 Q1009.84 1512.14 1007.89 1510.41 Q1005.97 1508.67 1002.87 1508.67 Q1000.67 1508.67 998.216 1509.43 Q995.785 1510.2 993.007 1511.75 L993.007 1507.03 Q995.831 1505.89 998.285 1505.31 Q1000.74 1504.73 1002.78 1504.73 Q1008.15 1504.73 1011.34 1507.42 Q1014.54 1510.11 1014.54 1514.6 Q1014.54 1516.73 1013.72 1518.65 Q1012.94 1520.54 1010.83 1523.14 Q1010.25 1523.81 1007.15 1527.03 Q1004.05 1530.22 998.401 1535.98 Z\" fill=\"#000000\" fill-rule=\"evenodd\" fill-opacity=\"1\" /><path clip-path=\"url(#clip560)\" d=\"M 0 0 M1029.79 1508.44 Q1026.18 1508.44 1024.35 1512 Q1022.54 1515.55 1022.54 1522.67 Q1022.54 1529.78 1024.35 1533.35 Q1026.18 1536.89 1029.79 1536.89 Q1033.42 1536.89 1035.23 1533.35 Q1037.06 1529.78 1037.06 1522.67 Q1037.06 1515.55 1035.23 1512 Q1033.42 1508.44 1029.79 1508.44 M1029.79 1504.73 Q1035.6 1504.73 1038.66 1509.34 Q1041.73 1513.92 1041.73 1522.67 Q1041.73 1531.4 1038.66 1536.01 Q1035.6 1540.59 1029.79 1540.59 Q1023.98 1540.59 1020.9 1536.01 Q1017.85 1531.4 1017.85 1522.67 Q1017.85 1513.92 1020.9 1509.34 Q1023.98 1504.73 1029.79 1504.73 Z\" fill=\"#000000\" fill-rule=\"evenodd\" fill-opacity=\"1\" /><path clip-path=\"url(#clip560)\" d=\"M 0 0 M1418.92 1521.29 Q1422.28 1522 1424.15 1524.27 Q1426.05 1526.54 1426.05 1529.87 Q1426.05 1534.99 1422.53 1537.79 Q1419.01 1540.59 1412.53 1540.59 Q1410.35 1540.59 1408.04 1540.15 Q1405.75 1539.73 1403.29 1538.88 L1403.29 1534.36 Q1405.24 1535.5 1407.55 1536.08 Q1409.87 1536.66 1412.39 1536.66 Q1416.79 1536.66 1419.08 1534.92 Q1421.4 1533.18 1421.4 1529.87 Q1421.4 1526.82 1419.24 1525.11 Q1417.11 1523.37 1413.29 1523.37 L1409.27 1523.37 L1409.27 1519.53 L1413.48 1519.53 Q1416.93 1519.53 1418.76 1518.16 Q1420.59 1516.77 1420.59 1514.18 Q1420.59 1511.52 1418.69 1510.11 Q1416.81 1508.67 1413.29 1508.67 Q1411.37 1508.67 1409.17 1509.09 Q1406.97 1509.5 1404.34 1510.38 L1404.34 1506.22 Q1407 1505.48 1409.31 1505.11 Q1411.65 1504.73 1413.71 1504.73 Q1419.03 1504.73 1422.14 1507.17 Q1425.24 1509.57 1425.24 1513.69 Q1425.24 1516.56 1423.6 1518.55 Q1421.95 1520.52 1418.92 1521.29 Z\" fill=\"#000000\" fill-rule=\"evenodd\" fill-opacity=\"1\" /><path clip-path=\"url(#clip560)\" d=\"M 0 0 M1441.12 1508.44 Q1437.51 1508.44 1435.68 1512 Q1433.87 1515.55 1433.87 1522.67 Q1433.87 1529.78 1435.68 1533.35 Q1437.51 1536.89 1441.12 1536.89 Q1444.75 1536.89 1446.56 1533.35 Q1448.39 1529.78 1448.39 1522.67 Q1448.39 1515.55 1446.56 1512 Q1444.75 1508.44 1441.12 1508.44 M1441.12 1504.73 Q1446.93 1504.73 1449.98 1509.34 Q1453.06 1513.92 1453.06 1522.67 Q1453.06 1531.4 1449.98 1536.01 Q1446.93 1540.59 1441.12 1540.59 Q1435.31 1540.59 1432.23 1536.01 Q1429.17 1531.4 1429.17 1522.67 Q1429.17 1513.92 1432.23 1509.34 Q1435.31 1504.73 1441.12 1504.73 Z\" fill=\"#000000\" fill-rule=\"evenodd\" fill-opacity=\"1\" /><path clip-path=\"url(#clip560)\" d=\"M 0 0 M1828.6 1509.43 L1816.8 1527.88 L1828.6 1527.88 L1828.6 1509.43 M1827.38 1505.36 L1833.26 1505.36 L1833.26 1527.88 L1838.19 1527.88 L1838.19 1531.77 L1833.26 1531.77 L1833.26 1539.92 L1828.6 1539.92 L1828.6 1531.77 L1813 1531.77 L1813 1527.26 L1827.38 1505.36 Z\" fill=\"#000000\" fill-rule=\"evenodd\" fill-opacity=\"1\" /><path clip-path=\"url(#clip560)\" d=\"M 0 0 M1853.26 1508.44 Q1849.65 1508.44 1847.82 1512 Q1846.01 1515.55 1846.01 1522.67 Q1846.01 1529.78 1847.82 1533.35 Q1849.65 1536.89 1853.26 1536.89 Q1856.89 1536.89 1858.7 1533.35 Q1860.53 1529.78 1860.53 1522.67 Q1860.53 1515.55 1858.7 1512 Q1856.89 1508.44 1853.26 1508.44 M1853.26 1504.73 Q1859.07 1504.73 1862.12 1509.34 Q1865.2 1513.92 1865.2 1522.67 Q1865.2 1531.4 1862.12 1536.01 Q1859.07 1540.59 1853.26 1540.59 Q1847.45 1540.59 1844.37 1536.01 Q1841.31 1531.4 1841.31 1522.67 Q1841.31 1513.92 1844.37 1509.34 Q1847.45 1504.73 1853.26 1504.73 Z\" fill=\"#000000\" fill-rule=\"evenodd\" fill-opacity=\"1\" /><path clip-path=\"url(#clip560)\" d=\"M 0 0 M2226.8 1505.36 L2245.15 1505.36 L2245.15 1509.3 L2231.08 1509.3 L2231.08 1517.77 Q2232.1 1517.42 2233.12 1517.26 Q2234.13 1517.07 2235.15 1517.07 Q2240.94 1517.07 2244.32 1520.24 Q2247.7 1523.42 2247.7 1528.83 Q2247.7 1534.41 2244.23 1537.51 Q2240.75 1540.59 2234.43 1540.59 Q2232.26 1540.59 2229.99 1540.22 Q2227.75 1539.85 2225.34 1539.11 L2225.34 1534.41 Q2227.42 1535.54 2229.64 1536.1 Q2231.87 1536.66 2234.34 1536.66 Q2238.35 1536.66 2240.68 1534.55 Q2243.02 1532.44 2243.02 1528.83 Q2243.02 1525.22 2240.68 1523.11 Q2238.35 1521.01 2234.34 1521.01 Q2232.47 1521.01 2230.59 1521.42 Q2228.74 1521.84 2226.8 1522.72 L2226.8 1505.36 Z\" fill=\"#000000\" fill-rule=\"evenodd\" fill-opacity=\"1\" /><path clip-path=\"url(#clip560)\" d=\"M 0 0 M2262.77 1508.44 Q2259.16 1508.44 2257.33 1512 Q2255.52 1515.55 2255.52 1522.67 Q2255.52 1529.78 2257.33 1533.35 Q2259.16 1536.89 2262.77 1536.89 Q2266.4 1536.89 2268.21 1533.35 Q2270.04 1529.78 2270.04 1522.67 Q2270.04 1515.55 2268.21 1512 Q2266.4 1508.44 2262.77 1508.44 M2262.77 1504.73 Q2268.58 1504.73 2271.63 1509.34 Q2274.71 1513.92 2274.71 1522.67 Q2274.71 1531.4 2271.63 1536.01 Q2268.58 1540.59 2262.77 1540.59 Q2256.96 1540.59 2253.88 1536.01 Q2250.82 1531.4 2250.82 1522.67 Q2250.82 1513.92 2253.88 1509.34 Q2256.96 1504.73 2262.77 1504.73 Z\" fill=\"#000000\" fill-rule=\"evenodd\" fill-opacity=\"1\" /><path clip-path=\"url(#clip560)\" d=\"M 0 0 M74.9365 1431.51 Q71.3254 1431.51 69.4967 1435.08 Q67.6912 1438.62 67.6912 1445.75 Q67.6912 1452.86 69.4967 1456.42 Q71.3254 1459.96 74.9365 1459.96 Q78.5707 1459.96 80.3763 1456.42 Q82.205 1452.86 82.205 1445.75 Q82.205 1438.62 80.3763 1435.08 Q78.5707 1431.51 74.9365 1431.51 M74.9365 1427.81 Q80.7467 1427.81 83.8022 1432.42 Q86.8809 1437 86.8809 1445.75 Q86.8809 1454.48 83.8022 1459.08 Q80.7467 1463.67 74.9365 1463.67 Q69.1264 1463.67 66.0477 1459.08 Q62.9921 1454.48 62.9921 1445.75 Q62.9921 1437 66.0477 1432.42 Q69.1264 1427.81 74.9365 1427.81 Z\" fill=\"#000000\" fill-rule=\"evenodd\" fill-opacity=\"1\" /><path clip-path=\"url(#clip560)\" d=\"M 0 0 M91.9503 1457.12 L96.8345 1457.12 L96.8345 1463 L91.9503 1463 L91.9503 1457.12 Z\" fill=\"#000000\" fill-rule=\"evenodd\" fill-opacity=\"1\" /><path clip-path=\"url(#clip560)\" d=\"M 0 0 M111.904 1431.51 Q108.293 1431.51 106.464 1435.08 Q104.659 1438.62 104.659 1445.75 Q104.659 1452.86 106.464 1456.42 Q108.293 1459.96 111.904 1459.96 Q115.538 1459.96 117.344 1456.42 Q119.172 1452.86 119.172 1445.75 Q119.172 1438.62 117.344 1435.08 Q115.538 1431.51 111.904 1431.51 M111.904 1427.81 Q117.714 1427.81 120.77 1432.42 Q123.848 1437 123.848 1445.75 Q123.848 1454.48 120.77 1459.08 Q117.714 1463.67 111.904 1463.67 Q106.094 1463.67 103.015 1459.08 Q99.9595 1454.48 99.9595 1445.75 Q99.9595 1437 103.015 1432.42 Q106.094 1427.81 111.904 1427.81 Z\" fill=\"#000000\" fill-rule=\"evenodd\" fill-opacity=\"1\" /><path clip-path=\"url(#clip560)\" d=\"M 0 0 M138.918 1431.51 Q135.307 1431.51 133.478 1435.08 Q131.672 1438.62 131.672 1445.75 Q131.672 1452.86 133.478 1456.42 Q135.307 1459.96 138.918 1459.96 Q142.552 1459.96 144.357 1456.42 Q146.186 1452.86 146.186 1445.75 Q146.186 1438.62 144.357 1435.08 Q142.552 1431.51 138.918 1431.51 M138.918 1427.81 Q144.728 1427.81 147.783 1432.42 Q150.862 1437 150.862 1445.75 Q150.862 1454.48 147.783 1459.08 Q144.728 1463.67 138.918 1463.67 Q133.107 1463.67 130.029 1459.08 Q126.973 1454.48 126.973 1445.75 Q126.973 1437 130.029 1432.42 Q133.107 1427.81 138.918 1427.81 Z\" fill=\"#000000\" fill-rule=\"evenodd\" fill-opacity=\"1\" /><path clip-path=\"url(#clip560)\" d=\"M 0 0 M75.9319 1159.97 Q72.3208 1159.97 70.4921 1163.53 Q68.6865 1167.07 68.6865 1174.2 Q68.6865 1181.31 70.4921 1184.87 Q72.3208 1188.42 75.9319 1188.42 Q79.5661 1188.42 81.3717 1184.87 Q83.2004 1181.31 83.2004 1174.2 Q83.2004 1167.07 81.3717 1163.53 Q79.5661 1159.97 75.9319 1159.97 M75.9319 1156.26 Q81.742 1156.26 84.7976 1160.87 Q87.8763 1165.45 87.8763 1174.2 Q87.8763 1182.93 84.7976 1187.54 Q81.742 1192.12 75.9319 1192.12 Q70.1217 1192.12 67.043 1187.54 Q63.9875 1182.93 63.9875 1174.2 Q63.9875 1165.45 67.043 1160.87 Q70.1217 1156.26 75.9319 1156.26 Z\" fill=\"#000000\" fill-rule=\"evenodd\" fill-opacity=\"1\" /><path clip-path=\"url(#clip560)\" d=\"M 0 0 M92.9457 1185.57 L97.8299 1185.57 L97.8299 1191.45 L92.9457 1191.45 L92.9457 1185.57 Z\" fill=\"#000000\" fill-rule=\"evenodd\" fill-opacity=\"1\" /><path clip-path=\"url(#clip560)\" d=\"M 0 0 M112.899 1159.97 Q109.288 1159.97 107.459 1163.53 Q105.654 1167.07 105.654 1174.2 Q105.654 1181.31 107.459 1184.87 Q109.288 1188.42 112.899 1188.42 Q116.534 1188.42 118.339 1184.87 Q120.168 1181.31 120.168 1174.2 Q120.168 1167.07 118.339 1163.53 Q116.534 1159.97 112.899 1159.97 M112.899 1156.26 Q118.709 1156.26 121.765 1160.87 Q124.844 1165.45 124.844 1174.2 Q124.844 1182.93 121.765 1187.54 Q118.709 1192.12 112.899 1192.12 Q107.089 1192.12 104.01 1187.54 Q100.955 1182.93 100.955 1174.2 Q100.955 1165.45 104.01 1160.87 Q107.089 1156.26 112.899 1156.26 Z\" fill=\"#000000\" fill-rule=\"evenodd\" fill-opacity=\"1\" /><path clip-path=\"url(#clip560)\" d=\"M 0 0 M129.959 1156.89 L148.316 1156.89 L148.316 1160.82 L134.242 1160.82 L134.242 1169.3 Q135.26 1168.95 136.279 1168.79 Q137.297 1168.6 138.316 1168.6 Q144.103 1168.6 147.482 1171.77 Q150.862 1174.94 150.862 1180.36 Q150.862 1185.94 147.39 1189.04 Q143.918 1192.12 137.598 1192.12 Q135.422 1192.12 133.154 1191.75 Q130.908 1191.38 128.501 1190.64 L128.501 1185.94 Q130.584 1187.07 132.807 1187.63 Q135.029 1188.18 137.506 1188.18 Q141.51 1188.18 143.848 1186.08 Q146.186 1183.97 146.186 1180.36 Q146.186 1176.75 143.848 1174.64 Q141.51 1172.54 137.506 1172.54 Q135.631 1172.54 133.756 1172.95 Q131.904 1173.37 129.959 1174.25 L129.959 1156.89 Z\" fill=\"#000000\" fill-rule=\"evenodd\" fill-opacity=\"1\" /><path clip-path=\"url(#clip560)\" d=\"M 0 0 M76.1634 888.419 Q72.5523 888.419 70.7236 891.983 Q68.918 895.525 68.918 902.655 Q68.918 909.761 70.7236 913.326 Q72.5523 916.868 76.1634 916.868 Q79.7976 916.868 81.6031 913.326 Q83.4318 909.761 83.4318 902.655 Q83.4318 895.525 81.6031 891.983 Q79.7976 888.419 76.1634 888.419 M76.1634 884.715 Q81.9735 884.715 85.029 889.321 Q88.1077 893.905 88.1077 902.655 Q88.1077 911.381 85.029 915.988 Q81.9735 920.571 76.1634 920.571 Q70.3532 920.571 67.2745 915.988 Q64.219 911.381 64.219 902.655 Q64.219 893.905 67.2745 889.321 Q70.3532 884.715 76.1634 884.715 Z\" fill=\"#000000\" fill-rule=\"evenodd\" fill-opacity=\"1\" /><path clip-path=\"url(#clip560)\" d=\"M 0 0 M93.1771 914.02 L98.0614 914.02 L98.0614 919.9 L93.1771 919.9 L93.1771 914.02 Z\" fill=\"#000000\" fill-rule=\"evenodd\" fill-opacity=\"1\" /><path clip-path=\"url(#clip560)\" d=\"M 0 0 M103.941 915.965 L111.58 915.965 L111.58 889.599 L103.27 891.266 L103.27 887.007 L111.534 885.34 L116.209 885.34 L116.209 915.965 L123.848 915.965 L123.848 919.9 L103.941 919.9 L103.941 915.965 Z\" fill=\"#000000\" fill-rule=\"evenodd\" fill-opacity=\"1\" /><path clip-path=\"url(#clip560)\" d=\"M 0 0 M138.918 888.419 Q135.307 888.419 133.478 891.983 Q131.672 895.525 131.672 902.655 Q131.672 909.761 133.478 913.326 Q135.307 916.868 138.918 916.868 Q142.552 916.868 144.357 913.326 Q146.186 909.761 146.186 902.655 Q146.186 895.525 144.357 891.983 Q142.552 888.419 138.918 888.419 M138.918 884.715 Q144.728 884.715 147.783 889.321 Q150.862 893.905 150.862 902.655 Q150.862 911.381 147.783 915.988 Q144.728 920.571 138.918 920.571 Q133.107 920.571 130.029 915.988 Q126.973 911.381 126.973 902.655 Q126.973 893.905 130.029 889.321 Q133.107 884.715 138.918 884.715 Z\" fill=\"#000000\" fill-rule=\"evenodd\" fill-opacity=\"1\" /><path clip-path=\"url(#clip560)\" d=\"M 0 0 M77.1587 616.871 Q73.5476 616.871 71.7189 620.436 Q69.9134 623.977 69.9134 631.107 Q69.9134 638.213 71.7189 641.778 Q73.5476 645.32 77.1587 645.32 Q80.793 645.32 82.5985 641.778 Q84.4272 638.213 84.4272 631.107 Q84.4272 623.977 82.5985 620.436 Q80.793 616.871 77.1587 616.871 M77.1587 613.167 Q82.9689 613.167 86.0244 617.774 Q89.1031 622.357 89.1031 631.107 Q89.1031 639.834 86.0244 644.44 Q82.9689 649.023 77.1587 649.023 Q71.3486 649.023 68.2699 644.44 Q65.2143 639.834 65.2143 631.107 Q65.2143 622.357 68.2699 617.774 Q71.3486 613.167 77.1587 613.167 Z\" fill=\"#000000\" fill-rule=\"evenodd\" fill-opacity=\"1\" /><path clip-path=\"url(#clip560)\" d=\"M 0 0 M94.1725 642.472 L99.0567 642.472 L99.0567 648.352 L94.1725 648.352 L94.1725 642.472 Z\" fill=\"#000000\" fill-rule=\"evenodd\" fill-opacity=\"1\" /><path clip-path=\"url(#clip560)\" d=\"M 0 0 M104.936 644.417 L112.575 644.417 L112.575 618.051 L104.265 619.718 L104.265 615.459 L112.529 613.792 L117.205 613.792 L117.205 644.417 L124.844 644.417 L124.844 648.352 L104.936 648.352 L104.936 644.417 Z\" fill=\"#000000\" fill-rule=\"evenodd\" fill-opacity=\"1\" /><path clip-path=\"url(#clip560)\" d=\"M 0 0 M129.959 613.792 L148.316 613.792 L148.316 617.727 L134.242 617.727 L134.242 626.199 Q135.26 625.852 136.279 625.69 Q137.297 625.505 138.316 625.505 Q144.103 625.505 147.482 628.676 Q150.862 631.848 150.862 637.264 Q150.862 642.843 147.39 645.945 Q143.918 649.023 137.598 649.023 Q135.422 649.023 133.154 648.653 Q130.908 648.283 128.501 647.542 L128.501 642.843 Q130.584 643.977 132.807 644.533 Q135.029 645.088 137.506 645.088 Q141.51 645.088 143.848 642.982 Q146.186 640.875 146.186 637.264 Q146.186 633.653 143.848 631.547 Q141.51 629.44 137.506 629.44 Q135.631 629.44 133.756 629.857 Q131.904 630.273 129.959 631.153 L129.959 613.792 Z\" fill=\"#000000\" fill-rule=\"evenodd\" fill-opacity=\"1\" /><path clip-path=\"url(#clip560)\" d=\"M 0 0 M76.5337 345.323 Q72.9226 345.323 71.0939 348.888 Q69.2884 352.429 69.2884 359.559 Q69.2884 366.665 71.0939 370.23 Q72.9226 373.772 76.5337 373.772 Q80.168 373.772 81.9735 370.23 Q83.8022 366.665 83.8022 359.559 Q83.8022 352.429 81.9735 348.888 Q80.168 345.323 76.5337 345.323 M76.5337 341.619 Q82.3439 341.619 85.3994 346.226 Q88.4781 350.809 88.4781 359.559 Q88.4781 368.286 85.3994 372.892 Q82.3439 377.475 76.5337 377.475 Q70.7236 377.475 67.6449 372.892 Q64.5893 368.286 64.5893 359.559 Q64.5893 350.809 67.6449 346.226 Q70.7236 341.619 76.5337 341.619 Z\" fill=\"#000000\" fill-rule=\"evenodd\" fill-opacity=\"1\" /><path clip-path=\"url(#clip560)\" d=\"M 0 0 M93.5475 370.925 L98.4318 370.925 L98.4318 376.804 L93.5475 376.804 L93.5475 370.925 Z\" fill=\"#000000\" fill-rule=\"evenodd\" fill-opacity=\"1\" /><path clip-path=\"url(#clip560)\" d=\"M 0 0 M107.529 372.869 L123.848 372.869 L123.848 376.804 L101.904 376.804 L101.904 372.869 Q104.566 370.114 109.149 365.485 Q113.756 360.832 114.936 359.489 Q117.182 356.966 118.061 355.23 Q118.964 353.471 118.964 351.781 Q118.964 349.027 117.02 347.29 Q115.098 345.554 111.996 345.554 Q109.797 345.554 107.344 346.318 Q104.913 347.082 102.135 348.633 L102.135 343.911 Q104.959 342.777 107.413 342.198 Q109.867 341.619 111.904 341.619 Q117.274 341.619 120.469 344.304 Q123.663 346.99 123.663 351.48 Q123.663 353.61 122.853 355.531 Q122.066 357.429 119.959 360.022 Q119.381 360.693 116.279 363.911 Q113.177 367.105 107.529 372.869 Z\" fill=\"#000000\" fill-rule=\"evenodd\" fill-opacity=\"1\" /><path clip-path=\"url(#clip560)\" d=\"M 0 0 M138.918 345.323 Q135.307 345.323 133.478 348.888 Q131.672 352.429 131.672 359.559 Q131.672 366.665 133.478 370.23 Q135.307 373.772 138.918 373.772 Q142.552 373.772 144.357 370.23 Q146.186 366.665 146.186 359.559 Q146.186 352.429 144.357 348.888 Q142.552 345.323 138.918 345.323 M138.918 341.619 Q144.728 341.619 147.783 346.226 Q150.862 350.809 150.862 359.559 Q150.862 368.286 147.783 372.892 Q144.728 377.475 138.918 377.475 Q133.107 377.475 130.029 372.892 Q126.973 368.286 126.973 359.559 Q126.973 350.809 130.029 346.226 Q133.107 341.619 138.918 341.619 Z\" fill=\"#000000\" fill-rule=\"evenodd\" fill-opacity=\"1\" /><path clip-path=\"url(#clip560)\" d=\"M 0 0 M77.5291 73.775 Q73.918 73.775 72.0893 77.3398 Q70.2838 80.8814 70.2838 88.011 Q70.2838 95.1174 72.0893 98.6822 Q73.918 102.224 77.5291 102.224 Q81.1633 102.224 82.9689 98.6822 Q84.7976 95.1174 84.7976 88.011 Q84.7976 80.8814 82.9689 77.3398 Q81.1633 73.775 77.5291 73.775 M77.5291 70.0713 Q83.3392 70.0713 86.3948 74.6777 Q89.4735 79.261 89.4735 88.011 Q89.4735 96.7378 86.3948 101.344 Q83.3392 105.928 77.5291 105.928 Q71.7189 105.928 68.6402 101.344 Q65.5847 96.7378 65.5847 88.011 Q65.5847 79.261 68.6402 74.6777 Q71.7189 70.0713 77.5291 70.0713 Z\" fill=\"#000000\" fill-rule=\"evenodd\" fill-opacity=\"1\" /><path clip-path=\"url(#clip560)\" d=\"M 0 0 M94.5429 99.3767 L99.4271 99.3767 L99.4271 105.256 L94.5429 105.256 L94.5429 99.3767 Z\" fill=\"#000000\" fill-rule=\"evenodd\" fill-opacity=\"1\" /><path clip-path=\"url(#clip560)\" d=\"M 0 0 M108.524 101.321 L124.844 101.321 L124.844 105.256 L102.899 105.256 L102.899 101.321 Q105.561 98.5665 110.145 93.9369 Q114.751 89.2841 115.932 87.9416 Q118.177 85.4184 119.057 83.6823 Q119.959 81.9231 119.959 80.2333 Q119.959 77.4786 118.015 75.7425 Q116.094 74.0064 112.992 74.0064 Q110.793 74.0064 108.339 74.7703 Q105.909 75.5342 103.131 77.0851 L103.131 72.3629 Q105.955 71.2287 108.409 70.65 Q110.862 70.0713 112.899 70.0713 Q118.27 70.0713 121.464 72.7565 Q124.658 75.4416 124.658 79.9323 Q124.658 82.062 123.848 83.9832 Q123.061 85.8814 120.955 88.474 Q120.376 89.1453 117.274 92.3628 Q114.172 95.5573 108.524 101.321 Z\" fill=\"#000000\" fill-rule=\"evenodd\" fill-opacity=\"1\" /><path clip-path=\"url(#clip560)\" d=\"M 0 0 M129.959 70.6963 L148.316 70.6963 L148.316 74.6314 L134.242 74.6314 L134.242 83.1036 Q135.26 82.7564 136.279 82.5944 Q137.297 82.4092 138.316 82.4092 Q144.103 82.4092 147.482 85.5805 Q150.862 88.7517 150.862 94.1684 Q150.862 99.747 147.39 102.849 Q143.918 105.928 137.598 105.928 Q135.422 105.928 133.154 105.557 Q130.908 105.187 128.501 104.446 L128.501 99.747 Q130.584 100.881 132.807 101.437 Q135.029 101.992 137.506 101.992 Q141.51 101.992 143.848 99.8859 Q146.186 97.7795 146.186 94.1684 Q146.186 90.5573 143.848 88.4508 Q141.51 86.3443 137.506 86.3443 Q135.631 86.3443 133.756 86.761 Q131.904 87.1777 129.959 88.0573 L129.959 70.6963 Z\" fill=\"#000000\" fill-rule=\"evenodd\" fill-opacity=\"1\" /><polyline clip-path=\"url(#clip562)\" style=\"stroke:#009af9; stroke-width:4; stroke-opacity:1; fill:none\" points=\"\n",
       "  236.501,101.554 277.593,239.196 318.685,263.206 359.778,298.327 400.87,343.539 441.962,397.557 483.055,458.895 524.147,525.934 565.239,596.992 606.332,670.392 \n",
       "  647.424,744.527 688.516,817.915 729.609,889.242 770.701,957.399 811.793,1021.49 852.886,1080.86 893.978,1135.06 935.07,1183.85 976.163,1227.18 1017.25,1265.17 \n",
       "  1058.35,1298.05 1099.44,1326.14 1140.53,1349.86 1181.62,1369.65 1222.72,1385.95 1263.81,1399.23 1304.9,1409.92 1345.99,1418.43 1387.09,1425.12 1428.18,1430.33 \n",
       "  1469.27,1434.33 1510.36,1437.38 1551.46,1439.67 1592.55,1441.38 1633.64,1442.63 1674.73,1443.55 1715.82,1444.21 1756.92,1444.67 1798.01,1445.01 1839.1,1445.24 \n",
       "  1880.19,1445.39 1921.29,1445.5 1962.38,1445.58 2003.47,1445.63 2044.56,1445.66 2085.66,1445.68 2126.75,1445.69 2167.84,1445.7 2208.93,1445.71 2250.03,1445.71 \n",
       "  2291.12,1445.71 \n",
       "  \"/>\n",
       "<polyline clip-path=\"url(#clip562)\" style=\"stroke:#e26f46; stroke-width:4; stroke-opacity:1; fill:none\" points=\"\n",
       "  236.501,101.554 277.593,112.114 318.685,94.2881 359.778,104.738 400.87,88.9165 441.962,88.7106 483.055,109.191 524.147,176.484 565.239,456.287 606.332,340.628 \n",
       "  647.424,359.032 688.516,344.638 729.609,786.737 770.701,691.416 811.793,887.64 852.886,862.131 893.978,877.813 935.07,851.705 976.163,691.416 1017.25,472.622 \n",
       "  1058.35,576.762 1099.44,521.734 1140.53,539.887 1181.62,769.203 1222.72,560.868 1263.81,442.009 1304.9,452.089 1345.99,377.199 1387.09,495.144 1428.18,460.508 \n",
       "  1469.27,584.37 1510.36,627.607 1551.46,735.289 1592.55,894.723 1633.64,1005.88 1674.73,1219.85 1715.82,1394.96 1756.92,1388.55 1798.01,1445.72 1839.1,1445.72 \n",
       "  1880.19,1445.72 1921.29,1445.72 1962.38,1445.72 2003.47,1445.72 2044.56,1445.72 2085.66,1445.72 2126.75,1445.72 2167.84,1445.72 2208.93,1445.72 2250.03,1445.72 \n",
       "  2291.12,1445.72 \n",
       "  \"/>\n",
       "<polyline clip-path=\"url(#clip562)\" style=\"stroke:#3da44d; stroke-width:4; stroke-opacity:1; fill:none\" points=\"\n",
       "  236.501,101.554 277.593,179.759 318.685,165.616 359.778,125.691 400.87,88.4983 441.962,92.0158 483.055,103.02 524.147,135.709 565.239,285.018 606.332,93.2799 \n",
       "  647.424,124.168 688.516,96.3284 729.609,116.852 770.701,290.655 811.793,244.583 852.886,276.757 893.978,500.218 935.07,555.742 976.163,658.357 1017.25,678.645 \n",
       "  1058.35,691.416 1099.44,559.462 1140.53,439.866 1181.62,364.118 1222.72,327.482 1263.81,309.412 1304.9,256.064 1345.99,287.12 1387.09,549.985 1428.18,388.652 \n",
       "  1469.27,368.501 1510.36,569.035 1551.46,654.29 1592.55,818.138 1633.64,732.316 1674.73,900.493 1715.82,1023.75 1756.92,1000.19 1798.01,929.418 1839.1,1078.58 \n",
       "  1880.19,1005.88 1921.29,1066.77 1962.38,1172.2 2003.47,1233.09 2044.56,1327.71 2085.66,1387.33 2126.75,1445.72 2167.84,1445.72 2208.93,1445.72 2250.03,1445.72 \n",
       "  2291.12,1445.72 \n",
       "  \"/>\n",
       "<polyline clip-path=\"url(#clip562)\" style=\"stroke:#c271d2; stroke-width:4; stroke-opacity:1; fill:none\" points=\"\n",
       "  236.501,101.554 277.593,108.334 318.685,94.2881 359.778,99.1973 400.87,114.722 441.962,135.709 483.055,132.86 524.147,184.527 565.239,205.428 606.332,244.583 \n",
       "  647.424,271.195 688.516,296.779 729.609,387.12 770.701,393.77 811.793,582.93 852.886,385.462 893.978,215.211 935.07,315.201 976.163,300.712 1017.25,457.569 \n",
       "  1058.35,412.493 1099.44,414.723 1140.53,634.788 1181.62,564.768 1222.72,680.688 1263.81,618.343 1304.9,618.343 1345.99,562.063 1387.09,576.762 1428.18,350.835 \n",
       "  1469.27,427.411 1510.36,483.893 1551.46,472.126 1592.55,288.825 1633.64,441.407 1674.73,350.835 1715.82,287.12 1756.92,309.861 1798.01,356.172 1839.1,212.075 \n",
       "  1880.19,92.8641 1921.29,120.112 1962.38,90.4348 2003.47,89.9097 2044.56,96.3284 2085.66,165.616 2126.75,301.135 2167.84,210.173 2208.93,118.094 2250.03,193.717 \n",
       "  2291.12,191.85 \n",
       "  \"/>\n",
       "<polyline clip-path=\"url(#clip562)\" style=\"stroke:#ac8d18; stroke-width:4; stroke-opacity:1; fill:none\" points=\"\n",
       "  236.501,101.554 277.593,100.899 318.685,101.554 359.778,94.9035 400.87,87.9763 441.962,104.018 483.055,108.334 524.147,112.114 565.239,91.2071 606.332,87.9763 \n",
       "  647.424,87.9763 688.516,105.509 729.609,93.0657 770.701,125.691 811.793,146.096 852.886,107.528 893.978,105.509 935.07,90.6582 976.163,87.9763 1017.25,88.3663 \n",
       "  1058.35,95.1577 1099.44,113.555 1140.53,183.544 1181.62,144.525 1222.72,149.642 1263.81,172.835 1304.9,215.211 1345.99,293.313 1387.09,238.836 1428.18,238.836 \n",
       "  1469.27,252.24 1510.36,226.27 1551.46,183.544 1592.55,155.025 1633.64,276.421 1674.73,398.537 1715.82,213.74 1756.92,300.712 1798.01,361.673 1839.1,498.692 \n",
       "  1880.19,494.476 1921.29,544.72 1962.38,682.168 2003.47,827.652 2044.56,909.325 2085.66,905.284 2126.75,863.061 2167.84,820.85 2208.93,826.87 2250.03,738.727 \n",
       "  2291.12,569.035 \n",
       "  \"/>\n",
       "<polyline clip-path=\"url(#clip562)\" style=\"stroke:#00a9ad; stroke-width:4; stroke-opacity:1; fill:none\" points=\"\n",
       "  236.501,101.554 277.593,97.8105 318.685,106.053 359.778,99.7252 400.87,90.5429 441.962,93.508 483.055,112.58 524.147,107.528 565.239,182.714 606.332,222.54 \n",
       "  647.424,200.954 688.516,172.835 729.609,207.174 770.701,218.745 811.793,146.462 852.886,198.812 893.978,226.27 935.07,207.174 976.163,140.177 1017.25,187.567 \n",
       "  1058.35,489.01 1099.44,513.763 1140.53,300.712 1181.62,392.621 1222.72,305.215 1263.81,271.195 1304.9,383.662 1345.99,278.908 1387.09,193.717 1428.18,139.95 \n",
       "  1469.27,200.954 1510.36,162.348 1551.46,90.2382 1592.55,110.103 1633.64,87.9763 1674.73,92.8641 1715.82,88.3942 1756.92,99.7252 1798.01,129.042 1839.1,90.6582 \n",
       "  1880.19,95.2456 1921.29,138.189 1962.38,166.666 2003.47,112.58 2044.56,109.191 2085.66,144.316 2126.75,111.661 2167.84,94.9035 2208.93,92.3265 2250.03,108.334 \n",
       "  2291.12,138.189 \n",
       "  \"/>\n",
       "<polyline clip-path=\"url(#clip562)\" style=\"stroke:#ed5d92; stroke-width:4; stroke-opacity:1; fill:none\" points=\"\n",
       "  236.501,101.554 277.593,90.3335 318.685,134.972 359.778,172.835 400.87,205.428 441.962,232.741 483.055,186.839 524.147,215.211 565.239,182.003 606.332,184.527 \n",
       "  647.424,169.663 688.516,88.5656 729.609,90.2382 770.701,87.9763 811.793,90.0643 852.886,111.661 893.978,106.769 935.07,105.377 976.163,92.4954 1017.25,92.3265 \n",
       "  1058.35,88.6179 1099.44,89.5364 1140.53,92.6743 1181.62,88.6179 1222.72,90.1487 1263.81,102.114 1304.9,187.567 1345.99,258.283 1387.09,104.018 1428.18,129.042 \n",
       "  1469.27,153.894 1510.36,196.731 1551.46,133.781 1592.55,151.139 1633.64,166.666 1674.73,187.827 1715.82,149.44 1756.92,149.44 1798.01,172.835 1839.1,179.237 \n",
       "  1880.19,134.538 1921.29,138.542 1962.38,130.888 2003.47,305.215 2044.56,300.712 2085.66,228.253 2126.75,258.283 2167.84,470.247 2208.93,504.044 2250.03,798.5 \n",
       "  2291.12,745.03 \n",
       "  \"/>\n",
       "<polyline clip-path=\"url(#clip562)\" style=\"stroke:#c68125; stroke-width:4; stroke-opacity:1; fill:none\" points=\"\n",
       "  236.501,101.554 277.593,198.812 318.685,194.957 359.778,273.414 400.87,192.74 441.962,107.753 483.055,159.281 524.147,94.0107 565.239,91.7373 606.332,111.661 \n",
       "  647.424,89.9848 688.516,106.053 729.609,90.9135 770.701,87.9763 811.793,88.6179 852.886,92.6743 893.978,101.554 935.07,130.259 976.163,90.4348 1017.25,93.7512 \n",
       "  1058.35,101.026 1099.44,92.6743 1140.53,93.2799 1181.62,139.95 1222.72,333.832 1263.81,244.931 1304.9,265.607 1345.99,377.199 1387.09,555.742 1428.18,439.426 \n",
       "  1469.27,325.893 1510.36,251.403 1551.46,233.4 1592.55,305.215 1633.64,637.805 1674.73,691.416 1715.82,489.01 1756.92,538.866 1798.01,468.519 1839.1,439.426 \n",
       "  1880.19,563.553 1921.29,646.733 1962.38,402.733 2003.47,702.438 2044.56,691.416 2085.66,769.203 2126.75,679.408 2167.84,851.705 2208.93,900.493 2250.03,904.543 \n",
       "  2291.12,840.91 \n",
       "  \"/>\n",
       "<polyline clip-path=\"url(#clip562)\" style=\"stroke:#00a98d; stroke-width:4; stroke-opacity:1; fill:none\" points=\"\n",
       "  236.501,101.554 277.593,99.1973 318.685,128.648 359.778,95.7099 400.87,97.8105 441.962,109.191 483.055,92.4954 524.147,87.9763 565.239,88.5656 606.332,96.4386 \n",
       "  647.424,88.5418 688.516,95.7099 729.609,97.0241 770.701,103.723 811.793,96.0102 852.886,87.9763 893.978,172.835 935.07,172.835 976.163,292.118 1017.25,427.411 \n",
       "  1058.35,380.652 1099.44,388.652 1140.53,454.024 1181.62,468.519 1222.72,393.77 1263.81,442.665 1304.9,341.15 1345.99,474.178 1387.09,440.853 1428.18,325.412 \n",
       "  1469.27,479.56 1510.36,563.553 1551.46,507.032 1592.55,510.261 1633.64,439.866 1674.73,388.652 1715.82,208.446 1756.92,330.023 1798.01,400.799 1839.1,513.763 \n",
       "  1880.19,654.29 1921.29,668.43 1962.38,704.606 2003.47,541.227 2044.56,760.327 2085.66,591.033 2126.75,634.788 2167.84,517.574 2208.93,273.414 2250.03,250.007 \n",
       "  2291.12,206.498 \n",
       "  \"/>\n",
       "<polyline clip-path=\"url(#clip562)\" style=\"stroke:#8e971d; stroke-width:4; stroke-opacity:1; fill:none\" points=\"\n",
       "  236.501,101.554 277.593,122.734 318.685,106.769 359.778,135.709 400.87,90.7815 441.962,87.9763 483.055,108.453 524.147,122.341 565.239,152.142 606.332,125.691 \n",
       "  647.424,105.377 688.516,128.085 729.609,104.738 770.701,106.334 811.793,112.114 852.886,90.7815 893.978,93.2799 935.07,88.6179 976.163,132.86 1017.25,98.2427 \n",
       "  1058.35,122.734 1099.44,159.281 1140.53,146.906 1181.62,133.781 1222.72,166.666 1263.81,245.771 1304.9,300.712 1345.99,244.931 1387.09,134.538 1428.18,88.784 \n",
       "  1469.27,113.223 1510.36,95.2456 1551.46,122.734 1592.55,90.7815 1633.64,93.0657 1674.73,107.528 1715.82,102.506 1756.92,147.455 1798.01,90.5429 1839.1,107.528 \n",
       "  1880.19,164.946 1921.29,120.83 1962.38,89.7716 2003.47,100.529 2044.56,98.2427 2085.66,138.189 2126.75,110.103 2167.84,140.177 2208.93,182.714 2250.03,281.318 \n",
       "  2291.12,373.196 \n",
       "  \"/>\n",
       "<polyline clip-path=\"url(#clip562)\" style=\"stroke:#00a8cb; stroke-width:4; stroke-opacity:1; fill:none\" points=\"\n",
       "  236.501,101.554 277.593,90.5429 318.685,92.8641 359.778,88.3663 400.87,90.3335 441.962,172.835 483.055,139.95 524.147,160.282 565.239,198.812 606.332,172.835 \n",
       "  647.424,101.554 688.516,88.4092 729.609,88.5418 770.701,131.967 811.793,93.2799 852.886,89.7081 893.978,90.3335 935.07,92.3265 976.163,95.2456 1017.25,88.4784 \n",
       "  1058.35,115.685 1099.44,130.259 1140.53,219.392 1181.62,269.243 1222.72,139.95 1263.81,238.836 1304.9,464.081 1345.99,427.411 1387.09,569.035 1428.18,633.98 \n",
       "  1469.27,583.575 1510.36,555.742 1551.46,583.575 1592.55,715.795 1633.64,618.343 1674.73,703.794 1715.82,644.106 1756.92,656.442 1798.01,637.805 1839.1,656.442 \n",
       "  1880.19,583.575 1921.29,531.32 1962.38,531.32 2003.47,491.932 2044.56,344.638 2085.66,413.698 2126.75,552.479 2167.84,474.178 2208.93,517.574 2250.03,483.893 \n",
       "  2291.12,576.762 \n",
       "  \"/>\n",
       "<polyline clip-path=\"url(#clip562)\" style=\"stroke:#9b7fe8; stroke-width:4; stroke-opacity:1; fill:none\" points=\"\n",
       "  236.501,101.554 277.593,196.731 318.685,130.888 359.778,156.186 400.87,213.1 441.962,319.613 483.055,353.062 524.147,507.032 565.239,292.118 606.332,346.508 \n",
       "  647.424,366.388 688.516,441.407 729.609,327.482 770.701,319.613 811.793,245.771 852.886,295.872 893.978,231.901 935.07,427.411 976.163,368.501 1017.25,397.255 \n",
       "  1058.35,441.407 1099.44,287.12 1140.53,543.063 1181.62,472.126 1222.72,427.411 1263.81,273.414 1304.9,224.477 1345.99,368.501 1387.09,413.698 1428.18,321.919 \n",
       "  1469.27,427.411 1510.36,402.733 1551.46,281.747 1592.55,181.109 1633.64,183.544 1674.73,271.195 1715.82,245.324 1756.92,146.096 1798.01,133.611 1839.1,162.348 \n",
       "  1880.19,101.554 1921.29,88.5909 1962.38,132.86 2003.47,102.709 2044.56,96.6658 2085.66,94.2881 2126.75,98.8001 2167.84,91.7373 2208.93,87.9763 2250.03,120.112 \n",
       "  2291.12,233.4 \n",
       "  \"/>\n",
       "<polyline clip-path=\"url(#clip562)\" style=\"stroke:#608cf6; stroke-width:4; stroke-opacity:1; fill:none\" points=\"\n",
       "  236.501,101.554 277.593,112.114 318.685,92.3265 359.778,88.4419 400.87,95.4262 441.962,90.4348 483.055,92.3265 524.147,87.9763 565.239,91.1552 606.332,88.6776 \n",
       "  647.424,156.186 688.516,120.112 729.609,137.762 770.701,182.714 811.793,198.812 852.886,145.107 893.978,203.478 935.07,309.412 976.163,401.803 1017.25,387.12 \n",
       "  1058.35,570.516 1099.44,596.916 1140.53,494.476 1181.62,398.537 1222.72,427.411 1263.81,549.985 1304.9,614.348 1345.99,522.994 1387.09,559.462 1428.18,539.887 \n",
       "  1469.27,589.625 1510.36,809.865 1551.46,926.173 1592.55,1016.4 1633.64,956.93 1674.73,966.4 1715.82,904.543 1756.92,936.839 1798.01,929.418 1839.1,1192.54 \n",
       "  1880.19,1325.09 1921.29,1290.68 1962.38,1192.54 2003.47,1219.85 2044.56,1224.45 2085.66,1293.57 2126.75,1313.34 2167.84,1322.35 2208.93,1293.57 2250.03,1217.96 \n",
       "  2291.12,1079.46 \n",
       "  \"/>\n",
       "<polyline clip-path=\"url(#clip562)\" style=\"stroke:#f05f73; stroke-width:4; stroke-opacity:1; fill:none\" points=\"\n",
       "  236.501,101.554 277.593,125.691 318.685,159.281 359.778,203.478 400.87,172.835 441.962,97.8105 483.055,122.734 524.147,196.416 565.239,325.412 606.332,193.717 \n",
       "  647.424,427.411 688.516,427.411 729.609,626.23 770.701,427.411 811.793,439.426 852.886,640.516 893.978,414.23 935.07,641.152 976.163,1100.67 1017.25,1046 \n",
       "  1058.35,1127.5 1099.44,1085.5 1140.53,909.325 1181.62,992.759 1222.72,1092.16 1263.81,904.543 1304.9,757.319 1345.99,691.416 1387.09,791.828 1428.18,609.891 \n",
       "  1469.27,536.049 1510.36,596.916 1551.46,510.261 1592.55,479.56 1633.64,454.024 1674.73,536.049 1715.82,591.033 1756.92,546.92 1798.01,521.734 1839.1,522.994 \n",
       "  1880.19,512.733 1921.29,596.916 1962.38,541.227 2003.47,494.476 2044.56,637.805 2085.66,569.854 2126.75,365.836 2167.84,238.836 2208.93,207.174 2250.03,208.446 \n",
       "  2291.12,158.107 \n",
       "  \"/>\n",
       "<polyline clip-path=\"url(#clip562)\" style=\"stroke:#dd64b5; stroke-width:4; stroke-opacity:1; fill:none\" points=\"\n",
       "  236.501,101.554 277.593,108.453 318.685,195.988 359.778,265.607 400.87,272.268 441.962,300.192 483.055,373.196 524.147,494.476 565.239,555.742 606.332,738.727 \n",
       "  647.424,727.434 688.516,557.782 729.609,637.805 770.701,786.737 811.793,725.406 852.886,769.203 893.978,703.794 935.07,884.55 976.163,1002.06 1017.25,1145.04 \n",
       "  1058.35,1098.58 1099.44,1071.4 1140.53,1155.7 1181.62,1281.3 1222.72,1310.03 1263.81,1394 1304.9,1394.96 1345.99,1388.55 1387.09,1445.72 1428.18,1445.72 \n",
       "  1469.27,1445.72 1510.36,1445.72 1551.46,1445.72 1592.55,1445.72 1633.64,1445.72 1674.73,1445.72 1715.82,1445.72 1756.92,1445.72 1798.01,1445.72 1839.1,1445.72 \n",
       "  1880.19,1445.72 1921.29,1445.72 1962.38,1445.72 2003.47,1445.72 2044.56,1445.72 2085.66,1445.72 2126.75,1445.72 2167.84,1445.72 2208.93,1445.72 2250.03,1445.72 \n",
       "  2291.12,1445.72 \n",
       "  \"/>\n",
       "<polyline clip-path=\"url(#clip562)\" style=\"stroke:#6b9e32; stroke-width:4; stroke-opacity:1; fill:none\" points=\"\n",
       "  236.501,101.554 277.593,88.6468 318.685,98.2427 359.778,100.06 400.87,106.769 441.962,112.58 483.055,114.588 524.147,169.105 565.239,333.218 606.332,208.748 \n",
       "  647.424,111.661 688.516,94.9035 729.609,88.4596 770.701,108.453 811.793,101.554 852.886,96.6658 893.978,101.554 935.07,88.7106 976.163,98.7041 1017.25,92.3265 \n",
       "  1058.35,88.5194 1099.44,142.286 1140.53,190.29 1181.62,298.15 1222.72,398.537 1263.81,474.178 1304.9,588.47 1345.99,663.675 1387.09,661.621 1428.18,325.893 \n",
       "  1469.27,333.832 1510.36,292.118 1551.46,244.931 1592.55,232.741 1633.64,262.938 1674.73,334.288 1715.82,387.12 1756.92,276.421 1798.01,157.579 1839.1,364.118 \n",
       "  1880.19,305.215 1921.29,300.712 1962.38,269.243 2003.47,255.134 2044.56,258.283 2085.66,211.715 2126.75,129.042 2167.84,108.334 2208.93,119.417 2250.03,194.423 \n",
       "  2291.12,188.965 \n",
       "  \"/>\n",
       "<polyline clip-path=\"url(#clip562)\" style=\"stroke:#009af9; stroke-width:4; stroke-opacity:1; fill:none\" points=\"\n",
       "  236.501,101.554 277.593,99.1973 318.685,88.6776 359.778,90.3335 400.87,88.6468 441.962,88.4092 483.055,97.405 524.147,88.3942 565.239,92.1668 606.332,122.341 \n",
       "  647.424,139.95 688.516,92.1668 729.609,108.334 770.701,93.7512 811.793,89.8387 852.886,90.2382 893.978,91.7373 935.07,90.7815 976.163,93.2799 1017.25,88.7106 \n",
       "  1058.35,87.9763 1099.44,106.457 1140.53,92.6743 1181.62,87.9763 1222.72,88.4596 1263.81,92.0158 1304.9,131.967 1345.99,134.972 1387.09,98.7041 1428.18,99.6167 \n",
       "  1469.27,106.769 1510.36,88.9165 1551.46,118.525 1592.55,150.321 1633.64,206.498 1674.73,232.741 1715.82,193.428 1756.92,166.666 1798.01,103.342 1839.1,97.8105 \n",
       "  1880.19,107.528 1921.29,87.9763 1962.38,90.6582 2003.47,88.5418 2044.56,89.5907 2085.66,90.6582 2126.75,88.6776 2167.84,142.286 2208.93,119.417 2250.03,93.2799 \n",
       "  2291.12,93.508 \n",
       "  \"/>\n",
       "<polyline clip-path=\"url(#clip562)\" style=\"stroke:#e26f46; stroke-width:4; stroke-opacity:1; fill:none\" points=\"\n",
       "  236.501,101.554 277.593,176.484 318.685,287.12 359.778,353.978 400.87,427.411 441.962,385.462 483.055,591.033 524.147,457.569 565.239,244.583 606.332,333.832 \n",
       "  647.424,284.034 688.516,257.106 729.609,356.172 770.701,345.956 811.793,194.423 852.886,230.792 893.978,476.426 935.07,654.29 976.163,677.779 1017.25,531.32 \n",
       "  1058.35,474.178 1099.44,442.665 1140.53,714.402 1181.62,665.465 1222.72,786.737 1263.81,851.705 1304.9,767.25 1345.99,780.7 1387.09,753.269 1428.18,884.55 \n",
       "  1469.27,956.93 1510.36,942.012 1551.46,757.319 1592.55,691.416 1633.64,780.7 1674.73,705.531 1715.82,714.402 1756.92,732.316 1798.01,614.348 1839.1,641.152 \n",
       "  1880.19,774.557 1921.29,775.382 1962.38,741.682 2003.47,691.416 2044.56,563.553 2085.66,347.856 2126.75,399.714 2167.84,364.118 2208.93,271.195 2250.03,211.715 \n",
       "  2291.12,211.715 \n",
       "  \"/>\n",
       "<polyline clip-path=\"url(#clip562)\" style=\"stroke:#3da44d; stroke-width:4; stroke-opacity:1; fill:none\" points=\"\n",
       "  236.501,101.554 277.593,102.114 318.685,148.733 359.778,153.691 400.87,232.741 441.962,114.588 483.055,177.243 524.147,165.616 565.239,276.421 606.332,399.714 \n",
       "  647.424,498.692 688.516,557.782 729.609,589.625 770.701,614.348 811.793,634.788 852.886,415.18 893.978,442.665 935.07,604.888 976.163,364.118 1017.25,403.599 \n",
       "  1058.35,513.763 1099.44,476.426 1140.53,745.03 1181.62,719.157 1222.72,743.638 1263.81,719.157 1304.9,669.672 1345.99,717.367 1387.09,727.434 1428.18,891.372 \n",
       "  1469.27,764.497 1510.36,753.269 1551.46,723.594 1592.55,964.705 1633.64,1262.87 1674.73,1237.17 1715.82,1388.55 1756.92,1445.72 1798.01,1445.72 1839.1,1445.72 \n",
       "  1880.19,1445.72 1921.29,1445.72 1962.38,1445.72 2003.47,1445.72 2044.56,1445.72 2085.66,1445.72 2126.75,1445.72 2167.84,1445.72 2208.93,1445.72 2250.03,1445.72 \n",
       "  2291.12,1445.72 \n",
       "  \"/>\n",
       "<polyline clip-path=\"url(#clip562)\" style=\"stroke:#c271d2; stroke-width:4; stroke-opacity:1; fill:none\" points=\"\n",
       "  236.501,101.554 277.593,95.6136 318.685,91.7373 359.778,115.685 400.87,121.826 441.962,118.525 483.055,92.8641 524.147,89.7081 565.239,134.972 606.332,175.736 \n",
       "  647.424,309.412 688.516,128.648 729.609,305.215 770.701,381.7 811.793,275.96 852.886,346.508 893.978,350.835 935.07,320.455 976.163,300.712 1017.25,251.403 \n",
       "  1058.35,149.44 1099.44,118.525 1140.53,119.417 1181.62,118.911 1222.72,118.911 1263.81,91.8729 1304.9,125.691 1345.99,115.685 1387.09,115.685 1428.18,96.0102 \n",
       "  1469.27,119.417 1510.36,124.168 1551.46,172.835 1592.55,94.9035 1633.64,93.2799 1674.73,100.529 1715.82,87.9763 1756.92,118.094 1798.01,201.289 1839.1,176.195 \n",
       "  1880.19,119.417 1921.29,102.709 1962.38,88.9165 2003.47,100.899 2044.56,118.094 2085.66,91.8729 2126.75,124.168 2167.84,151.139 2208.93,258.283 2250.03,353.599 \n",
       "  2291.12,318.181 \n",
       "  \"/>\n",
       "<polyline clip-path=\"url(#clip562)\" style=\"stroke:#ac8d18; stroke-width:4; stroke-opacity:1; fill:none\" points=\"\n",
       "  236.501,101.554 277.593,91.0551 318.685,88.5656 359.778,94.0107 400.87,138.189 441.962,122.341 483.055,96.0102 524.147,87.9763 565.239,100.06 606.332,108.334 \n",
       "  647.424,132.86 688.516,203.478 729.609,120.669 770.701,93.508 811.793,88.6179 852.886,159.281 893.978,226.27 935.07,273.414 976.163,169.407 1017.25,120.112 \n",
       "  1058.35,93.508 1099.44,196.416 1140.53,179.759 1181.62,252.24 1222.72,176.828 1263.81,96.3284 1304.9,190.29 1345.99,218.054 1387.09,238.836 1428.18,207.174 \n",
       "  1469.27,276.421 1510.36,155.025 1551.46,318.181 1592.55,541.227 1633.64,445.041 1674.73,411.807 1715.82,314.172 1756.92,238.836 1798.01,226.27 1839.1,119.417 \n",
       "  1880.19,111.661 1921.29,102.114 1962.38,90.3335 2003.47,88.3534 2044.56,100.06 2085.66,92.4954 2126.75,253.196 2167.84,179.759 2208.93,271.195 2250.03,220.568 \n",
       "  2291.12,427.411 \n",
       "  \"/>\n",
       "<path clip-path=\"url(#clip560)\" d=\"\n",
       "M1762.41 1425.78 L2280.16 1425.78 L2280.16 95.2176 L1762.41 95.2176  Z\n",
       "  \" fill=\"#ffffff\" fill-rule=\"evenodd\" fill-opacity=\"1\"/>\n",
       "<polyline clip-path=\"url(#clip560)\" style=\"stroke:#000000; stroke-width:4; stroke-opacity:1; fill:none\" points=\"\n",
       "  1762.41,1425.78 2280.16,1425.78 2280.16,95.2176 1762.41,95.2176 1762.41,1425.78 \n",
       "  \"/>\n",
       "<polyline clip-path=\"url(#clip560)\" style=\"stroke:#009af9; stroke-width:4; stroke-opacity:1; fill:none\" points=\"\n",
       "  1786.61,155.698 1931.8,155.698 \n",
       "  \"/>\n",
       "<path clip-path=\"url(#clip560)\" d=\"M 0 0 M1960.68 142.26 L1960.68 169.135 L1966.32 169.135 Q1973.48 169.135 1976.79 165.894 Q1980.12 162.654 1980.12 155.663 Q1980.12 148.718 1976.79 145.501 Q1973.48 142.26 1966.32 142.26 L1960.68 142.26 M1956 138.418 L1965.61 138.418 Q1975.65 138.418 1980.35 142.607 Q1985.05 146.774 1985.05 155.663 Q1985.05 164.598 1980.33 168.788 Q1975.61 172.978 1965.61 172.978 L1956 172.978 L1956 138.418 Z\" fill=\"#000000\" fill-rule=\"evenodd\" fill-opacity=\"1\" /><path clip-path=\"url(#clip560)\" d=\"M 0 0 M2011.69 158.95 L2011.69 161.033 L1992.11 161.033 Q1992.39 165.431 1994.75 167.746 Q1997.13 170.038 2001.37 170.038 Q2003.82 170.038 2006.11 169.436 Q2008.43 168.834 2010.7 167.63 L2010.7 171.658 Q2008.41 172.63 2006 173.14 Q2003.59 173.649 2001.11 173.649 Q1994.91 173.649 1991.28 170.038 Q1987.67 166.427 1987.67 160.269 Q1987.67 153.904 1991.09 150.177 Q1994.54 146.427 2000.37 146.427 Q2005.61 146.427 2008.64 149.806 Q2011.69 153.163 2011.69 158.95 M2007.43 157.7 Q2007.39 154.205 2005.47 152.121 Q2003.57 150.038 2000.42 150.038 Q1996.86 150.038 1994.7 152.052 Q1992.57 154.066 1992.25 157.723 L2007.43 157.7 Z\" fill=\"#000000\" fill-rule=\"evenodd\" fill-opacity=\"1\" /><path clip-path=\"url(#clip560)\" d=\"M 0 0 M2020.37 139.691 L2020.37 147.052 L2029.15 147.052 L2029.15 150.362 L2020.37 150.362 L2020.37 164.436 Q2020.37 167.607 2021.23 168.51 Q2022.11 169.413 2024.77 169.413 L2029.15 169.413 L2029.15 172.978 L2024.77 172.978 Q2019.84 172.978 2017.97 171.149 Q2016.09 169.297 2016.09 164.436 L2016.09 150.362 L2012.97 150.362 L2012.97 147.052 L2016.09 147.052 L2016.09 139.691 L2020.37 139.691 Z\" fill=\"#000000\" fill-rule=\"evenodd\" fill-opacity=\"1\" /><path clip-path=\"url(#clip560)\" d=\"M 0 0 M2055.79 158.95 L2055.79 161.033 L2036.21 161.033 Q2036.49 165.431 2038.85 167.746 Q2041.23 170.038 2045.47 170.038 Q2047.92 170.038 2050.21 169.436 Q2052.53 168.834 2054.8 167.63 L2054.8 171.658 Q2052.5 172.63 2050.1 173.14 Q2047.69 173.649 2045.21 173.649 Q2039.01 173.649 2035.37 170.038 Q2031.76 166.427 2031.76 160.269 Q2031.76 153.904 2035.19 150.177 Q2038.64 146.427 2044.47 146.427 Q2049.7 146.427 2052.73 149.806 Q2055.79 153.163 2055.79 158.95 M2051.53 157.7 Q2051.48 154.205 2049.56 152.121 Q2047.67 150.038 2044.52 150.038 Q2040.95 150.038 2038.8 152.052 Q2036.67 154.066 2036.35 157.723 L2051.53 157.7 Z\" fill=\"#000000\" fill-rule=\"evenodd\" fill-opacity=\"1\" /><path clip-path=\"url(#clip560)\" d=\"M 0 0 M2075.28 151.033 Q2074.56 150.617 2073.71 150.431 Q2072.87 150.223 2071.86 150.223 Q2068.24 150.223 2066.3 152.584 Q2064.38 154.922 2064.38 159.32 L2064.38 172.978 L2060.1 172.978 L2060.1 147.052 L2064.38 147.052 L2064.38 151.08 Q2065.72 148.718 2067.87 147.584 Q2070.03 146.427 2073.11 146.427 Q2073.55 146.427 2074.08 146.496 Q2074.61 146.543 2075.26 146.658 L2075.28 151.033 Z\" fill=\"#000000\" fill-rule=\"evenodd\" fill-opacity=\"1\" /><path clip-path=\"url(#clip560)\" d=\"M 0 0 M2099.1 152.029 Q2100.7 149.158 2102.92 147.793 Q2105.14 146.427 2108.15 146.427 Q2112.2 146.427 2114.4 149.274 Q2116.6 152.098 2116.6 157.329 L2116.6 172.978 L2112.32 172.978 L2112.32 157.468 Q2112.32 153.742 2111 151.936 Q2109.68 150.13 2106.97 150.13 Q2103.66 150.13 2101.74 152.33 Q2099.82 154.529 2099.82 158.325 L2099.82 172.978 L2095.54 172.978 L2095.54 157.468 Q2095.54 153.718 2094.22 151.936 Q2092.9 150.13 2090.14 150.13 Q2086.88 150.13 2084.96 152.353 Q2083.04 154.552 2083.04 158.325 L2083.04 172.978 L2078.75 172.978 L2078.75 147.052 L2083.04 147.052 L2083.04 151.08 Q2084.49 148.695 2086.53 147.561 Q2088.57 146.427 2091.37 146.427 Q2094.19 146.427 2096.16 147.862 Q2098.15 149.297 2099.1 152.029 Z\" fill=\"#000000\" fill-rule=\"evenodd\" fill-opacity=\"1\" /><path clip-path=\"url(#clip560)\" d=\"M 0 0 M2121.07 147.052 L2125.33 147.052 L2125.33 172.978 L2121.07 172.978 L2121.07 147.052 M2121.07 136.959 L2125.33 136.959 L2125.33 142.353 L2121.07 142.353 L2121.07 136.959 Z\" fill=\"#000000\" fill-rule=\"evenodd\" fill-opacity=\"1\" /><path clip-path=\"url(#clip560)\" d=\"M 0 0 M2151.35 157.329 L2151.35 172.978 L2147.09 172.978 L2147.09 157.468 Q2147.09 153.788 2145.65 151.959 Q2144.22 150.13 2141.35 150.13 Q2137.9 150.13 2135.91 152.33 Q2133.92 154.529 2133.92 158.325 L2133.92 172.978 L2129.63 172.978 L2129.63 147.052 L2133.92 147.052 L2133.92 151.08 Q2135.44 148.742 2137.5 147.584 Q2139.59 146.427 2142.29 146.427 Q2146.76 146.427 2149.05 149.205 Q2151.35 151.959 2151.35 157.329 Z\" fill=\"#000000\" fill-rule=\"evenodd\" fill-opacity=\"1\" /><path clip-path=\"url(#clip560)\" d=\"M 0 0 M2155.81 147.052 L2160.07 147.052 L2160.07 172.978 L2155.81 172.978 L2155.81 147.052 M2155.81 136.959 L2160.07 136.959 L2160.07 142.353 L2155.81 142.353 L2155.81 136.959 Z\" fill=\"#000000\" fill-rule=\"evenodd\" fill-opacity=\"1\" /><path clip-path=\"url(#clip560)\" d=\"M 0 0 M2181.07 147.816 L2181.07 151.843 Q2179.26 150.917 2177.32 150.455 Q2175.37 149.992 2173.29 149.992 Q2170.12 149.992 2168.52 150.964 Q2166.95 151.936 2166.95 153.88 Q2166.95 155.362 2168.08 156.218 Q2169.22 157.052 2172.64 157.816 L2174.1 158.14 Q2178.64 159.112 2180.54 160.894 Q2182.46 162.654 2182.46 165.825 Q2182.46 169.436 2179.59 171.542 Q2176.74 173.649 2171.74 173.649 Q2169.66 173.649 2167.39 173.232 Q2165.14 172.839 2162.64 172.028 L2162.64 167.63 Q2165 168.857 2167.29 169.482 Q2169.59 170.084 2171.83 170.084 Q2174.84 170.084 2176.46 169.066 Q2178.08 168.024 2178.08 166.149 Q2178.08 164.413 2176.9 163.487 Q2175.74 162.561 2171.79 161.704 L2170.3 161.357 Q2166.35 160.524 2164.59 158.811 Q2162.83 157.075 2162.83 154.066 Q2162.83 150.408 2165.42 148.418 Q2168.01 146.427 2172.78 146.427 Q2175.14 146.427 2177.23 146.774 Q2179.31 147.121 2181.07 147.816 Z\" fill=\"#000000\" fill-rule=\"evenodd\" fill-opacity=\"1\" /><path clip-path=\"url(#clip560)\" d=\"M 0 0 M2191.14 139.691 L2191.14 147.052 L2199.91 147.052 L2199.91 150.362 L2191.14 150.362 L2191.14 164.436 Q2191.14 167.607 2191.99 168.51 Q2192.87 169.413 2195.54 169.413 L2199.91 169.413 L2199.91 172.978 L2195.54 172.978 Q2190.6 172.978 2188.73 171.149 Q2186.85 169.297 2186.85 164.436 L2186.85 150.362 L2183.73 150.362 L2183.73 147.052 L2186.85 147.052 L2186.85 139.691 L2191.14 139.691 Z\" fill=\"#000000\" fill-rule=\"evenodd\" fill-opacity=\"1\" /><path clip-path=\"url(#clip560)\" d=\"M 0 0 M2204.38 147.052 L2208.64 147.052 L2208.64 172.978 L2204.38 172.978 L2204.38 147.052 M2204.38 136.959 L2208.64 136.959 L2208.64 142.353 L2204.38 142.353 L2204.38 136.959 Z\" fill=\"#000000\" fill-rule=\"evenodd\" fill-opacity=\"1\" /><path clip-path=\"url(#clip560)\" d=\"M 0 0 M2231.76 148.047 L2231.76 152.029 Q2229.96 151.033 2228.13 150.547 Q2226.32 150.038 2224.47 150.038 Q2220.33 150.038 2218.04 152.677 Q2215.74 155.292 2215.74 160.038 Q2215.74 164.783 2218.04 167.422 Q2220.33 170.038 2224.47 170.038 Q2226.32 170.038 2228.13 169.552 Q2229.96 169.042 2231.76 168.047 L2231.76 171.982 Q2229.98 172.816 2228.06 173.232 Q2226.16 173.649 2224.01 173.649 Q2218.15 173.649 2214.7 169.968 Q2211.25 166.288 2211.25 160.038 Q2211.25 153.695 2214.72 150.061 Q2218.22 146.427 2224.28 146.427 Q2226.25 146.427 2228.13 146.843 Q2230 147.237 2231.76 148.047 Z\" fill=\"#000000\" fill-rule=\"evenodd\" fill-opacity=\"1\" /><polyline clip-path=\"url(#clip560)\" style=\"stroke:#e26f46; stroke-width:4; stroke-opacity:1; fill:none\" points=\"\n",
       "  1786.61,216.178 1931.8,216.178 \n",
       "  \"/>\n",
       "<path clip-path=\"url(#clip560)\" d=\"M 0 0 M1969.84 235.865 Q1968.04 240.495 1966.32 241.907 Q1964.61 243.319 1961.74 243.319 L1958.34 243.319 L1958.34 239.754 L1960.84 239.754 Q1962.6 239.754 1963.57 238.92 Q1964.54 238.087 1965.72 234.985 L1966.49 233.041 L1956 207.532 L1960.51 207.532 L1968.62 227.809 L1976.72 207.532 L1981.23 207.532 L1969.84 235.865 Z\" fill=\"#000000\" fill-rule=\"evenodd\" fill-opacity=\"1\" /><path clip-path=\"url(#clip560)\" d=\"M 0 0 M1990.33 229.522 L2006.65 229.522 L2006.65 233.458 L1984.7 233.458 L1984.7 229.522 Q1987.36 226.768 1991.95 222.138 Q1996.55 217.485 1997.74 216.143 Q1999.98 213.62 2000.86 211.884 Q2001.76 210.124 2001.76 208.435 Q2001.76 205.68 1999.82 203.944 Q1997.9 202.208 1994.8 202.208 Q1992.6 202.208 1990.14 202.972 Q1987.71 203.735 1984.93 205.286 L1984.93 200.564 Q1987.76 199.43 1990.21 198.851 Q1992.67 198.273 1994.7 198.273 Q2000.07 198.273 2003.27 200.958 Q2006.46 203.643 2006.46 208.134 Q2006.46 210.263 2005.65 212.185 Q2004.86 214.083 2002.76 216.675 Q2002.18 217.347 1999.08 220.564 Q1995.98 223.759 1990.33 229.522 Z\" fill=\"#000000\" fill-rule=\"evenodd\" fill-opacity=\"1\" /><polyline clip-path=\"url(#clip560)\" style=\"stroke:#3da44d; stroke-width:4; stroke-opacity:1; fill:none\" points=\"\n",
       "  1786.61,276.658 1931.8,276.658 \n",
       "  \"/>\n",
       "<path clip-path=\"url(#clip560)\" d=\"M 0 0 M1969.84 296.345 Q1968.04 300.975 1966.32 302.387 Q1964.61 303.799 1961.74 303.799 L1958.34 303.799 L1958.34 300.234 L1960.84 300.234 Q1962.6 300.234 1963.57 299.4 Q1964.54 298.567 1965.72 295.465 L1966.49 293.521 L1956 268.012 L1960.51 268.012 L1968.62 288.289 L1976.72 268.012 L1981.23 268.012 L1969.84 296.345 Z\" fill=\"#000000\" fill-rule=\"evenodd\" fill-opacity=\"1\" /><path clip-path=\"url(#clip560)\" d=\"M 0 0 M2000.47 275.303 Q2003.82 276.021 2005.7 278.289 Q2007.6 280.558 2007.6 283.891 Q2007.6 289.007 2004.08 291.808 Q2000.56 294.609 1994.08 294.609 Q1991.9 294.609 1989.59 294.169 Q1987.3 293.752 1984.84 292.896 L1984.84 288.382 Q1986.79 289.516 1989.1 290.095 Q1991.42 290.674 1993.94 290.674 Q1998.34 290.674 2000.63 288.938 Q2002.94 287.201 2002.94 283.891 Q2002.94 280.836 2000.79 279.123 Q1998.66 277.387 1994.84 277.387 L1990.81 277.387 L1990.81 273.544 L1995.03 273.544 Q1998.48 273.544 2000.3 272.178 Q2002.13 270.79 2002.13 268.197 Q2002.13 265.535 2000.24 264.123 Q1998.36 262.688 1994.84 262.688 Q1992.92 262.688 1990.72 263.104 Q1988.52 263.521 1985.88 264.401 L1985.88 260.234 Q1988.55 259.493 1990.86 259.123 Q1993.2 258.753 1995.26 258.753 Q2000.58 258.753 2003.68 261.183 Q2006.79 263.59 2006.79 267.711 Q2006.79 270.581 2005.14 272.572 Q2003.5 274.54 2000.47 275.303 Z\" fill=\"#000000\" fill-rule=\"evenodd\" fill-opacity=\"1\" /><polyline clip-path=\"url(#clip560)\" style=\"stroke:#c271d2; stroke-width:4; stroke-opacity:1; fill:none\" points=\"\n",
       "  1786.61,337.138 1931.8,337.138 \n",
       "  \"/>\n",
       "<path clip-path=\"url(#clip560)\" d=\"M 0 0 M1969.84 356.825 Q1968.04 361.455 1966.32 362.867 Q1964.61 364.279 1961.74 364.279 L1958.34 364.279 L1958.34 360.714 L1960.84 360.714 Q1962.6 360.714 1963.57 359.88 Q1964.54 359.047 1965.72 355.945 L1966.49 354.001 L1956 328.492 L1960.51 328.492 L1968.62 348.769 L1976.72 328.492 L1981.23 328.492 L1969.84 356.825 Z\" fill=\"#000000\" fill-rule=\"evenodd\" fill-opacity=\"1\" /><path clip-path=\"url(#clip560)\" d=\"M 0 0 M1999.15 323.932 L1987.34 342.381 L1999.15 342.381 L1999.15 323.932 M1997.92 319.858 L2003.8 319.858 L2003.8 342.381 L2008.73 342.381 L2008.73 346.269 L2003.8 346.269 L2003.8 354.418 L1999.15 354.418 L1999.15 346.269 L1983.55 346.269 L1983.55 341.756 L1997.92 319.858 Z\" fill=\"#000000\" fill-rule=\"evenodd\" fill-opacity=\"1\" /><polyline clip-path=\"url(#clip560)\" style=\"stroke:#ac8d18; stroke-width:4; stroke-opacity:1; fill:none\" points=\"\n",
       "  1786.61,397.618 1931.8,397.618 \n",
       "  \"/>\n",
       "<path clip-path=\"url(#clip560)\" d=\"M 0 0 M1969.84 417.305 Q1968.04 421.935 1966.32 423.347 Q1964.61 424.759 1961.74 424.759 L1958.34 424.759 L1958.34 421.194 L1960.84 421.194 Q1962.6 421.194 1963.57 420.36 Q1964.54 419.527 1965.72 416.425 L1966.49 414.481 L1956 388.972 L1960.51 388.972 L1968.62 409.249 L1976.72 388.972 L1981.23 388.972 L1969.84 417.305 Z\" fill=\"#000000\" fill-rule=\"evenodd\" fill-opacity=\"1\" /><path clip-path=\"url(#clip560)\" d=\"M 0 0 M1986.35 380.338 L2004.7 380.338 L2004.7 384.273 L1990.63 384.273 L1990.63 392.745 Q1991.65 392.398 1992.67 392.236 Q1993.68 392.05 1994.7 392.05 Q2000.49 392.05 2003.87 395.222 Q2007.25 398.393 2007.25 403.81 Q2007.25 409.388 2003.78 412.49 Q2000.3 415.569 1993.99 415.569 Q1991.81 415.569 1989.54 415.198 Q1987.3 414.828 1984.89 414.087 L1984.89 409.388 Q1986.97 410.523 1989.19 411.078 Q1991.42 411.634 1993.89 411.634 Q1997.9 411.634 2000.24 409.527 Q2002.57 407.421 2002.57 403.81 Q2002.57 400.199 2000.24 398.092 Q1997.9 395.986 1993.89 395.986 Q1992.02 395.986 1990.14 396.402 Q1988.29 396.819 1986.35 397.699 L1986.35 380.338 Z\" fill=\"#000000\" fill-rule=\"evenodd\" fill-opacity=\"1\" /><polyline clip-path=\"url(#clip560)\" style=\"stroke:#00a9ad; stroke-width:4; stroke-opacity:1; fill:none\" points=\"\n",
       "  1786.61,458.098 1931.8,458.098 \n",
       "  \"/>\n",
       "<path clip-path=\"url(#clip560)\" d=\"M 0 0 M1969.84 477.785 Q1968.04 482.415 1966.32 483.827 Q1964.61 485.239 1961.74 485.239 L1958.34 485.239 L1958.34 481.674 L1960.84 481.674 Q1962.6 481.674 1963.57 480.84 Q1964.54 480.007 1965.72 476.905 L1966.49 474.961 L1956 449.452 L1960.51 449.452 L1968.62 469.729 L1976.72 449.452 L1981.23 449.452 L1969.84 477.785 Z\" fill=\"#000000\" fill-rule=\"evenodd\" fill-opacity=\"1\" /><path clip-path=\"url(#clip560)\" d=\"M 0 0 M1996.88 456.234 Q1993.73 456.234 1991.88 458.387 Q1990.05 460.54 1990.05 464.29 Q1990.05 468.016 1991.88 470.192 Q1993.73 472.345 1996.88 472.345 Q2000.03 472.345 2001.86 470.192 Q2003.71 468.016 2003.71 464.29 Q2003.71 460.54 2001.86 458.387 Q2000.03 456.234 1996.88 456.234 M2006.16 441.581 L2006.16 445.841 Q2004.4 445.007 2002.6 444.568 Q2000.81 444.128 1999.05 444.128 Q1994.43 444.128 1991.97 447.253 Q1989.54 450.378 1989.19 456.697 Q1990.56 454.683 1992.62 453.618 Q1994.68 452.53 1997.16 452.53 Q2002.36 452.53 2005.37 455.702 Q2008.41 458.85 2008.41 464.29 Q2008.41 469.614 2005.26 472.831 Q2002.11 476.049 1996.88 476.049 Q1990.88 476.049 1987.71 471.466 Q1984.54 466.859 1984.54 458.132 Q1984.54 449.938 1988.43 445.077 Q1992.32 440.193 1998.87 440.193 Q2000.63 440.193 2002.41 440.54 Q2004.22 440.887 2006.16 441.581 Z\" fill=\"#000000\" fill-rule=\"evenodd\" fill-opacity=\"1\" /><polyline clip-path=\"url(#clip560)\" style=\"stroke:#ed5d92; stroke-width:4; stroke-opacity:1; fill:none\" points=\"\n",
       "  1786.61,518.578 1931.8,518.578 \n",
       "  \"/>\n",
       "<path clip-path=\"url(#clip560)\" d=\"M 0 0 M1969.84 538.265 Q1968.04 542.895 1966.32 544.307 Q1964.61 545.719 1961.74 545.719 L1958.34 545.719 L1958.34 542.154 L1960.84 542.154 Q1962.6 542.154 1963.57 541.32 Q1964.54 540.487 1965.72 537.385 L1966.49 535.441 L1956 509.932 L1960.51 509.932 L1968.62 530.209 L1976.72 509.932 L1981.23 509.932 L1969.84 538.265 Z\" fill=\"#000000\" fill-rule=\"evenodd\" fill-opacity=\"1\" /><path clip-path=\"url(#clip560)\" d=\"M 0 0 M1985.12 501.298 L2007.34 501.298 L2007.34 503.288 L1994.8 535.858 L1989.91 535.858 L2001.72 505.233 L1985.12 505.233 L1985.12 501.298 Z\" fill=\"#000000\" fill-rule=\"evenodd\" fill-opacity=\"1\" /><polyline clip-path=\"url(#clip560)\" style=\"stroke:#c68125; stroke-width:4; stroke-opacity:1; fill:none\" points=\"\n",
       "  1786.61,579.058 1931.8,579.058 \n",
       "  \"/>\n",
       "<path clip-path=\"url(#clip560)\" d=\"M 0 0 M1969.84 598.745 Q1968.04 603.375 1966.32 604.787 Q1964.61 606.199 1961.74 606.199 L1958.34 606.199 L1958.34 602.634 L1960.84 602.634 Q1962.6 602.634 1963.57 601.8 Q1964.54 600.967 1965.72 597.865 L1966.49 595.921 L1956 570.412 L1960.51 570.412 L1968.62 590.689 L1976.72 570.412 L1981.23 570.412 L1969.84 598.745 Z\" fill=\"#000000\" fill-rule=\"evenodd\" fill-opacity=\"1\" /><path clip-path=\"url(#clip560)\" d=\"M 0 0 M1996.3 579.926 Q1992.97 579.926 1991.05 581.708 Q1989.15 583.49 1989.15 586.615 Q1989.15 589.74 1991.05 591.523 Q1992.97 593.305 1996.3 593.305 Q1999.63 593.305 2001.55 591.523 Q2003.48 589.717 2003.48 586.615 Q2003.48 583.49 2001.55 581.708 Q1999.66 579.926 1996.3 579.926 M1991.62 577.935 Q1988.61 577.194 1986.93 575.134 Q1985.26 573.074 1985.26 570.111 Q1985.26 565.967 1988.2 563.56 Q1991.16 561.153 1996.3 561.153 Q2001.46 561.153 2004.4 563.56 Q2007.34 565.967 2007.34 570.111 Q2007.34 573.074 2005.65 575.134 Q2003.99 577.194 2001 577.935 Q2004.38 578.722 2006.25 581.014 Q2008.15 583.305 2008.15 586.615 Q2008.15 591.639 2005.07 594.324 Q2002.02 597.009 1996.3 597.009 Q1990.58 597.009 1987.5 594.324 Q1984.45 591.639 1984.45 586.615 Q1984.45 583.305 1986.35 581.014 Q1988.24 578.722 1991.62 577.935 M1989.91 570.551 Q1989.91 573.236 1991.58 574.74 Q1993.27 576.245 1996.3 576.245 Q1999.31 576.245 2001 574.74 Q2002.71 573.236 2002.71 570.551 Q2002.71 567.865 2001 566.361 Q1999.31 564.856 1996.3 564.856 Q1993.27 564.856 1991.58 566.361 Q1989.91 567.865 1989.91 570.551 Z\" fill=\"#000000\" fill-rule=\"evenodd\" fill-opacity=\"1\" /><polyline clip-path=\"url(#clip560)\" style=\"stroke:#00a98d; stroke-width:4; stroke-opacity:1; fill:none\" points=\"\n",
       "  1786.61,639.538 1931.8,639.538 \n",
       "  \"/>\n",
       "<path clip-path=\"url(#clip560)\" d=\"M 0 0 M1969.84 659.225 Q1968.04 663.855 1966.32 665.267 Q1964.61 666.679 1961.74 666.679 L1958.34 666.679 L1958.34 663.114 L1960.84 663.114 Q1962.6 663.114 1963.57 662.28 Q1964.54 661.447 1965.72 658.345 L1966.49 656.401 L1956 630.892 L1960.51 630.892 L1968.62 651.169 L1976.72 630.892 L1981.23 630.892 L1969.84 659.225 Z\" fill=\"#000000\" fill-rule=\"evenodd\" fill-opacity=\"1\" /><path clip-path=\"url(#clip560)\" d=\"M 0 0 M1986.44 656.1 L1986.44 651.841 Q1988.2 652.674 1990 653.114 Q1991.81 653.554 1993.55 653.554 Q1998.18 653.554 2000.61 650.452 Q2003.06 647.327 2003.41 640.984 Q2002.06 642.975 2000 644.04 Q1997.94 645.105 1995.44 645.105 Q1990.26 645.105 1987.23 641.98 Q1984.22 638.832 1984.22 633.392 Q1984.22 628.068 1987.36 624.85 Q1990.51 621.633 1995.74 621.633 Q2001.74 621.633 2004.89 626.239 Q2008.06 630.822 2008.06 639.572 Q2008.06 647.744 2004.17 652.628 Q2000.3 657.489 1993.75 657.489 Q1991.99 657.489 1990.19 657.142 Q1988.38 656.794 1986.44 656.1 M1995.74 641.447 Q1998.89 641.447 2000.72 639.294 Q2002.57 637.142 2002.57 633.392 Q2002.57 629.665 2000.72 627.512 Q1998.89 625.336 1995.74 625.336 Q1992.6 625.336 1990.74 627.512 Q1988.92 629.665 1988.92 633.392 Q1988.92 637.142 1990.74 639.294 Q1992.6 641.447 1995.74 641.447 Z\" fill=\"#000000\" fill-rule=\"evenodd\" fill-opacity=\"1\" /><polyline clip-path=\"url(#clip560)\" style=\"stroke:#8e971d; stroke-width:4; stroke-opacity:1; fill:none\" points=\"\n",
       "  1786.61,700.018 1931.8,700.018 \n",
       "  \"/>\n",
       "<path clip-path=\"url(#clip560)\" d=\"M 0 0 M1969.84 719.705 Q1968.04 724.335 1966.32 725.747 Q1964.61 727.159 1961.74 727.159 L1958.34 727.159 L1958.34 723.594 L1960.84 723.594 Q1962.6 723.594 1963.57 722.76 Q1964.54 721.927 1965.72 718.825 L1966.49 716.881 L1956 691.372 L1960.51 691.372 L1968.62 711.649 L1976.72 691.372 L1981.23 691.372 L1969.84 719.705 Z\" fill=\"#000000\" fill-rule=\"evenodd\" fill-opacity=\"1\" /><path clip-path=\"url(#clip560)\" d=\"M 0 0 M1987.11 713.362 L1994.75 713.362 L1994.75 686.997 L1986.44 688.663 L1986.44 684.404 L1994.7 682.738 L1999.38 682.738 L1999.38 713.362 L2007.02 713.362 L2007.02 717.298 L1987.11 717.298 L1987.11 713.362 Z\" fill=\"#000000\" fill-rule=\"evenodd\" fill-opacity=\"1\" /><path clip-path=\"url(#clip560)\" d=\"M 0 0 M2022.09 685.816 Q2018.48 685.816 2016.65 689.381 Q2014.84 692.923 2014.84 700.052 Q2014.84 707.159 2016.65 710.724 Q2018.48 714.265 2022.09 714.265 Q2025.72 714.265 2027.53 710.724 Q2029.36 707.159 2029.36 700.052 Q2029.36 692.923 2027.53 689.381 Q2025.72 685.816 2022.09 685.816 M2022.09 682.113 Q2027.9 682.113 2030.95 686.719 Q2034.03 691.302 2034.03 700.052 Q2034.03 708.779 2030.95 713.386 Q2027.9 717.969 2022.09 717.969 Q2016.28 717.969 2013.2 713.386 Q2010.14 708.779 2010.14 700.052 Q2010.14 691.302 2013.2 686.719 Q2016.28 682.113 2022.09 682.113 Z\" fill=\"#000000\" fill-rule=\"evenodd\" fill-opacity=\"1\" /><polyline clip-path=\"url(#clip560)\" style=\"stroke:#00a8cb; stroke-width:4; stroke-opacity:1; fill:none\" points=\"\n",
       "  1786.61,760.498 1931.8,760.498 \n",
       "  \"/>\n",
       "<path clip-path=\"url(#clip560)\" d=\"M 0 0 M1969.84 780.185 Q1968.04 784.815 1966.32 786.227 Q1964.61 787.639 1961.74 787.639 L1958.34 787.639 L1958.34 784.074 L1960.84 784.074 Q1962.6 784.074 1963.57 783.24 Q1964.54 782.407 1965.72 779.305 L1966.49 777.361 L1956 751.852 L1960.51 751.852 L1968.62 772.129 L1976.72 751.852 L1981.23 751.852 L1969.84 780.185 Z\" fill=\"#000000\" fill-rule=\"evenodd\" fill-opacity=\"1\" /><path clip-path=\"url(#clip560)\" d=\"M 0 0 M1987.11 773.842 L1994.75 773.842 L1994.75 747.477 L1986.44 749.143 L1986.44 744.884 L1994.7 743.218 L1999.38 743.218 L1999.38 773.842 L2007.02 773.842 L2007.02 777.778 L1987.11 777.778 L1987.11 773.842 Z\" fill=\"#000000\" fill-rule=\"evenodd\" fill-opacity=\"1\" /><path clip-path=\"url(#clip560)\" d=\"M 0 0 M2012.9 773.842 L2020.54 773.842 L2020.54 747.477 L2012.23 749.143 L2012.23 744.884 L2020.49 743.218 L2025.17 743.218 L2025.17 773.842 L2032.8 773.842 L2032.8 777.778 L2012.9 777.778 L2012.9 773.842 Z\" fill=\"#000000\" fill-rule=\"evenodd\" fill-opacity=\"1\" /><polyline clip-path=\"url(#clip560)\" style=\"stroke:#9b7fe8; stroke-width:4; stroke-opacity:1; fill:none\" points=\"\n",
       "  1786.61,820.978 1931.8,820.978 \n",
       "  \"/>\n",
       "<path clip-path=\"url(#clip560)\" d=\"M 0 0 M1969.84 840.665 Q1968.04 845.295 1966.32 846.707 Q1964.61 848.119 1961.74 848.119 L1958.34 848.119 L1958.34 844.554 L1960.84 844.554 Q1962.6 844.554 1963.57 843.72 Q1964.54 842.887 1965.72 839.785 L1966.49 837.841 L1956 812.332 L1960.51 812.332 L1968.62 832.609 L1976.72 812.332 L1981.23 812.332 L1969.84 840.665 Z\" fill=\"#000000\" fill-rule=\"evenodd\" fill-opacity=\"1\" /><path clip-path=\"url(#clip560)\" d=\"M 0 0 M1987.11 834.322 L1994.75 834.322 L1994.75 807.957 L1986.44 809.623 L1986.44 805.364 L1994.7 803.698 L1999.38 803.698 L1999.38 834.322 L2007.02 834.322 L2007.02 838.258 L1987.11 838.258 L1987.11 834.322 Z\" fill=\"#000000\" fill-rule=\"evenodd\" fill-opacity=\"1\" /><path clip-path=\"url(#clip560)\" d=\"M 0 0 M2016.11 834.322 L2032.43 834.322 L2032.43 838.258 L2010.49 838.258 L2010.49 834.322 Q2013.15 831.568 2017.74 826.938 Q2022.34 822.285 2023.52 820.943 Q2025.77 818.42 2026.65 816.684 Q2027.55 814.924 2027.55 813.235 Q2027.55 810.48 2025.61 808.744 Q2023.68 807.008 2020.58 807.008 Q2018.38 807.008 2015.93 807.772 Q2013.5 808.535 2010.72 810.086 L2010.72 805.364 Q2013.55 804.23 2016 803.651 Q2018.45 803.073 2020.49 803.073 Q2025.86 803.073 2029.05 805.758 Q2032.25 808.443 2032.25 812.934 Q2032.25 815.063 2031.44 816.985 Q2030.65 818.883 2028.55 821.475 Q2027.97 822.147 2024.86 825.364 Q2021.76 828.559 2016.11 834.322 Z\" fill=\"#000000\" fill-rule=\"evenodd\" fill-opacity=\"1\" /><polyline clip-path=\"url(#clip560)\" style=\"stroke:#608cf6; stroke-width:4; stroke-opacity:1; fill:none\" points=\"\n",
       "  1786.61,881.458 1931.8,881.458 \n",
       "  \"/>\n",
       "<path clip-path=\"url(#clip560)\" d=\"M 0 0 M1969.84 901.145 Q1968.04 905.775 1966.32 907.187 Q1964.61 908.599 1961.74 908.599 L1958.34 908.599 L1958.34 905.034 L1960.84 905.034 Q1962.6 905.034 1963.57 904.2 Q1964.54 903.367 1965.72 900.265 L1966.49 898.321 L1956 872.812 L1960.51 872.812 L1968.62 893.089 L1976.72 872.812 L1981.23 872.812 L1969.84 901.145 Z\" fill=\"#000000\" fill-rule=\"evenodd\" fill-opacity=\"1\" /><path clip-path=\"url(#clip560)\" d=\"M 0 0 M1987.11 894.802 L1994.75 894.802 L1994.75 868.437 L1986.44 870.103 L1986.44 865.844 L1994.7 864.178 L1999.38 864.178 L1999.38 894.802 L2007.02 894.802 L2007.02 898.738 L1987.11 898.738 L1987.11 894.802 Z\" fill=\"#000000\" fill-rule=\"evenodd\" fill-opacity=\"1\" /><path clip-path=\"url(#clip560)\" d=\"M 0 0 M2026.25 880.103 Q2029.61 880.821 2031.49 883.089 Q2033.38 885.358 2033.38 888.691 Q2033.38 893.807 2029.86 896.608 Q2026.35 899.409 2019.86 899.409 Q2017.69 899.409 2015.37 898.969 Q2013.08 898.552 2010.63 897.696 L2010.63 893.182 Q2012.57 894.316 2014.89 894.895 Q2017.2 895.474 2019.73 895.474 Q2024.12 895.474 2026.42 893.738 Q2028.73 892.001 2028.73 888.691 Q2028.73 885.636 2026.58 883.923 Q2024.45 882.187 2020.63 882.187 L2016.6 882.187 L2016.6 878.344 L2020.81 878.344 Q2024.26 878.344 2026.09 876.978 Q2027.92 875.59 2027.92 872.997 Q2027.92 870.335 2026.02 868.923 Q2024.15 867.488 2020.63 867.488 Q2018.71 867.488 2016.51 867.904 Q2014.31 868.321 2011.67 869.201 L2011.67 865.034 Q2014.33 864.293 2016.65 863.923 Q2018.99 863.553 2021.05 863.553 Q2026.37 863.553 2029.47 865.983 Q2032.57 868.39 2032.57 872.511 Q2032.57 875.381 2030.93 877.372 Q2029.29 879.34 2026.25 880.103 Z\" fill=\"#000000\" fill-rule=\"evenodd\" fill-opacity=\"1\" /><polyline clip-path=\"url(#clip560)\" style=\"stroke:#f05f73; stroke-width:4; stroke-opacity:1; fill:none\" points=\"\n",
       "  1786.61,941.938 1931.8,941.938 \n",
       "  \"/>\n",
       "<path clip-path=\"url(#clip560)\" d=\"M 0 0 M1969.84 961.625 Q1968.04 966.255 1966.32 967.667 Q1964.61 969.079 1961.74 969.079 L1958.34 969.079 L1958.34 965.514 L1960.84 965.514 Q1962.6 965.514 1963.57 964.68 Q1964.54 963.847 1965.72 960.745 L1966.49 958.801 L1956 933.292 L1960.51 933.292 L1968.62 953.569 L1976.72 933.292 L1981.23 933.292 L1969.84 961.625 Z\" fill=\"#000000\" fill-rule=\"evenodd\" fill-opacity=\"1\" /><path clip-path=\"url(#clip560)\" d=\"M 0 0 M1987.11 955.282 L1994.75 955.282 L1994.75 928.917 L1986.44 930.583 L1986.44 926.324 L1994.7 924.658 L1999.38 924.658 L1999.38 955.282 L2007.02 955.282 L2007.02 959.218 L1987.11 959.218 L1987.11 955.282 Z\" fill=\"#000000\" fill-rule=\"evenodd\" fill-opacity=\"1\" /><path clip-path=\"url(#clip560)\" d=\"M 0 0 M2024.93 928.732 L2013.13 947.181 L2024.93 947.181 L2024.93 928.732 M2023.71 924.658 L2029.59 924.658 L2029.59 947.181 L2034.52 947.181 L2034.52 951.069 L2029.59 951.069 L2029.59 959.218 L2024.93 959.218 L2024.93 951.069 L2009.33 951.069 L2009.33 946.556 L2023.71 924.658 Z\" fill=\"#000000\" fill-rule=\"evenodd\" fill-opacity=\"1\" /><polyline clip-path=\"url(#clip560)\" style=\"stroke:#dd64b5; stroke-width:4; stroke-opacity:1; fill:none\" points=\"\n",
       "  1786.61,1002.42 1931.8,1002.42 \n",
       "  \"/>\n",
       "<path clip-path=\"url(#clip560)\" d=\"M 0 0 M1969.84 1022.1 Q1968.04 1026.73 1966.32 1028.15 Q1964.61 1029.56 1961.74 1029.56 L1958.34 1029.56 L1958.34 1025.99 L1960.84 1025.99 Q1962.6 1025.99 1963.57 1025.16 Q1964.54 1024.33 1965.72 1021.23 L1966.49 1019.28 L1956 993.772 L1960.51 993.772 L1968.62 1014.05 L1976.72 993.772 L1981.23 993.772 L1969.84 1022.1 Z\" fill=\"#000000\" fill-rule=\"evenodd\" fill-opacity=\"1\" /><path clip-path=\"url(#clip560)\" d=\"M 0 0 M1987.11 1015.76 L1994.75 1015.76 L1994.75 989.397 L1986.44 991.063 L1986.44 986.804 L1994.7 985.138 L1999.38 985.138 L1999.38 1015.76 L2007.02 1015.76 L2007.02 1019.7 L1987.11 1019.7 L1987.11 1015.76 Z\" fill=\"#000000\" fill-rule=\"evenodd\" fill-opacity=\"1\" /><path clip-path=\"url(#clip560)\" d=\"M 0 0 M2012.13 985.138 L2030.49 985.138 L2030.49 989.073 L2016.42 989.073 L2016.42 997.545 Q2017.43 997.198 2018.45 997.036 Q2019.47 996.85 2020.49 996.85 Q2026.28 996.85 2029.66 1000.02 Q2033.04 1003.19 2033.04 1008.61 Q2033.04 1014.19 2029.56 1017.29 Q2026.09 1020.37 2019.77 1020.37 Q2017.6 1020.37 2015.33 1020 Q2013.08 1019.63 2010.68 1018.89 L2010.68 1014.19 Q2012.76 1015.32 2014.98 1015.88 Q2017.2 1016.43 2019.68 1016.43 Q2023.68 1016.43 2026.02 1014.33 Q2028.36 1012.22 2028.36 1008.61 Q2028.36 1005 2026.02 1002.89 Q2023.68 1000.79 2019.68 1000.79 Q2017.8 1000.79 2015.93 1001.2 Q2014.08 1001.62 2012.13 1002.5 L2012.13 985.138 Z\" fill=\"#000000\" fill-rule=\"evenodd\" fill-opacity=\"1\" /><polyline clip-path=\"url(#clip560)\" style=\"stroke:#6b9e32; stroke-width:4; stroke-opacity:1; fill:none\" points=\"\n",
       "  1786.61,1062.9 1931.8,1062.9 \n",
       "  \"/>\n",
       "<path clip-path=\"url(#clip560)\" d=\"M 0 0 M1969.84 1082.58 Q1968.04 1087.21 1966.32 1088.63 Q1964.61 1090.04 1961.74 1090.04 L1958.34 1090.04 L1958.34 1086.47 L1960.84 1086.47 Q1962.6 1086.47 1963.57 1085.64 Q1964.54 1084.81 1965.72 1081.71 L1966.49 1079.76 L1956 1054.25 L1960.51 1054.25 L1968.62 1074.53 L1976.72 1054.25 L1981.23 1054.25 L1969.84 1082.58 Z\" fill=\"#000000\" fill-rule=\"evenodd\" fill-opacity=\"1\" /><path clip-path=\"url(#clip560)\" d=\"M 0 0 M1987.11 1076.24 L1994.75 1076.24 L1994.75 1049.88 L1986.44 1051.54 L1986.44 1047.28 L1994.7 1045.62 L1999.38 1045.62 L1999.38 1076.24 L2007.02 1076.24 L2007.02 1080.18 L1987.11 1080.18 L1987.11 1076.24 Z\" fill=\"#000000\" fill-rule=\"evenodd\" fill-opacity=\"1\" /><path clip-path=\"url(#clip560)\" d=\"M 0 0 M2022.67 1061.03 Q2019.52 1061.03 2017.67 1063.19 Q2015.84 1065.34 2015.84 1069.09 Q2015.84 1072.82 2017.67 1074.99 Q2019.52 1077.15 2022.67 1077.15 Q2025.81 1077.15 2027.64 1074.99 Q2029.49 1072.82 2029.49 1069.09 Q2029.49 1065.34 2027.64 1063.19 Q2025.81 1061.03 2022.67 1061.03 M2031.95 1046.38 L2031.95 1050.64 Q2030.19 1049.81 2028.38 1049.37 Q2026.6 1048.93 2024.84 1048.93 Q2020.21 1048.93 2017.76 1052.05 Q2015.33 1055.18 2014.98 1061.5 Q2016.35 1059.48 2018.41 1058.42 Q2020.47 1057.33 2022.94 1057.33 Q2028.15 1057.33 2031.16 1060.5 Q2034.19 1063.65 2034.19 1069.09 Q2034.19 1074.41 2031.05 1077.63 Q2027.9 1080.85 2022.67 1080.85 Q2016.67 1080.85 2013.5 1076.27 Q2010.33 1071.66 2010.33 1062.93 Q2010.33 1054.74 2014.22 1049.88 Q2018.11 1044.99 2024.66 1044.99 Q2026.42 1044.99 2028.2 1045.34 Q2030 1045.69 2031.95 1046.38 Z\" fill=\"#000000\" fill-rule=\"evenodd\" fill-opacity=\"1\" /><polyline clip-path=\"url(#clip560)\" style=\"stroke:#009af9; stroke-width:4; stroke-opacity:1; fill:none\" points=\"\n",
       "  1786.61,1123.38 1931.8,1123.38 \n",
       "  \"/>\n",
       "<path clip-path=\"url(#clip560)\" d=\"M 0 0 M1969.84 1143.06 Q1968.04 1147.69 1966.32 1149.11 Q1964.61 1150.52 1961.74 1150.52 L1958.34 1150.52 L1958.34 1146.95 L1960.84 1146.95 Q1962.6 1146.95 1963.57 1146.12 Q1964.54 1145.29 1965.72 1142.19 L1966.49 1140.24 L1956 1114.73 L1960.51 1114.73 L1968.62 1135.01 L1976.72 1114.73 L1981.23 1114.73 L1969.84 1143.06 Z\" fill=\"#000000\" fill-rule=\"evenodd\" fill-opacity=\"1\" /><path clip-path=\"url(#clip560)\" d=\"M 0 0 M1987.11 1136.72 L1994.75 1136.72 L1994.75 1110.36 L1986.44 1112.02 L1986.44 1107.76 L1994.7 1106.1 L1999.38 1106.1 L1999.38 1136.72 L2007.02 1136.72 L2007.02 1140.66 L1987.11 1140.66 L1987.11 1136.72 Z\" fill=\"#000000\" fill-rule=\"evenodd\" fill-opacity=\"1\" /><path clip-path=\"url(#clip560)\" d=\"M 0 0 M2010.91 1106.1 L2033.13 1106.1 L2033.13 1108.09 L2020.58 1140.66 L2015.7 1140.66 L2027.5 1110.03 L2010.91 1110.03 L2010.91 1106.1 Z\" fill=\"#000000\" fill-rule=\"evenodd\" fill-opacity=\"1\" /><polyline clip-path=\"url(#clip560)\" style=\"stroke:#e26f46; stroke-width:4; stroke-opacity:1; fill:none\" points=\"\n",
       "  1786.61,1183.86 1931.8,1183.86 \n",
       "  \"/>\n",
       "<path clip-path=\"url(#clip560)\" d=\"M 0 0 M1969.84 1203.54 Q1968.04 1208.17 1966.32 1209.59 Q1964.61 1211 1961.74 1211 L1958.34 1211 L1958.34 1207.43 L1960.84 1207.43 Q1962.6 1207.43 1963.57 1206.6 Q1964.54 1205.77 1965.72 1202.67 L1966.49 1200.72 L1956 1175.21 L1960.51 1175.21 L1968.62 1195.49 L1976.72 1175.21 L1981.23 1175.21 L1969.84 1203.54 Z\" fill=\"#000000\" fill-rule=\"evenodd\" fill-opacity=\"1\" /><path clip-path=\"url(#clip560)\" d=\"M 0 0 M1987.11 1197.2 L1994.75 1197.2 L1994.75 1170.84 L1986.44 1172.5 L1986.44 1168.24 L1994.7 1166.58 L1999.38 1166.58 L1999.38 1197.2 L2007.02 1197.2 L2007.02 1201.14 L1987.11 1201.14 L1987.11 1197.2 Z\" fill=\"#000000\" fill-rule=\"evenodd\" fill-opacity=\"1\" /><path clip-path=\"url(#clip560)\" d=\"M 0 0 M2022.09 1184.73 Q2018.75 1184.73 2016.83 1186.51 Q2014.93 1188.29 2014.93 1191.42 Q2014.93 1194.54 2016.83 1196.32 Q2018.75 1198.11 2022.09 1198.11 Q2025.42 1198.11 2027.34 1196.32 Q2029.26 1194.52 2029.26 1191.42 Q2029.26 1188.29 2027.34 1186.51 Q2025.44 1184.73 2022.09 1184.73 M2017.41 1182.73 Q2014.4 1181.99 2012.71 1179.93 Q2011.05 1177.87 2011.05 1174.91 Q2011.05 1170.77 2013.99 1168.36 Q2016.95 1165.95 2022.09 1165.95 Q2027.25 1165.95 2030.19 1168.36 Q2033.13 1170.77 2033.13 1174.91 Q2033.13 1177.87 2031.44 1179.93 Q2029.77 1181.99 2026.79 1182.73 Q2030.17 1183.52 2032.04 1185.81 Q2033.94 1188.11 2033.94 1191.42 Q2033.94 1196.44 2030.86 1199.12 Q2027.8 1201.81 2022.09 1201.81 Q2016.37 1201.81 2013.29 1199.12 Q2010.24 1196.44 2010.24 1191.42 Q2010.24 1188.11 2012.13 1185.81 Q2014.03 1183.52 2017.41 1182.73 M2015.7 1175.35 Q2015.7 1178.04 2017.36 1179.54 Q2019.05 1181.05 2022.09 1181.05 Q2025.1 1181.05 2026.79 1179.54 Q2028.5 1178.04 2028.5 1175.35 Q2028.5 1172.67 2026.79 1171.16 Q2025.1 1169.66 2022.09 1169.66 Q2019.05 1169.66 2017.36 1171.16 Q2015.7 1172.67 2015.7 1175.35 Z\" fill=\"#000000\" fill-rule=\"evenodd\" fill-opacity=\"1\" /><polyline clip-path=\"url(#clip560)\" style=\"stroke:#3da44d; stroke-width:4; stroke-opacity:1; fill:none\" points=\"\n",
       "  1786.61,1244.34 1931.8,1244.34 \n",
       "  \"/>\n",
       "<path clip-path=\"url(#clip560)\" d=\"M 0 0 M1969.84 1264.02 Q1968.04 1268.65 1966.32 1270.07 Q1964.61 1271.48 1961.74 1271.48 L1958.34 1271.48 L1958.34 1267.91 L1960.84 1267.91 Q1962.6 1267.91 1963.57 1267.08 Q1964.54 1266.25 1965.72 1263.15 L1966.49 1261.2 L1956 1235.69 L1960.51 1235.69 L1968.62 1255.97 L1976.72 1235.69 L1981.23 1235.69 L1969.84 1264.02 Z\" fill=\"#000000\" fill-rule=\"evenodd\" fill-opacity=\"1\" /><path clip-path=\"url(#clip560)\" d=\"M 0 0 M1987.11 1257.68 L1994.75 1257.68 L1994.75 1231.32 L1986.44 1232.98 L1986.44 1228.72 L1994.7 1227.06 L1999.38 1227.06 L1999.38 1257.68 L2007.02 1257.68 L2007.02 1261.62 L1987.11 1261.62 L1987.11 1257.68 Z\" fill=\"#000000\" fill-rule=\"evenodd\" fill-opacity=\"1\" /><path clip-path=\"url(#clip560)\" d=\"M 0 0 M2012.23 1260.9 L2012.23 1256.64 Q2013.99 1257.47 2015.79 1257.91 Q2017.6 1258.35 2019.33 1258.35 Q2023.96 1258.35 2026.39 1255.25 Q2028.85 1252.13 2029.19 1245.78 Q2027.85 1247.78 2025.79 1248.84 Q2023.73 1249.9 2021.23 1249.9 Q2016.05 1249.9 2013.01 1246.78 Q2010 1243.63 2010 1238.19 Q2010 1232.87 2013.15 1229.65 Q2016.3 1226.43 2021.53 1226.43 Q2027.53 1226.43 2030.67 1231.04 Q2033.85 1235.62 2033.85 1244.37 Q2033.85 1252.54 2029.96 1257.43 Q2026.09 1262.29 2019.54 1262.29 Q2017.78 1262.29 2015.98 1261.94 Q2014.17 1261.59 2012.23 1260.9 M2021.53 1246.25 Q2024.68 1246.25 2026.51 1244.09 Q2028.36 1241.94 2028.36 1238.19 Q2028.36 1234.46 2026.51 1232.31 Q2024.68 1230.14 2021.53 1230.14 Q2018.38 1230.14 2016.53 1232.31 Q2014.7 1234.46 2014.7 1238.19 Q2014.7 1241.94 2016.53 1244.09 Q2018.38 1246.25 2021.53 1246.25 Z\" fill=\"#000000\" fill-rule=\"evenodd\" fill-opacity=\"1\" /><polyline clip-path=\"url(#clip560)\" style=\"stroke:#c271d2; stroke-width:4; stroke-opacity:1; fill:none\" points=\"\n",
       "  1786.61,1304.82 1931.8,1304.82 \n",
       "  \"/>\n",
       "<path clip-path=\"url(#clip560)\" d=\"M 0 0 M1969.84 1324.5 Q1968.04 1329.13 1966.32 1330.55 Q1964.61 1331.96 1961.74 1331.96 L1958.34 1331.96 L1958.34 1328.39 L1960.84 1328.39 Q1962.6 1328.39 1963.57 1327.56 Q1964.54 1326.73 1965.72 1323.63 L1966.49 1321.68 L1956 1296.17 L1960.51 1296.17 L1968.62 1316.45 L1976.72 1296.17 L1981.23 1296.17 L1969.84 1324.5 Z\" fill=\"#000000\" fill-rule=\"evenodd\" fill-opacity=\"1\" /><path clip-path=\"url(#clip560)\" d=\"M 0 0 M1990.33 1318.16 L2006.65 1318.16 L2006.65 1322.1 L1984.7 1322.1 L1984.7 1318.16 Q1987.36 1315.41 1991.95 1310.78 Q1996.55 1306.13 1997.74 1304.78 Q1999.98 1302.26 2000.86 1300.52 Q2001.76 1298.76 2001.76 1297.07 Q2001.76 1294.32 1999.82 1292.58 Q1997.9 1290.85 1994.8 1290.85 Q1992.6 1290.85 1990.14 1291.61 Q1987.71 1292.38 1984.93 1293.93 L1984.93 1289.2 Q1987.76 1288.07 1990.21 1287.49 Q1992.67 1286.91 1994.7 1286.91 Q2000.07 1286.91 2003.27 1289.6 Q2006.46 1292.28 2006.46 1296.77 Q2006.46 1298.9 2005.65 1300.82 Q2004.86 1302.72 2002.76 1305.32 Q2002.18 1305.99 1999.08 1309.2 Q1995.98 1312.4 1990.33 1318.16 Z\" fill=\"#000000\" fill-rule=\"evenodd\" fill-opacity=\"1\" /><path clip-path=\"url(#clip560)\" d=\"M 0 0 M2021.72 1290.62 Q2018.11 1290.62 2016.28 1294.18 Q2014.47 1297.72 2014.47 1304.85 Q2014.47 1311.96 2016.28 1315.52 Q2018.11 1319.07 2021.72 1319.07 Q2025.35 1319.07 2027.16 1315.52 Q2028.99 1311.96 2028.99 1304.85 Q2028.99 1297.72 2027.16 1294.18 Q2025.35 1290.62 2021.72 1290.62 M2021.72 1286.91 Q2027.53 1286.91 2030.58 1291.52 Q2033.66 1296.1 2033.66 1304.85 Q2033.66 1313.58 2030.58 1318.19 Q2027.53 1322.77 2021.72 1322.77 Q2015.91 1322.77 2012.83 1318.19 Q2009.77 1313.58 2009.77 1304.85 Q2009.77 1296.1 2012.83 1291.52 Q2015.91 1286.91 2021.72 1286.91 Z\" fill=\"#000000\" fill-rule=\"evenodd\" fill-opacity=\"1\" /><polyline clip-path=\"url(#clip560)\" style=\"stroke:#ac8d18; stroke-width:4; stroke-opacity:1; fill:none\" points=\"\n",
       "  1786.61,1365.3 1931.8,1365.3 \n",
       "  \"/>\n",
       "<path clip-path=\"url(#clip560)\" d=\"M 0 0 M1969.84 1384.98 Q1968.04 1389.61 1966.32 1391.03 Q1964.61 1392.44 1961.74 1392.44 L1958.34 1392.44 L1958.34 1388.87 L1960.84 1388.87 Q1962.6 1388.87 1963.57 1388.04 Q1964.54 1387.21 1965.72 1384.11 L1966.49 1382.16 L1956 1356.65 L1960.51 1356.65 L1968.62 1376.93 L1976.72 1356.65 L1981.23 1356.65 L1969.84 1384.98 Z\" fill=\"#000000\" fill-rule=\"evenodd\" fill-opacity=\"1\" /><path clip-path=\"url(#clip560)\" d=\"M 0 0 M1990.33 1378.64 L2006.65 1378.64 L2006.65 1382.58 L1984.7 1382.58 L1984.7 1378.64 Q1987.36 1375.89 1991.95 1371.26 Q1996.55 1366.61 1997.74 1365.26 Q1999.98 1362.74 2000.86 1361 Q2001.76 1359.24 2001.76 1357.55 Q2001.76 1354.8 1999.82 1353.06 Q1997.9 1351.33 1994.8 1351.33 Q1992.6 1351.33 1990.14 1352.09 Q1987.71 1352.86 1984.93 1354.41 L1984.93 1349.68 Q1987.76 1348.55 1990.21 1347.97 Q1992.67 1347.39 1994.7 1347.39 Q2000.07 1347.39 2003.27 1350.08 Q2006.46 1352.76 2006.46 1357.25 Q2006.46 1359.38 2005.65 1361.3 Q2004.86 1363.2 2002.76 1365.8 Q2002.18 1366.47 1999.08 1369.68 Q1995.98 1372.88 1990.33 1378.64 Z\" fill=\"#000000\" fill-rule=\"evenodd\" fill-opacity=\"1\" /><path clip-path=\"url(#clip560)\" d=\"M 0 0 M2012.53 1378.64 L2020.17 1378.64 L2020.17 1352.28 L2011.86 1353.94 L2011.86 1349.68 L2020.12 1348.02 L2024.8 1348.02 L2024.8 1378.64 L2032.43 1378.64 L2032.43 1382.58 L2012.53 1382.58 L2012.53 1378.64 Z\" fill=\"#000000\" fill-rule=\"evenodd\" fill-opacity=\"1\" /></svg>\n"
      ]
     },
     "execution_count": 102,
     "metadata": {},
     "output_type": "execute_result"
    }
   ],
   "source": [
    "plot(H_series, label = \"Deterministic\")\n",
    "for i in 1:20\n",
    "    d = d_m\n",
    "    H = heterozygosity(d_m)\n",
    "    H_sim = [H]\n",
    "    for year in 1:50\n",
    "        d = life_cycle(d)\n",
    "        H = heterozygosity(d)\n",
    "        push!(H_sim,H)\n",
    "    end   \n",
    "    plot!(H_sim)\n",
    "end\n",
    "current()"
   ]
  },
  {
   "cell_type": "code",
   "execution_count": 103,
   "metadata": {},
   "outputs": [],
   "source": [
    "d_large = make_deme(nn*10,1,α,nn*10,α/2)\n",
    "d_m_large = deepcopy(d_large)\n",
    "H_large = heterozygosity(d_large)\n",
    "H_sim_large = [H_large]\n",
    "H_series_large = [H_large]\n",
    "for i in 1:50\n",
    "    H_large = det_het(H_large,i,nn*10)\n",
    "    push!(H_series_large,H_large)\n",
    "end\n"
   ]
  },
  {
   "cell_type": "code",
   "execution_count": 104,
   "metadata": {},
   "outputs": [
    {
     "data": {
      "image/svg+xml": [
       "<?xml version=\"1.0\" encoding=\"utf-8\"?>\n",
       "<svg xmlns=\"http://www.w3.org/2000/svg\" xmlns:xlink=\"http://www.w3.org/1999/xlink\" width=\"600\" height=\"400\" viewBox=\"0 0 2400 1600\">\n",
       "<defs>\n",
       "  <clipPath id=\"clip600\">\n",
       "    <rect x=\"0\" y=\"0\" width=\"2400\" height=\"1600\"/>\n",
       "  </clipPath>\n",
       "</defs>\n",
       "<path clip-path=\"url(#clip600)\" d=\"\n",
       "M0 1600 L2400 1600 L2400 0 L0 0  Z\n",
       "  \" fill=\"#ffffff\" fill-rule=\"evenodd\" fill-opacity=\"1\"/>\n",
       "<defs>\n",
       "  <clipPath id=\"clip601\">\n",
       "    <rect x=\"480\" y=\"0\" width=\"1681\" height=\"1600\"/>\n",
       "  </clipPath>\n",
       "</defs>\n",
       "<path clip-path=\"url(#clip600)\" d=\"\n",
       "M173.635 1486.45 L2352.76 1486.45 L2352.76 47.2441 L173.635 47.2441  Z\n",
       "  \" fill=\"#ffffff\" fill-rule=\"evenodd\" fill-opacity=\"1\"/>\n",
       "<defs>\n",
       "  <clipPath id=\"clip602\">\n",
       "    <rect x=\"173\" y=\"47\" width=\"2180\" height=\"1440\"/>\n",
       "  </clipPath>\n",
       "</defs>\n",
       "<polyline clip-path=\"url(#clip602)\" style=\"stroke:#000000; stroke-width:2; stroke-opacity:0.1; fill:none\" points=\"\n",
       "  194.193,1486.45 194.193,47.2441 \n",
       "  \"/>\n",
       "<polyline clip-path=\"url(#clip602)\" style=\"stroke:#000000; stroke-width:2; stroke-opacity:0.1; fill:none\" points=\"\n",
       "  605.348,1486.45 605.348,47.2441 \n",
       "  \"/>\n",
       "<polyline clip-path=\"url(#clip602)\" style=\"stroke:#000000; stroke-width:2; stroke-opacity:0.1; fill:none\" points=\"\n",
       "  1016.5,1486.45 1016.5,47.2441 \n",
       "  \"/>\n",
       "<polyline clip-path=\"url(#clip602)\" style=\"stroke:#000000; stroke-width:2; stroke-opacity:0.1; fill:none\" points=\"\n",
       "  1427.66,1486.45 1427.66,47.2441 \n",
       "  \"/>\n",
       "<polyline clip-path=\"url(#clip602)\" style=\"stroke:#000000; stroke-width:2; stroke-opacity:0.1; fill:none\" points=\"\n",
       "  1838.81,1486.45 1838.81,47.2441 \n",
       "  \"/>\n",
       "<polyline clip-path=\"url(#clip602)\" style=\"stroke:#000000; stroke-width:2; stroke-opacity:0.1; fill:none\" points=\"\n",
       "  2249.97,1486.45 2249.97,47.2441 \n",
       "  \"/>\n",
       "<polyline clip-path=\"url(#clip602)\" style=\"stroke:#000000; stroke-width:2; stroke-opacity:0.1; fill:none\" points=\"\n",
       "  173.635,1217.62 2352.76,1217.62 \n",
       "  \"/>\n",
       "<polyline clip-path=\"url(#clip602)\" style=\"stroke:#000000; stroke-width:2; stroke-opacity:0.1; fill:none\" points=\"\n",
       "  173.635,841.073 2352.76,841.073 \n",
       "  \"/>\n",
       "<polyline clip-path=\"url(#clip602)\" style=\"stroke:#000000; stroke-width:2; stroke-opacity:0.1; fill:none\" points=\"\n",
       "  173.635,464.524 2352.76,464.524 \n",
       "  \"/>\n",
       "<polyline clip-path=\"url(#clip602)\" style=\"stroke:#000000; stroke-width:2; stroke-opacity:0.1; fill:none\" points=\"\n",
       "  173.635,87.9763 2352.76,87.9763 \n",
       "  \"/>\n",
       "<polyline clip-path=\"url(#clip600)\" style=\"stroke:#000000; stroke-width:4; stroke-opacity:1; fill:none\" points=\"\n",
       "  173.635,1486.45 2352.76,1486.45 \n",
       "  \"/>\n",
       "<polyline clip-path=\"url(#clip600)\" style=\"stroke:#000000; stroke-width:4; stroke-opacity:1; fill:none\" points=\"\n",
       "  173.635,1486.45 173.635,47.2441 \n",
       "  \"/>\n",
       "<polyline clip-path=\"url(#clip600)\" style=\"stroke:#000000; stroke-width:4; stroke-opacity:1; fill:none\" points=\"\n",
       "  194.193,1486.45 194.193,1469.18 \n",
       "  \"/>\n",
       "<polyline clip-path=\"url(#clip600)\" style=\"stroke:#000000; stroke-width:4; stroke-opacity:1; fill:none\" points=\"\n",
       "  605.348,1486.45 605.348,1469.18 \n",
       "  \"/>\n",
       "<polyline clip-path=\"url(#clip600)\" style=\"stroke:#000000; stroke-width:4; stroke-opacity:1; fill:none\" points=\"\n",
       "  1016.5,1486.45 1016.5,1469.18 \n",
       "  \"/>\n",
       "<polyline clip-path=\"url(#clip600)\" style=\"stroke:#000000; stroke-width:4; stroke-opacity:1; fill:none\" points=\"\n",
       "  1427.66,1486.45 1427.66,1469.18 \n",
       "  \"/>\n",
       "<polyline clip-path=\"url(#clip600)\" style=\"stroke:#000000; stroke-width:4; stroke-opacity:1; fill:none\" points=\"\n",
       "  1838.81,1486.45 1838.81,1469.18 \n",
       "  \"/>\n",
       "<polyline clip-path=\"url(#clip600)\" style=\"stroke:#000000; stroke-width:4; stroke-opacity:1; fill:none\" points=\"\n",
       "  2249.97,1486.45 2249.97,1469.18 \n",
       "  \"/>\n",
       "<polyline clip-path=\"url(#clip600)\" style=\"stroke:#000000; stroke-width:4; stroke-opacity:1; fill:none\" points=\"\n",
       "  173.635,1217.62 199.785,1217.62 \n",
       "  \"/>\n",
       "<polyline clip-path=\"url(#clip600)\" style=\"stroke:#000000; stroke-width:4; stroke-opacity:1; fill:none\" points=\"\n",
       "  173.635,841.073 199.785,841.073 \n",
       "  \"/>\n",
       "<polyline clip-path=\"url(#clip600)\" style=\"stroke:#000000; stroke-width:4; stroke-opacity:1; fill:none\" points=\"\n",
       "  173.635,464.524 199.785,464.524 \n",
       "  \"/>\n",
       "<polyline clip-path=\"url(#clip600)\" style=\"stroke:#000000; stroke-width:4; stroke-opacity:1; fill:none\" points=\"\n",
       "  173.635,87.9763 199.785,87.9763 \n",
       "  \"/>\n",
       "<path clip-path=\"url(#clip600)\" d=\"M 0 0 M194.193 1508.44 Q190.582 1508.44 188.753 1512 Q186.948 1515.55 186.948 1522.67 Q186.948 1529.78 188.753 1533.35 Q190.582 1536.89 194.193 1536.89 Q197.827 1536.89 199.633 1533.35 Q201.461 1529.78 201.461 1522.67 Q201.461 1515.55 199.633 1512 Q197.827 1508.44 194.193 1508.44 M194.193 1504.73 Q200.003 1504.73 203.059 1509.34 Q206.137 1513.92 206.137 1522.67 Q206.137 1531.4 203.059 1536.01 Q200.003 1540.59 194.193 1540.59 Q188.383 1540.59 185.304 1536.01 Q182.249 1531.4 182.249 1522.67 Q182.249 1513.92 185.304 1509.34 Q188.383 1504.73 194.193 1504.73 Z\" fill=\"#000000\" fill-rule=\"evenodd\" fill-opacity=\"1\" /><path clip-path=\"url(#clip600)\" d=\"M 0 0 M582.223 1535.98 L589.862 1535.98 L589.862 1509.62 L581.552 1511.29 L581.552 1507.03 L589.815 1505.36 L594.491 1505.36 L594.491 1535.98 L602.13 1535.98 L602.13 1539.92 L582.223 1539.92 L582.223 1535.98 Z\" fill=\"#000000\" fill-rule=\"evenodd\" fill-opacity=\"1\" /><path clip-path=\"url(#clip600)\" d=\"M 0 0 M617.2 1508.44 Q613.588 1508.44 611.76 1512 Q609.954 1515.55 609.954 1522.67 Q609.954 1529.78 611.76 1533.35 Q613.588 1536.89 617.2 1536.89 Q620.834 1536.89 622.639 1533.35 Q624.468 1529.78 624.468 1522.67 Q624.468 1515.55 622.639 1512 Q620.834 1508.44 617.2 1508.44 M617.2 1504.73 Q623.01 1504.73 626.065 1509.34 Q629.144 1513.92 629.144 1522.67 Q629.144 1531.4 626.065 1536.01 Q623.01 1540.59 617.2 1540.59 Q611.389 1540.59 608.311 1536.01 Q605.255 1531.4 605.255 1522.67 Q605.255 1513.92 608.311 1509.34 Q611.389 1504.73 617.2 1504.73 Z\" fill=\"#000000\" fill-rule=\"evenodd\" fill-opacity=\"1\" /><path clip-path=\"url(#clip600)\" d=\"M 0 0 M997.649 1535.98 L1013.97 1535.98 L1013.97 1539.92 L992.024 1539.92 L992.024 1535.98 Q994.686 1533.23 999.269 1528.6 Q1003.88 1523.95 1005.06 1522.61 Q1007.3 1520.08 1008.18 1518.35 Q1009.08 1516.59 1009.08 1514.9 Q1009.08 1512.14 1007.14 1510.41 Q1005.22 1508.67 1002.12 1508.67 Q999.917 1508.67 997.463 1509.43 Q995.033 1510.2 992.255 1511.75 L992.255 1507.03 Q995.079 1505.89 997.533 1505.31 Q999.987 1504.73 1002.02 1504.73 Q1007.39 1504.73 1010.59 1507.42 Q1013.78 1510.11 1013.78 1514.6 Q1013.78 1516.73 1012.97 1518.65 Q1012.19 1520.54 1010.08 1523.14 Q1009.5 1523.81 1006.4 1527.03 Q1003.3 1530.22 997.649 1535.98 Z\" fill=\"#000000\" fill-rule=\"evenodd\" fill-opacity=\"1\" /><path clip-path=\"url(#clip600)\" d=\"M 0 0 M1029.04 1508.44 Q1025.43 1508.44 1023.6 1512 Q1021.79 1515.55 1021.79 1522.67 Q1021.79 1529.78 1023.6 1533.35 Q1025.43 1536.89 1029.04 1536.89 Q1032.67 1536.89 1034.48 1533.35 Q1036.31 1529.78 1036.31 1522.67 Q1036.31 1515.55 1034.48 1512 Q1032.67 1508.44 1029.04 1508.44 M1029.04 1504.73 Q1034.85 1504.73 1037.9 1509.34 Q1040.98 1513.92 1040.98 1522.67 Q1040.98 1531.4 1037.9 1536.01 Q1034.85 1540.59 1029.04 1540.59 Q1023.23 1540.59 1020.15 1536.01 Q1017.09 1531.4 1017.09 1522.67 Q1017.09 1513.92 1020.15 1509.34 Q1023.23 1504.73 1029.04 1504.73 Z\" fill=\"#000000\" fill-rule=\"evenodd\" fill-opacity=\"1\" /><path clip-path=\"url(#clip600)\" d=\"M 0 0 M1418.4 1521.29 Q1421.75 1522 1423.63 1524.27 Q1425.53 1526.54 1425.53 1529.87 Q1425.53 1534.99 1422.01 1537.79 Q1418.49 1540.59 1412.01 1540.59 Q1409.83 1540.59 1407.52 1540.15 Q1405.23 1539.73 1402.77 1538.88 L1402.77 1534.36 Q1404.72 1535.5 1407.03 1536.08 Q1409.35 1536.66 1411.87 1536.66 Q1416.27 1536.66 1418.56 1534.92 Q1420.88 1533.18 1420.88 1529.87 Q1420.88 1526.82 1418.72 1525.11 Q1416.59 1523.37 1412.77 1523.37 L1408.75 1523.37 L1408.75 1519.53 L1412.96 1519.53 Q1416.41 1519.53 1418.24 1518.16 Q1420.06 1516.77 1420.06 1514.18 Q1420.06 1511.52 1418.17 1510.11 Q1416.29 1508.67 1412.77 1508.67 Q1410.85 1508.67 1408.65 1509.09 Q1406.45 1509.5 1403.82 1510.38 L1403.82 1506.22 Q1406.48 1505.48 1408.79 1505.11 Q1411.13 1504.73 1413.19 1504.73 Q1418.51 1504.73 1421.62 1507.17 Q1424.72 1509.57 1424.72 1513.69 Q1424.72 1516.56 1423.07 1518.55 Q1421.43 1520.52 1418.4 1521.29 Z\" fill=\"#000000\" fill-rule=\"evenodd\" fill-opacity=\"1\" /><path clip-path=\"url(#clip600)\" d=\"M 0 0 M1440.6 1508.44 Q1436.99 1508.44 1435.16 1512 Q1433.35 1515.55 1433.35 1522.67 Q1433.35 1529.78 1435.16 1533.35 Q1436.99 1536.89 1440.6 1536.89 Q1444.23 1536.89 1446.04 1533.35 Q1447.87 1529.78 1447.87 1522.67 Q1447.87 1515.55 1446.04 1512 Q1444.23 1508.44 1440.6 1508.44 M1440.6 1504.73 Q1446.41 1504.73 1449.46 1509.34 Q1452.54 1513.92 1452.54 1522.67 Q1452.54 1531.4 1449.46 1536.01 Q1446.41 1540.59 1440.6 1540.59 Q1434.79 1540.59 1431.71 1536.01 Q1428.65 1531.4 1428.65 1522.67 Q1428.65 1513.92 1431.71 1509.34 Q1434.79 1504.73 1440.6 1504.73 Z\" fill=\"#000000\" fill-rule=\"evenodd\" fill-opacity=\"1\" /><path clip-path=\"url(#clip600)\" d=\"M 0 0 M1828.31 1509.43 L1816.51 1527.88 L1828.31 1527.88 L1828.31 1509.43 M1827.09 1505.36 L1832.97 1505.36 L1832.97 1527.88 L1837.9 1527.88 L1837.9 1531.77 L1832.97 1531.77 L1832.97 1539.92 L1828.31 1539.92 L1828.31 1531.77 L1812.71 1531.77 L1812.71 1527.26 L1827.09 1505.36 Z\" fill=\"#000000\" fill-rule=\"evenodd\" fill-opacity=\"1\" /><path clip-path=\"url(#clip600)\" d=\"M 0 0 M1852.97 1508.44 Q1849.36 1508.44 1847.53 1512 Q1845.72 1515.55 1845.72 1522.67 Q1845.72 1529.78 1847.53 1533.35 Q1849.36 1536.89 1852.97 1536.89 Q1856.6 1536.89 1858.41 1533.35 Q1860.24 1529.78 1860.24 1522.67 Q1860.24 1515.55 1858.41 1512 Q1856.6 1508.44 1852.97 1508.44 M1852.97 1504.73 Q1858.78 1504.73 1861.83 1509.34 Q1864.91 1513.92 1864.91 1522.67 Q1864.91 1531.4 1861.83 1536.01 Q1858.78 1540.59 1852.97 1540.59 Q1847.16 1540.59 1844.08 1536.01 Q1841.02 1531.4 1841.02 1522.67 Q1841.02 1513.92 1844.08 1509.34 Q1847.16 1504.73 1852.97 1504.73 Z\" fill=\"#000000\" fill-rule=\"evenodd\" fill-opacity=\"1\" /><path clip-path=\"url(#clip600)\" d=\"M 0 0 M2226.74 1505.36 L2245.09 1505.36 L2245.09 1509.3 L2231.02 1509.3 L2231.02 1517.77 Q2232.04 1517.42 2233.06 1517.26 Q2234.08 1517.07 2235.09 1517.07 Q2240.88 1517.07 2244.26 1520.24 Q2247.64 1523.42 2247.64 1528.83 Q2247.64 1534.41 2244.17 1537.51 Q2240.7 1540.59 2234.38 1540.59 Q2232.2 1540.59 2229.93 1540.22 Q2227.69 1539.85 2225.28 1539.11 L2225.28 1534.41 Q2227.36 1535.54 2229.59 1536.1 Q2231.81 1536.66 2234.28 1536.66 Q2238.29 1536.66 2240.63 1534.55 Q2242.96 1532.44 2242.96 1528.83 Q2242.96 1525.22 2240.63 1523.11 Q2238.29 1521.01 2234.28 1521.01 Q2232.41 1521.01 2230.53 1521.42 Q2228.68 1521.84 2226.74 1522.72 L2226.74 1505.36 Z\" fill=\"#000000\" fill-rule=\"evenodd\" fill-opacity=\"1\" /><path clip-path=\"url(#clip600)\" d=\"M 0 0 M2262.71 1508.44 Q2259.1 1508.44 2257.27 1512 Q2255.46 1515.55 2255.46 1522.67 Q2255.46 1529.78 2257.27 1533.35 Q2259.1 1536.89 2262.71 1536.89 Q2266.34 1536.89 2268.15 1533.35 Q2269.98 1529.78 2269.98 1522.67 Q2269.98 1515.55 2268.15 1512 Q2266.34 1508.44 2262.71 1508.44 M2262.71 1504.73 Q2268.52 1504.73 2271.58 1509.34 Q2274.65 1513.92 2274.65 1522.67 Q2274.65 1531.4 2271.58 1536.01 Q2268.52 1540.59 2262.71 1540.59 Q2256.9 1540.59 2253.82 1536.01 Q2250.77 1531.4 2250.77 1522.67 Q2250.77 1513.92 2253.82 1509.34 Q2256.9 1504.73 2262.71 1504.73 Z\" fill=\"#000000\" fill-rule=\"evenodd\" fill-opacity=\"1\" /><path clip-path=\"url(#clip600)\" d=\"M 0 0 M74.9365 1203.42 Q71.3254 1203.42 69.4967 1206.98 Q67.6912 1210.53 67.6912 1217.66 Q67.6912 1224.76 69.4967 1228.33 Q71.3254 1231.87 74.9365 1231.87 Q78.5707 1231.87 80.3763 1228.33 Q82.205 1224.76 82.205 1217.66 Q82.205 1210.53 80.3763 1206.98 Q78.5707 1203.42 74.9365 1203.42 M74.9365 1199.72 Q80.7467 1199.72 83.8022 1204.32 Q86.8809 1208.91 86.8809 1217.66 Q86.8809 1226.38 83.8022 1230.99 Q80.7467 1235.57 74.9365 1235.57 Q69.1264 1235.57 66.0477 1230.99 Q62.9921 1226.38 62.9921 1217.66 Q62.9921 1208.91 66.0477 1204.32 Q69.1264 1199.72 74.9365 1199.72 Z\" fill=\"#000000\" fill-rule=\"evenodd\" fill-opacity=\"1\" /><path clip-path=\"url(#clip600)\" d=\"M 0 0 M91.9503 1229.02 L96.8345 1229.02 L96.8345 1234.9 L91.9503 1234.9 L91.9503 1229.02 Z\" fill=\"#000000\" fill-rule=\"evenodd\" fill-opacity=\"1\" /><path clip-path=\"url(#clip600)\" d=\"M 0 0 M102.714 1230.97 L110.353 1230.97 L110.353 1204.6 L102.043 1206.27 L102.043 1202.01 L110.307 1200.34 L114.983 1200.34 L114.983 1230.97 L122.621 1230.97 L122.621 1234.9 L102.714 1234.9 L102.714 1230.97 Z\" fill=\"#000000\" fill-rule=\"evenodd\" fill-opacity=\"1\" /><path clip-path=\"url(#clip600)\" d=\"M 0 0 M137.691 1203.42 Q134.08 1203.42 132.251 1206.98 Q130.445 1210.53 130.445 1217.66 Q130.445 1224.76 132.251 1228.33 Q134.08 1231.87 137.691 1231.87 Q141.325 1231.87 143.131 1228.33 Q144.959 1224.76 144.959 1217.66 Q144.959 1210.53 143.131 1206.98 Q141.325 1203.42 137.691 1203.42 M137.691 1199.72 Q143.501 1199.72 146.556 1204.32 Q149.635 1208.91 149.635 1217.66 Q149.635 1226.38 146.556 1230.99 Q143.501 1235.57 137.691 1235.57 Q131.881 1235.57 128.802 1230.99 Q125.746 1226.38 125.746 1217.66 Q125.746 1208.91 128.802 1204.32 Q131.881 1199.72 137.691 1199.72 Z\" fill=\"#000000\" fill-rule=\"evenodd\" fill-opacity=\"1\" /><path clip-path=\"url(#clip600)\" d=\"M 0 0 M75.9319 826.871 Q72.3208 826.871 70.4921 830.436 Q68.6865 833.978 68.6865 841.107 Q68.6865 848.214 70.4921 851.779 Q72.3208 855.32 75.9319 855.32 Q79.5661 855.32 81.3717 851.779 Q83.2004 848.214 83.2004 841.107 Q83.2004 833.978 81.3717 830.436 Q79.5661 826.871 75.9319 826.871 M75.9319 823.168 Q81.742 823.168 84.7976 827.774 Q87.8763 832.357 87.8763 841.107 Q87.8763 849.834 84.7976 854.441 Q81.742 859.024 75.9319 859.024 Q70.1217 859.024 67.043 854.441 Q63.9875 849.834 63.9875 841.107 Q63.9875 832.357 67.043 827.774 Q70.1217 823.168 75.9319 823.168 Z\" fill=\"#000000\" fill-rule=\"evenodd\" fill-opacity=\"1\" /><path clip-path=\"url(#clip600)\" d=\"M 0 0 M92.9457 852.473 L97.8299 852.473 L97.8299 858.353 L92.9457 858.353 L92.9457 852.473 Z\" fill=\"#000000\" fill-rule=\"evenodd\" fill-opacity=\"1\" /><path clip-path=\"url(#clip600)\" d=\"M 0 0 M103.71 854.417 L111.348 854.417 L111.348 828.052 L103.038 829.718 L103.038 825.459 L111.302 823.793 L115.978 823.793 L115.978 854.417 L123.617 854.417 L123.617 858.353 L103.71 858.353 L103.71 854.417 Z\" fill=\"#000000\" fill-rule=\"evenodd\" fill-opacity=\"1\" /><path clip-path=\"url(#clip600)\" d=\"M 0 0 M128.733 823.793 L147.089 823.793 L147.089 827.728 L133.015 827.728 L133.015 836.2 Q134.033 835.853 135.052 835.691 Q136.07 835.505 137.089 835.505 Q142.876 835.505 146.256 838.677 Q149.635 841.848 149.635 847.265 Q149.635 852.843 146.163 855.945 Q142.691 859.024 136.371 859.024 Q134.195 859.024 131.927 858.654 Q129.682 858.283 127.274 857.542 L127.274 852.843 Q129.358 853.978 131.58 854.533 Q133.802 855.089 136.279 855.089 Q140.283 855.089 142.621 852.982 Q144.959 850.876 144.959 847.265 Q144.959 843.654 142.621 841.547 Q140.283 839.441 136.279 839.441 Q134.404 839.441 132.529 839.857 Q130.677 840.274 128.733 841.154 L128.733 823.793 Z\" fill=\"#000000\" fill-rule=\"evenodd\" fill-opacity=\"1\" /><path clip-path=\"url(#clip600)\" d=\"M 0 0 M75.3069 450.323 Q71.6958 450.323 69.8671 453.888 Q68.0615 457.43 68.0615 464.559 Q68.0615 471.666 69.8671 475.23 Q71.6958 478.772 75.3069 478.772 Q78.9411 478.772 80.7467 475.23 Q82.5754 471.666 82.5754 464.559 Q82.5754 457.43 80.7467 453.888 Q78.9411 450.323 75.3069 450.323 M75.3069 446.619 Q81.117 446.619 84.1726 451.226 Q87.2513 455.809 87.2513 464.559 Q87.2513 473.286 84.1726 477.892 Q81.117 482.476 75.3069 482.476 Q69.4967 482.476 66.418 477.892 Q63.3625 473.286 63.3625 464.559 Q63.3625 455.809 66.418 451.226 Q69.4967 446.619 75.3069 446.619 Z\" fill=\"#000000\" fill-rule=\"evenodd\" fill-opacity=\"1\" /><path clip-path=\"url(#clip600)\" d=\"M 0 0 M92.3207 475.925 L97.2049 475.925 L97.2049 481.804 L92.3207 481.804 L92.3207 475.925 Z\" fill=\"#000000\" fill-rule=\"evenodd\" fill-opacity=\"1\" /><path clip-path=\"url(#clip600)\" d=\"M 0 0 M106.302 477.869 L122.621 477.869 L122.621 481.804 L100.677 481.804 L100.677 477.869 Q103.339 475.115 107.922 470.485 Q112.529 465.832 113.709 464.49 Q115.955 461.967 116.834 460.23 Q117.737 458.471 117.737 456.781 Q117.737 454.027 115.793 452.291 Q113.871 450.555 110.77 450.555 Q108.571 450.555 106.117 451.318 Q103.686 452.082 100.909 453.633 L100.909 448.911 Q103.733 447.777 106.186 447.198 Q108.64 446.619 110.677 446.619 Q116.047 446.619 119.242 449.305 Q122.436 451.99 122.436 456.48 Q122.436 458.61 121.626 460.531 Q120.839 462.43 118.733 465.022 Q118.154 465.693 115.052 468.911 Q111.95 472.105 106.302 477.869 Z\" fill=\"#000000\" fill-rule=\"evenodd\" fill-opacity=\"1\" /><path clip-path=\"url(#clip600)\" d=\"M 0 0 M137.691 450.323 Q134.08 450.323 132.251 453.888 Q130.445 457.43 130.445 464.559 Q130.445 471.666 132.251 475.23 Q134.08 478.772 137.691 478.772 Q141.325 478.772 143.131 475.23 Q144.959 471.666 144.959 464.559 Q144.959 457.43 143.131 453.888 Q141.325 450.323 137.691 450.323 M137.691 446.619 Q143.501 446.619 146.556 451.226 Q149.635 455.809 149.635 464.559 Q149.635 473.286 146.556 477.892 Q143.501 482.476 137.691 482.476 Q131.881 482.476 128.802 477.892 Q125.746 473.286 125.746 464.559 Q125.746 455.809 128.802 451.226 Q131.881 446.619 137.691 446.619 Z\" fill=\"#000000\" fill-rule=\"evenodd\" fill-opacity=\"1\" /><path clip-path=\"url(#clip600)\" d=\"M 0 0 M76.3022 73.775 Q72.6911 73.775 70.8625 77.3398 Q69.0569 80.8814 69.0569 88.011 Q69.0569 95.1174 70.8625 98.6822 Q72.6911 102.224 76.3022 102.224 Q79.9365 102.224 81.742 98.6822 Q83.5707 95.1174 83.5707 88.011 Q83.5707 80.8814 81.742 77.3398 Q79.9365 73.775 76.3022 73.775 M76.3022 70.0713 Q82.1124 70.0713 85.1679 74.6777 Q88.2466 79.261 88.2466 88.011 Q88.2466 96.7378 85.1679 101.344 Q82.1124 105.928 76.3022 105.928 Q70.4921 105.928 67.4134 101.344 Q64.3579 96.7378 64.3579 88.011 Q64.3579 79.261 67.4134 74.6777 Q70.4921 70.0713 76.3022 70.0713 Z\" fill=\"#000000\" fill-rule=\"evenodd\" fill-opacity=\"1\" /><path clip-path=\"url(#clip600)\" d=\"M 0 0 M93.316 99.3767 L98.2003 99.3767 L98.2003 105.256 L93.316 105.256 L93.316 99.3767 Z\" fill=\"#000000\" fill-rule=\"evenodd\" fill-opacity=\"1\" /><path clip-path=\"url(#clip600)\" d=\"M 0 0 M107.297 101.321 L123.617 101.321 L123.617 105.256 L101.672 105.256 L101.672 101.321 Q104.334 98.5665 108.918 93.9369 Q113.524 89.2841 114.705 87.9416 Q116.95 85.4184 117.83 83.6823 Q118.733 81.9231 118.733 80.2333 Q118.733 77.4786 116.788 75.7425 Q114.867 74.0064 111.765 74.0064 Q109.566 74.0064 107.112 74.7703 Q104.682 75.5342 101.904 77.0851 L101.904 72.3629 Q104.728 71.2287 107.182 70.65 Q109.635 70.0713 111.672 70.0713 Q117.043 70.0713 120.237 72.7565 Q123.432 75.4416 123.432 79.9323 Q123.432 82.062 122.621 83.9832 Q121.834 85.8814 119.728 88.474 Q119.149 89.1453 116.047 92.3628 Q112.946 95.5573 107.297 101.321 Z\" fill=\"#000000\" fill-rule=\"evenodd\" fill-opacity=\"1\" /><path clip-path=\"url(#clip600)\" d=\"M 0 0 M128.733 70.6963 L147.089 70.6963 L147.089 74.6314 L133.015 74.6314 L133.015 83.1036 Q134.033 82.7564 135.052 82.5944 Q136.07 82.4092 137.089 82.4092 Q142.876 82.4092 146.256 85.5805 Q149.635 88.7517 149.635 94.1684 Q149.635 99.747 146.163 102.849 Q142.691 105.928 136.371 105.928 Q134.195 105.928 131.927 105.557 Q129.682 105.187 127.274 104.446 L127.274 99.747 Q129.358 100.881 131.58 101.437 Q133.802 101.992 136.279 101.992 Q140.283 101.992 142.621 99.8859 Q144.959 97.7795 144.959 94.1684 Q144.959 90.5573 142.621 88.4508 Q140.283 86.3443 136.279 86.3443 Q134.404 86.3443 132.529 86.761 Q130.677 87.1777 128.733 88.0573 L128.733 70.6963 Z\" fill=\"#000000\" fill-rule=\"evenodd\" fill-opacity=\"1\" /><polyline clip-path=\"url(#clip602)\" style=\"stroke:#009af9; stroke-width:4; stroke-opacity:1; fill:none\" points=\"\n",
       "  235.308,90.695 276.424,92.575 317.539,96.3294 358.655,101.947 399.77,109.411 440.886,118.699 482.001,129.783 523.117,142.631 564.232,157.205 605.348,173.461 \n",
       "  646.463,191.353 687.579,210.828 728.694,231.831 769.81,254.302 810.925,278.176 852.041,303.387 893.156,329.865 934.272,357.538 975.387,386.329 1016.5,416.163 \n",
       "  1057.62,446.961 1098.73,478.642 1139.85,511.125 1180.96,544.329 1222.08,578.171 1263.2,612.571 1304.31,647.444 1345.43,682.712 1386.54,718.294 1427.66,754.11 \n",
       "  1468.77,790.084 1509.89,826.14 1551,862.204 1592.12,898.206 1633.23,934.076 1674.35,969.748 1715.47,1005.16 1756.58,1040.25 1797.7,1074.96 1838.81,1109.24 \n",
       "  1879.93,1143.04 1921.04,1176.3 1962.16,1208.99 2003.27,1241.07 2044.39,1272.49 2085.51,1303.23 2126.62,1333.25 2167.74,1362.53 2208.85,1391.05 2249.97,1418.78 \n",
       "  2291.08,1445.72 \n",
       "  \"/>\n",
       "<polyline clip-path=\"url(#clip602)\" style=\"stroke:#e26f46; stroke-width:4; stroke-opacity:1; fill:none\" points=\"\n",
       "  235.308,90.695 276.424,89.8813 317.539,88.7969 358.655,88.1572 399.77,95.1503 440.886,98.9827 482.001,106.804 523.117,123.759 564.232,115.776 605.348,99.9778 \n",
       "  646.463,109.442 687.579,110.258 728.694,101.051 769.81,103.288 810.925,121.514 852.041,121.254 893.156,140.903 934.272,157.013 975.387,160.672 1016.5,167.826 \n",
       "  1057.62,155.444 1098.73,124.559 1139.85,145.374 1180.96,115.306 1222.08,114.637 1263.2,112.327 1304.31,108.491 1345.43,110.473 1386.54,115.37 1427.66,116.925 \n",
       "  1468.77,94.3899 1509.89,97.7409 1551,102.184 1592.12,124.412 1633.23,120.18 1674.35,129.623 1715.47,155.888 1756.58,136.314 1797.7,160.015 1838.81,205.648 \n",
       "  1879.93,232.675 1921.04,238.025 1962.16,223.836 2003.27,204.259 2044.39,217.37 2085.51,222.663 2126.62,231.323 2167.74,183.756 2208.85,215.139 2249.97,195.151 \n",
       "  2291.08,194.016 \n",
       "  \"/>\n",
       "<polyline clip-path=\"url(#clip602)\" style=\"stroke:#3da44d; stroke-width:4; stroke-opacity:1; fill:none\" points=\"\n",
       "  235.308,90.695 276.424,91.7103 317.539,90.8945 358.655,91.5779 399.77,92.0023 440.886,88.1789 482.001,90.4558 523.117,91.506 564.232,90.6982 605.348,102.159 \n",
       "  646.463,107.874 687.579,115.776 728.694,96.829 769.81,101.681 810.925,111.22 852.041,96.2464 893.156,101.15 934.272,89.7384 975.387,98.5946 1016.5,89.3358 \n",
       "  1057.62,92.5722 1098.73,88.331 1139.85,98.9287 1180.96,99.4229 1222.08,123.321 1263.2,115.264 1304.31,120.673 1345.43,110.093 1386.54,106.804 1427.66,108.878 \n",
       "  1468.77,102.331 1509.89,115.125 1551,115.338 1592.12,93.4011 1633.23,87.9847 1674.35,89.0145 1715.47,87.9836 1756.58,88.1544 1797.7,88.4741 1838.81,96.0719 \n",
       "  1879.93,108.922 1921.04,153.347 1962.16,130.124 2003.27,129.503 2044.39,132.002 2085.51,121.719 2126.62,134.725 2167.74,158.32 2208.85,154.166 2249.97,193.258 \n",
       "  2291.08,219.114 \n",
       "  \"/>\n",
       "<polyline clip-path=\"url(#clip602)\" style=\"stroke:#c271d2; stroke-width:4; stroke-opacity:1; fill:none\" points=\"\n",
       "  235.308,90.695 276.424,93.9185 317.539,88.2621 358.655,87.9763 399.77,88.1707 440.886,88.048 482.001,88.1668 523.117,88.2463 564.232,91.3077 605.348,90.6573 \n",
       "  646.463,87.9763 687.579,88.8839 728.694,87.9835 769.81,88.1623 810.925,88.4359 852.041,102.939 893.156,112.713 934.272,108.043 975.387,119.197 1016.5,90.9293 \n",
       "  1057.62,89.4642 1098.73,88.1715 1139.85,88.3513 1180.96,88.0477 1222.08,90.2705 1263.2,92.4651 1304.31,93.7397 1345.43,94.948 1386.54,92.4476 1427.66,94.571 \n",
       "  1468.77,92.6272 1509.89,100.354 1551,106.584 1592.12,91.9645 1633.23,93.4227 1674.35,100.695 1715.47,110.941 1756.58,130.338 1797.7,131.972 1838.81,156.284 \n",
       "  1879.93,121.995 1921.04,120.409 1962.16,141.354 2003.27,118.351 2044.39,108.838 2085.51,117.629 2126.62,124.966 2167.74,109.231 2208.85,125.78 2249.97,118.474 \n",
       "  2291.08,146.223 \n",
       "  \"/>\n",
       "<polyline clip-path=\"url(#clip602)\" style=\"stroke:#ac8d18; stroke-width:4; stroke-opacity:1; fill:none\" points=\"\n",
       "  235.308,90.695 276.424,88.8359 317.539,90.0858 358.655,89.5309 399.77,93.9334 440.886,88.9251 482.001,88.8556 523.117,89.9439 564.232,104.368 605.348,92.9378 \n",
       "  646.463,88.8352 687.579,90.8604 728.694,92.6644 769.81,97.3775 810.925,105.019 852.041,109.619 893.156,114.681 934.272,136.413 975.387,115.75 1016.5,140.275 \n",
       "  1057.62,127.649 1098.73,132.538 1139.85,138.852 1180.96,155.002 1222.08,156.49 1263.2,127.017 1304.31,130.894 1345.43,131.843 1386.54,121.933 1427.66,118.578 \n",
       "  1468.77,92.0493 1509.89,87.9835 1551,88.3324 1592.12,88.0939 1633.23,88.7416 1674.35,88.4069 1715.47,89.8965 1756.58,91.2579 1797.7,101.051 1838.81,93.9334 \n",
       "  1879.93,96.9875 1921.04,95.859 1962.16,96.412 2003.27,97.8546 2044.39,96.6821 2085.51,97.4227 2126.62,95.3002 2167.74,101.498 2208.85,116.81 2249.97,110.22 \n",
       "  2291.08,107.61 \n",
       "  \"/>\n",
       "<polyline clip-path=\"url(#clip602)\" style=\"stroke:#00a9ad; stroke-width:4; stroke-opacity:1; fill:none\" points=\"\n",
       "  235.308,90.695 276.424,90.093 317.539,88.3498 358.655,88.1028 399.77,89.9354 440.886,99.6035 482.001,100.535 523.117,106.727 564.232,105.512 605.348,94.491 \n",
       "  646.463,103.086 687.579,97.7322 728.694,94.5157 769.81,92.8888 810.925,98.0975 852.041,91.7561 893.156,88.0843 934.272,88.0987 975.387,88.0397 1016.5,88.0071 \n",
       "  1057.62,88.4324 1098.73,88.7416 1139.85,90.3873 1180.96,96.344 1222.08,115.863 1263.2,159.797 1304.31,153.652 1345.43,160.304 1386.54,153.541 1427.66,197.125 \n",
       "  1468.77,209.156 1509.89,238.203 1551,281.261 1592.12,261.769 1633.23,241.669 1674.35,234.901 1715.47,326.957 1756.58,347.793 1797.7,334.41 1838.81,349.287 \n",
       "  1879.93,360.804 1921.04,379.614 1962.16,341.289 2003.27,341.472 2044.39,318.191 2085.51,325.461 2126.62,397.162 2167.74,385.736 2208.85,400.001 2249.97,453.829 \n",
       "  2291.08,477.293 \n",
       "  \"/>\n",
       "<polyline clip-path=\"url(#clip602)\" style=\"stroke:#ed5d92; stroke-width:4; stroke-opacity:1; fill:none\" points=\"\n",
       "  235.308,90.695 276.424,95.3307 317.539,88.0873 358.655,89.4119 399.77,89.5647 440.886,95.1892 482.001,89.2389 523.117,88.5743 564.232,90.1969 605.348,90.9887 \n",
       "  646.463,96.0634 687.579,107.904 728.694,95.1442 769.81,101.368 810.925,98.6075 852.041,92.4129 893.156,89.9433 934.272,90.8491 975.387,99.4968 1016.5,100.897 \n",
       "  1057.62,97.3511 1098.73,91.2191 1139.85,97.5406 1180.96,109.167 1222.08,102.985 1263.2,90.0119 1304.31,94.2428 1345.43,93.4663 1386.54,99.1168 1427.66,91.4389 \n",
       "  1468.77,88.8839 1509.89,106.804 1551,114.902 1592.12,107.66 1633.23,101.208 1674.35,135.523 1715.47,119.964 1756.58,130.934 1797.7,121.045 1838.81,131.843 \n",
       "  1879.93,144.22 1921.04,128.159 1962.16,119.474 2003.27,121.447 2044.39,121.793 2085.51,121.126 2126.62,120.31 2167.74,114.087 2208.85,121.096 2249.97,118.523 \n",
       "  2291.08,126.25 \n",
       "  \"/>\n",
       "<polyline clip-path=\"url(#clip602)\" style=\"stroke:#c68125; stroke-width:4; stroke-opacity:1; fill:none\" points=\"\n",
       "  235.308,90.695 276.424,90.1183 317.539,88.0361 358.655,93.8806 399.77,92.193 440.886,93.4142 482.001,121.514 523.117,121.068 564.232,179.133 605.348,200.111 \n",
       "  646.463,251.735 687.579,205.171 728.694,186.055 769.81,167.967 810.925,163.886 852.041,126.698 893.156,142.148 934.272,164.531 975.387,186.659 1016.5,133.828 \n",
       "  1057.62,134.091 1098.73,144.474 1139.85,193.161 1180.96,156.568 1222.08,154.347 1263.2,129.216 1304.31,134.051 1345.43,144.171 1386.54,142.664 1427.66,129.641 \n",
       "  1468.77,187.001 1509.89,183.165 1551,198.058 1592.12,190.422 1633.23,171.256 1674.35,204.27 1715.47,219.027 1756.58,227.11 1797.7,218.255 1838.81,204.226 \n",
       "  1879.93,230.097 1921.04,169.431 1962.16,146.296 2003.27,114.749 2044.39,124.919 2085.51,119.227 2126.62,129.129 2167.74,93.0469 2208.85,95.2426 2249.97,88.0389 \n",
       "  2291.08,90.3477 \n",
       "  \"/>\n",
       "<polyline clip-path=\"url(#clip602)\" style=\"stroke:#00a98d; stroke-width:4; stroke-opacity:1; fill:none\" points=\"\n",
       "  235.308,90.695 276.424,96.2179 317.539,91.0748 358.655,89.2593 399.77,88.4506 440.886,89.8006 482.001,90.144 523.117,87.9837 564.232,88.3453 605.348,92.2968 \n",
       "  646.463,91.181 687.579,89.2974 728.694,87.984 769.81,89.8006 810.925,99.0706 852.041,101.656 893.156,111.314 934.272,104.589 975.387,96.0388 1016.5,91.3376 \n",
       "  1057.62,90.093 1098.73,89.7656 1139.85,90.0847 1180.96,87.9837 1222.08,95.5738 1263.2,94.7813 1304.31,105.228 1345.43,97.7008 1386.54,96.9875 1427.66,103.536 \n",
       "  1468.77,101.519 1509.89,102.985 1551,109.648 1592.12,115.953 1633.23,132.447 1674.35,121.447 1715.47,127.667 1756.58,126.702 1797.7,158.644 1838.81,166.328 \n",
       "  1879.93,168.17 1921.04,158.599 1962.16,137.87 2003.27,127.331 2044.39,141.341 2085.51,145.501 2126.62,142.29 2167.74,145.331 2208.85,136.758 2249.97,129.935 \n",
       "  2291.08,163.286 \n",
       "  \"/>\n",
       "<polyline clip-path=\"url(#clip602)\" style=\"stroke:#8e971d; stroke-width:4; stroke-opacity:1; fill:none\" points=\"\n",
       "  235.308,90.695 276.424,95.9283 317.539,114.724 358.655,115.477 399.77,89.0478 440.886,89.6506 482.001,92.193 523.117,91.6175 564.232,90.144 605.348,88.2358 \n",
       "  646.463,90.0278 687.579,95.5181 728.694,89.0651 769.81,90.6982 810.925,101.376 852.041,104.092 893.156,97.7282 934.272,96.7521 975.387,114.085 1016.5,125.627 \n",
       "  1057.62,115.61 1098.73,121.447 1139.85,103.657 1180.96,120.008 1222.08,120.545 1263.2,107.722 1304.31,104.235 1345.43,95.3868 1386.54,105.559 1427.66,97.3943 \n",
       "  1468.77,106.727 1509.89,109.589 1551,106.191 1592.12,105.467 1633.23,99.2946 1674.35,92.1585 1715.47,89.19 1756.58,88.5149 1797.7,88.806 1838.81,100.836 \n",
       "  1879.93,125.115 1921.04,131.431 1962.16,123.036 2003.27,105.153 2044.39,97.964 2085.51,88.7867 2126.62,88.2621 2167.74,88.5558 2208.85,89.6982 2249.97,90.3379 \n",
       "  2291.08,90.1354 \n",
       "  \"/>\n",
       "<polyline clip-path=\"url(#clip602)\" style=\"stroke:#00a8cb; stroke-width:4; stroke-opacity:1; fill:none\" points=\"\n",
       "  235.308,90.695 276.424,93.3934 317.539,94.3352 358.655,105.702 399.77,117.394 440.886,137.66 482.001,139.445 523.117,137.281 564.232,166.239 605.348,152.231 \n",
       "  646.463,144.085 687.579,127.971 728.694,126.557 769.81,122.055 810.925,117.726 852.041,115.4 893.156,111.409 934.272,100.574 975.387,91.8959 1016.5,97.3444 \n",
       "  1057.62,102.939 1098.73,112.91 1139.85,95.0625 1180.96,95.7976 1222.08,90.3401 1263.2,90.6873 1304.31,89.6178 1345.43,127.77 1386.54,123.031 1427.66,114.344 \n",
       "  1468.77,154.892 1509.89,156.892 1551,155.201 1592.12,153.397 1633.23,167.237 1674.35,153.579 1715.47,154.443 1756.58,166.016 1797.7,205.648 1838.81,184.618 \n",
       "  1879.93,180.57 1921.04,171.85 1962.16,177.964 2003.27,226.437 2044.39,252.128 2085.51,239.45 2126.62,233.021 2167.74,200.476 2208.85,226.161 2249.97,189.929 \n",
       "  2291.08,183.205 \n",
       "  \"/>\n",
       "<polyline clip-path=\"url(#clip602)\" style=\"stroke:#9b7fe8; stroke-width:4; stroke-opacity:1; fill:none\" points=\"\n",
       "  235.308,90.695 276.424,88.4661 317.539,94.491 358.655,92.8973 399.77,88.7416 440.886,88.906 482.001,89.5647 523.117,98.7498 564.232,102.52 605.348,91.4797 \n",
       "  646.463,90.093 687.579,88.0968 728.694,88.1023 769.81,90.9887 810.925,101.261 852.041,112.058 893.156,99.5231 934.272,92.1414 975.387,89.3631 1016.5,88.0441 \n",
       "  1057.62,88.4741 1098.73,89.8077 1139.85,89.8662 1180.96,95.3605 1222.08,96.5717 1263.2,95.447 1304.31,89.1996 1345.43,89.7263 1386.54,91.466 1427.66,90.5273 \n",
       "  1468.77,96.0159 1509.89,108.881 1551,110.862 1592.12,124.609 1633.23,97.84 1674.35,91.9259 1715.47,92.702 1756.58,89.7698 1797.7,88.9023 1838.81,89.429 \n",
       "  1879.93,88.226 1921.04,88.184 1962.16,88.9023 2003.27,91.7561 2044.39,94.3352 2085.51,99.1608 2126.62,98.8439 2167.74,98.3924 2208.85,95.0709 2249.97,90.4963 \n",
       "  2291.08,88.4288 \n",
       "  \"/>\n",
       "<polyline clip-path=\"url(#clip602)\" style=\"stroke:#608cf6; stroke-width:4; stroke-opacity:1; fill:none\" points=\"\n",
       "  235.308,90.695 276.424,90.4359 317.539,90.1527 358.655,89.5986 399.77,89.6982 440.886,93.6234 482.001,95.2718 523.117,91.2179 564.232,104.746 605.348,135.038 \n",
       "  646.463,129.515 687.579,149.335 728.694,164.505 769.81,172.053 810.925,154.252 852.041,160.274 893.156,127.598 934.272,115.977 975.387,106.58 1016.5,128.659 \n",
       "  1057.62,111.688 1098.73,104.69 1139.85,140.065 1180.96,130.726 1222.08,125.958 1263.2,119.044 1304.31,129.211 1345.43,159.203 1386.54,131.987 1427.66,132.17 \n",
       "  1468.77,162.976 1509.89,211.046 1551,163.591 1592.12,207.508 1633.23,189.682 1674.35,227.451 1715.47,177.022 1756.58,142.194 1797.7,138.517 1838.81,127.331 \n",
       "  1879.93,124.323 1921.04,123.975 1962.16,117.629 2003.27,109.12 2044.39,115.447 2085.51,95.4205 2126.62,94.9198 2167.74,91.4771 2208.85,88.6945 2249.97,88.5672 \n",
       "  2291.08,94.491 \n",
       "  \"/>\n",
       "<polyline clip-path=\"url(#clip602)\" style=\"stroke:#f05f73; stroke-width:4; stroke-opacity:1; fill:none\" points=\"\n",
       "  235.308,90.695 276.424,89.8588 317.539,88.0454 358.655,87.9763 399.77,88.3701 440.886,88.7447 482.001,88.3717 523.117,88.1002 564.232,91.6359 605.348,90.8777 \n",
       "  646.463,90.8186 687.579,91.5206 728.694,101.573 769.81,92.4651 810.925,89.219 852.041,93.2948 893.156,98.2223 934.272,106.654 975.387,119.484 1016.5,134.327 \n",
       "  1057.62,152.852 1098.73,148.104 1139.85,151.058 1180.96,140.275 1222.08,123.866 1263.2,102.884 1304.31,102.792 1345.43,102.485 1386.54,112.137 1427.66,107.802 \n",
       "  1468.77,121.728 1509.89,91.6102 1551,90.1727 1592.12,90.0278 1633.23,94.0401 1674.35,88.1594 1715.47,88.0073 1756.58,89.2389 1797.7,91.0531 1838.81,90.4659 \n",
       "  1879.93,89.7334 1921.04,90.3477 1962.16,93.3647 2003.27,98.9338 2044.39,95.0517 2085.51,108.289 2126.62,127.927 2167.74,121.892 2208.85,113.325 2249.97,126.711 \n",
       "  2291.08,127.686 \n",
       "  \"/>\n",
       "<polyline clip-path=\"url(#clip602)\" style=\"stroke:#dd64b5; stroke-width:4; stroke-opacity:1; fill:none\" points=\"\n",
       "  235.308,90.695 276.424,94.3352 317.539,90.8831 358.655,95.3595 399.77,105.562 440.886,117.509 482.001,128.564 523.117,113.731 564.232,118.993 605.348,111.406 \n",
       "  646.463,113.71 687.579,118.898 728.694,125.115 769.81,147.868 810.925,153.144 852.041,156.284 893.156,145.805 934.272,136.628 975.387,151.464 1016.5,172.257 \n",
       "  1057.62,153.489 1098.73,122.556 1139.85,127.521 1180.96,198.393 1222.08,151.606 1263.2,152.435 1304.31,151.831 1345.43,144.978 1386.54,174.793 1427.66,184.753 \n",
       "  1468.77,173.307 1509.89,171.507 1551,188.111 1592.12,144.22 1633.23,152.751 1674.35,177.162 1715.47,159.693 1756.58,211.655 1797.7,172.166 1838.81,138.259 \n",
       "  1879.93,125.158 1921.04,134.79 1962.16,127.026 2003.27,111.918 2044.39,105.467 2085.51,93.9281 2126.62,98.7351 2167.74,105.824 2208.85,104.455 2249.97,95.4205 \n",
       "  2291.08,95.1892 \n",
       "  \"/>\n",
       "<polyline clip-path=\"url(#clip602)\" style=\"stroke:#6b9e32; stroke-width:4; stroke-opacity:1; fill:none\" points=\"\n",
       "  235.308,90.695 276.424,101.773 317.539,93.2128 358.655,94.7717 399.77,101.256 440.886,110.309 482.001,130.338 523.117,122.358 564.232,142.467 605.348,123.725 \n",
       "  646.463,136.544 687.579,184.525 728.694,217.635 769.81,249.798 810.925,263.031 852.041,239.051 893.156,190.248 934.272,207.007 975.387,214.033 1016.5,187.361 \n",
       "  1057.62,223.596 1098.73,218.36 1139.85,244.071 1180.96,230.887 1222.08,269.231 1263.2,264.133 1304.31,264.601 1345.43,214.1 1386.54,240.44 1427.66,277.201 \n",
       "  1468.77,247.866 1509.89,259.854 1551,283.891 1592.12,261.357 1633.23,274.352 1674.35,244.21 1715.47,249.947 1756.58,221.014 1797.7,184.753 1838.81,183.807 \n",
       "  1879.93,236.147 1921.04,245.799 1962.16,283.731 2003.27,349.232 2044.39,454.014 2085.51,569.629 2126.62,548.763 2167.74,513.861 2208.85,472.077 2249.97,567.881 \n",
       "  2291.08,531.642 \n",
       "  \"/>\n",
       "<polyline clip-path=\"url(#clip602)\" style=\"stroke:#009af9; stroke-width:4; stroke-opacity:1; fill:none\" points=\"\n",
       "  235.308,90.695 276.424,92.9995 317.539,87.9835 358.655,90.9647 399.77,101.104 440.886,99.1168 482.001,108.587 523.117,123.87 564.232,99.1168 605.348,96.9675 \n",
       "  646.463,95.1208 687.579,97.6588 728.694,91.8205 769.81,89.6114 810.925,87.9834 852.041,92.1546 893.156,97.0781 934.272,103.276 975.387,92.7451 1016.5,97.4718 \n",
       "  1057.62,90.2322 1098.73,87.9839 1139.85,92.1132 1180.96,92.4201 1222.08,88.7116 1263.2,87.9833 1304.31,98.2042 1345.43,95.3012 1386.54,91.9128 1427.66,89.9354 \n",
       "  1468.77,104.785 1509.89,93.3316 1551,88.4432 1592.12,88.4641 1633.23,88.6834 1674.35,88.3637 1715.47,88.1121 1756.58,88.9251 1797.7,88.7264 1838.81,87.9832 \n",
       "  1879.93,96.0875 1921.04,88.338 1962.16,87.9835 2003.27,93.4445 2044.39,90.1527 2085.51,91.4797 2126.62,91.0374 2167.74,87.9763 2208.85,88.3352 2249.97,91.9922 \n",
       "  2291.08,88.5081 \n",
       "  \"/>\n",
       "<polyline clip-path=\"url(#clip602)\" style=\"stroke:#e26f46; stroke-width:4; stroke-opacity:1; fill:none\" points=\"\n",
       "  235.308,90.695 276.424,92.0023 317.539,90.3873 358.655,92.1294 399.77,93.2137 440.886,99.0706 482.001,97.4314 523.117,103.848 564.232,113.109 605.348,132.627 \n",
       "  646.463,142.948 687.579,129.668 728.694,140.07 769.81,167.197 810.925,125.192 852.041,129.425 893.156,137.226 934.272,161.741 975.387,148.977 1016.5,110.499 \n",
       "  1057.62,129.764 1098.73,114.403 1139.85,114.98 1180.96,101.586 1222.08,101.573 1263.2,120.781 1304.31,130.501 1345.43,129.935 1386.54,126.837 1427.66,110.367 \n",
       "  1468.77,112.522 1509.89,117.036 1551,116.402 1592.12,106.043 1633.23,124.679 1674.35,126.079 1715.47,121.248 1756.58,107.66 1797.7,94.7193 1838.81,100.001 \n",
       "  1879.93,90.4963 1921.04,88.4583 1962.16,89.5451 2003.27,92.0084 2044.39,95.7642 2085.51,115.338 2126.62,92.9276 2167.74,87.9763 2208.85,88.1692 2249.97,90.2409 \n",
       "  2291.08,88.579 \n",
       "  \"/>\n",
       "<polyline clip-path=\"url(#clip602)\" style=\"stroke:#3da44d; stroke-width:4; stroke-opacity:1; fill:none\" points=\"\n",
       "  235.308,90.695 276.424,103.939 317.539,97.543 358.655,91.2191 399.77,106.131 440.886,111.03 482.001,133.408 523.117,153.742 564.232,151.076 605.348,177.025 \n",
       "  646.463,195.481 687.579,197.161 728.694,206.156 769.81,216.504 810.925,205.178 852.041,204.153 893.156,162.986 934.272,182.068 975.387,185.077 1016.5,166.712 \n",
       "  1057.62,177.388 1098.73,172.315 1139.85,157.165 1180.96,161.221 1222.08,152.647 1263.2,153.209 1304.31,154.077 1345.43,163.886 1386.54,154.074 1427.66,126.4 \n",
       "  1468.77,115.158 1509.89,103.476 1551,100.354 1592.12,95.8282 1633.23,92.3666 1674.35,92.6457 1715.47,91.8824 1756.58,95.6246 1797.7,102.939 1838.81,100.795 \n",
       "  1879.93,122.037 1921.04,116.021 1962.16,138.456 2003.27,157.013 2044.39,165.072 2085.51,136.402 2126.62,140.073 2167.74,148.89 2208.85,160.567 2249.97,162.059 \n",
       "  2291.08,156.075 \n",
       "  \"/>\n",
       "<polyline clip-path=\"url(#clip602)\" style=\"stroke:#c271d2; stroke-width:4; stroke-opacity:1; fill:none\" points=\"\n",
       "  235.308,90.695 276.424,97.5042 317.539,97.7756 358.655,107.115 399.77,95.0237 440.886,98.479 482.001,88.2463 523.117,89.183 564.232,88.9609 605.348,88.4949 \n",
       "  646.463,88.1565 687.579,88.0084 728.694,88.7116 769.81,89.8662 810.925,89.3569 852.041,89.6573 893.156,89.3806 934.272,93.8773 975.387,89.664 1016.5,89.1996 \n",
       "  1057.62,88.2656 1098.73,89.1055 1139.85,88.7058 1180.96,88.7001 1222.08,88.0977 1263.2,90.2611 1304.31,88.5457 1345.43,92.5904 1386.54,99.8825 1427.66,95.862 \n",
       "  1468.77,88.9174 1509.89,88.3483 1551,93.7397 1592.12,87.9835 1633.23,90.3281 1674.35,90.2611 1715.47,92.5115 1756.58,104.319 1797.7,122.556 1838.81,130.338 \n",
       "  1879.93,151.671 1921.04,179.614 1962.16,184.363 2003.27,175.725 2044.39,174.906 2085.51,167.872 2126.62,143.116 2167.74,141.996 2208.85,126.4 2249.97,137.814 \n",
       "  2291.08,183.205 \n",
       "  \"/>\n",
       "<polyline clip-path=\"url(#clip602)\" style=\"stroke:#ac8d18; stroke-width:4; stroke-opacity:1; fill:none\" points=\"\n",
       "  235.308,90.695 276.424,113.285 317.539,113.432 358.655,118.321 399.77,98.3472 440.886,97.3134 482.001,98.0975 523.117,109.301 564.232,108.796 605.348,118.898 \n",
       "  646.463,109.959 687.579,119.227 728.694,111.587 769.81,120.739 810.925,104.95 852.041,142.694 893.156,126.555 934.272,124.899 975.387,114.087 1016.5,111.32 \n",
       "  1057.62,130.997 1098.73,140.068 1139.85,127.686 1180.96,132.623 1222.08,129.342 1263.2,128.725 1304.31,129.46 1345.43,147.087 1386.54,161 1427.66,129.813 \n",
       "  1468.77,140.918 1509.89,143.189 1551,124.181 1592.12,157.203 1633.23,193.062 1674.35,192.316 1715.47,217.734 1756.58,207.926 1797.7,220.623 1838.81,250.45 \n",
       "  1879.93,208.697 1921.04,197.438 1962.16,192.532 2003.27,145.268 2044.39,131.198 2085.51,131.162 2126.62,130.693 2167.74,106.36 2208.85,152.168 2249.97,193.033 \n",
       "  2291.08,144.077 \n",
       "  \"/>\n",
       "<path clip-path=\"url(#clip600)\" d=\"\n",
       "M1762.23 1425.78 L2280.12 1425.78 L2280.12 95.2176 L1762.23 95.2176  Z\n",
       "  \" fill=\"#ffffff\" fill-rule=\"evenodd\" fill-opacity=\"1\"/>\n",
       "<polyline clip-path=\"url(#clip600)\" style=\"stroke:#000000; stroke-width:4; stroke-opacity:1; fill:none\" points=\"\n",
       "  1762.23,1425.78 2280.12,1425.78 2280.12,95.2176 1762.23,95.2176 1762.23,1425.78 \n",
       "  \"/>\n",
       "<polyline clip-path=\"url(#clip600)\" style=\"stroke:#009af9; stroke-width:4; stroke-opacity:1; fill:none\" points=\"\n",
       "  1786.44,155.698 1931.72,155.698 \n",
       "  \"/>\n",
       "<path clip-path=\"url(#clip600)\" d=\"M 0 0 M1960.61 142.26 L1960.61 169.135 L1966.26 169.135 Q1973.41 169.135 1976.72 165.894 Q1980.05 162.654 1980.05 155.663 Q1980.05 148.718 1976.72 145.501 Q1973.41 142.26 1966.26 142.26 L1960.61 142.26 M1955.93 138.418 L1965.54 138.418 Q1975.58 138.418 1980.28 142.607 Q1984.98 146.774 1984.98 155.663 Q1984.98 164.598 1980.26 168.788 Q1975.54 172.978 1965.54 172.978 L1955.93 172.978 L1955.93 138.418 Z\" fill=\"#000000\" fill-rule=\"evenodd\" fill-opacity=\"1\" /><path clip-path=\"url(#clip600)\" d=\"M 0 0 M2011.63 158.95 L2011.63 161.033 L1992.04 161.033 Q1992.32 165.431 1994.68 167.746 Q1997.07 170.038 2001.3 170.038 Q2003.76 170.038 2006.05 169.436 Q2008.36 168.834 2010.63 167.63 L2010.63 171.658 Q2008.34 172.63 2005.93 173.14 Q2003.52 173.649 2001.05 173.649 Q1994.84 173.649 1991.21 170.038 Q1987.6 166.427 1987.6 160.269 Q1987.6 153.904 1991.02 150.177 Q1994.47 146.427 2000.31 146.427 Q2005.54 146.427 2008.57 149.806 Q2011.63 153.163 2011.63 158.95 M2007.37 157.7 Q2007.32 154.205 2005.4 152.121 Q2003.5 150.038 2000.35 150.038 Q1996.79 150.038 1994.63 152.052 Q1992.51 154.066 1992.18 157.723 L2007.37 157.7 Z\" fill=\"#000000\" fill-rule=\"evenodd\" fill-opacity=\"1\" /><path clip-path=\"url(#clip600)\" d=\"M 0 0 M2020.31 139.691 L2020.31 147.052 L2029.08 147.052 L2029.08 150.362 L2020.31 150.362 L2020.31 164.436 Q2020.31 167.607 2021.16 168.51 Q2022.04 169.413 2024.7 169.413 L2029.08 169.413 L2029.08 172.978 L2024.7 172.978 Q2019.77 172.978 2017.9 171.149 Q2016.02 169.297 2016.02 164.436 L2016.02 150.362 L2012.9 150.362 L2012.9 147.052 L2016.02 147.052 L2016.02 139.691 L2020.31 139.691 Z\" fill=\"#000000\" fill-rule=\"evenodd\" fill-opacity=\"1\" /><path clip-path=\"url(#clip600)\" d=\"M 0 0 M2055.72 158.95 L2055.72 161.033 L2036.14 161.033 Q2036.42 165.431 2038.78 167.746 Q2041.16 170.038 2045.4 170.038 Q2047.85 170.038 2050.14 169.436 Q2052.46 168.834 2054.73 167.63 L2054.73 171.658 Q2052.44 172.63 2050.03 173.14 Q2047.62 173.649 2045.14 173.649 Q2038.94 173.649 2035.31 170.038 Q2031.69 166.427 2031.69 160.269 Q2031.69 153.904 2035.12 150.177 Q2038.57 146.427 2044.4 146.427 Q2049.63 146.427 2052.67 149.806 Q2055.72 153.163 2055.72 158.95 M2051.46 157.7 Q2051.42 154.205 2049.5 152.121 Q2047.6 150.038 2044.45 150.038 Q2040.88 150.038 2038.73 152.052 Q2036.6 154.066 2036.28 157.723 L2051.46 157.7 Z\" fill=\"#000000\" fill-rule=\"evenodd\" fill-opacity=\"1\" /><path clip-path=\"url(#clip600)\" d=\"M 0 0 M2075.21 151.033 Q2074.5 150.617 2073.64 150.431 Q2072.81 150.223 2071.79 150.223 Q2068.18 150.223 2066.23 152.584 Q2064.31 154.922 2064.31 159.32 L2064.31 172.978 L2060.03 172.978 L2060.03 147.052 L2064.31 147.052 L2064.31 151.08 Q2065.65 148.718 2067.81 147.584 Q2069.96 146.427 2073.04 146.427 Q2073.48 146.427 2074.01 146.496 Q2074.54 146.543 2075.19 146.658 L2075.21 151.033 Z\" fill=\"#000000\" fill-rule=\"evenodd\" fill-opacity=\"1\" /><path clip-path=\"url(#clip600)\" d=\"M 0 0 M2099.03 152.029 Q2100.63 149.158 2102.85 147.793 Q2105.07 146.427 2108.08 146.427 Q2112.13 146.427 2114.33 149.274 Q2116.53 152.098 2116.53 157.329 L2116.53 172.978 L2112.25 172.978 L2112.25 157.468 Q2112.25 153.742 2110.93 151.936 Q2109.61 150.13 2106.9 150.13 Q2103.59 150.13 2101.67 152.33 Q2099.75 154.529 2099.75 158.325 L2099.75 172.978 L2095.47 172.978 L2095.47 157.468 Q2095.47 153.718 2094.15 151.936 Q2092.83 150.13 2090.07 150.13 Q2086.81 150.13 2084.89 152.353 Q2082.97 154.552 2082.97 158.325 L2082.97 172.978 L2078.69 172.978 L2078.69 147.052 L2082.97 147.052 L2082.97 151.08 Q2084.43 148.695 2086.46 147.561 Q2088.5 146.427 2091.3 146.427 Q2094.12 146.427 2096.09 147.862 Q2098.08 149.297 2099.03 152.029 Z\" fill=\"#000000\" fill-rule=\"evenodd\" fill-opacity=\"1\" /><path clip-path=\"url(#clip600)\" d=\"M 0 0 M2121 147.052 L2125.26 147.052 L2125.26 172.978 L2121 172.978 L2121 147.052 M2121 136.959 L2125.26 136.959 L2125.26 142.353 L2121 142.353 L2121 136.959 Z\" fill=\"#000000\" fill-rule=\"evenodd\" fill-opacity=\"1\" /><path clip-path=\"url(#clip600)\" d=\"M 0 0 M2151.28 157.329 L2151.28 172.978 L2147.02 172.978 L2147.02 157.468 Q2147.02 153.788 2145.58 151.959 Q2144.15 150.13 2141.28 150.13 Q2137.83 150.13 2135.84 152.33 Q2133.85 154.529 2133.85 158.325 L2133.85 172.978 L2129.56 172.978 L2129.56 147.052 L2133.85 147.052 L2133.85 151.08 Q2135.37 148.742 2137.43 147.584 Q2139.52 146.427 2142.23 146.427 Q2146.69 146.427 2148.99 149.205 Q2151.28 151.959 2151.28 157.329 Z\" fill=\"#000000\" fill-rule=\"evenodd\" fill-opacity=\"1\" /><path clip-path=\"url(#clip600)\" d=\"M 0 0 M2155.74 147.052 L2160 147.052 L2160 172.978 L2155.74 172.978 L2155.74 147.052 M2155.74 136.959 L2160 136.959 L2160 142.353 L2155.74 142.353 L2155.74 136.959 Z\" fill=\"#000000\" fill-rule=\"evenodd\" fill-opacity=\"1\" /><path clip-path=\"url(#clip600)\" d=\"M 0 0 M2181 147.816 L2181 151.843 Q2179.19 150.917 2177.25 150.455 Q2175.31 149.992 2173.22 149.992 Q2170.05 149.992 2168.45 150.964 Q2166.88 151.936 2166.88 153.88 Q2166.88 155.362 2168.01 156.218 Q2169.15 157.052 2172.57 157.816 L2174.03 158.14 Q2178.57 159.112 2180.47 160.894 Q2182.39 162.654 2182.39 165.825 Q2182.39 169.436 2179.52 171.542 Q2176.67 173.649 2171.67 173.649 Q2169.59 173.649 2167.32 173.232 Q2165.07 172.839 2162.57 172.028 L2162.57 167.63 Q2164.93 168.857 2167.23 169.482 Q2169.52 170.084 2171.76 170.084 Q2174.77 170.084 2176.39 169.066 Q2178.01 168.024 2178.01 166.149 Q2178.01 164.413 2176.83 163.487 Q2175.68 162.561 2171.72 161.704 L2170.24 161.357 Q2166.28 160.524 2164.52 158.811 Q2162.76 157.075 2162.76 154.066 Q2162.76 150.408 2165.35 148.418 Q2167.94 146.427 2172.71 146.427 Q2175.07 146.427 2177.16 146.774 Q2179.24 147.121 2181 147.816 Z\" fill=\"#000000\" fill-rule=\"evenodd\" fill-opacity=\"1\" /><path clip-path=\"url(#clip600)\" d=\"M 0 0 M2191.07 139.691 L2191.07 147.052 L2199.84 147.052 L2199.84 150.362 L2191.07 150.362 L2191.07 164.436 Q2191.07 167.607 2191.93 168.51 Q2192.8 169.413 2195.47 169.413 L2199.84 169.413 L2199.84 172.978 L2195.47 172.978 Q2190.54 172.978 2188.66 171.149 Q2186.79 169.297 2186.79 164.436 L2186.79 150.362 L2183.66 150.362 L2183.66 147.052 L2186.79 147.052 L2186.79 139.691 L2191.07 139.691 Z\" fill=\"#000000\" fill-rule=\"evenodd\" fill-opacity=\"1\" /><path clip-path=\"url(#clip600)\" d=\"M 0 0 M2204.31 147.052 L2208.57 147.052 L2208.57 172.978 L2204.31 172.978 L2204.31 147.052 M2204.31 136.959 L2208.57 136.959 L2208.57 142.353 L2204.31 142.353 L2204.31 136.959 Z\" fill=\"#000000\" fill-rule=\"evenodd\" fill-opacity=\"1\" /><path clip-path=\"url(#clip600)\" d=\"M 0 0 M2231.69 148.047 L2231.69 152.029 Q2229.89 151.033 2228.06 150.547 Q2226.25 150.038 2224.4 150.038 Q2220.26 150.038 2217.97 152.677 Q2215.68 155.292 2215.68 160.038 Q2215.68 164.783 2217.97 167.422 Q2220.26 170.038 2224.4 170.038 Q2226.25 170.038 2228.06 169.552 Q2229.89 169.042 2231.69 168.047 L2231.69 171.982 Q2229.91 172.816 2227.99 173.232 Q2226.09 173.649 2223.94 173.649 Q2218.08 173.649 2214.63 169.968 Q2211.18 166.288 2211.18 160.038 Q2211.18 153.695 2214.66 150.061 Q2218.15 146.427 2224.22 146.427 Q2226.18 146.427 2228.06 146.843 Q2229.93 147.237 2231.69 148.047 Z\" fill=\"#000000\" fill-rule=\"evenodd\" fill-opacity=\"1\" /><polyline clip-path=\"url(#clip600)\" style=\"stroke:#e26f46; stroke-width:4; stroke-opacity:1; fill:none\" points=\"\n",
       "  1786.44,216.178 1931.72,216.178 \n",
       "  \"/>\n",
       "<path clip-path=\"url(#clip600)\" d=\"M 0 0 M1969.77 235.865 Q1967.97 240.495 1966.26 241.907 Q1964.54 243.319 1961.67 243.319 L1958.27 243.319 L1958.27 239.754 L1960.77 239.754 Q1962.53 239.754 1963.5 238.92 Q1964.47 238.087 1965.65 234.985 L1966.42 233.041 L1955.93 207.532 L1960.45 207.532 L1968.55 227.809 L1976.65 207.532 L1981.16 207.532 L1969.77 235.865 Z\" fill=\"#000000\" fill-rule=\"evenodd\" fill-opacity=\"1\" /><path clip-path=\"url(#clip600)\" d=\"M 0 0 M1990.26 229.522 L2006.58 229.522 L2006.58 233.458 L1984.63 233.458 L1984.63 229.522 Q1987.3 226.768 1991.88 222.138 Q1996.49 217.485 1997.67 216.143 Q1999.91 213.62 2000.79 211.884 Q2001.69 210.124 2001.69 208.435 Q2001.69 205.68 1999.75 203.944 Q1997.83 202.208 1994.73 202.208 Q1992.53 202.208 1990.07 202.972 Q1987.64 203.735 1984.87 205.286 L1984.87 200.564 Q1987.69 199.43 1990.14 198.851 Q1992.6 198.273 1994.63 198.273 Q2000.01 198.273 2003.2 200.958 Q2006.39 203.643 2006.39 208.134 Q2006.39 210.263 2005.58 212.185 Q2004.8 214.083 2002.69 216.675 Q2002.11 217.347 1999.01 220.564 Q1995.91 223.759 1990.26 229.522 Z\" fill=\"#000000\" fill-rule=\"evenodd\" fill-opacity=\"1\" /><polyline clip-path=\"url(#clip600)\" style=\"stroke:#3da44d; stroke-width:4; stroke-opacity:1; fill:none\" points=\"\n",
       "  1786.44,276.658 1931.72,276.658 \n",
       "  \"/>\n",
       "<path clip-path=\"url(#clip600)\" d=\"M 0 0 M1969.77 296.345 Q1967.97 300.975 1966.26 302.387 Q1964.54 303.799 1961.67 303.799 L1958.27 303.799 L1958.27 300.234 L1960.77 300.234 Q1962.53 300.234 1963.5 299.4 Q1964.47 298.567 1965.65 295.465 L1966.42 293.521 L1955.93 268.012 L1960.45 268.012 L1968.55 288.289 L1976.65 268.012 L1981.16 268.012 L1969.77 296.345 Z\" fill=\"#000000\" fill-rule=\"evenodd\" fill-opacity=\"1\" /><path clip-path=\"url(#clip600)\" d=\"M 0 0 M2000.4 275.303 Q2003.76 276.021 2005.63 278.289 Q2007.53 280.558 2007.53 283.891 Q2007.53 289.007 2004.01 291.808 Q2000.49 294.609 1994.01 294.609 Q1991.83 294.609 1989.52 294.169 Q1987.23 293.752 1984.77 292.896 L1984.77 288.382 Q1986.72 289.516 1989.03 290.095 Q1991.35 290.674 1993.87 290.674 Q1998.27 290.674 2000.56 288.938 Q2002.88 287.201 2002.88 283.891 Q2002.88 280.836 2000.72 279.123 Q1998.59 277.387 1994.77 277.387 L1990.75 277.387 L1990.75 273.544 L1994.96 273.544 Q1998.41 273.544 2000.24 272.178 Q2002.07 270.79 2002.07 268.197 Q2002.07 265.535 2000.17 264.123 Q1998.29 262.688 1994.77 262.688 Q1992.85 262.688 1990.65 263.104 Q1988.45 263.521 1985.82 264.401 L1985.82 260.234 Q1988.48 259.493 1990.79 259.123 Q1993.13 258.753 1995.19 258.753 Q2000.51 258.753 2003.62 261.183 Q2006.72 263.59 2006.72 267.711 Q2006.72 270.581 2005.07 272.572 Q2003.43 274.54 2000.4 275.303 Z\" fill=\"#000000\" fill-rule=\"evenodd\" fill-opacity=\"1\" /><polyline clip-path=\"url(#clip600)\" style=\"stroke:#c271d2; stroke-width:4; stroke-opacity:1; fill:none\" points=\"\n",
       "  1786.44,337.138 1931.72,337.138 \n",
       "  \"/>\n",
       "<path clip-path=\"url(#clip600)\" d=\"M 0 0 M1969.77 356.825 Q1967.97 361.455 1966.26 362.867 Q1964.54 364.279 1961.67 364.279 L1958.27 364.279 L1958.27 360.714 L1960.77 360.714 Q1962.53 360.714 1963.5 359.88 Q1964.47 359.047 1965.65 355.945 L1966.42 354.001 L1955.93 328.492 L1960.45 328.492 L1968.55 348.769 L1976.65 328.492 L1981.16 328.492 L1969.77 356.825 Z\" fill=\"#000000\" fill-rule=\"evenodd\" fill-opacity=\"1\" /><path clip-path=\"url(#clip600)\" d=\"M 0 0 M1999.08 323.932 L1987.27 342.381 L1999.08 342.381 L1999.08 323.932 M1997.85 319.858 L2003.73 319.858 L2003.73 342.381 L2008.66 342.381 L2008.66 346.269 L2003.73 346.269 L2003.73 354.418 L1999.08 354.418 L1999.08 346.269 L1983.48 346.269 L1983.48 341.756 L1997.85 319.858 Z\" fill=\"#000000\" fill-rule=\"evenodd\" fill-opacity=\"1\" /><polyline clip-path=\"url(#clip600)\" style=\"stroke:#ac8d18; stroke-width:4; stroke-opacity:1; fill:none\" points=\"\n",
       "  1786.44,397.618 1931.72,397.618 \n",
       "  \"/>\n",
       "<path clip-path=\"url(#clip600)\" d=\"M 0 0 M1969.77 417.305 Q1967.97 421.935 1966.26 423.347 Q1964.54 424.759 1961.67 424.759 L1958.27 424.759 L1958.27 421.194 L1960.77 421.194 Q1962.53 421.194 1963.5 420.36 Q1964.47 419.527 1965.65 416.425 L1966.42 414.481 L1955.93 388.972 L1960.45 388.972 L1968.55 409.249 L1976.65 388.972 L1981.16 388.972 L1969.77 417.305 Z\" fill=\"#000000\" fill-rule=\"evenodd\" fill-opacity=\"1\" /><path clip-path=\"url(#clip600)\" d=\"M 0 0 M1986.28 380.338 L2004.63 380.338 L2004.63 384.273 L1990.56 384.273 L1990.56 392.745 Q1991.58 392.398 1992.6 392.236 Q1993.62 392.05 1994.63 392.05 Q2000.42 392.05 2003.8 395.222 Q2007.18 398.393 2007.18 403.81 Q2007.18 409.388 2003.71 412.49 Q2000.24 415.569 1993.92 415.569 Q1991.74 415.569 1989.47 415.198 Q1987.23 414.828 1984.82 414.087 L1984.82 409.388 Q1986.9 410.523 1989.13 411.078 Q1991.35 411.634 1993.82 411.634 Q1997.83 411.634 2000.17 409.527 Q2002.51 407.421 2002.51 403.81 Q2002.51 400.199 2000.17 398.092 Q1997.83 395.986 1993.82 395.986 Q1991.95 395.986 1990.07 396.402 Q1988.22 396.819 1986.28 397.699 L1986.28 380.338 Z\" fill=\"#000000\" fill-rule=\"evenodd\" fill-opacity=\"1\" /><polyline clip-path=\"url(#clip600)\" style=\"stroke:#00a9ad; stroke-width:4; stroke-opacity:1; fill:none\" points=\"\n",
       "  1786.44,458.098 1931.72,458.098 \n",
       "  \"/>\n",
       "<path clip-path=\"url(#clip600)\" d=\"M 0 0 M1969.77 477.785 Q1967.97 482.415 1966.26 483.827 Q1964.54 485.239 1961.67 485.239 L1958.27 485.239 L1958.27 481.674 L1960.77 481.674 Q1962.53 481.674 1963.5 480.84 Q1964.47 480.007 1965.65 476.905 L1966.42 474.961 L1955.93 449.452 L1960.45 449.452 L1968.55 469.729 L1976.65 449.452 L1981.16 449.452 L1969.77 477.785 Z\" fill=\"#000000\" fill-rule=\"evenodd\" fill-opacity=\"1\" /><path clip-path=\"url(#clip600)\" d=\"M 0 0 M1996.81 456.234 Q1993.66 456.234 1991.81 458.387 Q1989.98 460.54 1989.98 464.29 Q1989.98 468.016 1991.81 470.192 Q1993.66 472.345 1996.81 472.345 Q1999.96 472.345 2001.79 470.192 Q2003.64 468.016 2003.64 464.29 Q2003.64 460.54 2001.79 458.387 Q1999.96 456.234 1996.81 456.234 M2006.09 441.581 L2006.09 445.841 Q2004.33 445.007 2002.53 444.568 Q2000.75 444.128 1998.99 444.128 Q1994.36 444.128 1991.9 447.253 Q1989.47 450.378 1989.13 456.697 Q1990.49 454.683 1992.55 453.618 Q1994.61 452.53 1997.09 452.53 Q2002.3 452.53 2005.31 455.702 Q2008.34 458.85 2008.34 464.29 Q2008.34 469.614 2005.19 472.831 Q2002.04 476.049 1996.81 476.049 Q1990.82 476.049 1987.64 471.466 Q1984.47 466.859 1984.47 458.132 Q1984.47 449.938 1988.36 445.077 Q1992.25 440.193 1998.8 440.193 Q2000.56 440.193 2002.34 440.54 Q2004.15 440.887 2006.09 441.581 Z\" fill=\"#000000\" fill-rule=\"evenodd\" fill-opacity=\"1\" /><polyline clip-path=\"url(#clip600)\" style=\"stroke:#ed5d92; stroke-width:4; stroke-opacity:1; fill:none\" points=\"\n",
       "  1786.44,518.578 1931.72,518.578 \n",
       "  \"/>\n",
       "<path clip-path=\"url(#clip600)\" d=\"M 0 0 M1969.77 538.265 Q1967.97 542.895 1966.26 544.307 Q1964.54 545.719 1961.67 545.719 L1958.27 545.719 L1958.27 542.154 L1960.77 542.154 Q1962.53 542.154 1963.5 541.32 Q1964.47 540.487 1965.65 537.385 L1966.42 535.441 L1955.93 509.932 L1960.45 509.932 L1968.55 530.209 L1976.65 509.932 L1981.16 509.932 L1969.77 538.265 Z\" fill=\"#000000\" fill-rule=\"evenodd\" fill-opacity=\"1\" /><path clip-path=\"url(#clip600)\" d=\"M 0 0 M1985.05 501.298 L2007.27 501.298 L2007.27 503.288 L1994.73 535.858 L1989.84 535.858 L2001.65 505.233 L1985.05 505.233 L1985.05 501.298 Z\" fill=\"#000000\" fill-rule=\"evenodd\" fill-opacity=\"1\" /><polyline clip-path=\"url(#clip600)\" style=\"stroke:#c68125; stroke-width:4; stroke-opacity:1; fill:none\" points=\"\n",
       "  1786.44,579.058 1931.72,579.058 \n",
       "  \"/>\n",
       "<path clip-path=\"url(#clip600)\" d=\"M 0 0 M1969.77 598.745 Q1967.97 603.375 1966.26 604.787 Q1964.54 606.199 1961.67 606.199 L1958.27 606.199 L1958.27 602.634 L1960.77 602.634 Q1962.53 602.634 1963.5 601.8 Q1964.47 600.967 1965.65 597.865 L1966.42 595.921 L1955.93 570.412 L1960.45 570.412 L1968.55 590.689 L1976.65 570.412 L1981.16 570.412 L1969.77 598.745 Z\" fill=\"#000000\" fill-rule=\"evenodd\" fill-opacity=\"1\" /><path clip-path=\"url(#clip600)\" d=\"M 0 0 M1996.23 579.926 Q1992.9 579.926 1990.98 581.708 Q1989.08 583.49 1989.08 586.615 Q1989.08 589.74 1990.98 591.523 Q1992.9 593.305 1996.23 593.305 Q1999.57 593.305 2001.49 591.523 Q2003.41 589.717 2003.41 586.615 Q2003.41 583.49 2001.49 581.708 Q1999.59 579.926 1996.23 579.926 M1991.56 577.935 Q1988.55 577.194 1986.86 575.134 Q1985.19 573.074 1985.19 570.111 Q1985.19 565.967 1988.13 563.56 Q1991.09 561.153 1996.23 561.153 Q2001.39 561.153 2004.33 563.56 Q2007.27 565.967 2007.27 570.111 Q2007.27 573.074 2005.58 575.134 Q2003.92 577.194 2000.93 577.935 Q2004.31 578.722 2006.19 581.014 Q2008.08 583.305 2008.08 586.615 Q2008.08 591.639 2005.01 594.324 Q2001.95 597.009 1996.23 597.009 Q1990.51 597.009 1987.44 594.324 Q1984.38 591.639 1984.38 586.615 Q1984.38 583.305 1986.28 581.014 Q1988.18 578.722 1991.56 577.935 M1989.84 570.551 Q1989.84 573.236 1991.51 574.74 Q1993.2 576.245 1996.23 576.245 Q1999.24 576.245 2000.93 574.74 Q2002.64 573.236 2002.64 570.551 Q2002.64 567.865 2000.93 566.361 Q1999.24 564.856 1996.23 564.856 Q1993.2 564.856 1991.51 566.361 Q1989.84 567.865 1989.84 570.551 Z\" fill=\"#000000\" fill-rule=\"evenodd\" fill-opacity=\"1\" /><polyline clip-path=\"url(#clip600)\" style=\"stroke:#00a98d; stroke-width:4; stroke-opacity:1; fill:none\" points=\"\n",
       "  1786.44,639.538 1931.72,639.538 \n",
       "  \"/>\n",
       "<path clip-path=\"url(#clip600)\" d=\"M 0 0 M1969.77 659.225 Q1967.97 663.855 1966.26 665.267 Q1964.54 666.679 1961.67 666.679 L1958.27 666.679 L1958.27 663.114 L1960.77 663.114 Q1962.53 663.114 1963.5 662.28 Q1964.47 661.447 1965.65 658.345 L1966.42 656.401 L1955.93 630.892 L1960.45 630.892 L1968.55 651.169 L1976.65 630.892 L1981.16 630.892 L1969.77 659.225 Z\" fill=\"#000000\" fill-rule=\"evenodd\" fill-opacity=\"1\" /><path clip-path=\"url(#clip600)\" d=\"M 0 0 M1986.37 656.1 L1986.37 651.841 Q1988.13 652.674 1989.94 653.114 Q1991.74 653.554 1993.48 653.554 Q1998.11 653.554 2000.54 650.452 Q2002.99 647.327 2003.34 640.984 Q2002 642.975 1999.94 644.04 Q1997.88 645.105 1995.38 645.105 Q1990.19 645.105 1987.16 641.98 Q1984.15 638.832 1984.15 633.392 Q1984.15 628.068 1987.3 624.85 Q1990.44 621.633 1995.68 621.633 Q2001.67 621.633 2004.82 626.239 Q2007.99 630.822 2007.99 639.572 Q2007.99 647.744 2004.1 652.628 Q2000.24 657.489 1993.69 657.489 Q1991.93 657.489 1990.12 657.142 Q1988.32 656.794 1986.37 656.1 M1995.68 641.447 Q1998.82 641.447 2000.65 639.294 Q2002.51 637.142 2002.51 633.392 Q2002.51 629.665 2000.65 627.512 Q1998.82 625.336 1995.68 625.336 Q1992.53 625.336 1990.68 627.512 Q1988.85 629.665 1988.85 633.392 Q1988.85 637.142 1990.68 639.294 Q1992.53 641.447 1995.68 641.447 Z\" fill=\"#000000\" fill-rule=\"evenodd\" fill-opacity=\"1\" /><polyline clip-path=\"url(#clip600)\" style=\"stroke:#8e971d; stroke-width:4; stroke-opacity:1; fill:none\" points=\"\n",
       "  1786.44,700.018 1931.72,700.018 \n",
       "  \"/>\n",
       "<path clip-path=\"url(#clip600)\" d=\"M 0 0 M1969.77 719.705 Q1967.97 724.335 1966.26 725.747 Q1964.54 727.159 1961.67 727.159 L1958.27 727.159 L1958.27 723.594 L1960.77 723.594 Q1962.53 723.594 1963.5 722.76 Q1964.47 721.927 1965.65 718.825 L1966.42 716.881 L1955.93 691.372 L1960.45 691.372 L1968.55 711.649 L1976.65 691.372 L1981.16 691.372 L1969.77 719.705 Z\" fill=\"#000000\" fill-rule=\"evenodd\" fill-opacity=\"1\" /><path clip-path=\"url(#clip600)\" d=\"M 0 0 M1987.04 713.362 L1994.68 713.362 L1994.68 686.997 L1986.37 688.663 L1986.37 684.404 L1994.63 682.738 L1999.31 682.738 L1999.31 713.362 L2006.95 713.362 L2006.95 717.298 L1987.04 717.298 L1987.04 713.362 Z\" fill=\"#000000\" fill-rule=\"evenodd\" fill-opacity=\"1\" /><path clip-path=\"url(#clip600)\" d=\"M 0 0 M2022.02 685.816 Q2018.41 685.816 2016.58 689.381 Q2014.77 692.923 2014.77 700.052 Q2014.77 707.159 2016.58 710.724 Q2018.41 714.265 2022.02 714.265 Q2025.65 714.265 2027.46 710.724 Q2029.29 707.159 2029.29 700.052 Q2029.29 692.923 2027.46 689.381 Q2025.65 685.816 2022.02 685.816 M2022.02 682.113 Q2027.83 682.113 2030.88 686.719 Q2033.96 691.302 2033.96 700.052 Q2033.96 708.779 2030.88 713.386 Q2027.83 717.969 2022.02 717.969 Q2016.21 717.969 2013.13 713.386 Q2010.07 708.779 2010.07 700.052 Q2010.07 691.302 2013.13 686.719 Q2016.21 682.113 2022.02 682.113 Z\" fill=\"#000000\" fill-rule=\"evenodd\" fill-opacity=\"1\" /><polyline clip-path=\"url(#clip600)\" style=\"stroke:#00a8cb; stroke-width:4; stroke-opacity:1; fill:none\" points=\"\n",
       "  1786.44,760.498 1931.72,760.498 \n",
       "  \"/>\n",
       "<path clip-path=\"url(#clip600)\" d=\"M 0 0 M1969.77 780.185 Q1967.97 784.815 1966.26 786.227 Q1964.54 787.639 1961.67 787.639 L1958.27 787.639 L1958.27 784.074 L1960.77 784.074 Q1962.53 784.074 1963.5 783.24 Q1964.47 782.407 1965.65 779.305 L1966.42 777.361 L1955.93 751.852 L1960.45 751.852 L1968.55 772.129 L1976.65 751.852 L1981.16 751.852 L1969.77 780.185 Z\" fill=\"#000000\" fill-rule=\"evenodd\" fill-opacity=\"1\" /><path clip-path=\"url(#clip600)\" d=\"M 0 0 M1987.04 773.842 L1994.68 773.842 L1994.68 747.477 L1986.37 749.143 L1986.37 744.884 L1994.63 743.218 L1999.31 743.218 L1999.31 773.842 L2006.95 773.842 L2006.95 777.778 L1987.04 777.778 L1987.04 773.842 Z\" fill=\"#000000\" fill-rule=\"evenodd\" fill-opacity=\"1\" /><path clip-path=\"url(#clip600)\" d=\"M 0 0 M2012.83 773.842 L2020.47 773.842 L2020.47 747.477 L2012.16 749.143 L2012.16 744.884 L2020.42 743.218 L2025.1 743.218 L2025.1 773.842 L2032.74 773.842 L2032.74 777.778 L2012.83 777.778 L2012.83 773.842 Z\" fill=\"#000000\" fill-rule=\"evenodd\" fill-opacity=\"1\" /><polyline clip-path=\"url(#clip600)\" style=\"stroke:#9b7fe8; stroke-width:4; stroke-opacity:1; fill:none\" points=\"\n",
       "  1786.44,820.978 1931.72,820.978 \n",
       "  \"/>\n",
       "<path clip-path=\"url(#clip600)\" d=\"M 0 0 M1969.77 840.665 Q1967.97 845.295 1966.26 846.707 Q1964.54 848.119 1961.67 848.119 L1958.27 848.119 L1958.27 844.554 L1960.77 844.554 Q1962.53 844.554 1963.5 843.72 Q1964.47 842.887 1965.65 839.785 L1966.42 837.841 L1955.93 812.332 L1960.45 812.332 L1968.55 832.609 L1976.65 812.332 L1981.16 812.332 L1969.77 840.665 Z\" fill=\"#000000\" fill-rule=\"evenodd\" fill-opacity=\"1\" /><path clip-path=\"url(#clip600)\" d=\"M 0 0 M1987.04 834.322 L1994.68 834.322 L1994.68 807.957 L1986.37 809.623 L1986.37 805.364 L1994.63 803.698 L1999.31 803.698 L1999.31 834.322 L2006.95 834.322 L2006.95 838.258 L1987.04 838.258 L1987.04 834.322 Z\" fill=\"#000000\" fill-rule=\"evenodd\" fill-opacity=\"1\" /><path clip-path=\"url(#clip600)\" d=\"M 0 0 M2016.05 834.322 L2032.37 834.322 L2032.37 838.258 L2010.42 838.258 L2010.42 834.322 Q2013.08 831.568 2017.67 826.938 Q2022.27 822.285 2023.45 820.943 Q2025.7 818.42 2026.58 816.684 Q2027.48 814.924 2027.48 813.235 Q2027.48 810.48 2025.54 808.744 Q2023.62 807.008 2020.51 807.008 Q2018.32 807.008 2015.86 807.772 Q2013.43 808.535 2010.65 810.086 L2010.65 805.364 Q2013.48 804.23 2015.93 803.651 Q2018.38 803.073 2020.42 803.073 Q2025.79 803.073 2028.99 805.758 Q2032.18 808.443 2032.18 812.934 Q2032.18 815.063 2031.37 816.985 Q2030.58 818.883 2028.48 821.475 Q2027.9 822.147 2024.8 825.364 Q2021.69 828.559 2016.05 834.322 Z\" fill=\"#000000\" fill-rule=\"evenodd\" fill-opacity=\"1\" /><polyline clip-path=\"url(#clip600)\" style=\"stroke:#608cf6; stroke-width:4; stroke-opacity:1; fill:none\" points=\"\n",
       "  1786.44,881.458 1931.72,881.458 \n",
       "  \"/>\n",
       "<path clip-path=\"url(#clip600)\" d=\"M 0 0 M1969.77 901.145 Q1967.97 905.775 1966.26 907.187 Q1964.54 908.599 1961.67 908.599 L1958.27 908.599 L1958.27 905.034 L1960.77 905.034 Q1962.53 905.034 1963.5 904.2 Q1964.47 903.367 1965.65 900.265 L1966.42 898.321 L1955.93 872.812 L1960.45 872.812 L1968.55 893.089 L1976.65 872.812 L1981.16 872.812 L1969.77 901.145 Z\" fill=\"#000000\" fill-rule=\"evenodd\" fill-opacity=\"1\" /><path clip-path=\"url(#clip600)\" d=\"M 0 0 M1987.04 894.802 L1994.68 894.802 L1994.68 868.437 L1986.37 870.103 L1986.37 865.844 L1994.63 864.178 L1999.31 864.178 L1999.31 894.802 L2006.95 894.802 L2006.95 898.738 L1987.04 898.738 L1987.04 894.802 Z\" fill=\"#000000\" fill-rule=\"evenodd\" fill-opacity=\"1\" /><path clip-path=\"url(#clip600)\" d=\"M 0 0 M2026.19 880.103 Q2029.54 880.821 2031.42 883.089 Q2033.32 885.358 2033.32 888.691 Q2033.32 893.807 2029.8 896.608 Q2026.28 899.409 2019.8 899.409 Q2017.62 899.409 2015.31 898.969 Q2013.01 898.552 2010.56 897.696 L2010.56 893.182 Q2012.51 894.316 2014.82 894.895 Q2017.13 895.474 2019.66 895.474 Q2024.06 895.474 2026.35 893.738 Q2028.66 892.001 2028.66 888.691 Q2028.66 885.636 2026.51 883.923 Q2024.38 882.187 2020.56 882.187 L2016.53 882.187 L2016.53 878.344 L2020.75 878.344 Q2024.19 878.344 2026.02 876.978 Q2027.85 875.59 2027.85 872.997 Q2027.85 870.335 2025.95 868.923 Q2024.08 867.488 2020.56 867.488 Q2018.64 867.488 2016.44 867.904 Q2014.24 868.321 2011.6 869.201 L2011.6 865.034 Q2014.26 864.293 2016.58 863.923 Q2018.92 863.553 2020.98 863.553 Q2026.3 863.553 2029.4 865.983 Q2032.5 868.39 2032.5 872.511 Q2032.5 875.381 2030.86 877.372 Q2029.22 879.34 2026.19 880.103 Z\" fill=\"#000000\" fill-rule=\"evenodd\" fill-opacity=\"1\" /><polyline clip-path=\"url(#clip600)\" style=\"stroke:#f05f73; stroke-width:4; stroke-opacity:1; fill:none\" points=\"\n",
       "  1786.44,941.938 1931.72,941.938 \n",
       "  \"/>\n",
       "<path clip-path=\"url(#clip600)\" d=\"M 0 0 M1969.77 961.625 Q1967.97 966.255 1966.26 967.667 Q1964.54 969.079 1961.67 969.079 L1958.27 969.079 L1958.27 965.514 L1960.77 965.514 Q1962.53 965.514 1963.5 964.68 Q1964.47 963.847 1965.65 960.745 L1966.42 958.801 L1955.93 933.292 L1960.45 933.292 L1968.55 953.569 L1976.65 933.292 L1981.16 933.292 L1969.77 961.625 Z\" fill=\"#000000\" fill-rule=\"evenodd\" fill-opacity=\"1\" /><path clip-path=\"url(#clip600)\" d=\"M 0 0 M1987.04 955.282 L1994.68 955.282 L1994.68 928.917 L1986.37 930.583 L1986.37 926.324 L1994.63 924.658 L1999.31 924.658 L1999.31 955.282 L2006.95 955.282 L2006.95 959.218 L1987.04 959.218 L1987.04 955.282 Z\" fill=\"#000000\" fill-rule=\"evenodd\" fill-opacity=\"1\" /><path clip-path=\"url(#clip600)\" d=\"M 0 0 M2024.87 928.732 L2013.06 947.181 L2024.87 947.181 L2024.87 928.732 M2023.64 924.658 L2029.52 924.658 L2029.52 947.181 L2034.45 947.181 L2034.45 951.069 L2029.52 951.069 L2029.52 959.218 L2024.87 959.218 L2024.87 951.069 L2009.26 951.069 L2009.26 946.556 L2023.64 924.658 Z\" fill=\"#000000\" fill-rule=\"evenodd\" fill-opacity=\"1\" /><polyline clip-path=\"url(#clip600)\" style=\"stroke:#dd64b5; stroke-width:4; stroke-opacity:1; fill:none\" points=\"\n",
       "  1786.44,1002.42 1931.72,1002.42 \n",
       "  \"/>\n",
       "<path clip-path=\"url(#clip600)\" d=\"M 0 0 M1969.77 1022.1 Q1967.97 1026.73 1966.26 1028.15 Q1964.54 1029.56 1961.67 1029.56 L1958.27 1029.56 L1958.27 1025.99 L1960.77 1025.99 Q1962.53 1025.99 1963.5 1025.16 Q1964.47 1024.33 1965.65 1021.23 L1966.42 1019.28 L1955.93 993.772 L1960.45 993.772 L1968.55 1014.05 L1976.65 993.772 L1981.16 993.772 L1969.77 1022.1 Z\" fill=\"#000000\" fill-rule=\"evenodd\" fill-opacity=\"1\" /><path clip-path=\"url(#clip600)\" d=\"M 0 0 M1987.04 1015.76 L1994.68 1015.76 L1994.68 989.397 L1986.37 991.063 L1986.37 986.804 L1994.63 985.138 L1999.31 985.138 L1999.31 1015.76 L2006.95 1015.76 L2006.95 1019.7 L1987.04 1019.7 L1987.04 1015.76 Z\" fill=\"#000000\" fill-rule=\"evenodd\" fill-opacity=\"1\" /><path clip-path=\"url(#clip600)\" d=\"M 0 0 M2012.07 985.138 L2030.42 985.138 L2030.42 989.073 L2016.35 989.073 L2016.35 997.545 Q2017.37 997.198 2018.38 997.036 Q2019.4 996.85 2020.42 996.85 Q2026.21 996.85 2029.59 1000.02 Q2032.97 1003.19 2032.97 1008.61 Q2032.97 1014.19 2029.5 1017.29 Q2026.02 1020.37 2019.7 1020.37 Q2017.53 1020.37 2015.26 1020 Q2013.01 1019.63 2010.61 1018.89 L2010.61 1014.19 Q2012.69 1015.32 2014.91 1015.88 Q2017.13 1016.43 2019.61 1016.43 Q2023.62 1016.43 2025.95 1014.33 Q2028.29 1012.22 2028.29 1008.61 Q2028.29 1005 2025.95 1002.89 Q2023.62 1000.79 2019.61 1000.79 Q2017.74 1000.79 2015.86 1001.2 Q2014.01 1001.62 2012.07 1002.5 L2012.07 985.138 Z\" fill=\"#000000\" fill-rule=\"evenodd\" fill-opacity=\"1\" /><polyline clip-path=\"url(#clip600)\" style=\"stroke:#6b9e32; stroke-width:4; stroke-opacity:1; fill:none\" points=\"\n",
       "  1786.44,1062.9 1931.72,1062.9 \n",
       "  \"/>\n",
       "<path clip-path=\"url(#clip600)\" d=\"M 0 0 M1969.77 1082.58 Q1967.97 1087.21 1966.26 1088.63 Q1964.54 1090.04 1961.67 1090.04 L1958.27 1090.04 L1958.27 1086.47 L1960.77 1086.47 Q1962.53 1086.47 1963.5 1085.64 Q1964.47 1084.81 1965.65 1081.71 L1966.42 1079.76 L1955.93 1054.25 L1960.45 1054.25 L1968.55 1074.53 L1976.65 1054.25 L1981.16 1054.25 L1969.77 1082.58 Z\" fill=\"#000000\" fill-rule=\"evenodd\" fill-opacity=\"1\" /><path clip-path=\"url(#clip600)\" d=\"M 0 0 M1987.04 1076.24 L1994.68 1076.24 L1994.68 1049.88 L1986.37 1051.54 L1986.37 1047.28 L1994.63 1045.62 L1999.31 1045.62 L1999.31 1076.24 L2006.95 1076.24 L2006.95 1080.18 L1987.04 1080.18 L1987.04 1076.24 Z\" fill=\"#000000\" fill-rule=\"evenodd\" fill-opacity=\"1\" /><path clip-path=\"url(#clip600)\" d=\"M 0 0 M2022.6 1061.03 Q2019.45 1061.03 2017.6 1063.19 Q2015.77 1065.34 2015.77 1069.09 Q2015.77 1072.82 2017.6 1074.99 Q2019.45 1077.15 2022.6 1077.15 Q2025.75 1077.15 2027.57 1074.99 Q2029.43 1072.82 2029.43 1069.09 Q2029.43 1065.34 2027.57 1063.19 Q2025.75 1061.03 2022.6 1061.03 M2031.88 1046.38 L2031.88 1050.64 Q2030.12 1049.81 2028.32 1049.37 Q2026.53 1048.93 2024.77 1048.93 Q2020.14 1048.93 2017.69 1052.05 Q2015.26 1055.18 2014.91 1061.5 Q2016.28 1059.48 2018.34 1058.42 Q2020.4 1057.33 2022.88 1057.33 Q2028.08 1057.33 2031.09 1060.5 Q2034.13 1063.65 2034.13 1069.09 Q2034.13 1074.41 2030.98 1077.63 Q2027.83 1080.85 2022.6 1080.85 Q2016.6 1080.85 2013.43 1076.27 Q2010.26 1071.66 2010.26 1062.93 Q2010.26 1054.74 2014.15 1049.88 Q2018.04 1044.99 2024.59 1044.99 Q2026.35 1044.99 2028.13 1045.34 Q2029.94 1045.69 2031.88 1046.38 Z\" fill=\"#000000\" fill-rule=\"evenodd\" fill-opacity=\"1\" /><polyline clip-path=\"url(#clip600)\" style=\"stroke:#009af9; stroke-width:4; stroke-opacity:1; fill:none\" points=\"\n",
       "  1786.44,1123.38 1931.72,1123.38 \n",
       "  \"/>\n",
       "<path clip-path=\"url(#clip600)\" d=\"M 0 0 M1969.77 1143.06 Q1967.97 1147.69 1966.26 1149.11 Q1964.54 1150.52 1961.67 1150.52 L1958.27 1150.52 L1958.27 1146.95 L1960.77 1146.95 Q1962.53 1146.95 1963.5 1146.12 Q1964.47 1145.29 1965.65 1142.19 L1966.42 1140.24 L1955.93 1114.73 L1960.45 1114.73 L1968.55 1135.01 L1976.65 1114.73 L1981.16 1114.73 L1969.77 1143.06 Z\" fill=\"#000000\" fill-rule=\"evenodd\" fill-opacity=\"1\" /><path clip-path=\"url(#clip600)\" d=\"M 0 0 M1987.04 1136.72 L1994.68 1136.72 L1994.68 1110.36 L1986.37 1112.02 L1986.37 1107.76 L1994.63 1106.1 L1999.31 1106.1 L1999.31 1136.72 L2006.95 1136.72 L2006.95 1140.66 L1987.04 1140.66 L1987.04 1136.72 Z\" fill=\"#000000\" fill-rule=\"evenodd\" fill-opacity=\"1\" /><path clip-path=\"url(#clip600)\" d=\"M 0 0 M2010.84 1106.1 L2033.06 1106.1 L2033.06 1108.09 L2020.51 1140.66 L2015.63 1140.66 L2027.44 1110.03 L2010.84 1110.03 L2010.84 1106.1 Z\" fill=\"#000000\" fill-rule=\"evenodd\" fill-opacity=\"1\" /><polyline clip-path=\"url(#clip600)\" style=\"stroke:#e26f46; stroke-width:4; stroke-opacity:1; fill:none\" points=\"\n",
       "  1786.44,1183.86 1931.72,1183.86 \n",
       "  \"/>\n",
       "<path clip-path=\"url(#clip600)\" d=\"M 0 0 M1969.77 1203.54 Q1967.97 1208.17 1966.26 1209.59 Q1964.54 1211 1961.67 1211 L1958.27 1211 L1958.27 1207.43 L1960.77 1207.43 Q1962.53 1207.43 1963.5 1206.6 Q1964.47 1205.77 1965.65 1202.67 L1966.42 1200.72 L1955.93 1175.21 L1960.45 1175.21 L1968.55 1195.49 L1976.65 1175.21 L1981.16 1175.21 L1969.77 1203.54 Z\" fill=\"#000000\" fill-rule=\"evenodd\" fill-opacity=\"1\" /><path clip-path=\"url(#clip600)\" d=\"M 0 0 M1987.04 1197.2 L1994.68 1197.2 L1994.68 1170.84 L1986.37 1172.5 L1986.37 1168.24 L1994.63 1166.58 L1999.31 1166.58 L1999.31 1197.2 L2006.95 1197.2 L2006.95 1201.14 L1987.04 1201.14 L1987.04 1197.2 Z\" fill=\"#000000\" fill-rule=\"evenodd\" fill-opacity=\"1\" /><path clip-path=\"url(#clip600)\" d=\"M 0 0 M2022.02 1184.73 Q2018.69 1184.73 2016.76 1186.51 Q2014.87 1188.29 2014.87 1191.42 Q2014.87 1194.54 2016.76 1196.32 Q2018.69 1198.11 2022.02 1198.11 Q2025.35 1198.11 2027.27 1196.32 Q2029.19 1194.52 2029.19 1191.42 Q2029.19 1188.29 2027.27 1186.51 Q2025.38 1184.73 2022.02 1184.73 M2017.34 1182.73 Q2014.33 1181.99 2012.64 1179.93 Q2010.98 1177.87 2010.98 1174.91 Q2010.98 1170.77 2013.92 1168.36 Q2016.88 1165.95 2022.02 1165.95 Q2027.18 1165.95 2030.12 1168.36 Q2033.06 1170.77 2033.06 1174.91 Q2033.06 1177.87 2031.37 1179.93 Q2029.7 1181.99 2026.72 1182.73 Q2030.1 1183.52 2031.97 1185.81 Q2033.87 1188.11 2033.87 1191.42 Q2033.87 1196.44 2030.79 1199.12 Q2027.74 1201.81 2022.02 1201.81 Q2016.3 1201.81 2013.22 1199.12 Q2010.17 1196.44 2010.17 1191.42 Q2010.17 1188.11 2012.07 1185.81 Q2013.96 1183.52 2017.34 1182.73 M2015.63 1175.35 Q2015.63 1178.04 2017.3 1179.54 Q2018.99 1181.05 2022.02 1181.05 Q2025.03 1181.05 2026.72 1179.54 Q2028.43 1178.04 2028.43 1175.35 Q2028.43 1172.67 2026.72 1171.16 Q2025.03 1169.66 2022.02 1169.66 Q2018.99 1169.66 2017.3 1171.16 Q2015.63 1172.67 2015.63 1175.35 Z\" fill=\"#000000\" fill-rule=\"evenodd\" fill-opacity=\"1\" /><polyline clip-path=\"url(#clip600)\" style=\"stroke:#3da44d; stroke-width:4; stroke-opacity:1; fill:none\" points=\"\n",
       "  1786.44,1244.34 1931.72,1244.34 \n",
       "  \"/>\n",
       "<path clip-path=\"url(#clip600)\" d=\"M 0 0 M1969.77 1264.02 Q1967.97 1268.65 1966.26 1270.07 Q1964.54 1271.48 1961.67 1271.48 L1958.27 1271.48 L1958.27 1267.91 L1960.77 1267.91 Q1962.53 1267.91 1963.5 1267.08 Q1964.47 1266.25 1965.65 1263.15 L1966.42 1261.2 L1955.93 1235.69 L1960.45 1235.69 L1968.55 1255.97 L1976.65 1235.69 L1981.16 1235.69 L1969.77 1264.02 Z\" fill=\"#000000\" fill-rule=\"evenodd\" fill-opacity=\"1\" /><path clip-path=\"url(#clip600)\" d=\"M 0 0 M1987.04 1257.68 L1994.68 1257.68 L1994.68 1231.32 L1986.37 1232.98 L1986.37 1228.72 L1994.63 1227.06 L1999.31 1227.06 L1999.31 1257.68 L2006.95 1257.68 L2006.95 1261.62 L1987.04 1261.62 L1987.04 1257.68 Z\" fill=\"#000000\" fill-rule=\"evenodd\" fill-opacity=\"1\" /><path clip-path=\"url(#clip600)\" d=\"M 0 0 M2012.16 1260.9 L2012.16 1256.64 Q2013.92 1257.47 2015.72 1257.91 Q2017.53 1258.35 2019.26 1258.35 Q2023.89 1258.35 2026.32 1255.25 Q2028.78 1252.13 2029.13 1245.78 Q2027.78 1247.78 2025.72 1248.84 Q2023.66 1249.9 2021.16 1249.9 Q2015.98 1249.9 2012.94 1246.78 Q2009.94 1243.63 2009.94 1238.19 Q2009.94 1232.87 2013.08 1229.65 Q2016.23 1226.43 2021.46 1226.43 Q2027.46 1226.43 2030.61 1231.04 Q2033.78 1235.62 2033.78 1244.37 Q2033.78 1252.54 2029.89 1257.43 Q2026.02 1262.29 2019.47 1262.29 Q2017.71 1262.29 2015.91 1261.94 Q2014.1 1261.59 2012.16 1260.9 M2021.46 1246.25 Q2024.61 1246.25 2026.44 1244.09 Q2028.29 1241.94 2028.29 1238.19 Q2028.29 1234.46 2026.44 1232.31 Q2024.61 1230.14 2021.46 1230.14 Q2018.32 1230.14 2016.46 1232.31 Q2014.63 1234.46 2014.63 1238.19 Q2014.63 1241.94 2016.46 1244.09 Q2018.32 1246.25 2021.46 1246.25 Z\" fill=\"#000000\" fill-rule=\"evenodd\" fill-opacity=\"1\" /><polyline clip-path=\"url(#clip600)\" style=\"stroke:#c271d2; stroke-width:4; stroke-opacity:1; fill:none\" points=\"\n",
       "  1786.44,1304.82 1931.72,1304.82 \n",
       "  \"/>\n",
       "<path clip-path=\"url(#clip600)\" d=\"M 0 0 M1969.77 1324.5 Q1967.97 1329.13 1966.26 1330.55 Q1964.54 1331.96 1961.67 1331.96 L1958.27 1331.96 L1958.27 1328.39 L1960.77 1328.39 Q1962.53 1328.39 1963.5 1327.56 Q1964.47 1326.73 1965.65 1323.63 L1966.42 1321.68 L1955.93 1296.17 L1960.45 1296.17 L1968.55 1316.45 L1976.65 1296.17 L1981.16 1296.17 L1969.77 1324.5 Z\" fill=\"#000000\" fill-rule=\"evenodd\" fill-opacity=\"1\" /><path clip-path=\"url(#clip600)\" d=\"M 0 0 M1990.26 1318.16 L2006.58 1318.16 L2006.58 1322.1 L1984.63 1322.1 L1984.63 1318.16 Q1987.3 1315.41 1991.88 1310.78 Q1996.49 1306.13 1997.67 1304.78 Q1999.91 1302.26 2000.79 1300.52 Q2001.69 1298.76 2001.69 1297.07 Q2001.69 1294.32 1999.75 1292.58 Q1997.83 1290.85 1994.73 1290.85 Q1992.53 1290.85 1990.07 1291.61 Q1987.64 1292.38 1984.87 1293.93 L1984.87 1289.2 Q1987.69 1288.07 1990.14 1287.49 Q1992.6 1286.91 1994.63 1286.91 Q2000.01 1286.91 2003.2 1289.6 Q2006.39 1292.28 2006.39 1296.77 Q2006.39 1298.9 2005.58 1300.82 Q2004.8 1302.72 2002.69 1305.32 Q2002.11 1305.99 1999.01 1309.2 Q1995.91 1312.4 1990.26 1318.16 Z\" fill=\"#000000\" fill-rule=\"evenodd\" fill-opacity=\"1\" /><path clip-path=\"url(#clip600)\" d=\"M 0 0 M2021.65 1290.62 Q2018.04 1290.62 2016.21 1294.18 Q2014.4 1297.72 2014.4 1304.85 Q2014.4 1311.96 2016.21 1315.52 Q2018.04 1319.07 2021.65 1319.07 Q2025.28 1319.07 2027.09 1315.52 Q2028.92 1311.96 2028.92 1304.85 Q2028.92 1297.72 2027.09 1294.18 Q2025.28 1290.62 2021.65 1290.62 M2021.65 1286.91 Q2027.46 1286.91 2030.51 1291.52 Q2033.59 1296.1 2033.59 1304.85 Q2033.59 1313.58 2030.51 1318.19 Q2027.46 1322.77 2021.65 1322.77 Q2015.84 1322.77 2012.76 1318.19 Q2009.7 1313.58 2009.7 1304.85 Q2009.7 1296.1 2012.76 1291.52 Q2015.84 1286.91 2021.65 1286.91 Z\" fill=\"#000000\" fill-rule=\"evenodd\" fill-opacity=\"1\" /><polyline clip-path=\"url(#clip600)\" style=\"stroke:#ac8d18; stroke-width:4; stroke-opacity:1; fill:none\" points=\"\n",
       "  1786.44,1365.3 1931.72,1365.3 \n",
       "  \"/>\n",
       "<path clip-path=\"url(#clip600)\" d=\"M 0 0 M1969.77 1384.98 Q1967.97 1389.61 1966.26 1391.03 Q1964.54 1392.44 1961.67 1392.44 L1958.27 1392.44 L1958.27 1388.87 L1960.77 1388.87 Q1962.53 1388.87 1963.5 1388.04 Q1964.47 1387.21 1965.65 1384.11 L1966.42 1382.16 L1955.93 1356.65 L1960.45 1356.65 L1968.55 1376.93 L1976.65 1356.65 L1981.16 1356.65 L1969.77 1384.98 Z\" fill=\"#000000\" fill-rule=\"evenodd\" fill-opacity=\"1\" /><path clip-path=\"url(#clip600)\" d=\"M 0 0 M1990.26 1378.64 L2006.58 1378.64 L2006.58 1382.58 L1984.63 1382.58 L1984.63 1378.64 Q1987.3 1375.89 1991.88 1371.26 Q1996.49 1366.61 1997.67 1365.26 Q1999.91 1362.74 2000.79 1361 Q2001.69 1359.24 2001.69 1357.55 Q2001.69 1354.8 1999.75 1353.06 Q1997.83 1351.33 1994.73 1351.33 Q1992.53 1351.33 1990.07 1352.09 Q1987.64 1352.86 1984.87 1354.41 L1984.87 1349.68 Q1987.69 1348.55 1990.14 1347.97 Q1992.6 1347.39 1994.63 1347.39 Q2000.01 1347.39 2003.2 1350.08 Q2006.39 1352.76 2006.39 1357.25 Q2006.39 1359.38 2005.58 1361.3 Q2004.8 1363.2 2002.69 1365.8 Q2002.11 1366.47 1999.01 1369.68 Q1995.91 1372.88 1990.26 1378.64 Z\" fill=\"#000000\" fill-rule=\"evenodd\" fill-opacity=\"1\" /><path clip-path=\"url(#clip600)\" d=\"M 0 0 M2012.46 1378.64 L2020.1 1378.64 L2020.1 1352.28 L2011.79 1353.94 L2011.79 1349.68 L2020.05 1348.02 L2024.73 1348.02 L2024.73 1378.64 L2032.37 1378.64 L2032.37 1382.58 L2012.46 1382.58 L2012.46 1378.64 Z\" fill=\"#000000\" fill-rule=\"evenodd\" fill-opacity=\"1\" /></svg>\n"
      ]
     },
     "execution_count": 104,
     "metadata": {},
     "output_type": "execute_result"
    }
   ],
   "source": [
    "plot(H_series_large, label = \"Deterministic\")\n",
    "for i in 1:20\n",
    "    d_large = d_m_large\n",
    "    H_large = heterozygosity(d_m_large)\n",
    "    H_sim_large = [H_large]\n",
    "    for year in 1:50\n",
    "        d_large = life_cycle(d_large)\n",
    "        H_large = heterozygosity(d_large)\n",
    "        push!(H_sim_large,H_large)\n",
    "    end   \n",
    "    plot!(H_sim_large)\n",
    "end\n",
    "current()"
   ]
  },
  {
   "cell_type": "code",
   "execution_count": 107,
   "metadata": {},
   "outputs": [],
   "source": [
    "d_small = make_deme(10,1,α,10,α/2)\n",
    "d_m_small = deepcopy(d_small)\n",
    "H_small = heterozygosity(d_small)\n",
    "H_sim_small = [H_small]\n",
    "H_series_small = [H_small]\n",
    "for i in 1:50\n",
    "    H_small = det_het(H_small,i,10)\n",
    "    push!(H_series_small,H_small)\n",
    "end"
   ]
  },
  {
   "cell_type": "code",
   "execution_count": 108,
   "metadata": {},
   "outputs": [
    {
     "data": {
      "image/svg+xml": [
       "<?xml version=\"1.0\" encoding=\"utf-8\"?>\n",
       "<svg xmlns=\"http://www.w3.org/2000/svg\" xmlns:xlink=\"http://www.w3.org/1999/xlink\" width=\"600\" height=\"400\" viewBox=\"0 0 2400 1600\">\n",
       "<defs>\n",
       "  <clipPath id=\"clip640\">\n",
       "    <rect x=\"0\" y=\"0\" width=\"2400\" height=\"1600\"/>\n",
       "  </clipPath>\n",
       "</defs>\n",
       "<path clip-path=\"url(#clip640)\" d=\"\n",
       "M0 1600 L2400 1600 L2400 0 L0 0  Z\n",
       "  \" fill=\"#ffffff\" fill-rule=\"evenodd\" fill-opacity=\"1\"/>\n",
       "<defs>\n",
       "  <clipPath id=\"clip641\">\n",
       "    <rect x=\"480\" y=\"0\" width=\"1681\" height=\"1600\"/>\n",
       "  </clipPath>\n",
       "</defs>\n",
       "<path clip-path=\"url(#clip640)\" d=\"\n",
       "M174.862 1486.45 L2352.76 1486.45 L2352.76 47.2441 L174.862 47.2441  Z\n",
       "  \" fill=\"#ffffff\" fill-rule=\"evenodd\" fill-opacity=\"1\"/>\n",
       "<defs>\n",
       "  <clipPath id=\"clip642\">\n",
       "    <rect x=\"174\" y=\"47\" width=\"2179\" height=\"1440\"/>\n",
       "  </clipPath>\n",
       "</defs>\n",
       "<polyline clip-path=\"url(#clip642)\" style=\"stroke:#000000; stroke-width:2; stroke-opacity:0.1; fill:none\" points=\"\n",
       "  195.408,1486.45 195.408,47.2441 \n",
       "  \"/>\n",
       "<polyline clip-path=\"url(#clip642)\" style=\"stroke:#000000; stroke-width:2; stroke-opacity:0.1; fill:none\" points=\"\n",
       "  606.332,1486.45 606.332,47.2441 \n",
       "  \"/>\n",
       "<polyline clip-path=\"url(#clip642)\" style=\"stroke:#000000; stroke-width:2; stroke-opacity:0.1; fill:none\" points=\"\n",
       "  1017.25,1486.45 1017.25,47.2441 \n",
       "  \"/>\n",
       "<polyline clip-path=\"url(#clip642)\" style=\"stroke:#000000; stroke-width:2; stroke-opacity:0.1; fill:none\" points=\"\n",
       "  1428.18,1486.45 1428.18,47.2441 \n",
       "  \"/>\n",
       "<polyline clip-path=\"url(#clip642)\" style=\"stroke:#000000; stroke-width:2; stroke-opacity:0.1; fill:none\" points=\"\n",
       "  1839.1,1486.45 1839.1,47.2441 \n",
       "  \"/>\n",
       "<polyline clip-path=\"url(#clip642)\" style=\"stroke:#000000; stroke-width:2; stroke-opacity:0.1; fill:none\" points=\"\n",
       "  2250.03,1486.45 2250.03,47.2441 \n",
       "  \"/>\n",
       "<polyline clip-path=\"url(#clip642)\" style=\"stroke:#000000; stroke-width:2; stroke-opacity:0.1; fill:none\" points=\"\n",
       "  174.862,1445.72 2352.76,1445.72 \n",
       "  \"/>\n",
       "<polyline clip-path=\"url(#clip642)\" style=\"stroke:#000000; stroke-width:2; stroke-opacity:0.1; fill:none\" points=\"\n",
       "  174.862,1174.17 2352.76,1174.17 \n",
       "  \"/>\n",
       "<polyline clip-path=\"url(#clip642)\" style=\"stroke:#000000; stroke-width:2; stroke-opacity:0.1; fill:none\" points=\"\n",
       "  174.862,902.62 2352.76,902.62 \n",
       "  \"/>\n",
       "<polyline clip-path=\"url(#clip642)\" style=\"stroke:#000000; stroke-width:2; stroke-opacity:0.1; fill:none\" points=\"\n",
       "  174.862,631.072 2352.76,631.072 \n",
       "  \"/>\n",
       "<polyline clip-path=\"url(#clip642)\" style=\"stroke:#000000; stroke-width:2; stroke-opacity:0.1; fill:none\" points=\"\n",
       "  174.862,359.524 2352.76,359.524 \n",
       "  \"/>\n",
       "<polyline clip-path=\"url(#clip642)\" style=\"stroke:#000000; stroke-width:2; stroke-opacity:0.1; fill:none\" points=\"\n",
       "  174.862,87.9763 2352.76,87.9763 \n",
       "  \"/>\n",
       "<polyline clip-path=\"url(#clip640)\" style=\"stroke:#000000; stroke-width:4; stroke-opacity:1; fill:none\" points=\"\n",
       "  174.862,1486.45 2352.76,1486.45 \n",
       "  \"/>\n",
       "<polyline clip-path=\"url(#clip640)\" style=\"stroke:#000000; stroke-width:4; stroke-opacity:1; fill:none\" points=\"\n",
       "  174.862,1486.45 174.862,47.2441 \n",
       "  \"/>\n",
       "<polyline clip-path=\"url(#clip640)\" style=\"stroke:#000000; stroke-width:4; stroke-opacity:1; fill:none\" points=\"\n",
       "  195.408,1486.45 195.408,1469.18 \n",
       "  \"/>\n",
       "<polyline clip-path=\"url(#clip640)\" style=\"stroke:#000000; stroke-width:4; stroke-opacity:1; fill:none\" points=\"\n",
       "  606.332,1486.45 606.332,1469.18 \n",
       "  \"/>\n",
       "<polyline clip-path=\"url(#clip640)\" style=\"stroke:#000000; stroke-width:4; stroke-opacity:1; fill:none\" points=\"\n",
       "  1017.25,1486.45 1017.25,1469.18 \n",
       "  \"/>\n",
       "<polyline clip-path=\"url(#clip640)\" style=\"stroke:#000000; stroke-width:4; stroke-opacity:1; fill:none\" points=\"\n",
       "  1428.18,1486.45 1428.18,1469.18 \n",
       "  \"/>\n",
       "<polyline clip-path=\"url(#clip640)\" style=\"stroke:#000000; stroke-width:4; stroke-opacity:1; fill:none\" points=\"\n",
       "  1839.1,1486.45 1839.1,1469.18 \n",
       "  \"/>\n",
       "<polyline clip-path=\"url(#clip640)\" style=\"stroke:#000000; stroke-width:4; stroke-opacity:1; fill:none\" points=\"\n",
       "  2250.03,1486.45 2250.03,1469.18 \n",
       "  \"/>\n",
       "<polyline clip-path=\"url(#clip640)\" style=\"stroke:#000000; stroke-width:4; stroke-opacity:1; fill:none\" points=\"\n",
       "  174.862,1445.72 200.997,1445.72 \n",
       "  \"/>\n",
       "<polyline clip-path=\"url(#clip640)\" style=\"stroke:#000000; stroke-width:4; stroke-opacity:1; fill:none\" points=\"\n",
       "  174.862,1174.17 200.997,1174.17 \n",
       "  \"/>\n",
       "<polyline clip-path=\"url(#clip640)\" style=\"stroke:#000000; stroke-width:4; stroke-opacity:1; fill:none\" points=\"\n",
       "  174.862,902.62 200.997,902.62 \n",
       "  \"/>\n",
       "<polyline clip-path=\"url(#clip640)\" style=\"stroke:#000000; stroke-width:4; stroke-opacity:1; fill:none\" points=\"\n",
       "  174.862,631.072 200.997,631.072 \n",
       "  \"/>\n",
       "<polyline clip-path=\"url(#clip640)\" style=\"stroke:#000000; stroke-width:4; stroke-opacity:1; fill:none\" points=\"\n",
       "  174.862,359.524 200.997,359.524 \n",
       "  \"/>\n",
       "<polyline clip-path=\"url(#clip640)\" style=\"stroke:#000000; stroke-width:4; stroke-opacity:1; fill:none\" points=\"\n",
       "  174.862,87.9763 200.997,87.9763 \n",
       "  \"/>\n",
       "<path clip-path=\"url(#clip640)\" d=\"M 0 0 M195.408 1508.44 Q191.797 1508.44 189.968 1512 Q188.163 1515.55 188.163 1522.67 Q188.163 1529.78 189.968 1533.35 Q191.797 1536.89 195.408 1536.89 Q199.042 1536.89 200.848 1533.35 Q202.677 1529.78 202.677 1522.67 Q202.677 1515.55 200.848 1512 Q199.042 1508.44 195.408 1508.44 M195.408 1504.73 Q201.218 1504.73 204.274 1509.34 Q207.353 1513.92 207.353 1522.67 Q207.353 1531.4 204.274 1536.01 Q201.218 1540.59 195.408 1540.59 Q189.598 1540.59 186.519 1536.01 Q183.464 1531.4 183.464 1522.67 Q183.464 1513.92 186.519 1509.34 Q189.598 1504.73 195.408 1504.73 Z\" fill=\"#000000\" fill-rule=\"evenodd\" fill-opacity=\"1\" /><path clip-path=\"url(#clip640)\" d=\"M 0 0 M583.207 1535.98 L590.846 1535.98 L590.846 1509.62 L582.535 1511.29 L582.535 1507.03 L590.799 1505.36 L595.475 1505.36 L595.475 1535.98 L603.114 1535.98 L603.114 1539.92 L583.207 1539.92 L583.207 1535.98 Z\" fill=\"#000000\" fill-rule=\"evenodd\" fill-opacity=\"1\" /><path clip-path=\"url(#clip640)\" d=\"M 0 0 M618.183 1508.44 Q614.572 1508.44 612.744 1512 Q610.938 1515.55 610.938 1522.67 Q610.938 1529.78 612.744 1533.35 Q614.572 1536.89 618.183 1536.89 Q621.818 1536.89 623.623 1533.35 Q625.452 1529.78 625.452 1522.67 Q625.452 1515.55 623.623 1512 Q621.818 1508.44 618.183 1508.44 M618.183 1504.73 Q623.994 1504.73 627.049 1509.34 Q630.128 1513.92 630.128 1522.67 Q630.128 1531.4 627.049 1536.01 Q623.994 1540.59 618.183 1540.59 Q612.373 1540.59 609.295 1536.01 Q606.239 1531.4 606.239 1522.67 Q606.239 1513.92 609.295 1509.34 Q612.373 1504.73 618.183 1504.73 Z\" fill=\"#000000\" fill-rule=\"evenodd\" fill-opacity=\"1\" /><path clip-path=\"url(#clip640)\" d=\"M 0 0 M998.401 1535.98 L1014.72 1535.98 L1014.72 1539.92 L992.776 1539.92 L992.776 1535.98 Q995.438 1533.23 1000.02 1528.6 Q1004.63 1523.95 1005.81 1522.61 Q1008.05 1520.08 1008.93 1518.35 Q1009.84 1516.59 1009.84 1514.9 Q1009.84 1512.14 1007.89 1510.41 Q1005.97 1508.67 1002.87 1508.67 Q1000.67 1508.67 998.216 1509.43 Q995.785 1510.2 993.007 1511.75 L993.007 1507.03 Q995.831 1505.89 998.285 1505.31 Q1000.74 1504.73 1002.78 1504.73 Q1008.15 1504.73 1011.34 1507.42 Q1014.54 1510.11 1014.54 1514.6 Q1014.54 1516.73 1013.72 1518.65 Q1012.94 1520.54 1010.83 1523.14 Q1010.25 1523.81 1007.15 1527.03 Q1004.05 1530.22 998.401 1535.98 Z\" fill=\"#000000\" fill-rule=\"evenodd\" fill-opacity=\"1\" /><path clip-path=\"url(#clip640)\" d=\"M 0 0 M1029.79 1508.44 Q1026.18 1508.44 1024.35 1512 Q1022.54 1515.55 1022.54 1522.67 Q1022.54 1529.78 1024.35 1533.35 Q1026.18 1536.89 1029.79 1536.89 Q1033.42 1536.89 1035.23 1533.35 Q1037.06 1529.78 1037.06 1522.67 Q1037.06 1515.55 1035.23 1512 Q1033.42 1508.44 1029.79 1508.44 M1029.79 1504.73 Q1035.6 1504.73 1038.66 1509.34 Q1041.73 1513.92 1041.73 1522.67 Q1041.73 1531.4 1038.66 1536.01 Q1035.6 1540.59 1029.79 1540.59 Q1023.98 1540.59 1020.9 1536.01 Q1017.85 1531.4 1017.85 1522.67 Q1017.85 1513.92 1020.9 1509.34 Q1023.98 1504.73 1029.79 1504.73 Z\" fill=\"#000000\" fill-rule=\"evenodd\" fill-opacity=\"1\" /><path clip-path=\"url(#clip640)\" d=\"M 0 0 M1418.92 1521.29 Q1422.28 1522 1424.15 1524.27 Q1426.05 1526.54 1426.05 1529.87 Q1426.05 1534.99 1422.53 1537.79 Q1419.01 1540.59 1412.53 1540.59 Q1410.35 1540.59 1408.04 1540.15 Q1405.75 1539.73 1403.29 1538.88 L1403.29 1534.36 Q1405.24 1535.5 1407.55 1536.08 Q1409.87 1536.66 1412.39 1536.66 Q1416.79 1536.66 1419.08 1534.92 Q1421.4 1533.18 1421.4 1529.87 Q1421.4 1526.82 1419.24 1525.11 Q1417.11 1523.37 1413.29 1523.37 L1409.27 1523.37 L1409.27 1519.53 L1413.48 1519.53 Q1416.93 1519.53 1418.76 1518.16 Q1420.59 1516.77 1420.59 1514.18 Q1420.59 1511.52 1418.69 1510.11 Q1416.81 1508.67 1413.29 1508.67 Q1411.37 1508.67 1409.17 1509.09 Q1406.97 1509.5 1404.34 1510.38 L1404.34 1506.22 Q1407 1505.48 1409.31 1505.11 Q1411.65 1504.73 1413.71 1504.73 Q1419.03 1504.73 1422.14 1507.17 Q1425.24 1509.57 1425.24 1513.69 Q1425.24 1516.56 1423.6 1518.55 Q1421.95 1520.52 1418.92 1521.29 Z\" fill=\"#000000\" fill-rule=\"evenodd\" fill-opacity=\"1\" /><path clip-path=\"url(#clip640)\" d=\"M 0 0 M1441.12 1508.44 Q1437.51 1508.44 1435.68 1512 Q1433.87 1515.55 1433.87 1522.67 Q1433.87 1529.78 1435.68 1533.35 Q1437.51 1536.89 1441.12 1536.89 Q1444.75 1536.89 1446.56 1533.35 Q1448.39 1529.78 1448.39 1522.67 Q1448.39 1515.55 1446.56 1512 Q1444.75 1508.44 1441.12 1508.44 M1441.12 1504.73 Q1446.93 1504.73 1449.98 1509.34 Q1453.06 1513.92 1453.06 1522.67 Q1453.06 1531.4 1449.98 1536.01 Q1446.93 1540.59 1441.12 1540.59 Q1435.31 1540.59 1432.23 1536.01 Q1429.17 1531.4 1429.17 1522.67 Q1429.17 1513.92 1432.23 1509.34 Q1435.31 1504.73 1441.12 1504.73 Z\" fill=\"#000000\" fill-rule=\"evenodd\" fill-opacity=\"1\" /><path clip-path=\"url(#clip640)\" d=\"M 0 0 M1828.6 1509.43 L1816.8 1527.88 L1828.6 1527.88 L1828.6 1509.43 M1827.38 1505.36 L1833.26 1505.36 L1833.26 1527.88 L1838.19 1527.88 L1838.19 1531.77 L1833.26 1531.77 L1833.26 1539.92 L1828.6 1539.92 L1828.6 1531.77 L1813 1531.77 L1813 1527.26 L1827.38 1505.36 Z\" fill=\"#000000\" fill-rule=\"evenodd\" fill-opacity=\"1\" /><path clip-path=\"url(#clip640)\" d=\"M 0 0 M1853.26 1508.44 Q1849.65 1508.44 1847.82 1512 Q1846.01 1515.55 1846.01 1522.67 Q1846.01 1529.78 1847.82 1533.35 Q1849.65 1536.89 1853.26 1536.89 Q1856.89 1536.89 1858.7 1533.35 Q1860.53 1529.78 1860.53 1522.67 Q1860.53 1515.55 1858.7 1512 Q1856.89 1508.44 1853.26 1508.44 M1853.26 1504.73 Q1859.07 1504.73 1862.12 1509.34 Q1865.2 1513.92 1865.2 1522.67 Q1865.2 1531.4 1862.12 1536.01 Q1859.07 1540.59 1853.26 1540.59 Q1847.45 1540.59 1844.37 1536.01 Q1841.31 1531.4 1841.31 1522.67 Q1841.31 1513.92 1844.37 1509.34 Q1847.45 1504.73 1853.26 1504.73 Z\" fill=\"#000000\" fill-rule=\"evenodd\" fill-opacity=\"1\" /><path clip-path=\"url(#clip640)\" d=\"M 0 0 M2226.8 1505.36 L2245.15 1505.36 L2245.15 1509.3 L2231.08 1509.3 L2231.08 1517.77 Q2232.1 1517.42 2233.12 1517.26 Q2234.13 1517.07 2235.15 1517.07 Q2240.94 1517.07 2244.32 1520.24 Q2247.7 1523.42 2247.7 1528.83 Q2247.7 1534.41 2244.23 1537.51 Q2240.75 1540.59 2234.43 1540.59 Q2232.26 1540.59 2229.99 1540.22 Q2227.75 1539.85 2225.34 1539.11 L2225.34 1534.41 Q2227.42 1535.54 2229.64 1536.1 Q2231.87 1536.66 2234.34 1536.66 Q2238.35 1536.66 2240.68 1534.55 Q2243.02 1532.44 2243.02 1528.83 Q2243.02 1525.22 2240.68 1523.11 Q2238.35 1521.01 2234.34 1521.01 Q2232.47 1521.01 2230.59 1521.42 Q2228.74 1521.84 2226.8 1522.72 L2226.8 1505.36 Z\" fill=\"#000000\" fill-rule=\"evenodd\" fill-opacity=\"1\" /><path clip-path=\"url(#clip640)\" d=\"M 0 0 M2262.77 1508.44 Q2259.16 1508.44 2257.33 1512 Q2255.52 1515.55 2255.52 1522.67 Q2255.52 1529.78 2257.33 1533.35 Q2259.16 1536.89 2262.77 1536.89 Q2266.4 1536.89 2268.21 1533.35 Q2270.04 1529.78 2270.04 1522.67 Q2270.04 1515.55 2268.21 1512 Q2266.4 1508.44 2262.77 1508.44 M2262.77 1504.73 Q2268.58 1504.73 2271.63 1509.34 Q2274.71 1513.92 2274.71 1522.67 Q2274.71 1531.4 2271.63 1536.01 Q2268.58 1540.59 2262.77 1540.59 Q2256.96 1540.59 2253.88 1536.01 Q2250.82 1531.4 2250.82 1522.67 Q2250.82 1513.92 2253.88 1509.34 Q2256.96 1504.73 2262.77 1504.73 Z\" fill=\"#000000\" fill-rule=\"evenodd\" fill-opacity=\"1\" /><path clip-path=\"url(#clip640)\" d=\"M 0 0 M74.9365 1431.51 Q71.3254 1431.51 69.4967 1435.08 Q67.6912 1438.62 67.6912 1445.75 Q67.6912 1452.86 69.4967 1456.42 Q71.3254 1459.96 74.9365 1459.96 Q78.5707 1459.96 80.3763 1456.42 Q82.205 1452.86 82.205 1445.75 Q82.205 1438.62 80.3763 1435.08 Q78.5707 1431.51 74.9365 1431.51 M74.9365 1427.81 Q80.7467 1427.81 83.8022 1432.42 Q86.8809 1437 86.8809 1445.75 Q86.8809 1454.48 83.8022 1459.08 Q80.7467 1463.67 74.9365 1463.67 Q69.1264 1463.67 66.0477 1459.08 Q62.9921 1454.48 62.9921 1445.75 Q62.9921 1437 66.0477 1432.42 Q69.1264 1427.81 74.9365 1427.81 Z\" fill=\"#000000\" fill-rule=\"evenodd\" fill-opacity=\"1\" /><path clip-path=\"url(#clip640)\" d=\"M 0 0 M91.9503 1457.12 L96.8345 1457.12 L96.8345 1463 L91.9503 1463 L91.9503 1457.12 Z\" fill=\"#000000\" fill-rule=\"evenodd\" fill-opacity=\"1\" /><path clip-path=\"url(#clip640)\" d=\"M 0 0 M111.904 1431.51 Q108.293 1431.51 106.464 1435.08 Q104.659 1438.62 104.659 1445.75 Q104.659 1452.86 106.464 1456.42 Q108.293 1459.96 111.904 1459.96 Q115.538 1459.96 117.344 1456.42 Q119.172 1452.86 119.172 1445.75 Q119.172 1438.62 117.344 1435.08 Q115.538 1431.51 111.904 1431.51 M111.904 1427.81 Q117.714 1427.81 120.77 1432.42 Q123.848 1437 123.848 1445.75 Q123.848 1454.48 120.77 1459.08 Q117.714 1463.67 111.904 1463.67 Q106.094 1463.67 103.015 1459.08 Q99.9595 1454.48 99.9595 1445.75 Q99.9595 1437 103.015 1432.42 Q106.094 1427.81 111.904 1427.81 Z\" fill=\"#000000\" fill-rule=\"evenodd\" fill-opacity=\"1\" /><path clip-path=\"url(#clip640)\" d=\"M 0 0 M138.918 1431.51 Q135.307 1431.51 133.478 1435.08 Q131.672 1438.62 131.672 1445.75 Q131.672 1452.86 133.478 1456.42 Q135.307 1459.96 138.918 1459.96 Q142.552 1459.96 144.357 1456.42 Q146.186 1452.86 146.186 1445.75 Q146.186 1438.62 144.357 1435.08 Q142.552 1431.51 138.918 1431.51 M138.918 1427.81 Q144.728 1427.81 147.783 1432.42 Q150.862 1437 150.862 1445.75 Q150.862 1454.48 147.783 1459.08 Q144.728 1463.67 138.918 1463.67 Q133.107 1463.67 130.029 1459.08 Q126.973 1454.48 126.973 1445.75 Q126.973 1437 130.029 1432.42 Q133.107 1427.81 138.918 1427.81 Z\" fill=\"#000000\" fill-rule=\"evenodd\" fill-opacity=\"1\" /><path clip-path=\"url(#clip640)\" d=\"M 0 0 M75.9319 1159.97 Q72.3208 1159.97 70.4921 1163.53 Q68.6865 1167.07 68.6865 1174.2 Q68.6865 1181.31 70.4921 1184.87 Q72.3208 1188.42 75.9319 1188.42 Q79.5661 1188.42 81.3717 1184.87 Q83.2004 1181.31 83.2004 1174.2 Q83.2004 1167.07 81.3717 1163.53 Q79.5661 1159.97 75.9319 1159.97 M75.9319 1156.26 Q81.742 1156.26 84.7976 1160.87 Q87.8763 1165.45 87.8763 1174.2 Q87.8763 1182.93 84.7976 1187.54 Q81.742 1192.12 75.9319 1192.12 Q70.1217 1192.12 67.043 1187.54 Q63.9875 1182.93 63.9875 1174.2 Q63.9875 1165.45 67.043 1160.87 Q70.1217 1156.26 75.9319 1156.26 Z\" fill=\"#000000\" fill-rule=\"evenodd\" fill-opacity=\"1\" /><path clip-path=\"url(#clip640)\" d=\"M 0 0 M92.9457 1185.57 L97.8299 1185.57 L97.8299 1191.45 L92.9457 1191.45 L92.9457 1185.57 Z\" fill=\"#000000\" fill-rule=\"evenodd\" fill-opacity=\"1\" /><path clip-path=\"url(#clip640)\" d=\"M 0 0 M112.899 1159.97 Q109.288 1159.97 107.459 1163.53 Q105.654 1167.07 105.654 1174.2 Q105.654 1181.31 107.459 1184.87 Q109.288 1188.42 112.899 1188.42 Q116.534 1188.42 118.339 1184.87 Q120.168 1181.31 120.168 1174.2 Q120.168 1167.07 118.339 1163.53 Q116.534 1159.97 112.899 1159.97 M112.899 1156.26 Q118.709 1156.26 121.765 1160.87 Q124.844 1165.45 124.844 1174.2 Q124.844 1182.93 121.765 1187.54 Q118.709 1192.12 112.899 1192.12 Q107.089 1192.12 104.01 1187.54 Q100.955 1182.93 100.955 1174.2 Q100.955 1165.45 104.01 1160.87 Q107.089 1156.26 112.899 1156.26 Z\" fill=\"#000000\" fill-rule=\"evenodd\" fill-opacity=\"1\" /><path clip-path=\"url(#clip640)\" d=\"M 0 0 M129.959 1156.89 L148.316 1156.89 L148.316 1160.82 L134.242 1160.82 L134.242 1169.3 Q135.26 1168.95 136.279 1168.79 Q137.297 1168.6 138.316 1168.6 Q144.103 1168.6 147.482 1171.77 Q150.862 1174.94 150.862 1180.36 Q150.862 1185.94 147.39 1189.04 Q143.918 1192.12 137.598 1192.12 Q135.422 1192.12 133.154 1191.75 Q130.908 1191.38 128.501 1190.64 L128.501 1185.94 Q130.584 1187.07 132.807 1187.63 Q135.029 1188.18 137.506 1188.18 Q141.51 1188.18 143.848 1186.08 Q146.186 1183.97 146.186 1180.36 Q146.186 1176.75 143.848 1174.64 Q141.51 1172.54 137.506 1172.54 Q135.631 1172.54 133.756 1172.95 Q131.904 1173.37 129.959 1174.25 L129.959 1156.89 Z\" fill=\"#000000\" fill-rule=\"evenodd\" fill-opacity=\"1\" /><path clip-path=\"url(#clip640)\" d=\"M 0 0 M76.1634 888.419 Q72.5523 888.419 70.7236 891.983 Q68.918 895.525 68.918 902.655 Q68.918 909.761 70.7236 913.326 Q72.5523 916.868 76.1634 916.868 Q79.7976 916.868 81.6031 913.326 Q83.4318 909.761 83.4318 902.655 Q83.4318 895.525 81.6031 891.983 Q79.7976 888.419 76.1634 888.419 M76.1634 884.715 Q81.9735 884.715 85.029 889.321 Q88.1077 893.905 88.1077 902.655 Q88.1077 911.381 85.029 915.988 Q81.9735 920.571 76.1634 920.571 Q70.3532 920.571 67.2745 915.988 Q64.219 911.381 64.219 902.655 Q64.219 893.905 67.2745 889.321 Q70.3532 884.715 76.1634 884.715 Z\" fill=\"#000000\" fill-rule=\"evenodd\" fill-opacity=\"1\" /><path clip-path=\"url(#clip640)\" d=\"M 0 0 M93.1771 914.02 L98.0614 914.02 L98.0614 919.9 L93.1771 919.9 L93.1771 914.02 Z\" fill=\"#000000\" fill-rule=\"evenodd\" fill-opacity=\"1\" /><path clip-path=\"url(#clip640)\" d=\"M 0 0 M103.941 915.965 L111.58 915.965 L111.58 889.599 L103.27 891.266 L103.27 887.007 L111.534 885.34 L116.209 885.34 L116.209 915.965 L123.848 915.965 L123.848 919.9 L103.941 919.9 L103.941 915.965 Z\" fill=\"#000000\" fill-rule=\"evenodd\" fill-opacity=\"1\" /><path clip-path=\"url(#clip640)\" d=\"M 0 0 M138.918 888.419 Q135.307 888.419 133.478 891.983 Q131.672 895.525 131.672 902.655 Q131.672 909.761 133.478 913.326 Q135.307 916.868 138.918 916.868 Q142.552 916.868 144.357 913.326 Q146.186 909.761 146.186 902.655 Q146.186 895.525 144.357 891.983 Q142.552 888.419 138.918 888.419 M138.918 884.715 Q144.728 884.715 147.783 889.321 Q150.862 893.905 150.862 902.655 Q150.862 911.381 147.783 915.988 Q144.728 920.571 138.918 920.571 Q133.107 920.571 130.029 915.988 Q126.973 911.381 126.973 902.655 Q126.973 893.905 130.029 889.321 Q133.107 884.715 138.918 884.715 Z\" fill=\"#000000\" fill-rule=\"evenodd\" fill-opacity=\"1\" /><path clip-path=\"url(#clip640)\" d=\"M 0 0 M77.1587 616.871 Q73.5476 616.871 71.7189 620.436 Q69.9134 623.977 69.9134 631.107 Q69.9134 638.213 71.7189 641.778 Q73.5476 645.32 77.1587 645.32 Q80.793 645.32 82.5985 641.778 Q84.4272 638.213 84.4272 631.107 Q84.4272 623.977 82.5985 620.436 Q80.793 616.871 77.1587 616.871 M77.1587 613.167 Q82.9689 613.167 86.0244 617.774 Q89.1031 622.357 89.1031 631.107 Q89.1031 639.834 86.0244 644.44 Q82.9689 649.023 77.1587 649.023 Q71.3486 649.023 68.2699 644.44 Q65.2143 639.834 65.2143 631.107 Q65.2143 622.357 68.2699 617.774 Q71.3486 613.167 77.1587 613.167 Z\" fill=\"#000000\" fill-rule=\"evenodd\" fill-opacity=\"1\" /><path clip-path=\"url(#clip640)\" d=\"M 0 0 M94.1725 642.472 L99.0567 642.472 L99.0567 648.352 L94.1725 648.352 L94.1725 642.472 Z\" fill=\"#000000\" fill-rule=\"evenodd\" fill-opacity=\"1\" /><path clip-path=\"url(#clip640)\" d=\"M 0 0 M104.936 644.417 L112.575 644.417 L112.575 618.051 L104.265 619.718 L104.265 615.459 L112.529 613.792 L117.205 613.792 L117.205 644.417 L124.844 644.417 L124.844 648.352 L104.936 648.352 L104.936 644.417 Z\" fill=\"#000000\" fill-rule=\"evenodd\" fill-opacity=\"1\" /><path clip-path=\"url(#clip640)\" d=\"M 0 0 M129.959 613.792 L148.316 613.792 L148.316 617.727 L134.242 617.727 L134.242 626.199 Q135.26 625.852 136.279 625.69 Q137.297 625.505 138.316 625.505 Q144.103 625.505 147.482 628.676 Q150.862 631.848 150.862 637.264 Q150.862 642.843 147.39 645.945 Q143.918 649.023 137.598 649.023 Q135.422 649.023 133.154 648.653 Q130.908 648.283 128.501 647.542 L128.501 642.843 Q130.584 643.977 132.807 644.533 Q135.029 645.088 137.506 645.088 Q141.51 645.088 143.848 642.982 Q146.186 640.875 146.186 637.264 Q146.186 633.653 143.848 631.547 Q141.51 629.44 137.506 629.44 Q135.631 629.44 133.756 629.857 Q131.904 630.273 129.959 631.153 L129.959 613.792 Z\" fill=\"#000000\" fill-rule=\"evenodd\" fill-opacity=\"1\" /><path clip-path=\"url(#clip640)\" d=\"M 0 0 M76.5337 345.323 Q72.9226 345.323 71.0939 348.888 Q69.2884 352.429 69.2884 359.559 Q69.2884 366.665 71.0939 370.23 Q72.9226 373.772 76.5337 373.772 Q80.168 373.772 81.9735 370.23 Q83.8022 366.665 83.8022 359.559 Q83.8022 352.429 81.9735 348.888 Q80.168 345.323 76.5337 345.323 M76.5337 341.619 Q82.3439 341.619 85.3994 346.226 Q88.4781 350.809 88.4781 359.559 Q88.4781 368.286 85.3994 372.892 Q82.3439 377.475 76.5337 377.475 Q70.7236 377.475 67.6449 372.892 Q64.5893 368.286 64.5893 359.559 Q64.5893 350.809 67.6449 346.226 Q70.7236 341.619 76.5337 341.619 Z\" fill=\"#000000\" fill-rule=\"evenodd\" fill-opacity=\"1\" /><path clip-path=\"url(#clip640)\" d=\"M 0 0 M93.5475 370.925 L98.4318 370.925 L98.4318 376.804 L93.5475 376.804 L93.5475 370.925 Z\" fill=\"#000000\" fill-rule=\"evenodd\" fill-opacity=\"1\" /><path clip-path=\"url(#clip640)\" d=\"M 0 0 M107.529 372.869 L123.848 372.869 L123.848 376.804 L101.904 376.804 L101.904 372.869 Q104.566 370.114 109.149 365.485 Q113.756 360.832 114.936 359.489 Q117.182 356.966 118.061 355.23 Q118.964 353.471 118.964 351.781 Q118.964 349.027 117.02 347.29 Q115.098 345.554 111.996 345.554 Q109.797 345.554 107.344 346.318 Q104.913 347.082 102.135 348.633 L102.135 343.911 Q104.959 342.777 107.413 342.198 Q109.867 341.619 111.904 341.619 Q117.274 341.619 120.469 344.304 Q123.663 346.99 123.663 351.48 Q123.663 353.61 122.853 355.531 Q122.066 357.429 119.959 360.022 Q119.381 360.693 116.279 363.911 Q113.177 367.105 107.529 372.869 Z\" fill=\"#000000\" fill-rule=\"evenodd\" fill-opacity=\"1\" /><path clip-path=\"url(#clip640)\" d=\"M 0 0 M138.918 345.323 Q135.307 345.323 133.478 348.888 Q131.672 352.429 131.672 359.559 Q131.672 366.665 133.478 370.23 Q135.307 373.772 138.918 373.772 Q142.552 373.772 144.357 370.23 Q146.186 366.665 146.186 359.559 Q146.186 352.429 144.357 348.888 Q142.552 345.323 138.918 345.323 M138.918 341.619 Q144.728 341.619 147.783 346.226 Q150.862 350.809 150.862 359.559 Q150.862 368.286 147.783 372.892 Q144.728 377.475 138.918 377.475 Q133.107 377.475 130.029 372.892 Q126.973 368.286 126.973 359.559 Q126.973 350.809 130.029 346.226 Q133.107 341.619 138.918 341.619 Z\" fill=\"#000000\" fill-rule=\"evenodd\" fill-opacity=\"1\" /><path clip-path=\"url(#clip640)\" d=\"M 0 0 M77.5291 73.775 Q73.918 73.775 72.0893 77.3398 Q70.2838 80.8814 70.2838 88.011 Q70.2838 95.1174 72.0893 98.6822 Q73.918 102.224 77.5291 102.224 Q81.1633 102.224 82.9689 98.6822 Q84.7976 95.1174 84.7976 88.011 Q84.7976 80.8814 82.9689 77.3398 Q81.1633 73.775 77.5291 73.775 M77.5291 70.0713 Q83.3392 70.0713 86.3948 74.6777 Q89.4735 79.261 89.4735 88.011 Q89.4735 96.7378 86.3948 101.344 Q83.3392 105.928 77.5291 105.928 Q71.7189 105.928 68.6402 101.344 Q65.5847 96.7378 65.5847 88.011 Q65.5847 79.261 68.6402 74.6777 Q71.7189 70.0713 77.5291 70.0713 Z\" fill=\"#000000\" fill-rule=\"evenodd\" fill-opacity=\"1\" /><path clip-path=\"url(#clip640)\" d=\"M 0 0 M94.5429 99.3767 L99.4271 99.3767 L99.4271 105.256 L94.5429 105.256 L94.5429 99.3767 Z\" fill=\"#000000\" fill-rule=\"evenodd\" fill-opacity=\"1\" /><path clip-path=\"url(#clip640)\" d=\"M 0 0 M108.524 101.321 L124.844 101.321 L124.844 105.256 L102.899 105.256 L102.899 101.321 Q105.561 98.5665 110.145 93.9369 Q114.751 89.2841 115.932 87.9416 Q118.177 85.4184 119.057 83.6823 Q119.959 81.9231 119.959 80.2333 Q119.959 77.4786 118.015 75.7425 Q116.094 74.0064 112.992 74.0064 Q110.793 74.0064 108.339 74.7703 Q105.909 75.5342 103.131 77.0851 L103.131 72.3629 Q105.955 71.2287 108.409 70.65 Q110.862 70.0713 112.899 70.0713 Q118.27 70.0713 121.464 72.7565 Q124.658 75.4416 124.658 79.9323 Q124.658 82.062 123.848 83.9832 Q123.061 85.8814 120.955 88.474 Q120.376 89.1453 117.274 92.3628 Q114.172 95.5573 108.524 101.321 Z\" fill=\"#000000\" fill-rule=\"evenodd\" fill-opacity=\"1\" /><path clip-path=\"url(#clip640)\" d=\"M 0 0 M129.959 70.6963 L148.316 70.6963 L148.316 74.6314 L134.242 74.6314 L134.242 83.1036 Q135.26 82.7564 136.279 82.5944 Q137.297 82.4092 138.316 82.4092 Q144.103 82.4092 147.482 85.5805 Q150.862 88.7517 150.862 94.1684 Q150.862 99.747 147.39 102.849 Q143.918 105.928 137.598 105.928 Q135.422 105.928 133.154 105.557 Q130.908 105.187 128.501 104.446 L128.501 99.747 Q130.584 100.881 132.807 101.437 Q135.029 101.992 137.506 101.992 Q141.51 101.992 143.848 99.8859 Q146.186 97.7795 146.186 94.1684 Q146.186 90.5573 143.848 88.4508 Q141.51 86.3443 137.506 86.3443 Q135.631 86.3443 133.756 86.761 Q131.904 87.1777 129.959 88.0573 L129.959 70.6963 Z\" fill=\"#000000\" fill-rule=\"evenodd\" fill-opacity=\"1\" /><polyline clip-path=\"url(#clip642)\" style=\"stroke:#009af9; stroke-width:4; stroke-opacity:1; fill:none\" points=\"\n",
       "  236.501,305.215 277.593,419.265 318.685,614.29 359.778,839.607 400.87,1048.05 441.962,1210.9 483.055,1320.92 524.147,1386.03 565.239,1420.02 606.332,1435.76 \n",
       "  647.424,1442.24 688.516,1444.63 729.609,1445.41 770.701,1445.64 811.793,1445.7 852.886,1445.71 893.978,1445.72 935.07,1445.72 976.163,1445.72 1017.25,1445.72 \n",
       "  1058.35,1445.72 1099.44,1445.72 1140.53,1445.72 1181.62,1445.72 1222.72,1445.72 1263.81,1445.72 1304.9,1445.72 1345.99,1445.72 1387.09,1445.72 1428.18,1445.72 \n",
       "  1469.27,1445.72 1510.36,1445.72 1551.46,1445.72 1592.55,1445.72 1633.64,1445.72 1674.73,1445.72 1715.82,1445.72 1756.92,1445.72 1798.01,1445.72 1839.1,1445.72 \n",
       "  1880.19,1445.72 1921.29,1445.72 1962.38,1445.72 2003.47,1445.72 2044.56,1445.72 2085.66,1445.72 2126.75,1445.72 2167.84,1445.72 2208.93,1445.72 2250.03,1445.72 \n",
       "  2291.12,1445.72 \n",
       "  \"/>\n",
       "<polyline clip-path=\"url(#clip642)\" style=\"stroke:#e26f46; stroke-width:4; stroke-opacity:1; fill:none\" points=\"\n",
       "  236.501,305.215 277.593,1445.72 318.685,1445.72 359.778,1445.72 400.87,1445.72 441.962,1445.72 483.055,1445.72 524.147,1445.72 565.239,1445.72 606.332,1445.72 \n",
       "  647.424,1445.72 688.516,1445.72 729.609,1445.72 770.701,1445.72 811.793,1445.72 852.886,1445.72 893.978,1445.72 935.07,1445.72 976.163,1445.72 1017.25,1445.72 \n",
       "  1058.35,1445.72 1099.44,1445.72 1140.53,1445.72 1181.62,1445.72 1222.72,1445.72 1263.81,1445.72 1304.9,1445.72 1345.99,1445.72 1387.09,1445.72 1428.18,1445.72 \n",
       "  1469.27,1445.72 1510.36,1445.72 1551.46,1445.72 1592.55,1445.72 1633.64,1445.72 1674.73,1445.72 1715.82,1445.72 1756.92,1445.72 1798.01,1445.72 1839.1,1445.72 \n",
       "  1880.19,1445.72 1921.29,1445.72 1962.38,1445.72 2003.47,1445.72 2044.56,1445.72 \n",
       "  \"/>\n",
       "<polyline clip-path=\"url(#clip642)\" style=\"stroke:#3da44d; stroke-width:4; stroke-opacity:1; fill:none\" points=\"\n",
       "  236.501,305.215 277.593,87.9763 318.685,427.411 359.778,691.416 400.87,851.705 441.962,1445.72 483.055,1445.72 524.147,1445.72 565.239,1445.72 606.332,1445.72 \n",
       "  647.424,1445.72 688.516,1445.72 729.609,1445.72 770.701,1445.72 811.793,1445.72 852.886,1445.72 893.978,1445.72 935.07,1445.72 976.163,1445.72 1017.25,1445.72 \n",
       "  1058.35,1445.72 1099.44,1445.72 1140.53,1445.72 1181.62,1445.72 1222.72,1445.72 1263.81,1445.72 1304.9,1445.72 1345.99,1445.72 1387.09,1445.72 1428.18,1445.72 \n",
       "  1469.27,1445.72 1510.36,1445.72 1551.46,1445.72 1592.55,1445.72 1633.64,1445.72 1674.73,1445.72 1715.82,1445.72 1756.92,1445.72 1798.01,1445.72 1839.1,1445.72 \n",
       "  1880.19,1445.72 1921.29,1445.72 1962.38,1445.72 2003.47,1445.72 2044.56,1445.72 2085.66,1445.72 2126.75,1445.72 2167.84,1445.72 2208.93,1445.72 2250.03,1445.72 \n",
       "  2291.12,1445.72 \n",
       "  \"/>\n",
       "<polyline clip-path=\"url(#clip642)\" style=\"stroke:#c271d2; stroke-width:4; stroke-opacity:1; fill:none\" points=\"\n",
       "  236.501,305.215 277.593,172.835 318.685,238.836 359.778,1445.72 400.87,1445.72 441.962,1445.72 483.055,1445.72 524.147,1445.72 565.239,1445.72 606.332,1445.72 \n",
       "  647.424,1445.72 688.516,1445.72 729.609,1445.72 770.701,1445.72 811.793,1445.72 852.886,1445.72 893.978,1445.72 935.07,1445.72 976.163,1445.72 1017.25,1445.72 \n",
       "  1058.35,1445.72 1099.44,1445.72 1140.53,1445.72 1181.62,1445.72 1222.72,1445.72 1263.81,1445.72 1304.9,1445.72 1345.99,1445.72 1387.09,1445.72 1428.18,1445.72 \n",
       "  1469.27,1445.72 1510.36,1445.72 1551.46,1445.72 1592.55,1445.72 1633.64,1445.72 1674.73,1445.72 1715.82,1445.72 1756.92,1445.72 1798.01,1445.72 1839.1,1445.72 \n",
       "  1880.19,1445.72 1921.29,1445.72 1962.38,1445.72 2003.47,1445.72 2044.56,1445.72 2085.66,1445.72 2126.75,1445.72 2167.84,1445.72 2208.93,1445.72 2250.03,1445.72 \n",
       "  2291.12,1445.72 \n",
       "  \"/>\n",
       "<polyline clip-path=\"url(#clip642)\" style=\"stroke:#ac8d18; stroke-width:4; stroke-opacity:1; fill:none\" points=\"\n",
       "  236.501,305.215 277.593,576.762 318.685,1030.85 359.778,1085.5 400.87,576.762 441.962,1445.72 483.055,1445.72 524.147,1445.72 565.239,1445.72 606.332,1445.72 \n",
       "  647.424,1445.72 688.516,1445.72 729.609,1445.72 770.701,1445.72 811.793,1445.72 852.886,1445.72 893.978,1445.72 935.07,1445.72 976.163,1445.72 1017.25,1445.72 \n",
       "  1058.35,1445.72 1099.44,1445.72 1140.53,1445.72 1181.62,1445.72 1222.72,1445.72 1263.81,1445.72 1304.9,1445.72 1345.99,1445.72 1387.09,1445.72 1428.18,1445.72 \n",
       "  1469.27,1445.72 1510.36,1445.72 1551.46,1445.72 1592.55,1445.72 1633.64,1445.72 1674.73,1445.72 1715.82,1445.72 1756.92,1445.72 1798.01,1445.72 1839.1,1445.72 \n",
       "  1880.19,1445.72 1921.29,1445.72 1962.38,1445.72 2003.47,1445.72 2044.56,1445.72 2085.66,1445.72 2126.75,1445.72 2167.84,1445.72 2208.93,1445.72 2250.03,1445.72 \n",
       "  2291.12,1445.72 \n",
       "  \"/>\n",
       "<polyline clip-path=\"url(#clip642)\" style=\"stroke:#00a9ad; stroke-width:4; stroke-opacity:1; fill:none\" points=\"\n",
       "  236.501,305.215 277.593,87.9763 318.685,125.691 359.778,125.691 400.87,125.691 441.962,691.416 483.055,956.93 524.147,1445.72 565.239,1445.72 606.332,1445.72 \n",
       "  647.424,1445.72 688.516,1445.72 729.609,1445.72 770.701,1445.72 811.793,1445.72 852.886,1445.72 893.978,1445.72 935.07,1445.72 976.163,1445.72 1017.25,1445.72 \n",
       "  1058.35,1445.72 1099.44,1445.72 1140.53,1445.72 1181.62,1445.72 1222.72,1445.72 1263.81,1445.72 1304.9,1445.72 1345.99,1445.72 1387.09,1445.72 1428.18,1445.72 \n",
       "  1469.27,1445.72 1510.36,1445.72 1551.46,1445.72 1592.55,1445.72 1633.64,1445.72 1674.73,1445.72 1715.82,1445.72 1756.92,1445.72 1798.01,1445.72 1839.1,1445.72 \n",
       "  1880.19,1445.72 1921.29,1445.72 1962.38,1445.72 2003.47,1445.72 2044.56,1445.72 2085.66,1445.72 2126.75,1445.72 2167.84,1445.72 2208.93,1445.72 2250.03,1445.72 \n",
       "  2291.12,1445.72 \n",
       "  \"/>\n",
       "<polyline clip-path=\"url(#clip642)\" style=\"stroke:#ed5d92; stroke-width:4; stroke-opacity:1; fill:none\" points=\"\n",
       "  236.501,305.215 277.593,87.9763 318.685,142.286 359.778,87.9763 400.87,87.9763 441.962,142.286 483.055,238.836 524.147,576.762 565.239,956.93 606.332,851.705 \n",
       "  647.424,691.416 688.516,427.411 729.609,1445.72 770.701,1445.72 811.793,1445.72 852.886,1445.72 893.978,1445.72 935.07,1445.72 976.163,1445.72 1017.25,1445.72 \n",
       "  1058.35,1445.72 1099.44,1445.72 1140.53,1445.72 1181.62,1445.72 1222.72,1445.72 1263.81,1445.72 1304.9,1445.72 1345.99,1445.72 1387.09,1445.72 1428.18,1445.72 \n",
       "  1469.27,1445.72 1510.36,1445.72 1551.46,1445.72 1592.55,1445.72 1633.64,1445.72 1674.73,1445.72 1715.82,1445.72 1756.92,1445.72 1798.01,1445.72 1839.1,1445.72 \n",
       "  1880.19,1445.72 1921.29,1445.72 1962.38,1445.72 2003.47,1445.72 2044.56,1445.72 2085.66,1445.72 2126.75,1445.72 2167.84,1445.72 2208.93,1445.72 2250.03,1445.72 \n",
       "  2291.12,1445.72 \n",
       "  \"/>\n",
       "<polyline clip-path=\"url(#clip642)\" style=\"stroke:#c68125; stroke-width:4; stroke-opacity:1; fill:none\" points=\"\n",
       "  236.501,305.215 277.593,427.411 318.685,172.835 359.778,142.286 400.87,691.416 441.962,427.411 483.055,691.416 524.147,1445.72 565.239,1445.72 606.332,1445.72 \n",
       "  647.424,1445.72 688.516,1445.72 729.609,1445.72 770.701,1445.72 811.793,1445.72 852.886,1445.72 893.978,1445.72 935.07,1445.72 976.163,1445.72 1017.25,1445.72 \n",
       "  1058.35,1445.72 1099.44,1445.72 1140.53,1445.72 1181.62,1445.72 1222.72,1445.72 1263.81,1445.72 1304.9,1445.72 1345.99,1445.72 1387.09,1445.72 1428.18,1445.72 \n",
       "  1469.27,1445.72 1510.36,1445.72 1551.46,1445.72 1592.55,1445.72 1633.64,1445.72 1674.73,1445.72 1715.82,1445.72 1756.92,1445.72 1798.01,1445.72 1839.1,1445.72 \n",
       "  1880.19,1445.72 1921.29,1445.72 1962.38,1445.72 2003.47,1445.72 2044.56,1445.72 2085.66,1445.72 2126.75,1445.72 2167.84,1445.72 2208.93,1445.72 2250.03,1445.72 \n",
       "  2291.12,1445.72 \n",
       "  \"/>\n",
       "<polyline clip-path=\"url(#clip642)\" style=\"stroke:#00a98d; stroke-width:4; stroke-opacity:1; fill:none\" points=\"\n",
       "  236.501,305.215 277.593,172.835 318.685,87.9763 359.778,87.9763 400.87,427.411 441.962,1445.72 483.055,1445.72 524.147,1445.72 565.239,1445.72 606.332,1445.72 \n",
       "  647.424,1445.72 688.516,1445.72 729.609,1445.72 770.701,1445.72 811.793,1445.72 852.886,1445.72 893.978,1445.72 935.07,1445.72 976.163,1445.72 1017.25,1445.72 \n",
       "  1058.35,1445.72 1099.44,1445.72 1140.53,1445.72 1181.62,1445.72 1222.72,1445.72 1263.81,1445.72 1304.9,1445.72 1345.99,1445.72 1387.09,1445.72 1428.18,1445.72 \n",
       "  1469.27,1445.72 \n",
       "  \"/>\n",
       "<polyline clip-path=\"url(#clip642)\" style=\"stroke:#8e971d; stroke-width:4; stroke-opacity:1; fill:none\" points=\"\n",
       "  236.501,305.215 277.593,1445.72 318.685,1445.72 359.778,1445.72 400.87,1445.72 441.962,1445.72 483.055,1445.72 524.147,1445.72 565.239,1445.72 606.332,1445.72 \n",
       "  647.424,1445.72 688.516,1445.72 729.609,1445.72 770.701,1445.72 811.793,1445.72 852.886,1445.72 893.978,1445.72 935.07,1445.72 976.163,1445.72 1017.25,1445.72 \n",
       "  1058.35,1445.72 1099.44,1445.72 1140.53,1445.72 1181.62,1445.72 1222.72,1445.72 1263.81,1445.72 1304.9,1445.72 1345.99,1445.72 1387.09,1445.72 1428.18,1445.72 \n",
       "  1469.27,1445.72 1510.36,1445.72 1551.46,1445.72 1592.55,1445.72 1633.64,1445.72 1674.73,1445.72 1715.82,1445.72 1756.92,1445.72 1798.01,1445.72 1839.1,1445.72 \n",
       "  1880.19,1445.72 1921.29,1445.72 1962.38,1445.72 2003.47,1445.72 2044.56,1445.72 2085.66,1445.72 2126.75,1445.72 2167.84,1445.72 2208.93,1445.72 2250.03,1445.72 \n",
       "  2291.12,1445.72 \n",
       "  \"/>\n",
       "<polyline clip-path=\"url(#clip642)\" style=\"stroke:#00a8cb; stroke-width:4; stroke-opacity:1; fill:none\" points=\"\n",
       "  236.501,305.215 277.593,691.416 318.685,1445.72 359.778,1445.72 400.87,1445.72 441.962,1445.72 483.055,1445.72 524.147,1445.72 565.239,1445.72 606.332,1445.72 \n",
       "  647.424,1445.72 688.516,1445.72 729.609,1445.72 770.701,1445.72 811.793,1445.72 852.886,1445.72 893.978,1445.72 935.07,1445.72 976.163,1445.72 1017.25,1445.72 \n",
       "  1058.35,1445.72 1099.44,1445.72 1140.53,1445.72 1181.62,1445.72 1222.72,1445.72 1263.81,1445.72 1304.9,1445.72 1345.99,1445.72 1387.09,1445.72 1428.18,1445.72 \n",
       "  1469.27,1445.72 1510.36,1445.72 1551.46,1445.72 1592.55,1445.72 1633.64,1445.72 1674.73,1445.72 1715.82,1445.72 1756.92,1445.72 1798.01,1445.72 1839.1,1445.72 \n",
       "  1880.19,1445.72 1921.29,1445.72 1962.38,1445.72 2003.47,1445.72 2044.56,1445.72 2085.66,1445.72 2126.75,1445.72 2167.84,1445.72 2208.93,1445.72 2250.03,1445.72 \n",
       "  2291.12,1445.72 \n",
       "  \"/>\n",
       "<polyline clip-path=\"url(#clip642)\" style=\"stroke:#9b7fe8; stroke-width:4; stroke-opacity:1; fill:none\" points=\"\n",
       "  236.501,305.215 277.593,691.416 318.685,956.93 359.778,1445.72 400.87,1445.72 441.962,1445.72 483.055,1445.72 524.147,1445.72 565.239,1445.72 606.332,1445.72 \n",
       "  647.424,1445.72 688.516,1445.72 729.609,1445.72 770.701,1445.72 811.793,1445.72 852.886,1445.72 893.978,1445.72 935.07,1445.72 976.163,1445.72 1017.25,1445.72 \n",
       "  1058.35,1445.72 1099.44,1445.72 1140.53,1445.72 1181.62,1445.72 1222.72,1445.72 1263.81,1445.72 1304.9,1445.72 1345.99,1445.72 1387.09,1445.72 1428.18,1445.72 \n",
       "  1469.27,1445.72 1510.36,1445.72 1551.46,1445.72 1592.55,1445.72 1633.64,1445.72 1674.73,1445.72 1715.82,1445.72 1756.92,1445.72 1798.01,1445.72 1839.1,1445.72 \n",
       "  1880.19,1445.72 1921.29,1445.72 1962.38,1445.72 2003.47,1445.72 2044.56,1445.72 2085.66,1445.72 2126.75,1445.72 2167.84,1445.72 2208.93,1445.72 2250.03,1445.72 \n",
       "  2291.12,1445.72 \n",
       "  \"/>\n",
       "<polyline clip-path=\"url(#clip642)\" style=\"stroke:#608cf6; stroke-width:4; stroke-opacity:1; fill:none\" points=\"\n",
       "  236.501,305.215 277.593,576.762 318.685,851.705 359.778,956.93 400.87,1445.72 441.962,1445.72 483.055,1445.72 524.147,1445.72 565.239,1445.72 606.332,1445.72 \n",
       "  647.424,1445.72 688.516,1445.72 729.609,1445.72 770.701,1445.72 811.793,1445.72 852.886,1445.72 893.978,1445.72 935.07,1445.72 976.163,1445.72 1017.25,1445.72 \n",
       "  1058.35,1445.72 1099.44,1445.72 1140.53,1445.72 1181.62,1445.72 1222.72,1445.72 \n",
       "  \"/>\n",
       "<polyline clip-path=\"url(#clip642)\" style=\"stroke:#f05f73; stroke-width:4; stroke-opacity:1; fill:none\" points=\"\n",
       "  236.501,305.215 277.593,427.411 318.685,1445.72 359.778,1445.72 400.87,1445.72 441.962,1445.72 483.055,1445.72 524.147,1445.72 565.239,1445.72 606.332,1445.72 \n",
       "  647.424,1445.72 688.516,1445.72 729.609,1445.72 770.701,1445.72 811.793,1445.72 852.886,1445.72 893.978,1445.72 935.07,1445.72 976.163,1445.72 1017.25,1445.72 \n",
       "  1058.35,1445.72 1099.44,1445.72 1140.53,1445.72 1181.62,1445.72 1222.72,1445.72 1263.81,1445.72 1304.9,1445.72 1345.99,1445.72 1387.09,1445.72 1428.18,1445.72 \n",
       "  1469.27,1445.72 1510.36,1445.72 1551.46,1445.72 1592.55,1445.72 1633.64,1445.72 1674.73,1445.72 1715.82,1445.72 1756.92,1445.72 1798.01,1445.72 1839.1,1445.72 \n",
       "  1880.19,1445.72 1921.29,1445.72 1962.38,1445.72 2003.47,1445.72 2044.56,1445.72 2085.66,1445.72 2126.75,1445.72 2167.84,1445.72 2208.93,1445.72 2250.03,1445.72 \n",
       "  2291.12,1445.72 \n",
       "  \"/>\n",
       "<polyline clip-path=\"url(#clip642)\" style=\"stroke:#dd64b5; stroke-width:4; stroke-opacity:1; fill:none\" points=\"\n",
       "  236.501,305.215 277.593,87.9763 318.685,427.411 359.778,87.9763 400.87,851.705 441.962,851.705 483.055,531.32 524.147,691.416 565.239,1445.72 606.332,1445.72 \n",
       "  647.424,1445.72 688.516,1445.72 729.609,1445.72 770.701,1445.72 811.793,1445.72 852.886,1445.72 893.978,1445.72 935.07,1445.72 976.163,1445.72 1017.25,1445.72 \n",
       "  1058.35,1445.72 1099.44,1445.72 1140.53,1445.72 1181.62,1445.72 1222.72,1445.72 1263.81,1445.72 1304.9,1445.72 1345.99,1445.72 1387.09,1445.72 1428.18,1445.72 \n",
       "  1469.27,1445.72 1510.36,1445.72 1551.46,1445.72 1592.55,1445.72 1633.64,1445.72 1674.73,1445.72 1715.82,1445.72 1756.92,1445.72 1798.01,1445.72 1839.1,1445.72 \n",
       "  1880.19,1445.72 1921.29,1445.72 1962.38,1445.72 2003.47,1445.72 2044.56,1445.72 2085.66,1445.72 2126.75,1445.72 2167.84,1445.72 2208.93,1445.72 2250.03,1445.72 \n",
       "  2291.12,1445.72 \n",
       "  \"/>\n",
       "<polyline clip-path=\"url(#clip642)\" style=\"stroke:#6b9e32; stroke-width:4; stroke-opacity:1; fill:none\" points=\"\n",
       "  236.501,305.215 277.593,172.835 318.685,238.836 359.778,305.215 400.87,956.93 441.962,851.705 483.055,427.411 524.147,427.411 565.239,1445.72 606.332,1445.72 \n",
       "  647.424,1445.72 688.516,1445.72 729.609,1445.72 770.701,1445.72 811.793,1445.72 852.886,1445.72 893.978,1445.72 935.07,1445.72 976.163,1445.72 1017.25,1445.72 \n",
       "  1058.35,1445.72 1099.44,1445.72 1140.53,1445.72 1181.62,1445.72 1222.72,1445.72 1263.81,1445.72 1304.9,1445.72 1345.99,1445.72 1387.09,1445.72 1428.18,1445.72 \n",
       "  1469.27,1445.72 1510.36,1445.72 1551.46,1445.72 1592.55,1445.72 1633.64,1445.72 1674.73,1445.72 1715.82,1445.72 1756.92,1445.72 1798.01,1445.72 1839.1,1445.72 \n",
       "  1880.19,1445.72 1921.29,1445.72 1962.38,1445.72 2003.47,1445.72 2044.56,1445.72 2085.66,1445.72 2126.75,1445.72 2167.84,1445.72 2208.93,1445.72 2250.03,1445.72 \n",
       "  2291.12,1445.72 \n",
       "  \"/>\n",
       "<polyline clip-path=\"url(#clip642)\" style=\"stroke:#009af9; stroke-width:4; stroke-opacity:1; fill:none\" points=\"\n",
       "  236.501,305.215 277.593,142.286 318.685,691.416 359.778,142.286 400.87,142.286 441.962,238.836 483.055,87.9763 524.147,87.9763 565.239,125.691 606.332,172.835 \n",
       "  647.424,531.32 688.516,87.9763 729.609,125.691 770.701,87.9763 811.793,87.9763 852.886,172.835 893.978,238.836 935.07,142.286 976.163,172.835 1017.25,305.215 \n",
       "  1058.35,142.286 1099.44,691.416 1140.53,691.416 1181.62,1445.72 1222.72,1445.72 1263.81,1445.72 1304.9,1445.72 1345.99,1445.72 1387.09,1445.72 1428.18,1445.72 \n",
       "  1469.27,1445.72 1510.36,1445.72 1551.46,1445.72 1592.55,1445.72 1633.64,1445.72 1674.73,1445.72 1715.82,1445.72 1756.92,1445.72 1798.01,1445.72 1839.1,1445.72 \n",
       "  1880.19,1445.72 1921.29,1445.72 1962.38,1445.72 2003.47,1445.72 2044.56,1445.72 2085.66,1445.72 2126.75,1445.72 2167.84,1445.72 2208.93,1445.72 2250.03,1445.72 \n",
       "  2291.12,1445.72 \n",
       "  \"/>\n",
       "<polyline clip-path=\"url(#clip642)\" style=\"stroke:#e26f46; stroke-width:4; stroke-opacity:1; fill:none\" points=\"\n",
       "  236.501,305.215 277.593,125.691 318.685,87.9763 359.778,691.416 400.87,1445.72 441.962,1445.72 483.055,1445.72 524.147,1445.72 565.239,1445.72 606.332,1445.72 \n",
       "  647.424,1445.72 688.516,1445.72 729.609,1445.72 770.701,1445.72 811.793,1445.72 852.886,1445.72 893.978,1445.72 935.07,1445.72 976.163,1445.72 1017.25,1445.72 \n",
       "  1058.35,1445.72 1099.44,1445.72 1140.53,1445.72 1181.62,1445.72 1222.72,1445.72 1263.81,1445.72 1304.9,1445.72 1345.99,1445.72 1387.09,1445.72 1428.18,1445.72 \n",
       "  1469.27,1445.72 1510.36,1445.72 1551.46,1445.72 1592.55,1445.72 1633.64,1445.72 1674.73,1445.72 1715.82,1445.72 1756.92,1445.72 1798.01,1445.72 1839.1,1445.72 \n",
       "  1880.19,1445.72 1921.29,1445.72 1962.38,1445.72 2003.47,1445.72 2044.56,1445.72 2085.66,1445.72 2126.75,1445.72 2167.84,1445.72 2208.93,1445.72 2250.03,1445.72 \n",
       "  2291.12,1445.72 \n",
       "  \"/>\n",
       "<polyline clip-path=\"url(#clip642)\" style=\"stroke:#3da44d; stroke-width:4; stroke-opacity:1; fill:none\" points=\"\n",
       "  236.501,305.215 277.593,691.416 318.685,851.705 359.778,956.93 400.87,1445.72 441.962,1445.72 483.055,1445.72 524.147,1445.72 565.239,1445.72 606.332,1445.72 \n",
       "  647.424,1445.72 688.516,1445.72 729.609,1445.72 770.701,1445.72 811.793,1445.72 852.886,1445.72 893.978,1445.72 935.07,1445.72 976.163,1445.72 1017.25,1445.72 \n",
       "  1058.35,1445.72 1099.44,1445.72 1140.53,1445.72 1181.62,1445.72 1222.72,1445.72 1263.81,1445.72 1304.9,1445.72 1345.99,1445.72 1387.09,1445.72 1428.18,1445.72 \n",
       "  1469.27,1445.72 1510.36,1445.72 1551.46,1445.72 1592.55,1445.72 1633.64,1445.72 1674.73,1445.72 1715.82,1445.72 1756.92,1445.72 1798.01,1445.72 1839.1,1445.72 \n",
       "  1880.19,1445.72 1921.29,1445.72 1962.38,1445.72 2003.47,1445.72 2044.56,1445.72 2085.66,1445.72 2126.75,1445.72 2167.84,1445.72 2208.93,1445.72 2250.03,1445.72 \n",
       "  2291.12,1445.72 \n",
       "  \"/>\n",
       "<polyline clip-path=\"url(#clip642)\" style=\"stroke:#c271d2; stroke-width:4; stroke-opacity:1; fill:none\" points=\"\n",
       "  236.501,305.215 277.593,238.836 318.685,691.416 359.778,576.762 400.87,337.357 441.962,87.9763 483.055,238.836 524.147,172.835 565.239,142.286 606.332,427.411 \n",
       "  647.424,115.685 688.516,576.762 729.609,305.215 770.701,238.836 811.793,427.411 852.886,238.836 893.978,427.411 935.07,125.691 976.163,238.836 1017.25,1445.72 \n",
       "  1058.35,1445.72 1099.44,1445.72 1140.53,1445.72 1181.62,1445.72 1222.72,1445.72 1263.81,1445.72 1304.9,1445.72 1345.99,1445.72 1387.09,1445.72 1428.18,1445.72 \n",
       "  1469.27,1445.72 1510.36,1445.72 1551.46,1445.72 1592.55,1445.72 1633.64,1445.72 1674.73,1445.72 1715.82,1445.72 1756.92,1445.72 1798.01,1445.72 1839.1,1445.72 \n",
       "  1880.19,1445.72 1921.29,1445.72 1962.38,1445.72 2003.47,1445.72 2044.56,1445.72 2085.66,1445.72 2126.75,1445.72 2167.84,1445.72 2208.93,1445.72 2250.03,1445.72 \n",
       "  2291.12,1445.72 \n",
       "  \"/>\n",
       "<polyline clip-path=\"url(#clip642)\" style=\"stroke:#ac8d18; stroke-width:4; stroke-opacity:1; fill:none\" points=\"\n",
       "  236.501,305.215 277.593,142.286 318.685,172.835 359.778,337.357 400.87,851.705 441.962,427.411 483.055,125.691 524.147,238.836 565.239,172.835 606.332,427.411 \n",
       "  647.424,238.836 688.516,87.9763 729.609,87.9763 770.701,851.705 811.793,427.411 852.886,691.416 893.978,851.705 935.07,1445.72 976.163,1445.72 1017.25,1445.72 \n",
       "  1058.35,1445.72 1099.44,1445.72 1140.53,1445.72 1181.62,1445.72 1222.72,1445.72 1263.81,1445.72 1304.9,1445.72 1345.99,1445.72 1387.09,1445.72 1428.18,1445.72 \n",
       "  1469.27,1445.72 1510.36,1445.72 1551.46,1445.72 1592.55,1445.72 1633.64,1445.72 1674.73,1445.72 1715.82,1445.72 1756.92,1445.72 1798.01,1445.72 1839.1,1445.72 \n",
       "  1880.19,1445.72 1921.29,1445.72 1962.38,1445.72 2003.47,1445.72 2044.56,1445.72 2085.66,1445.72 2126.75,1445.72 2167.84,1445.72 2208.93,1445.72 2250.03,1445.72 \n",
       "  2291.12,1445.72 \n",
       "  \"/>\n",
       "<path clip-path=\"url(#clip640)\" d=\"\n",
       "M1762.41 1425.78 L2280.16 1425.78 L2280.16 95.2176 L1762.41 95.2176  Z\n",
       "  \" fill=\"#ffffff\" fill-rule=\"evenodd\" fill-opacity=\"1\"/>\n",
       "<polyline clip-path=\"url(#clip640)\" style=\"stroke:#000000; stroke-width:4; stroke-opacity:1; fill:none\" points=\"\n",
       "  1762.41,1425.78 2280.16,1425.78 2280.16,95.2176 1762.41,95.2176 1762.41,1425.78 \n",
       "  \"/>\n",
       "<polyline clip-path=\"url(#clip640)\" style=\"stroke:#009af9; stroke-width:4; stroke-opacity:1; fill:none\" points=\"\n",
       "  1786.61,155.698 1931.8,155.698 \n",
       "  \"/>\n",
       "<path clip-path=\"url(#clip640)\" d=\"M 0 0 M1960.68 142.26 L1960.68 169.135 L1966.32 169.135 Q1973.48 169.135 1976.79 165.894 Q1980.12 162.654 1980.12 155.663 Q1980.12 148.718 1976.79 145.501 Q1973.48 142.26 1966.32 142.26 L1960.68 142.26 M1956 138.418 L1965.61 138.418 Q1975.65 138.418 1980.35 142.607 Q1985.05 146.774 1985.05 155.663 Q1985.05 164.598 1980.33 168.788 Q1975.61 172.978 1965.61 172.978 L1956 172.978 L1956 138.418 Z\" fill=\"#000000\" fill-rule=\"evenodd\" fill-opacity=\"1\" /><path clip-path=\"url(#clip640)\" d=\"M 0 0 M2011.69 158.95 L2011.69 161.033 L1992.11 161.033 Q1992.39 165.431 1994.75 167.746 Q1997.13 170.038 2001.37 170.038 Q2003.82 170.038 2006.11 169.436 Q2008.43 168.834 2010.7 167.63 L2010.7 171.658 Q2008.41 172.63 2006 173.14 Q2003.59 173.649 2001.11 173.649 Q1994.91 173.649 1991.28 170.038 Q1987.67 166.427 1987.67 160.269 Q1987.67 153.904 1991.09 150.177 Q1994.54 146.427 2000.37 146.427 Q2005.61 146.427 2008.64 149.806 Q2011.69 153.163 2011.69 158.95 M2007.43 157.7 Q2007.39 154.205 2005.47 152.121 Q2003.57 150.038 2000.42 150.038 Q1996.86 150.038 1994.7 152.052 Q1992.57 154.066 1992.25 157.723 L2007.43 157.7 Z\" fill=\"#000000\" fill-rule=\"evenodd\" fill-opacity=\"1\" /><path clip-path=\"url(#clip640)\" d=\"M 0 0 M2020.37 139.691 L2020.37 147.052 L2029.15 147.052 L2029.15 150.362 L2020.37 150.362 L2020.37 164.436 Q2020.37 167.607 2021.23 168.51 Q2022.11 169.413 2024.77 169.413 L2029.15 169.413 L2029.15 172.978 L2024.77 172.978 Q2019.84 172.978 2017.97 171.149 Q2016.09 169.297 2016.09 164.436 L2016.09 150.362 L2012.97 150.362 L2012.97 147.052 L2016.09 147.052 L2016.09 139.691 L2020.37 139.691 Z\" fill=\"#000000\" fill-rule=\"evenodd\" fill-opacity=\"1\" /><path clip-path=\"url(#clip640)\" d=\"M 0 0 M2055.79 158.95 L2055.79 161.033 L2036.21 161.033 Q2036.49 165.431 2038.85 167.746 Q2041.23 170.038 2045.47 170.038 Q2047.92 170.038 2050.21 169.436 Q2052.53 168.834 2054.8 167.63 L2054.8 171.658 Q2052.5 172.63 2050.1 173.14 Q2047.69 173.649 2045.21 173.649 Q2039.01 173.649 2035.37 170.038 Q2031.76 166.427 2031.76 160.269 Q2031.76 153.904 2035.19 150.177 Q2038.64 146.427 2044.47 146.427 Q2049.7 146.427 2052.73 149.806 Q2055.79 153.163 2055.79 158.95 M2051.53 157.7 Q2051.48 154.205 2049.56 152.121 Q2047.67 150.038 2044.52 150.038 Q2040.95 150.038 2038.8 152.052 Q2036.67 154.066 2036.35 157.723 L2051.53 157.7 Z\" fill=\"#000000\" fill-rule=\"evenodd\" fill-opacity=\"1\" /><path clip-path=\"url(#clip640)\" d=\"M 0 0 M2075.28 151.033 Q2074.56 150.617 2073.71 150.431 Q2072.87 150.223 2071.86 150.223 Q2068.24 150.223 2066.3 152.584 Q2064.38 154.922 2064.38 159.32 L2064.38 172.978 L2060.1 172.978 L2060.1 147.052 L2064.38 147.052 L2064.38 151.08 Q2065.72 148.718 2067.87 147.584 Q2070.03 146.427 2073.11 146.427 Q2073.55 146.427 2074.08 146.496 Q2074.61 146.543 2075.26 146.658 L2075.28 151.033 Z\" fill=\"#000000\" fill-rule=\"evenodd\" fill-opacity=\"1\" /><path clip-path=\"url(#clip640)\" d=\"M 0 0 M2099.1 152.029 Q2100.7 149.158 2102.92 147.793 Q2105.14 146.427 2108.15 146.427 Q2112.2 146.427 2114.4 149.274 Q2116.6 152.098 2116.6 157.329 L2116.6 172.978 L2112.32 172.978 L2112.32 157.468 Q2112.32 153.742 2111 151.936 Q2109.68 150.13 2106.97 150.13 Q2103.66 150.13 2101.74 152.33 Q2099.82 154.529 2099.82 158.325 L2099.82 172.978 L2095.54 172.978 L2095.54 157.468 Q2095.54 153.718 2094.22 151.936 Q2092.9 150.13 2090.14 150.13 Q2086.88 150.13 2084.96 152.353 Q2083.04 154.552 2083.04 158.325 L2083.04 172.978 L2078.75 172.978 L2078.75 147.052 L2083.04 147.052 L2083.04 151.08 Q2084.49 148.695 2086.53 147.561 Q2088.57 146.427 2091.37 146.427 Q2094.19 146.427 2096.16 147.862 Q2098.15 149.297 2099.1 152.029 Z\" fill=\"#000000\" fill-rule=\"evenodd\" fill-opacity=\"1\" /><path clip-path=\"url(#clip640)\" d=\"M 0 0 M2121.07 147.052 L2125.33 147.052 L2125.33 172.978 L2121.07 172.978 L2121.07 147.052 M2121.07 136.959 L2125.33 136.959 L2125.33 142.353 L2121.07 142.353 L2121.07 136.959 Z\" fill=\"#000000\" fill-rule=\"evenodd\" fill-opacity=\"1\" /><path clip-path=\"url(#clip640)\" d=\"M 0 0 M2151.35 157.329 L2151.35 172.978 L2147.09 172.978 L2147.09 157.468 Q2147.09 153.788 2145.65 151.959 Q2144.22 150.13 2141.35 150.13 Q2137.9 150.13 2135.91 152.33 Q2133.92 154.529 2133.92 158.325 L2133.92 172.978 L2129.63 172.978 L2129.63 147.052 L2133.92 147.052 L2133.92 151.08 Q2135.44 148.742 2137.5 147.584 Q2139.59 146.427 2142.29 146.427 Q2146.76 146.427 2149.05 149.205 Q2151.35 151.959 2151.35 157.329 Z\" fill=\"#000000\" fill-rule=\"evenodd\" fill-opacity=\"1\" /><path clip-path=\"url(#clip640)\" d=\"M 0 0 M2155.81 147.052 L2160.07 147.052 L2160.07 172.978 L2155.81 172.978 L2155.81 147.052 M2155.81 136.959 L2160.07 136.959 L2160.07 142.353 L2155.81 142.353 L2155.81 136.959 Z\" fill=\"#000000\" fill-rule=\"evenodd\" fill-opacity=\"1\" /><path clip-path=\"url(#clip640)\" d=\"M 0 0 M2181.07 147.816 L2181.07 151.843 Q2179.26 150.917 2177.32 150.455 Q2175.37 149.992 2173.29 149.992 Q2170.12 149.992 2168.52 150.964 Q2166.95 151.936 2166.95 153.88 Q2166.95 155.362 2168.08 156.218 Q2169.22 157.052 2172.64 157.816 L2174.1 158.14 Q2178.64 159.112 2180.54 160.894 Q2182.46 162.654 2182.46 165.825 Q2182.46 169.436 2179.59 171.542 Q2176.74 173.649 2171.74 173.649 Q2169.66 173.649 2167.39 173.232 Q2165.14 172.839 2162.64 172.028 L2162.64 167.63 Q2165 168.857 2167.29 169.482 Q2169.59 170.084 2171.83 170.084 Q2174.84 170.084 2176.46 169.066 Q2178.08 168.024 2178.08 166.149 Q2178.08 164.413 2176.9 163.487 Q2175.74 162.561 2171.79 161.704 L2170.3 161.357 Q2166.35 160.524 2164.59 158.811 Q2162.83 157.075 2162.83 154.066 Q2162.83 150.408 2165.42 148.418 Q2168.01 146.427 2172.78 146.427 Q2175.14 146.427 2177.23 146.774 Q2179.31 147.121 2181.07 147.816 Z\" fill=\"#000000\" fill-rule=\"evenodd\" fill-opacity=\"1\" /><path clip-path=\"url(#clip640)\" d=\"M 0 0 M2191.14 139.691 L2191.14 147.052 L2199.91 147.052 L2199.91 150.362 L2191.14 150.362 L2191.14 164.436 Q2191.14 167.607 2191.99 168.51 Q2192.87 169.413 2195.54 169.413 L2199.91 169.413 L2199.91 172.978 L2195.54 172.978 Q2190.6 172.978 2188.73 171.149 Q2186.85 169.297 2186.85 164.436 L2186.85 150.362 L2183.73 150.362 L2183.73 147.052 L2186.85 147.052 L2186.85 139.691 L2191.14 139.691 Z\" fill=\"#000000\" fill-rule=\"evenodd\" fill-opacity=\"1\" /><path clip-path=\"url(#clip640)\" d=\"M 0 0 M2204.38 147.052 L2208.64 147.052 L2208.64 172.978 L2204.38 172.978 L2204.38 147.052 M2204.38 136.959 L2208.64 136.959 L2208.64 142.353 L2204.38 142.353 L2204.38 136.959 Z\" fill=\"#000000\" fill-rule=\"evenodd\" fill-opacity=\"1\" /><path clip-path=\"url(#clip640)\" d=\"M 0 0 M2231.76 148.047 L2231.76 152.029 Q2229.96 151.033 2228.13 150.547 Q2226.32 150.038 2224.47 150.038 Q2220.33 150.038 2218.04 152.677 Q2215.74 155.292 2215.74 160.038 Q2215.74 164.783 2218.04 167.422 Q2220.33 170.038 2224.47 170.038 Q2226.32 170.038 2228.13 169.552 Q2229.96 169.042 2231.76 168.047 L2231.76 171.982 Q2229.98 172.816 2228.06 173.232 Q2226.16 173.649 2224.01 173.649 Q2218.15 173.649 2214.7 169.968 Q2211.25 166.288 2211.25 160.038 Q2211.25 153.695 2214.72 150.061 Q2218.22 146.427 2224.28 146.427 Q2226.25 146.427 2228.13 146.843 Q2230 147.237 2231.76 148.047 Z\" fill=\"#000000\" fill-rule=\"evenodd\" fill-opacity=\"1\" /><polyline clip-path=\"url(#clip640)\" style=\"stroke:#e26f46; stroke-width:4; stroke-opacity:1; fill:none\" points=\"\n",
       "  1786.61,216.178 1931.8,216.178 \n",
       "  \"/>\n",
       "<path clip-path=\"url(#clip640)\" d=\"M 0 0 M1969.84 235.865 Q1968.04 240.495 1966.32 241.907 Q1964.61 243.319 1961.74 243.319 L1958.34 243.319 L1958.34 239.754 L1960.84 239.754 Q1962.6 239.754 1963.57 238.92 Q1964.54 238.087 1965.72 234.985 L1966.49 233.041 L1956 207.532 L1960.51 207.532 L1968.62 227.809 L1976.72 207.532 L1981.23 207.532 L1969.84 235.865 Z\" fill=\"#000000\" fill-rule=\"evenodd\" fill-opacity=\"1\" /><path clip-path=\"url(#clip640)\" d=\"M 0 0 M1990.33 229.522 L2006.65 229.522 L2006.65 233.458 L1984.7 233.458 L1984.7 229.522 Q1987.36 226.768 1991.95 222.138 Q1996.55 217.485 1997.74 216.143 Q1999.98 213.62 2000.86 211.884 Q2001.76 210.124 2001.76 208.435 Q2001.76 205.68 1999.82 203.944 Q1997.9 202.208 1994.8 202.208 Q1992.6 202.208 1990.14 202.972 Q1987.71 203.735 1984.93 205.286 L1984.93 200.564 Q1987.76 199.43 1990.21 198.851 Q1992.67 198.273 1994.7 198.273 Q2000.07 198.273 2003.27 200.958 Q2006.46 203.643 2006.46 208.134 Q2006.46 210.263 2005.65 212.185 Q2004.86 214.083 2002.76 216.675 Q2002.18 217.347 1999.08 220.564 Q1995.98 223.759 1990.33 229.522 Z\" fill=\"#000000\" fill-rule=\"evenodd\" fill-opacity=\"1\" /><polyline clip-path=\"url(#clip640)\" style=\"stroke:#3da44d; stroke-width:4; stroke-opacity:1; fill:none\" points=\"\n",
       "  1786.61,276.658 1931.8,276.658 \n",
       "  \"/>\n",
       "<path clip-path=\"url(#clip640)\" d=\"M 0 0 M1969.84 296.345 Q1968.04 300.975 1966.32 302.387 Q1964.61 303.799 1961.74 303.799 L1958.34 303.799 L1958.34 300.234 L1960.84 300.234 Q1962.6 300.234 1963.57 299.4 Q1964.54 298.567 1965.72 295.465 L1966.49 293.521 L1956 268.012 L1960.51 268.012 L1968.62 288.289 L1976.72 268.012 L1981.23 268.012 L1969.84 296.345 Z\" fill=\"#000000\" fill-rule=\"evenodd\" fill-opacity=\"1\" /><path clip-path=\"url(#clip640)\" d=\"M 0 0 M2000.47 275.303 Q2003.82 276.021 2005.7 278.289 Q2007.6 280.558 2007.6 283.891 Q2007.6 289.007 2004.08 291.808 Q2000.56 294.609 1994.08 294.609 Q1991.9 294.609 1989.59 294.169 Q1987.3 293.752 1984.84 292.896 L1984.84 288.382 Q1986.79 289.516 1989.1 290.095 Q1991.42 290.674 1993.94 290.674 Q1998.34 290.674 2000.63 288.938 Q2002.94 287.201 2002.94 283.891 Q2002.94 280.836 2000.79 279.123 Q1998.66 277.387 1994.84 277.387 L1990.81 277.387 L1990.81 273.544 L1995.03 273.544 Q1998.48 273.544 2000.3 272.178 Q2002.13 270.79 2002.13 268.197 Q2002.13 265.535 2000.24 264.123 Q1998.36 262.688 1994.84 262.688 Q1992.92 262.688 1990.72 263.104 Q1988.52 263.521 1985.88 264.401 L1985.88 260.234 Q1988.55 259.493 1990.86 259.123 Q1993.2 258.753 1995.26 258.753 Q2000.58 258.753 2003.68 261.183 Q2006.79 263.59 2006.79 267.711 Q2006.79 270.581 2005.14 272.572 Q2003.5 274.54 2000.47 275.303 Z\" fill=\"#000000\" fill-rule=\"evenodd\" fill-opacity=\"1\" /><polyline clip-path=\"url(#clip640)\" style=\"stroke:#c271d2; stroke-width:4; stroke-opacity:1; fill:none\" points=\"\n",
       "  1786.61,337.138 1931.8,337.138 \n",
       "  \"/>\n",
       "<path clip-path=\"url(#clip640)\" d=\"M 0 0 M1969.84 356.825 Q1968.04 361.455 1966.32 362.867 Q1964.61 364.279 1961.74 364.279 L1958.34 364.279 L1958.34 360.714 L1960.84 360.714 Q1962.6 360.714 1963.57 359.88 Q1964.54 359.047 1965.72 355.945 L1966.49 354.001 L1956 328.492 L1960.51 328.492 L1968.62 348.769 L1976.72 328.492 L1981.23 328.492 L1969.84 356.825 Z\" fill=\"#000000\" fill-rule=\"evenodd\" fill-opacity=\"1\" /><path clip-path=\"url(#clip640)\" d=\"M 0 0 M1999.15 323.932 L1987.34 342.381 L1999.15 342.381 L1999.15 323.932 M1997.92 319.858 L2003.8 319.858 L2003.8 342.381 L2008.73 342.381 L2008.73 346.269 L2003.8 346.269 L2003.8 354.418 L1999.15 354.418 L1999.15 346.269 L1983.55 346.269 L1983.55 341.756 L1997.92 319.858 Z\" fill=\"#000000\" fill-rule=\"evenodd\" fill-opacity=\"1\" /><polyline clip-path=\"url(#clip640)\" style=\"stroke:#ac8d18; stroke-width:4; stroke-opacity:1; fill:none\" points=\"\n",
       "  1786.61,397.618 1931.8,397.618 \n",
       "  \"/>\n",
       "<path clip-path=\"url(#clip640)\" d=\"M 0 0 M1969.84 417.305 Q1968.04 421.935 1966.32 423.347 Q1964.61 424.759 1961.74 424.759 L1958.34 424.759 L1958.34 421.194 L1960.84 421.194 Q1962.6 421.194 1963.57 420.36 Q1964.54 419.527 1965.72 416.425 L1966.49 414.481 L1956 388.972 L1960.51 388.972 L1968.62 409.249 L1976.72 388.972 L1981.23 388.972 L1969.84 417.305 Z\" fill=\"#000000\" fill-rule=\"evenodd\" fill-opacity=\"1\" /><path clip-path=\"url(#clip640)\" d=\"M 0 0 M1986.35 380.338 L2004.7 380.338 L2004.7 384.273 L1990.63 384.273 L1990.63 392.745 Q1991.65 392.398 1992.67 392.236 Q1993.68 392.05 1994.7 392.05 Q2000.49 392.05 2003.87 395.222 Q2007.25 398.393 2007.25 403.81 Q2007.25 409.388 2003.78 412.49 Q2000.3 415.569 1993.99 415.569 Q1991.81 415.569 1989.54 415.198 Q1987.3 414.828 1984.89 414.087 L1984.89 409.388 Q1986.97 410.523 1989.19 411.078 Q1991.42 411.634 1993.89 411.634 Q1997.9 411.634 2000.24 409.527 Q2002.57 407.421 2002.57 403.81 Q2002.57 400.199 2000.24 398.092 Q1997.9 395.986 1993.89 395.986 Q1992.02 395.986 1990.14 396.402 Q1988.29 396.819 1986.35 397.699 L1986.35 380.338 Z\" fill=\"#000000\" fill-rule=\"evenodd\" fill-opacity=\"1\" /><polyline clip-path=\"url(#clip640)\" style=\"stroke:#00a9ad; stroke-width:4; stroke-opacity:1; fill:none\" points=\"\n",
       "  1786.61,458.098 1931.8,458.098 \n",
       "  \"/>\n",
       "<path clip-path=\"url(#clip640)\" d=\"M 0 0 M1969.84 477.785 Q1968.04 482.415 1966.32 483.827 Q1964.61 485.239 1961.74 485.239 L1958.34 485.239 L1958.34 481.674 L1960.84 481.674 Q1962.6 481.674 1963.57 480.84 Q1964.54 480.007 1965.72 476.905 L1966.49 474.961 L1956 449.452 L1960.51 449.452 L1968.62 469.729 L1976.72 449.452 L1981.23 449.452 L1969.84 477.785 Z\" fill=\"#000000\" fill-rule=\"evenodd\" fill-opacity=\"1\" /><path clip-path=\"url(#clip640)\" d=\"M 0 0 M1996.88 456.234 Q1993.73 456.234 1991.88 458.387 Q1990.05 460.54 1990.05 464.29 Q1990.05 468.016 1991.88 470.192 Q1993.73 472.345 1996.88 472.345 Q2000.03 472.345 2001.86 470.192 Q2003.71 468.016 2003.71 464.29 Q2003.71 460.54 2001.86 458.387 Q2000.03 456.234 1996.88 456.234 M2006.16 441.581 L2006.16 445.841 Q2004.4 445.007 2002.6 444.568 Q2000.81 444.128 1999.05 444.128 Q1994.43 444.128 1991.97 447.253 Q1989.54 450.378 1989.19 456.697 Q1990.56 454.683 1992.62 453.618 Q1994.68 452.53 1997.16 452.53 Q2002.36 452.53 2005.37 455.702 Q2008.41 458.85 2008.41 464.29 Q2008.41 469.614 2005.26 472.831 Q2002.11 476.049 1996.88 476.049 Q1990.88 476.049 1987.71 471.466 Q1984.54 466.859 1984.54 458.132 Q1984.54 449.938 1988.43 445.077 Q1992.32 440.193 1998.87 440.193 Q2000.63 440.193 2002.41 440.54 Q2004.22 440.887 2006.16 441.581 Z\" fill=\"#000000\" fill-rule=\"evenodd\" fill-opacity=\"1\" /><polyline clip-path=\"url(#clip640)\" style=\"stroke:#ed5d92; stroke-width:4; stroke-opacity:1; fill:none\" points=\"\n",
       "  1786.61,518.578 1931.8,518.578 \n",
       "  \"/>\n",
       "<path clip-path=\"url(#clip640)\" d=\"M 0 0 M1969.84 538.265 Q1968.04 542.895 1966.32 544.307 Q1964.61 545.719 1961.74 545.719 L1958.34 545.719 L1958.34 542.154 L1960.84 542.154 Q1962.6 542.154 1963.57 541.32 Q1964.54 540.487 1965.72 537.385 L1966.49 535.441 L1956 509.932 L1960.51 509.932 L1968.62 530.209 L1976.72 509.932 L1981.23 509.932 L1969.84 538.265 Z\" fill=\"#000000\" fill-rule=\"evenodd\" fill-opacity=\"1\" /><path clip-path=\"url(#clip640)\" d=\"M 0 0 M1985.12 501.298 L2007.34 501.298 L2007.34 503.288 L1994.8 535.858 L1989.91 535.858 L2001.72 505.233 L1985.12 505.233 L1985.12 501.298 Z\" fill=\"#000000\" fill-rule=\"evenodd\" fill-opacity=\"1\" /><polyline clip-path=\"url(#clip640)\" style=\"stroke:#c68125; stroke-width:4; stroke-opacity:1; fill:none\" points=\"\n",
       "  1786.61,579.058 1931.8,579.058 \n",
       "  \"/>\n",
       "<path clip-path=\"url(#clip640)\" d=\"M 0 0 M1969.84 598.745 Q1968.04 603.375 1966.32 604.787 Q1964.61 606.199 1961.74 606.199 L1958.34 606.199 L1958.34 602.634 L1960.84 602.634 Q1962.6 602.634 1963.57 601.8 Q1964.54 600.967 1965.72 597.865 L1966.49 595.921 L1956 570.412 L1960.51 570.412 L1968.62 590.689 L1976.72 570.412 L1981.23 570.412 L1969.84 598.745 Z\" fill=\"#000000\" fill-rule=\"evenodd\" fill-opacity=\"1\" /><path clip-path=\"url(#clip640)\" d=\"M 0 0 M1996.3 579.926 Q1992.97 579.926 1991.05 581.708 Q1989.15 583.49 1989.15 586.615 Q1989.15 589.74 1991.05 591.523 Q1992.97 593.305 1996.3 593.305 Q1999.63 593.305 2001.55 591.523 Q2003.48 589.717 2003.48 586.615 Q2003.48 583.49 2001.55 581.708 Q1999.66 579.926 1996.3 579.926 M1991.62 577.935 Q1988.61 577.194 1986.93 575.134 Q1985.26 573.074 1985.26 570.111 Q1985.26 565.967 1988.2 563.56 Q1991.16 561.153 1996.3 561.153 Q2001.46 561.153 2004.4 563.56 Q2007.34 565.967 2007.34 570.111 Q2007.34 573.074 2005.65 575.134 Q2003.99 577.194 2001 577.935 Q2004.38 578.722 2006.25 581.014 Q2008.15 583.305 2008.15 586.615 Q2008.15 591.639 2005.07 594.324 Q2002.02 597.009 1996.3 597.009 Q1990.58 597.009 1987.5 594.324 Q1984.45 591.639 1984.45 586.615 Q1984.45 583.305 1986.35 581.014 Q1988.24 578.722 1991.62 577.935 M1989.91 570.551 Q1989.91 573.236 1991.58 574.74 Q1993.27 576.245 1996.3 576.245 Q1999.31 576.245 2001 574.74 Q2002.71 573.236 2002.71 570.551 Q2002.71 567.865 2001 566.361 Q1999.31 564.856 1996.3 564.856 Q1993.27 564.856 1991.58 566.361 Q1989.91 567.865 1989.91 570.551 Z\" fill=\"#000000\" fill-rule=\"evenodd\" fill-opacity=\"1\" /><polyline clip-path=\"url(#clip640)\" style=\"stroke:#00a98d; stroke-width:4; stroke-opacity:1; fill:none\" points=\"\n",
       "  1786.61,639.538 1931.8,639.538 \n",
       "  \"/>\n",
       "<path clip-path=\"url(#clip640)\" d=\"M 0 0 M1969.84 659.225 Q1968.04 663.855 1966.32 665.267 Q1964.61 666.679 1961.74 666.679 L1958.34 666.679 L1958.34 663.114 L1960.84 663.114 Q1962.6 663.114 1963.57 662.28 Q1964.54 661.447 1965.72 658.345 L1966.49 656.401 L1956 630.892 L1960.51 630.892 L1968.62 651.169 L1976.72 630.892 L1981.23 630.892 L1969.84 659.225 Z\" fill=\"#000000\" fill-rule=\"evenodd\" fill-opacity=\"1\" /><path clip-path=\"url(#clip640)\" d=\"M 0 0 M1986.44 656.1 L1986.44 651.841 Q1988.2 652.674 1990 653.114 Q1991.81 653.554 1993.55 653.554 Q1998.18 653.554 2000.61 650.452 Q2003.06 647.327 2003.41 640.984 Q2002.06 642.975 2000 644.04 Q1997.94 645.105 1995.44 645.105 Q1990.26 645.105 1987.23 641.98 Q1984.22 638.832 1984.22 633.392 Q1984.22 628.068 1987.36 624.85 Q1990.51 621.633 1995.74 621.633 Q2001.74 621.633 2004.89 626.239 Q2008.06 630.822 2008.06 639.572 Q2008.06 647.744 2004.17 652.628 Q2000.3 657.489 1993.75 657.489 Q1991.99 657.489 1990.19 657.142 Q1988.38 656.794 1986.44 656.1 M1995.74 641.447 Q1998.89 641.447 2000.72 639.294 Q2002.57 637.142 2002.57 633.392 Q2002.57 629.665 2000.72 627.512 Q1998.89 625.336 1995.74 625.336 Q1992.6 625.336 1990.74 627.512 Q1988.92 629.665 1988.92 633.392 Q1988.92 637.142 1990.74 639.294 Q1992.6 641.447 1995.74 641.447 Z\" fill=\"#000000\" fill-rule=\"evenodd\" fill-opacity=\"1\" /><polyline clip-path=\"url(#clip640)\" style=\"stroke:#8e971d; stroke-width:4; stroke-opacity:1; fill:none\" points=\"\n",
       "  1786.61,700.018 1931.8,700.018 \n",
       "  \"/>\n",
       "<path clip-path=\"url(#clip640)\" d=\"M 0 0 M1969.84 719.705 Q1968.04 724.335 1966.32 725.747 Q1964.61 727.159 1961.74 727.159 L1958.34 727.159 L1958.34 723.594 L1960.84 723.594 Q1962.6 723.594 1963.57 722.76 Q1964.54 721.927 1965.72 718.825 L1966.49 716.881 L1956 691.372 L1960.51 691.372 L1968.62 711.649 L1976.72 691.372 L1981.23 691.372 L1969.84 719.705 Z\" fill=\"#000000\" fill-rule=\"evenodd\" fill-opacity=\"1\" /><path clip-path=\"url(#clip640)\" d=\"M 0 0 M1987.11 713.362 L1994.75 713.362 L1994.75 686.997 L1986.44 688.663 L1986.44 684.404 L1994.7 682.738 L1999.38 682.738 L1999.38 713.362 L2007.02 713.362 L2007.02 717.298 L1987.11 717.298 L1987.11 713.362 Z\" fill=\"#000000\" fill-rule=\"evenodd\" fill-opacity=\"1\" /><path clip-path=\"url(#clip640)\" d=\"M 0 0 M2022.09 685.816 Q2018.48 685.816 2016.65 689.381 Q2014.84 692.923 2014.84 700.052 Q2014.84 707.159 2016.65 710.724 Q2018.48 714.265 2022.09 714.265 Q2025.72 714.265 2027.53 710.724 Q2029.36 707.159 2029.36 700.052 Q2029.36 692.923 2027.53 689.381 Q2025.72 685.816 2022.09 685.816 M2022.09 682.113 Q2027.9 682.113 2030.95 686.719 Q2034.03 691.302 2034.03 700.052 Q2034.03 708.779 2030.95 713.386 Q2027.9 717.969 2022.09 717.969 Q2016.28 717.969 2013.2 713.386 Q2010.14 708.779 2010.14 700.052 Q2010.14 691.302 2013.2 686.719 Q2016.28 682.113 2022.09 682.113 Z\" fill=\"#000000\" fill-rule=\"evenodd\" fill-opacity=\"1\" /><polyline clip-path=\"url(#clip640)\" style=\"stroke:#00a8cb; stroke-width:4; stroke-opacity:1; fill:none\" points=\"\n",
       "  1786.61,760.498 1931.8,760.498 \n",
       "  \"/>\n",
       "<path clip-path=\"url(#clip640)\" d=\"M 0 0 M1969.84 780.185 Q1968.04 784.815 1966.32 786.227 Q1964.61 787.639 1961.74 787.639 L1958.34 787.639 L1958.34 784.074 L1960.84 784.074 Q1962.6 784.074 1963.57 783.24 Q1964.54 782.407 1965.72 779.305 L1966.49 777.361 L1956 751.852 L1960.51 751.852 L1968.62 772.129 L1976.72 751.852 L1981.23 751.852 L1969.84 780.185 Z\" fill=\"#000000\" fill-rule=\"evenodd\" fill-opacity=\"1\" /><path clip-path=\"url(#clip640)\" d=\"M 0 0 M1987.11 773.842 L1994.75 773.842 L1994.75 747.477 L1986.44 749.143 L1986.44 744.884 L1994.7 743.218 L1999.38 743.218 L1999.38 773.842 L2007.02 773.842 L2007.02 777.778 L1987.11 777.778 L1987.11 773.842 Z\" fill=\"#000000\" fill-rule=\"evenodd\" fill-opacity=\"1\" /><path clip-path=\"url(#clip640)\" d=\"M 0 0 M2012.9 773.842 L2020.54 773.842 L2020.54 747.477 L2012.23 749.143 L2012.23 744.884 L2020.49 743.218 L2025.17 743.218 L2025.17 773.842 L2032.8 773.842 L2032.8 777.778 L2012.9 777.778 L2012.9 773.842 Z\" fill=\"#000000\" fill-rule=\"evenodd\" fill-opacity=\"1\" /><polyline clip-path=\"url(#clip640)\" style=\"stroke:#9b7fe8; stroke-width:4; stroke-opacity:1; fill:none\" points=\"\n",
       "  1786.61,820.978 1931.8,820.978 \n",
       "  \"/>\n",
       "<path clip-path=\"url(#clip640)\" d=\"M 0 0 M1969.84 840.665 Q1968.04 845.295 1966.32 846.707 Q1964.61 848.119 1961.74 848.119 L1958.34 848.119 L1958.34 844.554 L1960.84 844.554 Q1962.6 844.554 1963.57 843.72 Q1964.54 842.887 1965.72 839.785 L1966.49 837.841 L1956 812.332 L1960.51 812.332 L1968.62 832.609 L1976.72 812.332 L1981.23 812.332 L1969.84 840.665 Z\" fill=\"#000000\" fill-rule=\"evenodd\" fill-opacity=\"1\" /><path clip-path=\"url(#clip640)\" d=\"M 0 0 M1987.11 834.322 L1994.75 834.322 L1994.75 807.957 L1986.44 809.623 L1986.44 805.364 L1994.7 803.698 L1999.38 803.698 L1999.38 834.322 L2007.02 834.322 L2007.02 838.258 L1987.11 838.258 L1987.11 834.322 Z\" fill=\"#000000\" fill-rule=\"evenodd\" fill-opacity=\"1\" /><path clip-path=\"url(#clip640)\" d=\"M 0 0 M2016.11 834.322 L2032.43 834.322 L2032.43 838.258 L2010.49 838.258 L2010.49 834.322 Q2013.15 831.568 2017.74 826.938 Q2022.34 822.285 2023.52 820.943 Q2025.77 818.42 2026.65 816.684 Q2027.55 814.924 2027.55 813.235 Q2027.55 810.48 2025.61 808.744 Q2023.68 807.008 2020.58 807.008 Q2018.38 807.008 2015.93 807.772 Q2013.5 808.535 2010.72 810.086 L2010.72 805.364 Q2013.55 804.23 2016 803.651 Q2018.45 803.073 2020.49 803.073 Q2025.86 803.073 2029.05 805.758 Q2032.25 808.443 2032.25 812.934 Q2032.25 815.063 2031.44 816.985 Q2030.65 818.883 2028.55 821.475 Q2027.97 822.147 2024.86 825.364 Q2021.76 828.559 2016.11 834.322 Z\" fill=\"#000000\" fill-rule=\"evenodd\" fill-opacity=\"1\" /><polyline clip-path=\"url(#clip640)\" style=\"stroke:#608cf6; stroke-width:4; stroke-opacity:1; fill:none\" points=\"\n",
       "  1786.61,881.458 1931.8,881.458 \n",
       "  \"/>\n",
       "<path clip-path=\"url(#clip640)\" d=\"M 0 0 M1969.84 901.145 Q1968.04 905.775 1966.32 907.187 Q1964.61 908.599 1961.74 908.599 L1958.34 908.599 L1958.34 905.034 L1960.84 905.034 Q1962.6 905.034 1963.57 904.2 Q1964.54 903.367 1965.72 900.265 L1966.49 898.321 L1956 872.812 L1960.51 872.812 L1968.62 893.089 L1976.72 872.812 L1981.23 872.812 L1969.84 901.145 Z\" fill=\"#000000\" fill-rule=\"evenodd\" fill-opacity=\"1\" /><path clip-path=\"url(#clip640)\" d=\"M 0 0 M1987.11 894.802 L1994.75 894.802 L1994.75 868.437 L1986.44 870.103 L1986.44 865.844 L1994.7 864.178 L1999.38 864.178 L1999.38 894.802 L2007.02 894.802 L2007.02 898.738 L1987.11 898.738 L1987.11 894.802 Z\" fill=\"#000000\" fill-rule=\"evenodd\" fill-opacity=\"1\" /><path clip-path=\"url(#clip640)\" d=\"M 0 0 M2026.25 880.103 Q2029.61 880.821 2031.49 883.089 Q2033.38 885.358 2033.38 888.691 Q2033.38 893.807 2029.86 896.608 Q2026.35 899.409 2019.86 899.409 Q2017.69 899.409 2015.37 898.969 Q2013.08 898.552 2010.63 897.696 L2010.63 893.182 Q2012.57 894.316 2014.89 894.895 Q2017.2 895.474 2019.73 895.474 Q2024.12 895.474 2026.42 893.738 Q2028.73 892.001 2028.73 888.691 Q2028.73 885.636 2026.58 883.923 Q2024.45 882.187 2020.63 882.187 L2016.6 882.187 L2016.6 878.344 L2020.81 878.344 Q2024.26 878.344 2026.09 876.978 Q2027.92 875.59 2027.92 872.997 Q2027.92 870.335 2026.02 868.923 Q2024.15 867.488 2020.63 867.488 Q2018.71 867.488 2016.51 867.904 Q2014.31 868.321 2011.67 869.201 L2011.67 865.034 Q2014.33 864.293 2016.65 863.923 Q2018.99 863.553 2021.05 863.553 Q2026.37 863.553 2029.47 865.983 Q2032.57 868.39 2032.57 872.511 Q2032.57 875.381 2030.93 877.372 Q2029.29 879.34 2026.25 880.103 Z\" fill=\"#000000\" fill-rule=\"evenodd\" fill-opacity=\"1\" /><polyline clip-path=\"url(#clip640)\" style=\"stroke:#f05f73; stroke-width:4; stroke-opacity:1; fill:none\" points=\"\n",
       "  1786.61,941.938 1931.8,941.938 \n",
       "  \"/>\n",
       "<path clip-path=\"url(#clip640)\" d=\"M 0 0 M1969.84 961.625 Q1968.04 966.255 1966.32 967.667 Q1964.61 969.079 1961.74 969.079 L1958.34 969.079 L1958.34 965.514 L1960.84 965.514 Q1962.6 965.514 1963.57 964.68 Q1964.54 963.847 1965.72 960.745 L1966.49 958.801 L1956 933.292 L1960.51 933.292 L1968.62 953.569 L1976.72 933.292 L1981.23 933.292 L1969.84 961.625 Z\" fill=\"#000000\" fill-rule=\"evenodd\" fill-opacity=\"1\" /><path clip-path=\"url(#clip640)\" d=\"M 0 0 M1987.11 955.282 L1994.75 955.282 L1994.75 928.917 L1986.44 930.583 L1986.44 926.324 L1994.7 924.658 L1999.38 924.658 L1999.38 955.282 L2007.02 955.282 L2007.02 959.218 L1987.11 959.218 L1987.11 955.282 Z\" fill=\"#000000\" fill-rule=\"evenodd\" fill-opacity=\"1\" /><path clip-path=\"url(#clip640)\" d=\"M 0 0 M2024.93 928.732 L2013.13 947.181 L2024.93 947.181 L2024.93 928.732 M2023.71 924.658 L2029.59 924.658 L2029.59 947.181 L2034.52 947.181 L2034.52 951.069 L2029.59 951.069 L2029.59 959.218 L2024.93 959.218 L2024.93 951.069 L2009.33 951.069 L2009.33 946.556 L2023.71 924.658 Z\" fill=\"#000000\" fill-rule=\"evenodd\" fill-opacity=\"1\" /><polyline clip-path=\"url(#clip640)\" style=\"stroke:#dd64b5; stroke-width:4; stroke-opacity:1; fill:none\" points=\"\n",
       "  1786.61,1002.42 1931.8,1002.42 \n",
       "  \"/>\n",
       "<path clip-path=\"url(#clip640)\" d=\"M 0 0 M1969.84 1022.1 Q1968.04 1026.73 1966.32 1028.15 Q1964.61 1029.56 1961.74 1029.56 L1958.34 1029.56 L1958.34 1025.99 L1960.84 1025.99 Q1962.6 1025.99 1963.57 1025.16 Q1964.54 1024.33 1965.72 1021.23 L1966.49 1019.28 L1956 993.772 L1960.51 993.772 L1968.62 1014.05 L1976.72 993.772 L1981.23 993.772 L1969.84 1022.1 Z\" fill=\"#000000\" fill-rule=\"evenodd\" fill-opacity=\"1\" /><path clip-path=\"url(#clip640)\" d=\"M 0 0 M1987.11 1015.76 L1994.75 1015.76 L1994.75 989.397 L1986.44 991.063 L1986.44 986.804 L1994.7 985.138 L1999.38 985.138 L1999.38 1015.76 L2007.02 1015.76 L2007.02 1019.7 L1987.11 1019.7 L1987.11 1015.76 Z\" fill=\"#000000\" fill-rule=\"evenodd\" fill-opacity=\"1\" /><path clip-path=\"url(#clip640)\" d=\"M 0 0 M2012.13 985.138 L2030.49 985.138 L2030.49 989.073 L2016.42 989.073 L2016.42 997.545 Q2017.43 997.198 2018.45 997.036 Q2019.47 996.85 2020.49 996.85 Q2026.28 996.85 2029.66 1000.02 Q2033.04 1003.19 2033.04 1008.61 Q2033.04 1014.19 2029.56 1017.29 Q2026.09 1020.37 2019.77 1020.37 Q2017.6 1020.37 2015.33 1020 Q2013.08 1019.63 2010.68 1018.89 L2010.68 1014.19 Q2012.76 1015.32 2014.98 1015.88 Q2017.2 1016.43 2019.68 1016.43 Q2023.68 1016.43 2026.02 1014.33 Q2028.36 1012.22 2028.36 1008.61 Q2028.36 1005 2026.02 1002.89 Q2023.68 1000.79 2019.68 1000.79 Q2017.8 1000.79 2015.93 1001.2 Q2014.08 1001.62 2012.13 1002.5 L2012.13 985.138 Z\" fill=\"#000000\" fill-rule=\"evenodd\" fill-opacity=\"1\" /><polyline clip-path=\"url(#clip640)\" style=\"stroke:#6b9e32; stroke-width:4; stroke-opacity:1; fill:none\" points=\"\n",
       "  1786.61,1062.9 1931.8,1062.9 \n",
       "  \"/>\n",
       "<path clip-path=\"url(#clip640)\" d=\"M 0 0 M1969.84 1082.58 Q1968.04 1087.21 1966.32 1088.63 Q1964.61 1090.04 1961.74 1090.04 L1958.34 1090.04 L1958.34 1086.47 L1960.84 1086.47 Q1962.6 1086.47 1963.57 1085.64 Q1964.54 1084.81 1965.72 1081.71 L1966.49 1079.76 L1956 1054.25 L1960.51 1054.25 L1968.62 1074.53 L1976.72 1054.25 L1981.23 1054.25 L1969.84 1082.58 Z\" fill=\"#000000\" fill-rule=\"evenodd\" fill-opacity=\"1\" /><path clip-path=\"url(#clip640)\" d=\"M 0 0 M1987.11 1076.24 L1994.75 1076.24 L1994.75 1049.88 L1986.44 1051.54 L1986.44 1047.28 L1994.7 1045.62 L1999.38 1045.62 L1999.38 1076.24 L2007.02 1076.24 L2007.02 1080.18 L1987.11 1080.18 L1987.11 1076.24 Z\" fill=\"#000000\" fill-rule=\"evenodd\" fill-opacity=\"1\" /><path clip-path=\"url(#clip640)\" d=\"M 0 0 M2022.67 1061.03 Q2019.52 1061.03 2017.67 1063.19 Q2015.84 1065.34 2015.84 1069.09 Q2015.84 1072.82 2017.67 1074.99 Q2019.52 1077.15 2022.67 1077.15 Q2025.81 1077.15 2027.64 1074.99 Q2029.49 1072.82 2029.49 1069.09 Q2029.49 1065.34 2027.64 1063.19 Q2025.81 1061.03 2022.67 1061.03 M2031.95 1046.38 L2031.95 1050.64 Q2030.19 1049.81 2028.38 1049.37 Q2026.6 1048.93 2024.84 1048.93 Q2020.21 1048.93 2017.76 1052.05 Q2015.33 1055.18 2014.98 1061.5 Q2016.35 1059.48 2018.41 1058.42 Q2020.47 1057.33 2022.94 1057.33 Q2028.15 1057.33 2031.16 1060.5 Q2034.19 1063.65 2034.19 1069.09 Q2034.19 1074.41 2031.05 1077.63 Q2027.9 1080.85 2022.67 1080.85 Q2016.67 1080.85 2013.5 1076.27 Q2010.33 1071.66 2010.33 1062.93 Q2010.33 1054.74 2014.22 1049.88 Q2018.11 1044.99 2024.66 1044.99 Q2026.42 1044.99 2028.2 1045.34 Q2030 1045.69 2031.95 1046.38 Z\" fill=\"#000000\" fill-rule=\"evenodd\" fill-opacity=\"1\" /><polyline clip-path=\"url(#clip640)\" style=\"stroke:#009af9; stroke-width:4; stroke-opacity:1; fill:none\" points=\"\n",
       "  1786.61,1123.38 1931.8,1123.38 \n",
       "  \"/>\n",
       "<path clip-path=\"url(#clip640)\" d=\"M 0 0 M1969.84 1143.06 Q1968.04 1147.69 1966.32 1149.11 Q1964.61 1150.52 1961.74 1150.52 L1958.34 1150.52 L1958.34 1146.95 L1960.84 1146.95 Q1962.6 1146.95 1963.57 1146.12 Q1964.54 1145.29 1965.72 1142.19 L1966.49 1140.24 L1956 1114.73 L1960.51 1114.73 L1968.62 1135.01 L1976.72 1114.73 L1981.23 1114.73 L1969.84 1143.06 Z\" fill=\"#000000\" fill-rule=\"evenodd\" fill-opacity=\"1\" /><path clip-path=\"url(#clip640)\" d=\"M 0 0 M1987.11 1136.72 L1994.75 1136.72 L1994.75 1110.36 L1986.44 1112.02 L1986.44 1107.76 L1994.7 1106.1 L1999.38 1106.1 L1999.38 1136.72 L2007.02 1136.72 L2007.02 1140.66 L1987.11 1140.66 L1987.11 1136.72 Z\" fill=\"#000000\" fill-rule=\"evenodd\" fill-opacity=\"1\" /><path clip-path=\"url(#clip640)\" d=\"M 0 0 M2010.91 1106.1 L2033.13 1106.1 L2033.13 1108.09 L2020.58 1140.66 L2015.7 1140.66 L2027.5 1110.03 L2010.91 1110.03 L2010.91 1106.1 Z\" fill=\"#000000\" fill-rule=\"evenodd\" fill-opacity=\"1\" /><polyline clip-path=\"url(#clip640)\" style=\"stroke:#e26f46; stroke-width:4; stroke-opacity:1; fill:none\" points=\"\n",
       "  1786.61,1183.86 1931.8,1183.86 \n",
       "  \"/>\n",
       "<path clip-path=\"url(#clip640)\" d=\"M 0 0 M1969.84 1203.54 Q1968.04 1208.17 1966.32 1209.59 Q1964.61 1211 1961.74 1211 L1958.34 1211 L1958.34 1207.43 L1960.84 1207.43 Q1962.6 1207.43 1963.57 1206.6 Q1964.54 1205.77 1965.72 1202.67 L1966.49 1200.72 L1956 1175.21 L1960.51 1175.21 L1968.62 1195.49 L1976.72 1175.21 L1981.23 1175.21 L1969.84 1203.54 Z\" fill=\"#000000\" fill-rule=\"evenodd\" fill-opacity=\"1\" /><path clip-path=\"url(#clip640)\" d=\"M 0 0 M1987.11 1197.2 L1994.75 1197.2 L1994.75 1170.84 L1986.44 1172.5 L1986.44 1168.24 L1994.7 1166.58 L1999.38 1166.58 L1999.38 1197.2 L2007.02 1197.2 L2007.02 1201.14 L1987.11 1201.14 L1987.11 1197.2 Z\" fill=\"#000000\" fill-rule=\"evenodd\" fill-opacity=\"1\" /><path clip-path=\"url(#clip640)\" d=\"M 0 0 M2022.09 1184.73 Q2018.75 1184.73 2016.83 1186.51 Q2014.93 1188.29 2014.93 1191.42 Q2014.93 1194.54 2016.83 1196.32 Q2018.75 1198.11 2022.09 1198.11 Q2025.42 1198.11 2027.34 1196.32 Q2029.26 1194.52 2029.26 1191.42 Q2029.26 1188.29 2027.34 1186.51 Q2025.44 1184.73 2022.09 1184.73 M2017.41 1182.73 Q2014.4 1181.99 2012.71 1179.93 Q2011.05 1177.87 2011.05 1174.91 Q2011.05 1170.77 2013.99 1168.36 Q2016.95 1165.95 2022.09 1165.95 Q2027.25 1165.95 2030.19 1168.36 Q2033.13 1170.77 2033.13 1174.91 Q2033.13 1177.87 2031.44 1179.93 Q2029.77 1181.99 2026.79 1182.73 Q2030.17 1183.52 2032.04 1185.81 Q2033.94 1188.11 2033.94 1191.42 Q2033.94 1196.44 2030.86 1199.12 Q2027.8 1201.81 2022.09 1201.81 Q2016.37 1201.81 2013.29 1199.12 Q2010.24 1196.44 2010.24 1191.42 Q2010.24 1188.11 2012.13 1185.81 Q2014.03 1183.52 2017.41 1182.73 M2015.7 1175.35 Q2015.7 1178.04 2017.36 1179.54 Q2019.05 1181.05 2022.09 1181.05 Q2025.1 1181.05 2026.79 1179.54 Q2028.5 1178.04 2028.5 1175.35 Q2028.5 1172.67 2026.79 1171.16 Q2025.1 1169.66 2022.09 1169.66 Q2019.05 1169.66 2017.36 1171.16 Q2015.7 1172.67 2015.7 1175.35 Z\" fill=\"#000000\" fill-rule=\"evenodd\" fill-opacity=\"1\" /><polyline clip-path=\"url(#clip640)\" style=\"stroke:#3da44d; stroke-width:4; stroke-opacity:1; fill:none\" points=\"\n",
       "  1786.61,1244.34 1931.8,1244.34 \n",
       "  \"/>\n",
       "<path clip-path=\"url(#clip640)\" d=\"M 0 0 M1969.84 1264.02 Q1968.04 1268.65 1966.32 1270.07 Q1964.61 1271.48 1961.74 1271.48 L1958.34 1271.48 L1958.34 1267.91 L1960.84 1267.91 Q1962.6 1267.91 1963.57 1267.08 Q1964.54 1266.25 1965.72 1263.15 L1966.49 1261.2 L1956 1235.69 L1960.51 1235.69 L1968.62 1255.97 L1976.72 1235.69 L1981.23 1235.69 L1969.84 1264.02 Z\" fill=\"#000000\" fill-rule=\"evenodd\" fill-opacity=\"1\" /><path clip-path=\"url(#clip640)\" d=\"M 0 0 M1987.11 1257.68 L1994.75 1257.68 L1994.75 1231.32 L1986.44 1232.98 L1986.44 1228.72 L1994.7 1227.06 L1999.38 1227.06 L1999.38 1257.68 L2007.02 1257.68 L2007.02 1261.62 L1987.11 1261.62 L1987.11 1257.68 Z\" fill=\"#000000\" fill-rule=\"evenodd\" fill-opacity=\"1\" /><path clip-path=\"url(#clip640)\" d=\"M 0 0 M2012.23 1260.9 L2012.23 1256.64 Q2013.99 1257.47 2015.79 1257.91 Q2017.6 1258.35 2019.33 1258.35 Q2023.96 1258.35 2026.39 1255.25 Q2028.85 1252.13 2029.19 1245.78 Q2027.85 1247.78 2025.79 1248.84 Q2023.73 1249.9 2021.23 1249.9 Q2016.05 1249.9 2013.01 1246.78 Q2010 1243.63 2010 1238.19 Q2010 1232.87 2013.15 1229.65 Q2016.3 1226.43 2021.53 1226.43 Q2027.53 1226.43 2030.67 1231.04 Q2033.85 1235.62 2033.85 1244.37 Q2033.85 1252.54 2029.96 1257.43 Q2026.09 1262.29 2019.54 1262.29 Q2017.78 1262.29 2015.98 1261.94 Q2014.17 1261.59 2012.23 1260.9 M2021.53 1246.25 Q2024.68 1246.25 2026.51 1244.09 Q2028.36 1241.94 2028.36 1238.19 Q2028.36 1234.46 2026.51 1232.31 Q2024.68 1230.14 2021.53 1230.14 Q2018.38 1230.14 2016.53 1232.31 Q2014.7 1234.46 2014.7 1238.19 Q2014.7 1241.94 2016.53 1244.09 Q2018.38 1246.25 2021.53 1246.25 Z\" fill=\"#000000\" fill-rule=\"evenodd\" fill-opacity=\"1\" /><polyline clip-path=\"url(#clip640)\" style=\"stroke:#c271d2; stroke-width:4; stroke-opacity:1; fill:none\" points=\"\n",
       "  1786.61,1304.82 1931.8,1304.82 \n",
       "  \"/>\n",
       "<path clip-path=\"url(#clip640)\" d=\"M 0 0 M1969.84 1324.5 Q1968.04 1329.13 1966.32 1330.55 Q1964.61 1331.96 1961.74 1331.96 L1958.34 1331.96 L1958.34 1328.39 L1960.84 1328.39 Q1962.6 1328.39 1963.57 1327.56 Q1964.54 1326.73 1965.72 1323.63 L1966.49 1321.68 L1956 1296.17 L1960.51 1296.17 L1968.62 1316.45 L1976.72 1296.17 L1981.23 1296.17 L1969.84 1324.5 Z\" fill=\"#000000\" fill-rule=\"evenodd\" fill-opacity=\"1\" /><path clip-path=\"url(#clip640)\" d=\"M 0 0 M1990.33 1318.16 L2006.65 1318.16 L2006.65 1322.1 L1984.7 1322.1 L1984.7 1318.16 Q1987.36 1315.41 1991.95 1310.78 Q1996.55 1306.13 1997.74 1304.78 Q1999.98 1302.26 2000.86 1300.52 Q2001.76 1298.76 2001.76 1297.07 Q2001.76 1294.32 1999.82 1292.58 Q1997.9 1290.85 1994.8 1290.85 Q1992.6 1290.85 1990.14 1291.61 Q1987.71 1292.38 1984.93 1293.93 L1984.93 1289.2 Q1987.76 1288.07 1990.21 1287.49 Q1992.67 1286.91 1994.7 1286.91 Q2000.07 1286.91 2003.27 1289.6 Q2006.46 1292.28 2006.46 1296.77 Q2006.46 1298.9 2005.65 1300.82 Q2004.86 1302.72 2002.76 1305.32 Q2002.18 1305.99 1999.08 1309.2 Q1995.98 1312.4 1990.33 1318.16 Z\" fill=\"#000000\" fill-rule=\"evenodd\" fill-opacity=\"1\" /><path clip-path=\"url(#clip640)\" d=\"M 0 0 M2021.72 1290.62 Q2018.11 1290.62 2016.28 1294.18 Q2014.47 1297.72 2014.47 1304.85 Q2014.47 1311.96 2016.28 1315.52 Q2018.11 1319.07 2021.72 1319.07 Q2025.35 1319.07 2027.16 1315.52 Q2028.99 1311.96 2028.99 1304.85 Q2028.99 1297.72 2027.16 1294.18 Q2025.35 1290.62 2021.72 1290.62 M2021.72 1286.91 Q2027.53 1286.91 2030.58 1291.52 Q2033.66 1296.1 2033.66 1304.85 Q2033.66 1313.58 2030.58 1318.19 Q2027.53 1322.77 2021.72 1322.77 Q2015.91 1322.77 2012.83 1318.19 Q2009.77 1313.58 2009.77 1304.85 Q2009.77 1296.1 2012.83 1291.52 Q2015.91 1286.91 2021.72 1286.91 Z\" fill=\"#000000\" fill-rule=\"evenodd\" fill-opacity=\"1\" /><polyline clip-path=\"url(#clip640)\" style=\"stroke:#ac8d18; stroke-width:4; stroke-opacity:1; fill:none\" points=\"\n",
       "  1786.61,1365.3 1931.8,1365.3 \n",
       "  \"/>\n",
       "<path clip-path=\"url(#clip640)\" d=\"M 0 0 M1969.84 1384.98 Q1968.04 1389.61 1966.32 1391.03 Q1964.61 1392.44 1961.74 1392.44 L1958.34 1392.44 L1958.34 1388.87 L1960.84 1388.87 Q1962.6 1388.87 1963.57 1388.04 Q1964.54 1387.21 1965.72 1384.11 L1966.49 1382.16 L1956 1356.65 L1960.51 1356.65 L1968.62 1376.93 L1976.72 1356.65 L1981.23 1356.65 L1969.84 1384.98 Z\" fill=\"#000000\" fill-rule=\"evenodd\" fill-opacity=\"1\" /><path clip-path=\"url(#clip640)\" d=\"M 0 0 M1990.33 1378.64 L2006.65 1378.64 L2006.65 1382.58 L1984.7 1382.58 L1984.7 1378.64 Q1987.36 1375.89 1991.95 1371.26 Q1996.55 1366.61 1997.74 1365.26 Q1999.98 1362.74 2000.86 1361 Q2001.76 1359.24 2001.76 1357.55 Q2001.76 1354.8 1999.82 1353.06 Q1997.9 1351.33 1994.8 1351.33 Q1992.6 1351.33 1990.14 1352.09 Q1987.71 1352.86 1984.93 1354.41 L1984.93 1349.68 Q1987.76 1348.55 1990.21 1347.97 Q1992.67 1347.39 1994.7 1347.39 Q2000.07 1347.39 2003.27 1350.08 Q2006.46 1352.76 2006.46 1357.25 Q2006.46 1359.38 2005.65 1361.3 Q2004.86 1363.2 2002.76 1365.8 Q2002.18 1366.47 1999.08 1369.68 Q1995.98 1372.88 1990.33 1378.64 Z\" fill=\"#000000\" fill-rule=\"evenodd\" fill-opacity=\"1\" /><path clip-path=\"url(#clip640)\" d=\"M 0 0 M2012.53 1378.64 L2020.17 1378.64 L2020.17 1352.28 L2011.86 1353.94 L2011.86 1349.68 L2020.12 1348.02 L2024.8 1348.02 L2024.8 1378.64 L2032.43 1378.64 L2032.43 1382.58 L2012.53 1382.58 L2012.53 1378.64 Z\" fill=\"#000000\" fill-rule=\"evenodd\" fill-opacity=\"1\" /></svg>\n"
      ]
     },
     "execution_count": 108,
     "metadata": {},
     "output_type": "execute_result"
    }
   ],
   "source": [
    "plot(H_series_small, label = \"Deterministic\")\n",
    "for i in 1:20\n",
    "    d_small = d_m_small\n",
    "    H_small = heterozygosity(d_m_small)\n",
    "    H_sim_small = [H_small]\n",
    "    for year in 1:50\n",
    "        d_small = life_cycle(d_small)\n",
    "        H_small = heterozygosity(d_small)\n",
    "        push!(H_sim_small,H_small)\n",
    "    end   \n",
    "    plot!(H_sim_small)\n",
    "end\n",
    "current()"
   ]
  },
  {
   "cell_type": "code",
   "execution_count": null,
   "metadata": {},
   "outputs": [],
   "source": []
  }
 ],
 "metadata": {
  "@webio": {
   "lastCommId": null,
   "lastKernelId": null
  },
  "kernelspec": {
   "display_name": "Julia 1.5.1",
   "language": "julia",
   "name": "julia-1.5"
  },
  "language_info": {
   "file_extension": ".jl",
   "mimetype": "application/julia",
   "name": "julia",
   "version": "1.5.1"
  }
 },
 "nbformat": 4,
 "nbformat_minor": 4
}
