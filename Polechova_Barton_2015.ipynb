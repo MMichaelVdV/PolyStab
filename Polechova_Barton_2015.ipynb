{
 "cells": [
  {
   "cell_type": "markdown",
   "metadata": {},
   "source": [
    "## Individual-based model (Polechova and Barton, 2015)"
   ]
  },
  {
   "cell_type": "code",
   "execution_count": 1,
   "metadata": {},
   "outputs": [],
   "source": [
    "using Random, Distributions, Plots"
   ]
  },
  {
   "cell_type": "code",
   "execution_count": 49,
   "metadata": {},
   "outputs": [
    {
     "data": {
      "text/plain": [
       "1"
      ]
     },
     "execution_count": 49,
     "metadata": {},
     "output_type": "execute_result"
    }
   ],
   "source": [
    "#global variables cfr. table 1\n",
    "\n",
    "rm = 1.025 #maximum intrinsic growth rate\n",
    "Vs = 2 #variance of stabilising selection \n",
    "\n",
    "b = 0.1 #gradient in the environmental optimum\n",
    "σ = sqrt(0.5) #dispersal per generation\n",
    "K = 300 #carrying capacity for a well-adapted phenotype\n",
    "#α = 1/sqrt(20) #allelic effect\n",
    "α = 1\n",
    "μ = 10^-6 #mutation rate\n",
    "T = 5000 #number of generations \n",
    "h_ = 1 # ??"
   ]
  },
  {
   "cell_type": "code",
   "execution_count": 50,
   "metadata": {},
   "outputs": [
    {
     "data": {
      "text/plain": [
       "num_ind (generic function with 1 method)"
      ]
     },
     "execution_count": 50,
     "metadata": {},
     "output_type": "execute_result"
    }
   ],
   "source": [
    "num_demes(σ,Vs,α) = round(Int64,10*4*sqrt(σ^2*Vs)/α)\n",
    "num_loci(nd,b,α) = round(Int64,nd*b/α)\n",
    "num_ind(K,b,σ,h,Vs,rm) = round(Int64,K*((1-b*σ)/(2*h^2*sqrt(Vs)*rm)))"
   ]
  },
  {
   "cell_type": "code",
   "execution_count": 51,
   "metadata": {},
   "outputs": [
    {
     "data": {
      "text/plain": [
       "40"
      ]
     },
     "execution_count": 51,
     "metadata": {},
     "output_type": "execute_result"
    }
   ],
   "source": [
    "nd = num_demes(σ,Vs,α)"
   ]
  },
  {
   "cell_type": "code",
   "execution_count": 52,
   "metadata": {},
   "outputs": [
    {
     "data": {
      "text/plain": [
       "4"
      ]
     },
     "execution_count": 52,
     "metadata": {},
     "output_type": "execute_result"
    }
   ],
   "source": [
    "nl = num_loci(nd,b,α)"
   ]
  },
  {
   "cell_type": "code",
   "execution_count": 53,
   "metadata": {},
   "outputs": [
    {
     "data": {
      "text/plain": [
       "96"
      ]
     },
     "execution_count": 53,
     "metadata": {},
     "output_type": "execute_result"
    }
   ],
   "source": [
    "nn = num_ind(K,b,σ,h_,Vs,rm)"
   ]
  },
  {
   "cell_type": "code",
   "execution_count": 54,
   "metadata": {},
   "outputs": [],
   "source": [
    "mutable struct Agent{T}\n",
    "    loci::Vector{T}\n",
    "end"
   ]
  },
  {
   "cell_type": "markdown",
   "metadata": {},
   "source": [
    "Note: allele effect size ? -> L bi-allelic loci underlying trait x, allele effect size 0 or α -> trait = sum of allele effect sizes over all loci\n"
   ]
  },
  {
   "cell_type": "code",
   "execution_count": 55,
   "metadata": {},
   "outputs": [
    {
     "data": {
      "text/plain": [
       "pushlocus! (generic function with 1 method)"
      ]
     },
     "execution_count": 55,
     "metadata": {},
     "output_type": "execute_result"
    }
   ],
   "source": [
    "pushlocus!(a::Agent, x) = push!(a.loci, x)"
   ]
  },
  {
   "cell_type": "code",
   "execution_count": 56,
   "metadata": {},
   "outputs": [
    {
     "data": {
      "text/plain": [
       "make_agents (generic function with 1 method)"
      ]
     },
     "execution_count": 56,
     "metadata": {},
     "output_type": "execute_result"
    }
   ],
   "source": [
    "#generate N haploid individuals with L loci and two possible allele-effect sizes α or 0\n",
    "function make_agents(N,L,α)\n",
    "    pop = [Agent(α .* rand(Bool, L)) for i in 1:N]\n",
    "    return pop\n",
    "end"
   ]
  },
  {
   "cell_type": "code",
   "execution_count": 57,
   "metadata": {},
   "outputs": [
    {
     "data": {
      "text/plain": [
       "10-element Array{Agent{Int64},1}:\n",
       " Agent{Int64}([0, 1, 0, 1, 0, 1, 1, 1, 0, 0])\n",
       " Agent{Int64}([0, 1, 1, 0, 0, 0, 1, 1, 1, 0])\n",
       " Agent{Int64}([0, 0, 0, 0, 0, 0, 0, 1, 0, 0])\n",
       " Agent{Int64}([0, 0, 0, 0, 0, 0, 0, 0, 1, 1])\n",
       " Agent{Int64}([1, 0, 0, 1, 0, 1, 0, 1, 0, 0])\n",
       " Agent{Int64}([0, 0, 0, 0, 0, 0, 1, 0, 0, 1])\n",
       " Agent{Int64}([1, 0, 0, 1, 1, 0, 1, 0, 1, 1])\n",
       " Agent{Int64}([1, 1, 0, 1, 0, 1, 1, 0, 0, 0])\n",
       " Agent{Int64}([1, 0, 1, 0, 1, 1, 0, 0, 0, 0])\n",
       " Agent{Int64}([1, 1, 0, 1, 1, 0, 1, 1, 0, 1])"
      ]
     },
     "execution_count": 57,
     "metadata": {},
     "output_type": "execute_result"
    }
   ],
   "source": [
    "agents = make_agents(10,10,1)"
   ]
  },
  {
   "cell_type": "code",
   "execution_count": 58,
   "metadata": {},
   "outputs": [],
   "source": [
    "struct Deme{A,T}\n",
    "    agents::Vector{A}\n",
    "    carrying_capacity::Int64\n",
    "    optimal_phenotype::T \n",
    "end"
   ]
  },
  {
   "cell_type": "code",
   "execution_count": 59,
   "metadata": {},
   "outputs": [
    {
     "data": {
      "text/plain": [
       "Deme{Agent{Int64},Float64}(N=10)"
      ]
     },
     "execution_count": 59,
     "metadata": {},
     "output_type": "execute_result"
    }
   ],
   "source": [
    "d = Deme(agents, 100, 0.0)"
   ]
  },
  {
   "cell_type": "code",
   "execution_count": 60,
   "metadata": {},
   "outputs": [],
   "source": [
    "Base.length(d::Deme) = length(d.agents)\n",
    "Base.show(io::IO, d::Deme{A,T}) where {A,T} = write(io, \"Deme{$A,$T}(N=$(length(d)))\")\n",
    "Base.push!(d::Deme, a::Agent) = push!(d.agents, a)"
   ]
  },
  {
   "cell_type": "code",
   "execution_count": 61,
   "metadata": {},
   "outputs": [
    {
     "data": {
      "text/plain": [
       "Deme{Agent{Int64},Float64}(N=11)"
      ]
     },
     "execution_count": 61,
     "metadata": {},
     "output_type": "execute_result"
    }
   ],
   "source": [
    "push!(d, Agent(1 .* rand(Bool, 10)))\n",
    "d"
   ]
  },
  {
   "cell_type": "code",
   "execution_count": 62,
   "metadata": {},
   "outputs": [],
   "source": [
    "struct Habitat{T}\n",
    "    demes::Vector{T}\n",
    "end"
   ]
  },
  {
   "cell_type": "code",
   "execution_count": 63,
   "metadata": {},
   "outputs": [
    {
     "data": {
      "text/plain": [
       "make_deme (generic function with 1 method)"
      ]
     },
     "execution_count": 63,
     "metadata": {},
     "output_type": "execute_result"
    }
   ],
   "source": [
    "#generate a single deme with population of size N, L loci, α allelic effect, carrying capacity K and optimal phenotype θ\n",
    "function make_deme(N,L,α,K,θ)\n",
    "    pop = make_agents(N,L,α)\n",
    "    return Deme(pop,K,θ)\n",
    "end\n",
    "    "
   ]
  },
  {
   "cell_type": "code",
   "execution_count": 64,
   "metadata": {},
   "outputs": [
    {
     "data": {
      "text/plain": [
       "Deme{Agent{Int64},Int64}(N=5)"
      ]
     },
     "execution_count": 64,
     "metadata": {},
     "output_type": "execute_result"
    }
   ],
   "source": [
    "w = make_deme(5,2,1,150,10)"
   ]
  },
  {
   "cell_type": "code",
   "execution_count": 65,
   "metadata": {},
   "outputs": [
    {
     "data": {
      "text/plain": [
       "pop_size (generic function with 1 method)"
      ]
     },
     "execution_count": 65,
     "metadata": {},
     "output_type": "execute_result"
    }
   ],
   "source": [
    "function pop_size(d::Deme)\n",
    "    return length(d.agents)\n",
    "end"
   ]
  },
  {
   "cell_type": "code",
   "execution_count": 66,
   "metadata": {},
   "outputs": [
    {
     "data": {
      "text/plain": [
       "5"
      ]
     },
     "execution_count": 66,
     "metadata": {},
     "output_type": "execute_result"
    }
   ],
   "source": [
    "pop_size(w)"
   ]
  },
  {
   "cell_type": "code",
   "execution_count": 67,
   "metadata": {},
   "outputs": [
    {
     "data": {
      "text/plain": [
       "make_habitat (generic function with 1 method)"
      ]
     },
     "execution_count": 67,
     "metadata": {},
     "output_type": "execute_result"
    }
   ],
   "source": [
    "#generate a linear 1D habitat of x demes with equal pop size (in paper the pop starts in center of habitat)\n",
    "function make_habitat(x,N,L,α,K,θ)\n",
    "    hab = [make_deme(N,L,α,K,θ) for i in 1:x]\n",
    "    return Habitat(hab)\n",
    "end"
   ]
  },
  {
   "cell_type": "code",
   "execution_count": 68,
   "metadata": {},
   "outputs": [
    {
     "data": {
      "text/plain": [
       "Habitat (n=5):\n",
       "  Deme{Agent{Int64},Int64}(N=5)\n",
       "  Deme{Agent{Int64},Int64}(N=5)\n",
       "  Deme{Agent{Int64},Int64}(N=5)\n",
       "  Deme{Agent{Int64},Int64}(N=5)\n",
       "  Deme{Agent{Int64},Int64}(N=5)"
      ]
     },
     "execution_count": 68,
     "metadata": {},
     "output_type": "execute_result"
    }
   ],
   "source": [
    "h = make_habitat(5,5,2,1,150,10)"
   ]
  },
  {
   "cell_type": "code",
   "execution_count": 69,
   "metadata": {},
   "outputs": [],
   "source": [
    "Base.length(h::Habitat) = length(h.demes)\n",
    "Base.show(io::IO, h::Habitat) = write(io, \n",
    "    \"Habitat (n=$(length(h))):\\n  $(join(string.(h.demes), \"\\n  \"))\")"
   ]
  },
  {
   "cell_type": "code",
   "execution_count": 70,
   "metadata": {},
   "outputs": [
    {
     "data": {
      "text/plain": [
       "Habitat (n=5):\n",
       "  Deme{Agent{Int64},Int64}(N=5)\n",
       "  Deme{Agent{Int64},Int64}(N=5)\n",
       "  Deme{Agent{Int64},Int64}(N=5)\n",
       "  Deme{Agent{Int64},Int64}(N=5)\n",
       "  Deme{Agent{Int64},Int64}(N=5)"
      ]
     },
     "execution_count": 70,
     "metadata": {},
     "output_type": "execute_result"
    }
   ],
   "source": [
    "h"
   ]
  },
  {
   "cell_type": "code",
   "execution_count": 71,
   "metadata": {},
   "outputs": [
    {
     "data": {
      "text/plain": [
       "Habitat (n=7):\n",
       "  Deme{Agent{Int64},Int64}(N=0)\n",
       "  Deme{Agent{Int64},Int64}(N=0)\n",
       "  Deme{Agent{Int64},Int64}(N=0)\n",
       "  Deme{Agent{Int64},Int64}(N=11)\n",
       "  Deme{Agent{Int64},Int64}(N=0)\n",
       "  Deme{Agent{Int64},Int64}(N=0)\n",
       "  Deme{Agent{Int64},Int64}(N=0)"
      ]
     },
     "execution_count": 71,
     "metadata": {},
     "output_type": "execute_result"
    }
   ],
   "source": [
    "#habitat with 7 demes and starting pop in central deme\n",
    "h = make_habitat(7,0,0,0,150,10)\n",
    "p = make_agents(3,3,1)\n",
    "push!(h.demes[4].agents, agents ...)\n",
    "h"
   ]
  },
  {
   "cell_type": "markdown",
   "metadata": {},
   "source": [
    "## Migration"
   ]
  },
  {
   "cell_type": "code",
   "execution_count": 72,
   "metadata": {},
   "outputs": [
    {
     "data": {
      "text/plain": [
       "migrate (generic function with 1 method)"
      ]
     },
     "execution_count": 72,
     "metadata": {},
     "output_type": "execute_result"
    }
   ],
   "source": [
    "#should be diffusive migration with a Gaussian dispersal kernel (truncated at 2 SD)\n",
    "emptycopy(d::Deme{A}) where A = Deme(A[], d.carrying_capacity, d.optimal_phenotype)\n",
    "emptycopy(h::Habitat) = Habitat(emptycopy.(h.demes))\n",
    "\n",
    "function migrate(h::Habitat, p)\n",
    "    new_h = emptycopy(h)\n",
    "    for (i, deme) in enumerate(h.demes)\n",
    "        for agent in deme.agents\n",
    "            step = rand() < p ? rand([-1,1]) : 0 \n",
    "            if step == -1 && i == 1\n",
    "                step = 0\n",
    "            elseif step == 1  && i == length(h)\n",
    "                step = 0\n",
    "            end\n",
    "            push!(new_h.demes[i+step], agent)\n",
    "        end\n",
    "    end\n",
    "    new_h\n",
    "end"
   ]
  },
  {
   "cell_type": "code",
   "execution_count": 73,
   "metadata": {},
   "outputs": [
    {
     "name": "stdout",
     "output_type": "stream",
     "text": [
      "h = Habitat (n=7):\n",
      "  Deme{Agent{Int64},Int64}(N=0)\n",
      "  Deme{Agent{Int64},Int64}(N=0)\n",
      "  Deme{Agent{Int64},Int64}(N=1)\n",
      "  Deme{Agent{Int64},Int64}(N=8)\n",
      "  Deme{Agent{Int64},Int64}(N=2)\n",
      "  Deme{Agent{Int64},Int64}(N=0)\n",
      "  Deme{Agent{Int64},Int64}(N=0)\n",
      "h = Habitat (n=7):\n",
      "  Deme{Agent{Int64},Int64}(N=0)\n",
      "  Deme{Agent{Int64},Int64}(N=0)\n",
      "  Deme{Agent{Int64},Int64}(N=2)\n",
      "  Deme{Agent{Int64},Int64}(N=6)\n",
      "  Deme{Agent{Int64},Int64}(N=3)\n",
      "  Deme{Agent{Int64},Int64}(N=0)\n",
      "  Deme{Agent{Int64},Int64}(N=0)\n",
      "h = Habitat (n=7):\n",
      "  Deme{Agent{Int64},Int64}(N=0)\n",
      "  Deme{Agent{Int64},Int64}(N=0)\n",
      "  Deme{Agent{Int64},Int64}(N=3)\n",
      "  Deme{Agent{Int64},Int64}(N=5)\n",
      "  Deme{Agent{Int64},Int64}(N=3)\n",
      "  Deme{Agent{Int64},Int64}(N=0)\n",
      "  Deme{Agent{Int64},Int64}(N=0)\n",
      "h = Habitat (n=7):\n",
      "  Deme{Agent{Int64},Int64}(N=0)\n",
      "  Deme{Agent{Int64},Int64}(N=1)\n",
      "  Deme{Agent{Int64},Int64}(N=3)\n",
      "  Deme{Agent{Int64},Int64}(N=5)\n",
      "  Deme{Agent{Int64},Int64}(N=2)\n",
      "  Deme{Agent{Int64},Int64}(N=0)\n",
      "  Deme{Agent{Int64},Int64}(N=0)\n",
      "h = Habitat (n=7):\n",
      "  Deme{Agent{Int64},Int64}(N=0)\n",
      "  Deme{Agent{Int64},Int64}(N=1)\n",
      "  Deme{Agent{Int64},Int64}(N=5)\n",
      "  Deme{Agent{Int64},Int64}(N=3)\n",
      "  Deme{Agent{Int64},Int64}(N=2)\n",
      "  Deme{Agent{Int64},Int64}(N=0)\n",
      "  Deme{Agent{Int64},Int64}(N=0)\n"
     ]
    }
   ],
   "source": [
    "for i=1:5\n",
    "    h = migrate(h, 0.2)\n",
    "    @show h\n",
    "end"
   ]
  },
  {
   "cell_type": "markdown",
   "metadata": {},
   "source": [
    "## Selection"
   ]
  },
  {
   "cell_type": "code",
   "execution_count": 83,
   "metadata": {},
   "outputs": [
    {
     "data": {
      "text/plain": [
       "Agent{Int64}([1, 1, 1, 1, 1, 1, 1, 1, 1, 0])"
      ]
     },
     "execution_count": 83,
     "metadata": {},
     "output_type": "execute_result"
    }
   ],
   "source": [
    "a = Agent(1 .* rand(Bool, 10))"
   ]
  },
  {
   "cell_type": "code",
   "execution_count": 84,
   "metadata": {},
   "outputs": [
    {
     "data": {
      "text/plain": [
       "9"
      ]
     },
     "execution_count": 84,
     "metadata": {},
     "output_type": "execute_result"
    }
   ],
   "source": [
    "phenotype(a::Agent) = sum(a.loci)\n",
    "phenotype(a)"
   ]
  },
  {
   "cell_type": "code",
   "execution_count": 85,
   "metadata": {},
   "outputs": [
    {
     "data": {
      "text/plain": [
       "9"
      ]
     },
     "execution_count": 85,
     "metadata": {},
     "output_type": "execute_result"
    }
   ],
   "source": [
    "Base.sum(a::Agent) = sum(a.loci)\n",
    "sum(a)"
   ]
  },
  {
   "cell_type": "code",
   "execution_count": 86,
   "metadata": {},
   "outputs": [
    {
     "data": {
      "text/plain": [
       "malthusian_fitness (generic function with 1 method)"
      ]
     },
     "execution_count": 86,
     "metadata": {},
     "output_type": "execute_result"
    }
   ],
   "source": [
    "function malthusian_fitness(d::Deme,a::Agent,rm,Vs)\n",
    "    N = length(d)\n",
    "    K = d.carrying_capacity\n",
    "    θ = d.optimal_phenotype\n",
    "    z = sum(a)\n",
    "    return rm*(1-(N/K))-((z-θ)^2)/(2*Vs)\n",
    "end   "
   ]
  },
  {
   "cell_type": "code",
   "execution_count": 87,
   "metadata": {},
   "outputs": [
    {
     "data": {
      "text/plain": [
       "Deme{Agent{Int64},Int64}(N=5)"
      ]
     },
     "execution_count": 87,
     "metadata": {},
     "output_type": "execute_result"
    }
   ],
   "source": [
    "d = make_deme(5,10,α,K,1)"
   ]
  },
  {
   "cell_type": "code",
   "execution_count": 126,
   "metadata": {},
   "outputs": [
    {
     "data": {
      "text/plain": [
       "number_of_offspring (generic function with 1 method)"
      ]
     },
     "execution_count": 126,
     "metadata": {},
     "output_type": "execute_result"
    }
   ],
   "source": [
    "number_of_offspring(d::Deme,a::Agent,rm,Vs) = rand(Poisson(exp(malthusian_fitness(d::Deme,a::Agent,rm,Vs))))"
   ]
  },
  {
   "cell_type": "code",
   "execution_count": 132,
   "metadata": {},
   "outputs": [
    {
     "name": "stdout",
     "output_type": "stream",
     "text": [
      "number_of_offspring(d, agent, rm, Vs) = 0\n",
      "number_of_offspring(d, agent, rm, Vs) = 4\n",
      "number_of_offspring(d, agent, rm, Vs) = 3\n",
      "number_of_offspring(d, agent, rm, Vs) = 0\n",
      "number_of_offspring(d, agent, rm, Vs) = 1\n"
     ]
    }
   ],
   "source": [
    "for agent in d.agents\n",
    "    @show number_of_offspring(d,agent,rm,Vs)\n",
    "end"
   ]
  },
  {
   "cell_type": "markdown",
   "metadata": {},
   "source": [
    "## Mutation"
   ]
  },
  {
   "cell_type": "code",
   "execution_count": 133,
   "metadata": {},
   "outputs": [
    {
     "data": {
      "text/plain": [
       "mutate (generic function with 1 method)"
      ]
     },
     "execution_count": 133,
     "metadata": {},
     "output_type": "execute_result"
    }
   ],
   "source": [
    "function mutate(a::Agent,μ)\n",
    "   #each allele in a.loci has probability of mu to flip \n",
    "    empty_agent = Agent(Int64[])\n",
    "    for x in a.loci\n",
    "        if rand() > μ\n",
    "            pushlocus!(empty_agent,x)\n",
    "        else\n",
    "            x == 0 ? x = α : x = 0\n",
    "            pushlocus!(empty_agent,x)\n",
    "        end\n",
    "    end\n",
    "    empty_agent\n",
    "end"
   ]
  },
  {
   "cell_type": "code",
   "execution_count": 134,
   "metadata": {},
   "outputs": [
    {
     "name": "stdout",
     "output_type": "stream",
     "text": [
      "a = Agent{Int64}([0, 0, 0, 0, 0, 1, 0, 0, 0, 1])\n",
      "a = Agent{Int64}([0, 1, 0, 1, 0, 1, 1, 0, 0, 0])\n",
      "a = Agent{Int64}([1, 0, 1, 0, 1, 1, 1, 0, 1, 1])\n",
      "a = Agent{Int64}([0, 0, 1, 0, 0, 0, 0, 1, 0, 1])\n",
      "a = Agent{Int64}([0, 0, 0, 1, 1, 1, 0, 0, 0, 1])\n"
     ]
    }
   ],
   "source": [
    "for i=1:5\n",
    "    a = mutate(a, 0.5)\n",
    "    @show a\n",
    "end"
   ]
  },
  {
   "cell_type": "markdown",
   "metadata": {},
   "source": [
    "## Recombination"
   ]
  },
  {
   "cell_type": "code",
   "execution_count": 135,
   "metadata": {},
   "outputs": [
    {
     "data": {
      "text/plain": [
       "recombine (generic function with 1 method)"
      ]
     },
     "execution_count": 135,
     "metadata": {},
     "output_type": "execute_result"
    }
   ],
   "source": [
    "#unlinked loci, r = 0.5\n",
    "function recombine(a::Agent,b::Agent)\n",
    "    empty_agent = Agent(Int64[])\n",
    "    for i in 1:length(a.loci)\n",
    "        rand() > 0.5 ? pushlocus!(empty_agent,a.loci[i]) : pushlocus!(empty_agent,b.loci[i])\n",
    "    end\n",
    "    empty_agent\n",
    "end\n",
    "    "
   ]
  },
  {
   "cell_type": "code",
   "execution_count": 136,
   "metadata": {},
   "outputs": [
    {
     "data": {
      "text/plain": [
       "Agent{Int64}([0, 0, 0, 0, 0, 0, 0, 0, 0, 0])"
      ]
     },
     "execution_count": 136,
     "metadata": {},
     "output_type": "execute_result"
    }
   ],
   "source": [
    "aa = Agent([1 for i in 1:10])\n",
    "bb = Agent([0 for i in 1:10])"
   ]
  },
  {
   "cell_type": "code",
   "execution_count": 137,
   "metadata": {},
   "outputs": [
    {
     "name": "stdout",
     "output_type": "stream",
     "text": [
      "aa = Agent{Int64}([0, 0, 1, 1, 1, 0, 0, 1, 0, 1])\n",
      "aa = Agent{Int64}([0, 0, 1, 0, 1, 0, 0, 0, 0, 1])\n",
      "aa = Agent{Int64}([0, 0, 0, 0, 1, 0, 0, 0, 0, 0])\n",
      "aa = Agent{Int64}([0, 0, 0, 0, 1, 0, 0, 0, 0, 0])\n",
      "aa = Agent{Int64}([0, 0, 0, 0, 0, 0, 0, 0, 0, 0])\n"
     ]
    }
   ],
   "source": [
    "for i=1:5\n",
    "    aa = recombine(aa, bb)\n",
    "    @show aa\n",
    "end"
   ]
  },
  {
   "cell_type": "code",
   "execution_count": null,
   "metadata": {},
   "outputs": [],
   "source": []
  }
 ],
 "metadata": {
  "@webio": {
   "lastCommId": null,
   "lastKernelId": null
  },
  "kernelspec": {
   "display_name": "Julia 1.5.1",
   "language": "julia",
   "name": "julia-1.5"
  },
  "language_info": {
   "file_extension": ".jl",
   "mimetype": "application/julia",
   "name": "julia",
   "version": "1.5.1"
  }
 },
 "nbformat": 4,
 "nbformat_minor": 4
}
