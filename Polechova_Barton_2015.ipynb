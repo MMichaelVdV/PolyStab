{
 "cells": [
  {
   "cell_type": "markdown",
   "metadata": {},
   "source": [
    "## Individual-based model (Polechova and Barton, 2015)"
   ]
  },
  {
   "cell_type": "code",
   "execution_count": 1,
   "metadata": {},
   "outputs": [],
   "source": [
    "using Random, Distributions"
   ]
  },
  {
   "cell_type": "code",
   "execution_count": 2,
   "metadata": {},
   "outputs": [],
   "source": [
    "#global variables\n",
    "#r_m = maximum intrinsic growth rate\n",
    "#V_s = variance of stabilising selection "
   ]
  },
  {
   "cell_type": "code",
   "execution_count": 3,
   "metadata": {},
   "outputs": [],
   "source": [
    "mutable struct agent\n",
    "    #tag::Int64\n",
    "    loci::Array\n",
    "    #allele effect size ? -> L bi-allelic loci underlying trait x, allele effect size 0 or \\alfa -> sum of allele effect sizes over all loci\n",
    "end"
   ]
  },
  {
   "cell_type": "code",
   "execution_count": 4,
   "metadata": {},
   "outputs": [],
   "source": [
    "mutable struct Agent{T}\n",
    "    #tag::Int64\n",
    "    loci::Vector{T}\n",
    "    #allele effect size ? -> L bi-allelic loci underlying trait x, allele effect size 0 or \\alfa -> sum of allele effect sizes over all loci\n",
    "end"
   ]
  },
  {
   "cell_type": "markdown",
   "metadata": {},
   "source": [
    "**Note 1**: just a style note, user defined types (structs) are usually capitalized (`CamelCase`) style.\n",
    "\n",
    "**Note 2**: you have an `Array{Any}` field, which is inefficient, as the compiler cannot know which type is in the array in the `loci` field of an instance of `Agent`. You can specify the struct however very generally using a 'parametric type' `T` (or whatever symbol of course, typically uppercase. Also, in this case the loci are in a vector, while the `Array` type stands for a multidimensional array of any dimension (in julia lingo: `Array` == `Array{Any,N} where N`). It would be more efficient to use `Array{T,1}` or the synonymous `Vector{T}`. (Note, you could also store the loci in a ($n x 1$) matrix using `Array{T,2}` or `Matrix{T}`, which might be convenient if we go to higher ploidy levels later, but we can worry about that later)\n",
    "\n",
    "Here is an illustration of what the difference is from the point of view of the compiler:"
   ]
  },
  {
   "cell_type": "code",
   "execution_count": 5,
   "metadata": {},
   "outputs": [
    {
     "data": {
      "text/plain": [
       "2-element Array{DataType,1}:\n",
       " agent\n",
       " Agent{Float64}"
      ]
     },
     "execution_count": 5,
     "metadata": {},
     "output_type": "execute_result"
    }
   ],
   "source": [
    "a1 = agent(randn(10))\n",
    "a2 = Agent(randn(10));\n",
    "typeof.([a1, a2])"
   ]
  },
  {
   "cell_type": "markdown",
   "metadata": {},
   "source": [
    "Now we define the same function for both agent types:"
   ]
  },
  {
   "cell_type": "code",
   "execution_count": 6,
   "metadata": {},
   "outputs": [
    {
     "data": {
      "text/plain": [
       "pushlocus! (generic function with 2 methods)"
      ]
     },
     "execution_count": 6,
     "metadata": {},
     "output_type": "execute_result"
    }
   ],
   "source": [
    "pushlocus!(a::agent, x) = push!(a.loci, x)\n",
    "pushlocus!(a::Agent, x) = push!(a.loci, x)"
   ]
  },
  {
   "cell_type": "markdown",
   "metadata": {},
   "source": [
    "Now I use the `@code_warntype` macro to check how the compiler succeeds in inferring data types. It takes some time to get used to these outputs, but basically, things shown in red flag abstract types where the compiler failed at inferring the types to sufficient depth."
   ]
  },
  {
   "cell_type": "code",
   "execution_count": 7,
   "metadata": {},
   "outputs": [
    {
     "name": "stdout",
     "output_type": "stream",
     "text": [
      "Variables\n",
      "  #self#\u001b[36m::Core.Compiler.Const(pushlocus!, false)\u001b[39m\n",
      "  a\u001b[36m::agent\u001b[39m\n",
      "  x\u001b[36m::Float64\u001b[39m\n",
      "\n",
      "Body\u001b[91m\u001b[1m::Array{T,1} where T\u001b[22m\u001b[39m\n",
      "\u001b[90m1 ─\u001b[39m %1 = Base.getproperty(a, :loci)\u001b[91m\u001b[1m::Array\u001b[22m\u001b[39m\n",
      "\u001b[90m│  \u001b[39m %2 = Main.push!(%1, x)\u001b[91m\u001b[1m::Array{T,1} where T\u001b[22m\u001b[39m\n",
      "\u001b[90m└──\u001b[39m      return %2\n"
     ]
    }
   ],
   "source": [
    "@code_warntype pushlocus!(a1, rand())"
   ]
  },
  {
   "cell_type": "code",
   "execution_count": 8,
   "metadata": {},
   "outputs": [
    {
     "name": "stdout",
     "output_type": "stream",
     "text": [
      "Variables\n",
      "  #self#\u001b[36m::Core.Compiler.Const(pushlocus!, false)\u001b[39m\n",
      "  a\u001b[36m::Agent{Float64}\u001b[39m\n",
      "  x\u001b[36m::Float64\u001b[39m\n",
      "\n",
      "Body\u001b[36m::Array{Float64,1}\u001b[39m\n",
      "\u001b[90m1 ─\u001b[39m %1 = Base.getproperty(a, :loci)\u001b[36m::Array{Float64,1}\u001b[39m\n",
      "\u001b[90m│  \u001b[39m %2 = Main.push!(%1, x)\u001b[36m::Array{Float64,1}\u001b[39m\n",
      "\u001b[90m└──\u001b[39m      return %2\n"
     ]
    }
   ],
   "source": [
    "@code_warntype pushlocus!(a2, rand())"
   ]
  },
  {
   "cell_type": "code",
   "execution_count": 9,
   "metadata": {},
   "outputs": [
    {
     "data": {
      "text/plain": [
       "make_agents (generic function with 1 method)"
      ]
     },
     "execution_count": 9,
     "metadata": {},
     "output_type": "execute_result"
    }
   ],
   "source": [
    "#generate N haploid individuals with L loci and two possible allele-effect sizes α or 0\n",
    "function make_agents(N,L,α)\n",
    "#α = 1\n",
    "#x = rand((0,1))\n",
    "    #pop = [agent([α.*rand((0,1)) for i in 1:L]) for i in 1:N]\n",
    "    pop = [Agent(α .* rand(Bool, L)) for i in 1:N]\n",
    "    return pop\n",
    "end"
   ]
  },
  {
   "cell_type": "markdown",
   "metadata": {},
   "source": [
    "Here you don't need the array comprehension, you can use `rand((0,1), L)` or `rand(Bool, L)` (note that in julia `true == 1` and `false == 0` and you can do e.g. `true * 0.1` )"
   ]
  },
  {
   "cell_type": "code",
   "execution_count": 10,
   "metadata": {},
   "outputs": [
    {
     "data": {
      "text/plain": [
       "10-element Array{Agent{Int64},1}:\n",
       " Agent{Int64}([1, 1, 1, 1, 1, 0, 1, 0, 0, 1])\n",
       " Agent{Int64}([0, 1, 0, 1, 1, 0, 1, 0, 0, 0])\n",
       " Agent{Int64}([0, 0, 1, 1, 0, 0, 0, 0, 1, 0])\n",
       " Agent{Int64}([1, 0, 0, 1, 0, 0, 1, 0, 1, 1])\n",
       " Agent{Int64}([1, 0, 0, 1, 0, 1, 0, 1, 0, 0])\n",
       " Agent{Int64}([1, 0, 1, 0, 1, 0, 1, 0, 1, 1])\n",
       " Agent{Int64}([1, 1, 0, 1, 1, 1, 1, 1, 0, 1])\n",
       " Agent{Int64}([0, 0, 1, 0, 0, 0, 0, 0, 1, 0])\n",
       " Agent{Int64}([1, 1, 0, 1, 0, 1, 0, 0, 0, 0])\n",
       " Agent{Int64}([0, 0, 1, 0, 0, 1, 0, 0, 1, 0])"
      ]
     },
     "execution_count": 10,
     "metadata": {},
     "output_type": "execute_result"
    }
   ],
   "source": [
    "agents = make_agents(10,10,1)"
   ]
  },
  {
   "cell_type": "code",
   "execution_count": 11,
   "metadata": {},
   "outputs": [
    {
     "data": {
      "text/html": [
       "# 2 methods for type constructor:<ul><li> agent(loci::<b>Array</b>) in Main at In[3]:3</li> <li> agent(loci) in Main at In[3]:3</li> </ul>"
      ],
      "text/plain": [
       "# 2 methods for type constructor:\n",
       "[1] agent(loci::Array) in Main at In[3]:3\n",
       "[2] agent(loci) in Main at In[3]:3"
      ]
     },
     "execution_count": 11,
     "metadata": {},
     "output_type": "execute_result"
    }
   ],
   "source": [
    "methods(agent)"
   ]
  },
  {
   "cell_type": "code",
   "execution_count": 12,
   "metadata": {},
   "outputs": [
    {
     "data": {
      "text/html": [
       "# 1 method for type constructor:<ul><li> (::<b>Type{Agent}</b>)(loci::<b>Array{T,1}</b>)<i> where T</i> in Main at In[4]:3</li> </ul>"
      ],
      "text/plain": [
       "# 1 method for type constructor:\n",
       "[1] (::Type{Agent})(loci::Array{T,1}) where T in Main at In[4]:3"
      ]
     },
     "execution_count": 12,
     "metadata": {},
     "output_type": "execute_result"
    }
   ],
   "source": [
    "methods(Agent)"
   ]
  },
  {
   "cell_type": "code",
   "execution_count": 13,
   "metadata": {},
   "outputs": [],
   "source": [
    "mutable struct deme\n",
    "    agents::Array\n",
    "    carrying_capacity::Int64\n",
    "    optimal_phenotype::Int64 \n",
    "end"
   ]
  },
  {
   "cell_type": "code",
   "execution_count": 14,
   "metadata": {},
   "outputs": [],
   "source": [
    "struct Deme{A,T}\n",
    "    agents::Vector{A}\n",
    "    carrying_capacity::Int64\n",
    "    optimal_phenotype::T \n",
    "end"
   ]
  },
  {
   "cell_type": "markdown",
   "metadata": {},
   "source": [
    "Same comments as above, include parametric types where it makes sense. Also, `Int` type for optimal phenotype does not make much sense no? Also, I'm not sure whether it should be mutable, since you can push to arrays etc. in an immutable struct as well (you cannot change scalar fields though)."
   ]
  },
  {
   "cell_type": "code",
   "execution_count": 15,
   "metadata": {},
   "outputs": [
    {
     "data": {
      "text/plain": [
       "Deme{Agent{Int64},Float64}(Agent{Int64}[Agent{Int64}([1, 1, 1, 1, 1, 0, 1, 0, 0, 1]), Agent{Int64}([0, 1, 0, 1, 1, 0, 1, 0, 0, 0]), Agent{Int64}([0, 0, 1, 1, 0, 0, 0, 0, 1, 0]), Agent{Int64}([1, 0, 0, 1, 0, 0, 1, 0, 1, 1]), Agent{Int64}([1, 0, 0, 1, 0, 1, 0, 1, 0, 0]), Agent{Int64}([1, 0, 1, 0, 1, 0, 1, 0, 1, 1]), Agent{Int64}([1, 1, 0, 1, 1, 1, 1, 1, 0, 1]), Agent{Int64}([0, 0, 1, 0, 0, 0, 0, 0, 1, 0]), Agent{Int64}([1, 1, 0, 1, 0, 1, 0, 0, 0, 0]), Agent{Int64}([0, 0, 1, 0, 0, 1, 0, 0, 1, 0])], 100, 0.0)"
      ]
     },
     "execution_count": 15,
     "metadata": {},
     "output_type": "execute_result"
    }
   ],
   "source": [
    "d = Deme(agents, 100, 0.0)"
   ]
  },
  {
   "cell_type": "markdown",
   "metadata": {},
   "source": [
    "we can make the display of the Deme nicer by defining a `show` method, here are some examples of typical 'overloading' of methods in Base. Note that these are 'one-liners' function definitions (i.e. these are function definition despite not having the `function` keyword)"
   ]
  },
  {
   "cell_type": "code",
   "execution_count": 16,
   "metadata": {},
   "outputs": [],
   "source": [
    "Base.length(d::Deme) = length(d.agents)\n",
    "Base.show(io::IO, d::Deme{A,T}) where {A,T} = write(io, \"Deme{$A,$T}(N=$(length(d)))\")\n",
    "Base.push!(d::Deme, a::Agent) = push!(d.agents, a)"
   ]
  },
  {
   "cell_type": "code",
   "execution_count": 17,
   "metadata": {},
   "outputs": [
    {
     "data": {
      "text/plain": [
       "Deme{Agent{Int64},Float64}(N=11)"
      ]
     },
     "execution_count": 17,
     "metadata": {},
     "output_type": "execute_result"
    }
   ],
   "source": [
    "push!(d, Agent(1 .* rand(Bool, 10)))\n",
    "d"
   ]
  },
  {
   "cell_type": "code",
   "execution_count": 18,
   "metadata": {},
   "outputs": [],
   "source": [
    "mutable struct habitat\n",
    "    demes::Array\n",
    "end"
   ]
  },
  {
   "cell_type": "code",
   "execution_count": 19,
   "metadata": {},
   "outputs": [],
   "source": [
    "struct Habitat{T}\n",
    "    demes::Vector{T}\n",
    "end"
   ]
  },
  {
   "cell_type": "markdown",
   "metadata": {},
   "source": [
    "Same thing"
   ]
  },
  {
   "cell_type": "code",
   "execution_count": 20,
   "metadata": {},
   "outputs": [
    {
     "data": {
      "text/plain": [
       "make_deme (generic function with 1 method)"
      ]
     },
     "execution_count": 20,
     "metadata": {},
     "output_type": "execute_result"
    }
   ],
   "source": [
    "#generate a single deme with population of size N, L loci, α allelic effect, carrying capacity K and optimal phenotype θ\n",
    "function make_deme(N,L,α,K,θ)\n",
    "    pop = make_agents(N,L,α)\n",
    "    return Deme(pop,K,θ)\n",
    "end"
   ]
  },
  {
   "cell_type": "code",
   "execution_count": 21,
   "metadata": {},
   "outputs": [
    {
     "data": {
      "text/plain": [
       "Deme{Agent{Int64},Float64}(N=5)"
      ]
     },
     "execution_count": 21,
     "metadata": {},
     "output_type": "execute_result"
    }
   ],
   "source": [
    "w = make_deme(5,2,1,150,0.)"
   ]
  },
  {
   "cell_type": "code",
   "execution_count": 22,
   "metadata": {},
   "outputs": [
    {
     "data": {
      "text/plain": [
       "pop_size (generic function with 1 method)"
      ]
     },
     "execution_count": 22,
     "metadata": {},
     "output_type": "execute_result"
    }
   ],
   "source": [
    "function pop_size(d::Deme)\n",
    "    return length(d.agents)\n",
    "end"
   ]
  },
  {
   "cell_type": "markdown",
   "metadata": {},
   "source": [
    "Note that this is equivalent to my overloading of `Base.length`."
   ]
  },
  {
   "cell_type": "code",
   "execution_count": 23,
   "metadata": {},
   "outputs": [
    {
     "data": {
      "text/plain": [
       "5"
      ]
     },
     "execution_count": 23,
     "metadata": {},
     "output_type": "execute_result"
    }
   ],
   "source": [
    "pop_size(w)"
   ]
  },
  {
   "cell_type": "code",
   "execution_count": 24,
   "metadata": {},
   "outputs": [
    {
     "data": {
      "text/plain": [
       "make_habitat (generic function with 1 method)"
      ]
     },
     "execution_count": 24,
     "metadata": {},
     "output_type": "execute_result"
    }
   ],
   "source": [
    "#generate a linear 1D habitat of x demes with equal pop size (in paper the pop starts in center of habitat)\n",
    "function make_habitat(x,N,L,α,K,θ)\n",
    "    hab = [make_deme(N,L,α,K,θ) for i in 1:x]\n",
    "    return Habitat(hab)\n",
    "end"
   ]
  },
  {
   "cell_type": "code",
   "execution_count": 25,
   "metadata": {},
   "outputs": [
    {
     "data": {
      "text/plain": [
       "Habitat{Deme{Agent{Int64},Int64}}(Deme{Agent{Int64},Int64}[Deme{Agent{Int64},Int64}(N=5), Deme{Agent{Int64},Int64}(N=5), Deme{Agent{Int64},Int64}(N=5), Deme{Agent{Int64},Int64}(N=5), Deme{Agent{Int64},Int64}(N=5)])"
      ]
     },
     "execution_count": 25,
     "metadata": {},
     "output_type": "execute_result"
    }
   ],
   "source": [
    "h = make_habitat(5,5,2,1,150,10)"
   ]
  },
  {
   "cell_type": "markdown",
   "metadata": {},
   "source": [
    "A nicer show method would be nice here as well:"
   ]
  },
  {
   "cell_type": "code",
   "execution_count": 26,
   "metadata": {},
   "outputs": [],
   "source": [
    "Base.length(h::Habitat) = length(h.demes)\n",
    "Base.show(io::IO, h::Habitat) = write(io, \n",
    "    \"Habitat (n=$(length(h))):\\n  $(join(string.(h.demes), \"\\n  \"))\")"
   ]
  },
  {
   "cell_type": "code",
   "execution_count": 27,
   "metadata": {},
   "outputs": [
    {
     "data": {
      "text/plain": [
       "Habitat (n=5):\n",
       "  Deme{Agent{Int64},Int64}(N=5)\n",
       "  Deme{Agent{Int64},Int64}(N=5)\n",
       "  Deme{Agent{Int64},Int64}(N=5)\n",
       "  Deme{Agent{Int64},Int64}(N=5)\n",
       "  Deme{Agent{Int64},Int64}(N=5)"
      ]
     },
     "execution_count": 27,
     "metadata": {},
     "output_type": "execute_result"
    }
   ],
   "source": [
    "h"
   ]
  },
  {
   "cell_type": "code",
   "execution_count": 28,
   "metadata": {},
   "outputs": [
    {
     "data": {
      "text/plain": [
       "Habitat (n=7):\n",
       "  Deme{Agent{Int64},Int64}(N=0)\n",
       "  Deme{Agent{Int64},Int64}(N=0)\n",
       "  Deme{Agent{Int64},Int64}(N=0)\n",
       "  Deme{Agent{Int64},Int64}(N=11)\n",
       "  Deme{Agent{Int64},Int64}(N=0)\n",
       "  Deme{Agent{Int64},Int64}(N=0)\n",
       "  Deme{Agent{Int64},Int64}(N=0)"
      ]
     },
     "execution_count": 28,
     "metadata": {},
     "output_type": "execute_result"
    }
   ],
   "source": [
    "#habitat with 7 demes and starting pop in central deme\n",
    "h = make_habitat(7,0,0,0,150,10)\n",
    "p = make_agents(3,3,1)\n",
    "# h.demes[4].agents = p  \n",
    "# Note the above doesn't work for the immutable struct, but the following does\n",
    "push!(h.demes[4].agents, agents...)\n",
    "h"
   ]
  },
  {
   "cell_type": "markdown",
   "metadata": {},
   "source": [
    "Note the changes above to work with the immutable type, which is a somwehat more natural way to do the same. Also note the usage of the 'splat' operator `...` (look it up in the docs)"
   ]
  },
  {
   "cell_type": "code",
   "execution_count": 29,
   "metadata": {},
   "outputs": [
    {
     "data": {
      "text/plain": [
       "migrate (generic function with 1 method)"
      ]
     },
     "execution_count": 29,
     "metadata": {},
     "output_type": "execute_result"
    }
   ],
   "source": [
    "#should be diffusive migration with a Gaussian dispersal kernel (truncated at 2 SD)\n",
    "function migrate(h::Habitat)\n",
    "    new_h = make_habitat(length(h.demes),0,0,0,150,10)\n",
    "    #step = rand((-1,0,1))\n",
    "    i = 0\n",
    "    for deme in h.demes\n",
    "        i += 1\n",
    "        for agent in deme.agents\n",
    "            step = rand((-1,0,1))\n",
    "            if step == -1\n",
    "                push!(new_h.demes[i-1].agents, agent)\n",
    "            elseif step == 0\n",
    "                push!(new_h.demes[i].agents, agent)\n",
    "            elseif step == 1\n",
    "                push!(new_h.demes[i+1].agents, agent)\n",
    "            end\n",
    "        end\n",
    "    end\n",
    "    return new_h\n",
    "end"
   ]
  },
  {
   "cell_type": "markdown",
   "metadata": {},
   "source": [
    "Note that we defined the `push!` method for a `Deme`, so we can do those pushes somewhat more compactly (in julia, I'd say the less dots `.` you use, the better!).\n",
    "\n",
    "Note that your method above goes out of bounds at the habitat edges!\n",
    "\n",
    "Note that you can use enumerate instead of manually doing the increments of `i`.\n",
    "\n",
    "Here's my version of your random walk migration function:"
   ]
  },
  {
   "cell_type": "code",
   "execution_count": 30,
   "metadata": {},
   "outputs": [
    {
     "data": {
      "text/plain": [
       "migrate (generic function with 2 methods)"
      ]
     },
     "execution_count": 30,
     "metadata": {},
     "output_type": "execute_result"
    }
   ],
   "source": [
    "emptycopy(d::Deme{A}) where A = Deme(A[], d.carrying_capacity, d.optimal_phenotype)\n",
    "emptycopy(h::Habitat) = Habitat(emptycopy.(h.demes))\n",
    "\n",
    "function migrate(h::Habitat, p)\n",
    "    new_h = emptycopy(h)\n",
    "    for (i, deme) in enumerate(h.demes)\n",
    "        for agent in deme.agents\n",
    "            step = rand() < p ? rand([-1,1]) : 0 \n",
    "            if step == -1 && i == 1\n",
    "                step = 0\n",
    "            elseif step == 1  && i == length(h)\n",
    "                step = 0\n",
    "            end\n",
    "            push!(new_h.demes[i+step], agent)\n",
    "        end\n",
    "    end\n",
    "    new_h\n",
    "end"
   ]
  },
  {
   "cell_type": "markdown",
   "metadata": {},
   "source": [
    "This is a slightly generalized version, assuming random walk migration with probability $p/2$ of migrating to the right and $p/2$ of migrating to the left. It assumes absorbing boundaries, i.e. when at the edge of the habitat, the migration rate is $p/2$ instead of $p$, and all attempts to go over the edge are rejected and the agent stays in the deme where it is."
   ]
  },
  {
   "cell_type": "code",
   "execution_count": 31,
   "metadata": {},
   "outputs": [
    {
     "name": "stdout",
     "output_type": "stream",
     "text": [
      "h = Habitat (n=7):\n",
      "  Deme{Agent{Int64},Int64}(N=0)\n",
      "  Deme{Agent{Int64},Int64}(N=0)\n",
      "  Deme{Agent{Int64},Int64}(N=3)\n",
      "  Deme{Agent{Int64},Int64}(N=7)\n",
      "  Deme{Agent{Int64},Int64}(N=1)\n",
      "  Deme{Agent{Int64},Int64}(N=0)\n",
      "  Deme{Agent{Int64},Int64}(N=0)\n",
      "h = Habitat (n=7):\n",
      "  Deme{Agent{Int64},Int64}(N=0)\n",
      "  Deme{Agent{Int64},Int64}(N=0)\n",
      "  Deme{Agent{Int64},Int64}(N=2)\n",
      "  Deme{Agent{Int64},Int64}(N=6)\n",
      "  Deme{Agent{Int64},Int64}(N=3)\n",
      "  Deme{Agent{Int64},Int64}(N=0)\n",
      "  Deme{Agent{Int64},Int64}(N=0)\n",
      "h = Habitat (n=7):\n",
      "  Deme{Agent{Int64},Int64}(N=0)\n",
      "  Deme{Agent{Int64},Int64}(N=0)\n",
      "  Deme{Agent{Int64},Int64}(N=3)\n",
      "  Deme{Agent{Int64},Int64}(N=5)\n",
      "  Deme{Agent{Int64},Int64}(N=3)\n",
      "  Deme{Agent{Int64},Int64}(N=0)\n",
      "  Deme{Agent{Int64},Int64}(N=0)\n",
      "h = Habitat (n=7):\n",
      "  Deme{Agent{Int64},Int64}(N=0)\n",
      "  Deme{Agent{Int64},Int64}(N=1)\n",
      "  Deme{Agent{Int64},Int64}(N=2)\n",
      "  Deme{Agent{Int64},Int64}(N=4)\n",
      "  Deme{Agent{Int64},Int64}(N=4)\n",
      "  Deme{Agent{Int64},Int64}(N=0)\n",
      "  Deme{Agent{Int64},Int64}(N=0)\n",
      "h = Habitat (n=7):\n",
      "  Deme{Agent{Int64},Int64}(N=0)\n",
      "  Deme{Agent{Int64},Int64}(N=0)\n",
      "  Deme{Agent{Int64},Int64}(N=3)\n",
      "  Deme{Agent{Int64},Int64}(N=4)\n",
      "  Deme{Agent{Int64},Int64}(N=3)\n",
      "  Deme{Agent{Int64},Int64}(N=1)\n",
      "  Deme{Agent{Int64},Int64}(N=0)\n"
     ]
    }
   ],
   "source": [
    "for i=1:5\n",
    "    h = migrate(h, 0.2)\n",
    "    @show h\n",
    "end"
   ]
  }
 ],
 "metadata": {
  "@webio": {
   "lastCommId": null,
   "lastKernelId": null
  },
  "kernelspec": {
   "display_name": "Julia 1.5.2",
   "language": "julia",
   "name": "julia-1.5"
  },
  "language_info": {
   "file_extension": ".jl",
   "mimetype": "application/julia",
   "name": "julia",
   "version": "1.5.2"
  }
 },
 "nbformat": 4,
 "nbformat_minor": 4
}
