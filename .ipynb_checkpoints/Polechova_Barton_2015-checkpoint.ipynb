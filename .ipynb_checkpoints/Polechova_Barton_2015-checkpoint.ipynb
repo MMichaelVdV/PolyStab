{
 "cells": [
  {
   "cell_type": "markdown",
   "metadata": {},
   "source": [
    "## Individual-based model (Polechova and Barton, 2015)"
   ]
  },
  {
   "cell_type": "code",
   "execution_count": 1,
   "metadata": {},
   "outputs": [
    {
     "name": "stderr",
     "output_type": "stream",
     "text": [
      "┌ Info: Precompiling Distributions [31c24e10-a181-5473-b8eb-7969acd0382f]\n",
      "└ @ Base loading.jl:1278\n"
     ]
    }
   ],
   "source": [
    "using Random, Distributions"
   ]
  },
  {
   "cell_type": "code",
   "execution_count": 1,
   "metadata": {},
   "outputs": [],
   "source": [
    "#global variables\n",
    "#r_m = maximum intrinsic growth rate\n",
    "#V_s = variance of stabilising selection "
   ]
  },
  {
   "cell_type": "code",
   "execution_count": 2,
   "metadata": {},
   "outputs": [],
   "source": [
    "mutable struct agent\n",
    "    #tag::Int64\n",
    "    loci::Array\n",
    "    #allele effect size ? -> L bi-allelic loci underlying trait x, allele effect size 0 or \\alfa -> sum of allele effect sizes over all loci\n",
    "end"
   ]
  },
  {
   "cell_type": "code",
   "execution_count": 2,
   "metadata": {},
   "outputs": [],
   "source": [
    "mutable struct Agent{T}\n",
    "    #tag::Int64\n",
    "    loci::Array{T}\n",
    "    #allele effect size ? -> L bi-allelic loci underlying trait x, allele effect size 0 or \\alfa -> sum of allele effect sizes over all loci\n",
    "end"
   ]
  },
  {
   "cell_type": "markdown",
   "metadata": {},
   "source": [
    "**Note 1**: "
   ]
  },
  {
   "cell_type": "code",
   "execution_count": 3,
   "metadata": {},
   "outputs": [
    {
     "data": {
      "text/plain": [
       "make_agents (generic function with 1 method)"
      ]
     },
     "execution_count": 3,
     "metadata": {},
     "output_type": "execute_result"
    }
   ],
   "source": [
    "#generate N haploid individuals with L loci and two possible allele-effect sizes α or 0\n",
    "function make_agents(N,L,α)\n",
    "#α = 1\n",
    "#x = rand((0,1))\n",
    "    pop = [agent([α.*rand((0,1)) for i in 1:L]) for i in 1:N]\n",
    "    return pop\n",
    "end"
   ]
  },
  {
   "cell_type": "code",
   "execution_count": 4,
   "metadata": {},
   "outputs": [
    {
     "data": {
      "text/plain": [
       "10-element Array{agent,1}:\n",
       " agent([1, 0, 0, 1, 1, 0, 1, 1, 0, 1])\n",
       " agent([0, 1, 0, 1, 1, 1, 1, 1, 1, 0])\n",
       " agent([1, 1, 0, 0, 1, 1, 1, 0, 0, 0])\n",
       " agent([0, 1, 0, 1, 1, 1, 1, 1, 1, 0])\n",
       " agent([1, 1, 1, 1, 1, 1, 0, 1, 1, 0])\n",
       " agent([0, 0, 1, 0, 0, 0, 0, 0, 0, 0])\n",
       " agent([0, 1, 0, 0, 0, 1, 0, 0, 0, 0])\n",
       " agent([1, 1, 0, 1, 0, 0, 0, 0, 1, 1])\n",
       " agent([1, 1, 0, 1, 1, 1, 1, 1, 0, 1])\n",
       " agent([0, 0, 1, 1, 1, 0, 1, 0, 1, 1])"
      ]
     },
     "execution_count": 4,
     "metadata": {},
     "output_type": "execute_result"
    }
   ],
   "source": [
    "make_agents(10,10,1)"
   ]
  },
  {
   "cell_type": "code",
   "execution_count": 5,
   "metadata": {},
   "outputs": [
    {
     "data": {
      "text/html": [
       "# 2 methods for type constructor:<ul><li> agent(loci::<b>Array</b>) in Main at In[2]:3</li> <li> agent(loci) in Main at In[2]:3</li> </ul>"
      ],
      "text/plain": [
       "# 2 methods for type constructor:\n",
       "[1] agent(loci::Array) in Main at In[2]:3\n",
       "[2] agent(loci) in Main at In[2]:3"
      ]
     },
     "execution_count": 5,
     "metadata": {},
     "output_type": "execute_result"
    }
   ],
   "source": [
    "methods(agent)"
   ]
  },
  {
   "cell_type": "code",
   "execution_count": 6,
   "metadata": {},
   "outputs": [],
   "source": [
    "mutable struct deme\n",
    "    agents::Array\n",
    "    carrying_capacity::Int64\n",
    "    optimal_phenotype::Int64 \n",
    "end"
   ]
  },
  {
   "cell_type": "code",
   "execution_count": 7,
   "metadata": {},
   "outputs": [],
   "source": [
    "mutable struct habitat\n",
    "    demes::Array\n",
    "end"
   ]
  },
  {
   "cell_type": "code",
   "execution_count": 19,
   "metadata": {},
   "outputs": [
    {
     "data": {
      "text/plain": [
       "make_deme (generic function with 1 method)"
      ]
     },
     "execution_count": 19,
     "metadata": {},
     "output_type": "execute_result"
    }
   ],
   "source": [
    "#generate a single deme with population of size N, L loci, α allelic effect, carrying capacity K and optimal phenotype θ\n",
    "function make_deme(N,L,α,K,θ)\n",
    "    pop = make_agents(N,L,α)\n",
    "    return deme(pop,K,θ)\n",
    "end\n",
    "    "
   ]
  },
  {
   "cell_type": "code",
   "execution_count": 20,
   "metadata": {},
   "outputs": [
    {
     "data": {
      "text/plain": [
       "deme(agent[agent([1, 1]), agent([1, 0]), agent([1, 0]), agent([0, 0]), agent([0, 1])], 150, 10)"
      ]
     },
     "execution_count": 20,
     "metadata": {},
     "output_type": "execute_result"
    }
   ],
   "source": [
    "w = make_deme(5,2,1,150,10)"
   ]
  },
  {
   "cell_type": "code",
   "execution_count": 21,
   "metadata": {},
   "outputs": [
    {
     "data": {
      "text/plain": [
       "pop_size (generic function with 1 method)"
      ]
     },
     "execution_count": 21,
     "metadata": {},
     "output_type": "execute_result"
    }
   ],
   "source": [
    "function pop_size(d::deme)\n",
    "    return length(d.agents)\n",
    "end"
   ]
  },
  {
   "cell_type": "code",
   "execution_count": 22,
   "metadata": {},
   "outputs": [
    {
     "data": {
      "text/plain": [
       "5"
      ]
     },
     "execution_count": 22,
     "metadata": {},
     "output_type": "execute_result"
    }
   ],
   "source": [
    "pop_size(w)"
   ]
  },
  {
   "cell_type": "code",
   "execution_count": 41,
   "metadata": {},
   "outputs": [
    {
     "data": {
      "text/plain": [
       "make_habitat (generic function with 2 methods)"
      ]
     },
     "execution_count": 41,
     "metadata": {},
     "output_type": "execute_result"
    }
   ],
   "source": [
    "#generate a linear 1D habitat of x demes with equal pop size (in paper the pop starts in center of habitat)\n",
    "function make_habitat(x,N,L,α,K,θ)\n",
    "    hab = [make_deme(N,L,α,K,θ) for i in 1:x]\n",
    "    return habitat(hab)\n",
    "end"
   ]
  },
  {
   "cell_type": "code",
   "execution_count": 76,
   "metadata": {},
   "outputs": [
    {
     "data": {
      "text/plain": [
       "habitat(deme[deme(agent[agent([1, 1]), agent([0, 1]), agent([0, 1]), agent([0, 0]), agent([0, 1])], 150, 10), deme(agent[agent([1, 1]), agent([0, 1]), agent([1, 0]), agent([1, 0]), agent([0, 0])], 150, 10), deme(agent[agent([0, 0]), agent([0, 1]), agent([0, 1]), agent([1, 0]), agent([0, 1])], 150, 10), deme(agent[agent([0, 1]), agent([1, 0]), agent([1, 1]), agent([0, 0]), agent([1, 0])], 150, 10), deme(agent[agent([0, 1]), agent([0, 1]), agent([1, 0]), agent([0, 1]), agent([0, 0])], 150, 10)])"
      ]
     },
     "execution_count": 76,
     "metadata": {},
     "output_type": "execute_result"
    }
   ],
   "source": [
    "h = make_habitat(5,5,2,1,150,10)"
   ]
  },
  {
   "cell_type": "code",
   "execution_count": 78,
   "metadata": {},
   "outputs": [
    {
     "data": {
      "text/plain": [
       "habitat(deme[deme(agent[], 150, 10), deme(agent[], 150, 10), deme(agent[], 150, 10), deme(agent[agent([0, 1, 1]), agent([0, 1, 1]), agent([0, 1, 1])], 150, 10), deme(agent[], 150, 10), deme(agent[], 150, 10), deme(agent[], 150, 10)])"
      ]
     },
     "execution_count": 78,
     "metadata": {},
     "output_type": "execute_result"
    }
   ],
   "source": [
    "#habitat with 7 demes and starting pop in central deme\n",
    "h = make_habitat(7,0,0,0,150,10)\n",
    "p = make_agents(3,3,1)\n",
    "h.demes[4].agents = p\n",
    "h"
   ]
  },
  {
   "cell_type": "code",
   "execution_count": 94,
   "metadata": {},
   "outputs": [
    {
     "data": {
      "text/plain": [
       "migrate (generic function with 2 methods)"
      ]
     },
     "execution_count": 94,
     "metadata": {},
     "output_type": "execute_result"
    }
   ],
   "source": [
    "#should be diffusive migration with a Gaussian dispersal kernel (truncated at 2 SD)\n",
    "function migrate(h::habitat)\n",
    "    new_h = make_habitat(length(h.demes),0,0,0,150,10)\n",
    "    #step = rand((-1,0,1))\n",
    "    i = 0\n",
    "    for deme in h.demes\n",
    "        i += 1\n",
    "        for agent in deme.agents\n",
    "            step = rand((-1,0,1))\n",
    "            if step == -1\n",
    "                push!(new_h.demes[i-1].agents,agent)\n",
    "            elseif step == 0\n",
    "                push!(new_h.demes[i].agents,agent)\n",
    "            elseif step == 1\n",
    "                push!(new_h.demes[i+1].agents,agent)\n",
    "            end\n",
    "        end\n",
    "    end\n",
    "    return new_h\n",
    "end"
   ]
  },
  {
   "cell_type": "code",
   "execution_count": 95,
   "metadata": {},
   "outputs": [
    {
     "data": {
      "text/plain": [
       "habitat(deme[deme(agent[agent([0, 1, 1])], 150, 10), deme(agent[], 150, 10), deme(agent[], 150, 10), deme(agent[agent([0, 1, 1]), agent([0, 1, 1])], 150, 10), deme(agent[], 150, 10), deme(agent[], 150, 10), deme(agent[], 150, 10)])"
      ]
     },
     "execution_count": 95,
     "metadata": {},
     "output_type": "execute_result"
    }
   ],
   "source": [
    "h = migrate(h)"
   ]
  },
  {
   "cell_type": "code",
   "execution_count": 96,
   "metadata": {},
   "outputs": [
    {
     "data": {
      "text/plain": [
       "7"
      ]
     },
     "execution_count": 96,
     "metadata": {},
     "output_type": "execute_result"
    }
   ],
   "source": [
    "length(h.demes)"
   ]
  }
 ],
 "metadata": {
  "@webio": {
   "lastCommId": null,
   "lastKernelId": null
  },
  "kernelspec": {
   "display_name": "Julia 1.5.2",
   "language": "julia",
   "name": "julia-1.5"
  },
  "language_info": {
   "file_extension": ".jl",
   "mimetype": "application/julia",
   "name": "julia",
   "version": "1.5.2"
  }
 },
 "nbformat": 4,
 "nbformat_minor": 4
}
